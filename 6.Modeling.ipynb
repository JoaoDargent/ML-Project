{
 "cells": [
  {
   "cell_type": "code",
   "execution_count": 1,
   "metadata": {},
   "outputs": [],
   "source": [
    "# Standard libraries\n",
    "import numpy as np\n",
    "import pandas as pd\n",
    "import warnings\n",
    "import zipfile, io\n",
    "\n",
    "# Visualization libraries\n",
    "import matplotlib.pyplot as plt\n",
    "import seaborn as sns\n",
    "import matplotlib.ticker as mtick\n",
    "\n",
    "# Statistical libraries\n",
    "import scipy.stats as ss\n",
    "from scipy import stats\n",
    "from scipy.stats import f_oneway\n",
    "from scipy.sparse import csr_matrix\n",
    "\n",
    "# Scikit-learn preprocessing and model selection\n",
    "from sklearn.impute import KNNImputer\n",
    "from sklearn.preprocessing import MinMaxScaler, OrdinalEncoder, LabelEncoder\n",
    "from sklearn.model_selection import train_test_split, StratifiedKFold, cross_val_score\n",
    "\n",
    "# Scikit-learn feature selection\n",
    "from sklearn.feature_selection import f_classif, SelectKBest, mutual_info_classif, RFE, RFECV\n",
    "\n",
    "# Scikit-learn models\n",
    "from sklearn.linear_model import LogisticRegression, LassoCV\n",
    "from sklearn.tree import DecisionTreeClassifier\n",
    "from sklearn.ensemble import RandomForestClassifier, GradientBoostingClassifier\n",
    "\n",
    "# Scikit-learn metrics\n",
    "from sklearn.metrics import make_scorer, precision_score, recall_score, f1_score, classification_report\n",
    "\n",
    "# Pickle for import and export of datasets\n",
    "import pickle\n",
    "\n",
    "# Seaborn settings\n",
    "sns.set()\n",
    "\n",
    "# Ignore warnings\n",
    "warnings.filterwarnings('ignore')\n",
    "\n",
    "# Enable inline plotting for Jupyter notebooks\n",
    "%matplotlib inline\n",
    "\n",
    "\n",
    "from sklearn.linear_model import LogisticRegression\n",
    "from sklearn.neighbors import KNeighborsClassifier\n",
    "from sklearn.naive_bayes import GaussianNB\n",
    "\n",
    "from sklearn.metrics import classification_report, confusion_matrix, f1_score, accuracy_score\n",
    "import seaborn as sns\n",
    "import pandas as pd\n",
    "import matplotlib.pyplot as plt\n",
    "\n",
    "# Define the function to find the best number of trees (from the earlier example)\n",
    "from sklearn.ensemble import RandomForestClassifier\n",
    "from sklearn.metrics import f1_score, accuracy_score, classification_report, confusion_matrix\n",
    "import pandas as pd\n",
    "import seaborn as sns\n",
    "import matplotlib.pyplot as plt\n",
    "from sklearn.ensemble import AdaBoostClassifier"
   ]
  },
  {
   "cell_type": "code",
   "execution_count": 2,
   "metadata": {},
   "outputs": [],
   "source": [
    "X_train = pd.read_csv('datasets/final_data_train_delivery1.csv', index_col=0)\n",
    "y_train = pd.read_csv('datasets/scaled_target_train_delivery1.csv', index_col=0)\n",
    "X_val = pd.read_csv('datasets/final_data_val_delivery1.csv', index_col=0)\n",
    "y_val = pd.read_csv('datasets/scaled_target_val_delivery1.csv', index_col=0)\n",
    "X_test = pd.read_csv('datasets/final_data_test_delivery1.csv', index_col=0)"
   ]
  },
  {
   "cell_type": "code",
   "execution_count": 3,
   "metadata": {},
   "outputs": [
    {
     "data": {
      "text/plain": [
       "(387975, 6)"
      ]
     },
     "execution_count": 3,
     "metadata": {},
     "output_type": "execute_result"
    }
   ],
   "source": [
    "X_test.shape"
   ]
  },
  {
   "cell_type": "code",
   "execution_count": null,
   "metadata": {},
   "outputs": [],
   "source": [
    "# all sets need to have same shape (train with train, val with val)\n",
    "# test needs to have 387975 rows, 0 missing values"
   ]
  },
  {
   "cell_type": "markdown",
   "metadata": {},
   "source": [
    "# 4. Modelling"
   ]
  },
  {
   "cell_type": "markdown",
   "metadata": {},
   "source": [
    "### Baseline"
   ]
  },
  {
   "cell_type": "code",
   "execution_count": 5,
   "metadata": {},
   "outputs": [],
   "source": [
    "def evaluate_model(model, X_train, y_train, X_val, y_val):\n",
    "    # Train the model\n",
    "    model.fit(X_train, y_train)\n",
    "    \n",
    "    # Make predictions\n",
    "    train_preds = model.predict(X_train)\n",
    "    val_preds = model.predict(X_val)\n",
    "    \n",
    "    # Compute metrics\n",
    "    metrics = {\n",
    "        \"Train Accuracy\": accuracy_score(y_train, train_preds),\n",
    "        \"Validation Accuracy\": accuracy_score(y_val, val_preds),\n",
    "        \"Train F1 Score\": f1_score(y_train, train_preds, average='weighted'),\n",
    "        \"Validation F1 Score\": f1_score(y_val, val_preds, average='weighted')\n",
    "    }\n",
    "    \n",
    "    # Print metrics\n",
    "    print(\"Training Data Evaluation:\")\n",
    "    print(f\"Accuracy (Train): {metrics['Train Accuracy']:.4f}\")\n",
    "    print(f\"F1 Score (Train): {metrics['Train F1 Score']:.4f}\")\n",
    "    \n",
    "    print(\"\\nValidation Data Evaluation:\")\n",
    "    print(f\"Accuracy (Validation): {metrics['Validation Accuracy']:.4f}\")\n",
    "    print(f\"F1 Score (Validation): {metrics['Validation F1 Score']:.4f}\")\n",
    "    \n",
    "    print(\"\\nClassification Report (Validation):\")\n",
    "    print(classification_report(y_val, val_preds))\n",
    "\n",
    "    # Determine class labels from y_train for the confusion matrix\n",
    "    labels = np.unique(y_train)  # Get unique labels directly from the training data\n",
    "    \n",
    "    # Generate confusion matrix\n",
    "    conf_matrix = confusion_matrix(y_val, val_preds)\n",
    "    plt.figure(figsize=(8, 6))\n",
    "    sns.heatmap(conf_matrix, annot=True, fmt='d', cmap='Blues', \n",
    "                xticklabels=labels, yticklabels=labels)\n",
    "    plt.title(\"Confusion Matrix (Validation)\")\n",
    "    plt.xlabel(\"Predicted\")\n",
    "    plt.ylabel(\"Actual\")\n",
    "    plt.show()\n",
    "    \n",
    "    return metrics\n"
   ]
  },
  {
   "cell_type": "markdown",
   "metadata": {},
   "source": [
    "**Logistic Regression (Baseline)**"
   ]
  },
  {
   "cell_type": "code",
   "execution_count": null,
   "metadata": {},
   "outputs": [],
   "source": [
    "lr = LogisticRegression()\n",
    "lr_metrics = evaluate_model(lr, X_train, y_train, X_val, y_val)"
   ]
  },
  {
   "cell_type": "markdown",
   "metadata": {},
   "source": [
    "**Random Forest (Baseline)**"
   ]
  },
  {
   "cell_type": "code",
   "execution_count": null,
   "metadata": {},
   "outputs": [],
   "source": [
    "rf = RandomForestClassifier(random_state=42, class_weight='balanced')\n",
    "rf_metrics = evaluate_model(rf, X_train, y_train, X_val, y_val)"
   ]
  },
  {
   "cell_type": "markdown",
   "metadata": {},
   "source": [
    "**AdaBoost**"
   ]
  },
  {
   "cell_type": "code",
   "execution_count": null,
   "metadata": {},
   "outputs": [],
   "source": [
    "adaboost = AdaBoostClassifier(random_state=42)\n",
    "adaboost_metrics = evaluate_model(adaboost, X_train, y_train, X_val, y_val)"
   ]
  },
  {
   "cell_type": "markdown",
   "metadata": {},
   "source": [
    "**Gradient Boosting**"
   ]
  },
  {
   "cell_type": "code",
   "execution_count": null,
   "metadata": {},
   "outputs": [],
   "source": [
    "gb = GradientBoostingClassifier(random_state=42)\n",
    "gb_metrics = evaluate_model(gb, X_train, y_train, X_val, y_val)"
   ]
  },
  {
   "cell_type": "markdown",
   "metadata": {},
   "source": [
    "**DecisionTree**"
   ]
  },
  {
   "cell_type": "code",
   "execution_count": null,
   "metadata": {},
   "outputs": [],
   "source": [
    "dt = DecisionTreeClassifier(random_state=42, class_weight='balanced')\n",
    "dt_metrics = evaluate_model(dt, X_train, y_train, X_val, y_val)"
   ]
  },
  {
   "cell_type": "markdown",
   "metadata": {},
   "source": [
    "**NaiveBayes**"
   ]
  },
  {
   "cell_type": "code",
   "execution_count": null,
   "metadata": {},
   "outputs": [],
   "source": [
    "# Initialize the Gaussian Naive Bayes model with variance smoothing\n",
    "gnb_model = GaussianNB(var_smoothing=1e-9)\n",
    "gnb_metrics = evaluate_model(gnb_model, X_train, y_train, X_val, y_val)"
   ]
  },
  {
   "cell_type": "markdown",
   "metadata": {},
   "source": [
    "**MultiLayerPerceptron**"
   ]
  },
  {
   "cell_type": "code",
   "execution_count": null,
   "metadata": {},
   "outputs": [],
   "source": [
    "from sklearn.neural_network import MLPClassifier\n",
    "\n",
    "mlp = MLPClassifier(random_state=42)\n",
    "mlp_metrics = evaluate_model(mlp, X_train, y_train, X_val, y_val)"
   ]
  },
  {
   "cell_type": "markdown",
   "metadata": {},
   "source": [
    "**KNN**"
   ]
  },
  {
   "cell_type": "code",
   "execution_count": 6,
   "metadata": {},
   "outputs": [
    {
     "name": "stdout",
     "output_type": "stream",
     "text": [
      "Training Data Evaluation:\n",
      "Accuracy (Train): 0.7607\n",
      "F1 Score (Train): 0.7312\n",
      "\n",
      "Validation Data Evaluation:\n",
      "Accuracy (Validation): 0.7348\n",
      "F1 Score (Validation): 0.7029\n",
      "\n",
      "Classification Report (Validation):\n",
      "              precision    recall  f1-score   support\n",
      "\n",
      "           0       0.38      0.17      0.23      1791\n",
      "           1       0.84      0.94      0.89     51345\n",
      "           2       0.25      0.12      0.16     12380\n",
      "           3       0.68      0.80      0.74     26268\n",
      "           4       0.52      0.36      0.43      8578\n",
      "           5       0.07      0.00      0.01       749\n",
      "           6       0.00      0.00      0.00        16\n",
      "           7       0.00      0.00      0.00        59\n",
      "\n",
      "    accuracy                           0.73    101186\n",
      "   macro avg       0.34      0.30      0.31    101186\n",
      "weighted avg       0.69      0.73      0.70    101186\n",
      "\n"
     ]
    },
    {
     "data": {
      "image/png": "[encoded data removed]",
      "text/plain": [
       "<Figure size 800x600 with 2 Axes>"
      ]
     },
     "metadata": {},
     "output_type": "display_data"
    }
   ],
   "source": [
    "knn = KNeighborsClassifier()\n",
    "knn_metrics = evaluate_model(knn, X_train, y_train, X_val, y_val)\n",
    "\n",
    "# 6 minutes running"
   ]
  },
  {
   "cell_type": "markdown",
   "metadata": {},
   "source": [
    "**XG Boost**"
   ]
  },
  {
   "cell_type": "code",
   "execution_count": null,
   "metadata": {},
   "outputs": [],
   "source": [
    "from xgboost import XGBClassifier\n",
    "\n",
    "xgb = XGBClassifier(random_state=42)\n",
    "xgb_metrics = evaluate_model(xgb, X_train, y_train, X_val, y_val)"
   ]
  },
  {
   "cell_type": "markdown",
   "metadata": {},
   "source": [
    "**Comparisons**"
   ]
  },
  {
   "cell_type": "code",
   "execution_count": null,
   "metadata": {},
   "outputs": [],
   "source": [
    "# create a dataframe to store the metrics\n",
    "metrics_df = pd.DataFrame([lr_metrics, rf_metrics, adaboost_metrics, gb_metrics, dt_metrics, gnb_metrics, mlp_metrics, knn_metrics, xgb_metrics],\n",
    "                          index=['Logistic Regression', 'Random Forest', 'AdaBoost', 'Gradient Boosting', 'Decision Tree', 'Naive Bayes', 'MLP', 'KNN', 'XGBoost'])\n",
    "\n",
    "# display the dataframe\n",
    "metrics_df"
   ]
  },
  {
   "cell_type": "code",
   "execution_count": null,
   "metadata": {},
   "outputs": [],
   "source": [
    "# create a plot comparing f1 scores for train and validation sets\n",
    "plt.figure(figsize=(12, 6))\n",
    "metrics_df.sort_values('Validation F1 Score', ascending=False, inplace=True)\n",
    "metrics_df[['Train F1 Score', 'Validation F1 Score']].plot(kind='bar', figsize=(12, 6), rot=20)\n",
    "plt.ylabel('Weighted F1 Score')\n",
    "plt.title('Weighted F1 Score Comparison for Train and Validation Sets')\n",
    "plt.show()\n"
   ]
  },
  {
   "cell_type": "markdown",
   "metadata": {},
   "source": [
    "## Embedded Methods"
   ]
  },
  {
   "cell_type": "markdown",
   "metadata": {},
   "source": [
    "**Voting Classifier**"
   ]
  },
  {
   "cell_type": "code",
   "execution_count": null,
   "metadata": {},
   "outputs": [],
   "source": [
    "from sklearn.ensemble import VotingClassifier, RandomForestClassifier, GradientBoostingClassifier\n",
    "from sklearn.linear_model import LogisticRegression\n",
    "from sklearn.metrics import classification_report, confusion_matrix, f1_score, accuracy_score\n",
    "import seaborn as sns\n",
    "import matplotlib.pyplot as plt\n",
    "\n",
    "# Initialize the individual models\n",
    "logistic_model = LogisticRegression(max_iter=1000, random_state=42)\n",
    "random_forest_model = RandomForestClassifier(random_state=42, n_estimators=100, class_weight='balanced')\n",
    "gradient_boosting_model = GradientBoostingClassifier(random_state=42, n_estimators=100)\n",
    "\n",
    "# Combine models in a VotingClassifier\n",
    "voting_clf = VotingClassifier(\n",
    "    estimators=[\n",
    "        ('lr', logistic_model),\n",
    "        ('rf', random_forest_model),\n",
    "        ('gb', gradient_boosting_model)\n",
    "    ],\n",
    "    voting='soft'  # Soft voting for probability-based aggregation\n",
    ")"
   ]
  },
  {
   "cell_type": "code",
   "execution_count": null,
   "metadata": {},
   "outputs": [],
   "source": [
    "# Train the ensemble model\n",
    "voting_clf.fit(X_train, y_train)"
   ]
  },
  {
   "cell_type": "code",
   "execution_count": null,
   "metadata": {},
   "outputs": [],
   "source": [
    "# Make predictions on the training set\n",
    "train_pred = voting_clf.predict(X_train)\n",
    "\n",
    "# Make predictions on the validation set\n",
    "val_pred = voting_clf.predict(X_val)"
   ]
  },
  {
   "cell_type": "markdown",
   "metadata": {},
   "source": [
    "**Kaggle Submissions**"
   ]
  },
  {
   "cell_type": "code",
   "execution_count": 7,
   "metadata": {},
   "outputs": [],
   "source": [
    "# substitute the nan values with the mean of the column\n",
    "X_test = X_test.fillna(X_test.mean())"
   ]
  },
  {
   "cell_type": "code",
   "execution_count": 8,
   "metadata": {},
   "outputs": [],
   "source": [
    "# Make predictions on the test data\n",
    "pred_RF = knn.predict(X_test)\n",
    "\n",
    "# Map the numerical predictions to injury types\n",
    "label_mapping = {\n",
    "    0: \"1. CANCELLED\",\n",
    "    1: \"2. NON-COMP\",\n",
    "    2: \"3. MED ONLY\",\n",
    "    3: \"4. TEMPORARY\",\n",
    "    4: \"5. PPD SCH LOSS\",\n",
    "    5: \"6. PPD NSL\",\n",
    "    6: \"7. PTD\",\n",
    "    7: \"8. DEATH\",\n",
    "    8: \"Unknown\"\n",
    "}\n",
    "\n",
    "predictions = [label_mapping[label] for label in pred_RF]\n",
    "\n",
    "# Ensure 'Claim Identifier' is the index\n",
    "submission_df = pd.DataFrame({\n",
    "    'Claim Identifier': X_test.index, \n",
    "    'Claim Injury Type': predictions\n",
    "})\n",
    "\n",
    "# Save the submission DataFrame to a CSV file\n",
    "submission_df.to_csv('submission.csv', index=False)\n"
   ]
  }
 ],
 "metadata": {
  "kernelspec": {
   "display_name": "base",
   "language": "python",
   "name": "python3"
  },
  "language_info": {
   "codemirror_mode": {
    "name": "ipython",
    "version": 3
   },
   "file_extension": ".py",
   "mimetype": "text/x-python",
   "name": "python",
   "nbconvert_exporter": "python",
   "pygments_lexer": "ipython3",
   "version": "3.12.2"
  }
 },
 "nbformat": 4,
 "nbformat_minor": 2
}
