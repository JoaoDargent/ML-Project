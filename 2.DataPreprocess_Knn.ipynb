{
 "cells": [
  {
   "cell_type": "markdown",
   "metadata": {},
   "source": [
    "# 1. **Importing libraries and loading data**"
   ]
  },
  {
   "cell_type": "markdown",
   "metadata": {},
   "source": [
    "## **1.1 Importing libraries**"
   ]
  },
  {
   "cell_type": "code",
   "execution_count": 1325,
   "metadata": {},
   "outputs": [],
   "source": [
    "# Standard libraries\n",
    "import numpy as np\n",
    "import pandas as pd\n",
    "import warnings\n",
    "import zipfile, io\n",
    "\n",
    "# Visualization libraries\n",
    "import matplotlib.pyplot as plt\n",
    "import seaborn as sns\n",
    "import matplotlib.ticker as mtick\n",
    "\n",
    "# Statistical libraries\n",
    "import scipy.stats as ss\n",
    "from scipy import stats\n",
    "from scipy.stats import f_oneway\n",
    "from scipy.sparse import csr_matrix\n",
    "\n",
    "# Scikit-learn preprocessing and model selection\n",
    "from sklearn.impute import KNNImputer\n",
    "from sklearn.preprocessing import MinMaxScaler, OrdinalEncoder, LabelEncoder\n",
    "from sklearn.model_selection import train_test_split, StratifiedKFold, cross_val_score\n",
    "\n",
    "# Scikit-learn feature selection\n",
    "from sklearn.feature_selection import f_classif, SelectKBest, mutual_info_classif, RFE, RFECV\n",
    "\n",
    "# Scikit-learn models\n",
    "from sklearn.linear_model import LogisticRegression, LassoCV\n",
    "from sklearn.tree import DecisionTreeClassifier\n",
    "from sklearn.ensemble import RandomForestClassifier, GradientBoostingClassifier\n",
    "\n",
    "# Scikit-learn metrics\n",
    "from sklearn.metrics import make_scorer, precision_score, recall_score, f1_score, classification_report\n",
    "\n",
    "import os \n",
    "\n",
    "# Seaborn settings\n",
    "sns.set()\n",
    "\n",
    "# Ignore warnings\n",
    "warnings.filterwarnings('ignore')\n",
    "\n",
    "# Enable inline plotting for Jupyter notebooks\n",
    "%matplotlib inline"
   ]
  },
  {
   "cell_type": "markdown",
   "metadata": {},
   "source": [
    "## **1.2 Importing the datasets**"
   ]
  },
  {
   "cell_type": "code",
   "execution_count": 1326,
   "metadata": {},
   "outputs": [],
   "source": [
    "# extract the project data zip file\n",
    "z = zipfile.ZipFile('project_data.zip')\n",
    "z.extractall()\n",
    "\n",
    "del z"
   ]
  },
  {
   "cell_type": "code",
   "execution_count": 1327,
   "metadata": {},
   "outputs": [],
   "source": [
    "# load the data (train and test)\n",
    "df_train = pd.read_csv('train_data.csv')\n",
    "df_test = pd.read_csv('test_data.csv')"
   ]
  },
  {
   "cell_type": "markdown",
   "metadata": {},
   "source": [
    "# 2. **Removing duplicates, Data inconsistencies and Splitting the data**"
   ]
  },
  {
   "cell_type": "markdown",
   "metadata": {},
   "source": [
    "## Removing Duplicates, Setting the index and removing empty target values and empty feature"
   ]
  },
  {
   "cell_type": "code",
   "execution_count": 1328,
   "metadata": {},
   "outputs": [
    {
     "data": {
      "text/plain": [
       "19445"
      ]
     },
     "execution_count": 1328,
     "metadata": {},
     "output_type": "execute_result"
    }
   ],
   "source": [
    "#Check for missing values in target variable 'Claim Injury Type'\n",
    "\n",
    "df_train['Claim Injury Type'].isnull().sum()"
   ]
  },
  {
   "cell_type": "code",
   "execution_count": 1329,
   "metadata": {},
   "outputs": [],
   "source": [
    "#Drop the columns that have Claim inury type missing\n",
    "\n",
    "df_train = df_train.dropna(subset=['Claim Injury Type'])"
   ]
  },
  {
   "cell_type": "code",
   "execution_count": 1330,
   "metadata": {},
   "outputs": [],
   "source": [
    "#Drop the feature 'OIICS Nature of Injury Description' because it has no values\n",
    "\n",
    "df_train = df_train.drop(columns=['OIICS Nature of Injury Description'])\n",
    "df_test = df_test.drop(columns=['OIICS Nature of Injury Description'])"
   ]
  },
  {
   "cell_type": "code",
   "execution_count": 1331,
   "metadata": {},
   "outputs": [],
   "source": [
    "#Make 'claim identifier' as index\n",
    "\n",
    "df_train = df_train.set_index('Claim Identifier')\n",
    "df_test = df_test.set_index('Claim Identifier')"
   ]
  },
  {
   "cell_type": "code",
   "execution_count": 1332,
   "metadata": {},
   "outputs": [
    {
     "name": "stdout",
     "output_type": "stream",
     "text": [
      "0\n"
     ]
    }
   ],
   "source": [
    "#Are there duplicates in indexes?\n",
    "\n",
    "print(df_train.index.duplicated().sum())"
   ]
  },
  {
   "cell_type": "code",
   "execution_count": 1333,
   "metadata": {},
   "outputs": [
    {
     "name": "stdout",
     "output_type": "stream",
     "text": [
      "1\n"
     ]
    }
   ],
   "source": [
    "# check duplicates\n",
    "\n",
    "print(df_train.duplicated().sum())"
   ]
  },
  {
   "cell_type": "code",
   "execution_count": 1334,
   "metadata": {},
   "outputs": [],
   "source": [
    "#drop duplicates\n",
    "\n",
    "df_train = df_train.drop_duplicates()"
   ]
  },
  {
   "cell_type": "markdown",
   "metadata": {},
   "source": [
    "## Checking for data inconsistencies\n",
    "\n",
    "We're going to check if there is data that was incorrectly inputted.\n",
    "Let's start with dates: If there's any type of date before the accident date, we're going to remove it."
   ]
  },
  {
   "cell_type": "markdown",
   "metadata": {},
   "source": [
    "### Dates"
   ]
  },
  {
   "cell_type": "code",
   "execution_count": 1335,
   "metadata": {},
   "outputs": [
    {
     "name": "stdout",
     "output_type": "stream",
     "text": [
      "(1701, 31)\n"
     ]
    }
   ],
   "source": [
    "# Identify rows with inconsistencies\n",
    "invalid_rows = df_train[\n",
    "    (df_train['C-2 Date'] < df_train['Accident Date']) | \n",
    "    (df_train['Assembly Date'] < df_train['Accident Date']) |\n",
    "    (df_train['C-3 Date'] < df_train['Accident Date']) |\n",
    "    (df_train['First Hearing Date'] < df_train['Accident Date'])\n",
    "]\n",
    "\n",
    "# Display the invalid rows for review\n",
    "print(invalid_rows.shape)"
   ]
  },
  {
   "cell_type": "markdown",
   "metadata": {},
   "source": [
    "There are 1701 rows with dates before the accident date. We're going to remove them."
   ]
  },
  {
   "cell_type": "code",
   "execution_count": 1336,
   "metadata": {},
   "outputs": [],
   "source": [
    "# Drop invalid_rows   \n",
    "\n",
    "df_train = df_train.drop(invalid_rows.index)"
   ]
  },
  {
   "cell_type": "markdown",
   "metadata": {},
   "source": [
    "### Zip Codes"
   ]
  },
  {
   "cell_type": "markdown",
   "metadata": {},
   "source": [
    "There are zip codes with letters in them and with less or more than 5 digits. We're going to analyse them."
   ]
  },
  {
   "cell_type": "code",
   "execution_count": 1337,
   "metadata": {},
   "outputs": [
    {
     "data": {
      "text/plain": [
       "(43373, 31)"
      ]
     },
     "execution_count": 1337,
     "metadata": {},
     "output_type": "execute_result"
    }
   ],
   "source": [
    "def count_digit(string):\n",
    "    \"\"\"Count the number of digits in a string.\"\"\"\n",
    "    return sum(c.isdigit() for c in str(string))\n",
    "\n",
    "zip_outliers = df_train[df_train['Zip Code'].apply(\n",
    "    lambda x: (count_digit(str(x)) != 5) or any(char.isalpha() for char in str(x))\n",
    ")]\n",
    "\n",
    "zip_outliers.shape"
   ]
  },
  {
   "cell_type": "code",
   "execution_count": 1338,
   "metadata": {},
   "outputs": [
    {
     "data": {
      "text/plain": [
       "2. NON-COMP        21832\n",
       "4. TEMPORARY       11091\n",
       "3. MED ONLY         5385\n",
       "5. PPD SCH LOSS     3746\n",
       "1. CANCELLED         945\n",
       "6. PPD NSL           338\n",
       "8. DEATH              31\n",
       "7. PTD                 5\n",
       "Name: Claim Injury Type, dtype: int64"
      ]
     },
     "execution_count": 1338,
     "metadata": {},
     "output_type": "execute_result"
    }
   ],
   "source": [
    "# Display the count of each Claim Injury Type in the outlier rows\n",
    "df_train.loc[zip_outliers.index, 'Claim Injury Type'].value_counts()"
   ]
  },
  {
   "cell_type": "markdown",
   "metadata": {},
   "source": [
    "We'll tranform the zip codes with incoherences to NaN because there are incosistencies in data imputation. We'll later fill with the mode based on the context of each row."
   ]
  },
  {
   "cell_type": "code",
   "execution_count": 1339,
   "metadata": {},
   "outputs": [],
   "source": [
    "#Transform zip outliers indexes into NaN\n",
    "\n",
    "df_train.loc[zip_outliers.index, 'Zip Code'] = np.nan"
   ]
  },
  {
   "cell_type": "markdown",
   "metadata": {},
   "source": [
    "### Carrier Name"
   ]
  },
  {
   "cell_type": "code",
   "execution_count": 1340,
   "metadata": {},
   "outputs": [],
   "source": [
    "#!pip install rapidfuzz"
   ]
  },
  {
   "cell_type": "code",
   "execution_count": 1341,
   "metadata": {},
   "outputs": [
    {
     "name": "stdout",
     "output_type": "stream",
     "text": [
      "STATE INSURANCE FUND            110816\n",
      "POLICE, FIRE, SANITATION         21542\n",
      "AMERICAN ZURICH INSURANCE CO     17496\n",
      "CHARTER OAK FIRE INS CO          17122\n",
      "INDEMNITY INS. OF N AMERICA      14341\n",
      "                                 ...  \n",
      "LOWES HOME CENTERS INC               1\n",
      "WEST BEND MUTUAL INSURANCE           1\n",
      "LIVINGSTON-STEUBEN-                  1\n",
      "NEW YORK MUTUAL CASUALTY             1\n",
      "HERMON-DEKALB CENTRAL                1\n",
      "Name: Carrier Name, Length: 2046, dtype: int64\n"
     ]
    }
   ],
   "source": [
    "print(df_train['Carrier Name'].value_counts())"
   ]
  },
  {
   "cell_type": "code",
   "execution_count": 1342,
   "metadata": {},
   "outputs": [],
   "source": [
    "from rapidfuzz import process, fuzz\n",
    "\n",
    "# Get unique carrier names\n",
    "unique_names = df_train['Carrier Name'].dropna().unique()\n",
    "\n",
    "# Create a mapping of similar names to canonical names\n",
    "canonical_mapping = {}\n",
    "\n",
    "for name in unique_names:\n",
    "    # Handle the case where canonical_mapping.keys() is empty\n",
    "    if not canonical_mapping:\n",
    "        canonical_mapping[name] = name  # Treat the first name as canonical\n",
    "        continue\n",
    "    \n",
    "    # Find the closest match in the current canonical_mapping\n",
    "    result = process.extractOne(name, canonical_mapping.keys(), scorer=fuzz.ratio)\n",
    "    \n",
    "    if result:  # Ensure a match was found\n",
    "        match, score = result[:2]  # Unpack match and score\n",
    "        if score > 85:  # Threshold for similarity\n",
    "            canonical_mapping[name] = canonical_mapping[match]\n",
    "        else:\n",
    "            canonical_mapping[name] = name  # Treat as canonical\n",
    "    else:\n",
    "        canonical_mapping[name] = name  # No match found, treat as canonical\n",
    "\n",
    "# Apply the mapping\n",
    "df_train['Carrier Name'] = df_train['Carrier Name'].map(canonical_mapping)"
   ]
  },
  {
   "cell_type": "code",
   "execution_count": 1343,
   "metadata": {},
   "outputs": [
    {
     "name": "stdout",
     "output_type": "stream",
     "text": [
      "STATE INSURANCE FUND              110816\n",
      "POLICE, FIRE, SANITATION           21542\n",
      "AMERICAN ZURICH INSURANCE CO       17496\n",
      "CHARTER OAK FIRE INS CO            17122\n",
      "INDEMNITY INS. OF N AMERICA        14341\n",
      "                                   ...  \n",
      "HERMON-DEKALB CSD                      1\n",
      "NEW YORK MUTUAL CASUALTY               1\n",
      "WINDHAM-ASHLAND-JEWETT                 1\n",
      "EASTERN ALLIANCE INSUR COMPANY         1\n",
      "HERMON-DEKALB CENTRAL                  1\n",
      "Name: Carrier Name, Length: 1504, dtype: int64\n"
     ]
    }
   ],
   "source": [
    "print(df_train['Carrier Name'].value_counts())"
   ]
  },
  {
   "cell_type": "markdown",
   "metadata": {},
   "source": [
    "### Age at Injury and Birth Year"
   ]
  },
  {
   "cell_type": "code",
   "execution_count": 1344,
   "metadata": {},
   "outputs": [
    {
     "name": "stdout",
     "output_type": "stream",
     "text": [
      "0.0      5463\n",
      "1.0         2\n",
      "5.0         1\n",
      "7.0         2\n",
      "8.0         6\n",
      "         ... \n",
      "112.0      24\n",
      "113.0       1\n",
      "114.0       1\n",
      "115.0       1\n",
      "117.0       2\n",
      "Name: Age at Injury, Length: 108, dtype: int64\n"
     ]
    }
   ],
   "source": [
    "#value counts for 'Age at Injury'\n",
    "\n",
    "print(df_train['Age at Injury'].value_counts().sort_index())"
   ]
  },
  {
   "cell_type": "code",
   "execution_count": 1345,
   "metadata": {},
   "outputs": [
    {
     "name": "stdout",
     "output_type": "stream",
     "text": [
      "1. CANCELLED       13.874177\n",
      "2. NON-COMP         0.993515\n",
      "3. MED ONLY         0.366381\n",
      "4. TEMPORARY        0.383356\n",
      "5. PPD SCH LOSS     0.044263\n",
      "6. PPD NSL          0.023838\n",
      "7. PTD                   NaN\n",
      "8. DEATH            0.426439\n",
      "Name: Claim Injury Type, dtype: float64\n"
     ]
    }
   ],
   "source": [
    "# Filter the dataframe for rows where 'Age at Injury' is 0.0\n",
    "age_zero_df = df_train[df_train['Age at Injury'] == 0.0]\n",
    "\n",
    "# Display the target values for these rows\n",
    "# Calculate the percentage of each target value in age_zero_df compared to the whole 'Claim Injury Type' in df_train\n",
    "percentage = (age_zero_df['Claim Injury Type'].value_counts() / df_train['Claim Injury Type'].value_counts()) * 100\n",
    "print(percentage)"
   ]
  },
  {
   "cell_type": "code",
   "execution_count": 1346,
   "metadata": {},
   "outputs": [
    {
     "name": "stdout",
     "output_type": "stream",
     "text": [
      "2. NON-COMP         4.725641\n",
      "4. TEMPORARY        3.893632\n",
      "3. MED ONLY         3.290127\n",
      "5. PPD SCH LOSS     3.796054\n",
      "1. CANCELLED        9.436688\n",
      "6. PPD NSL          4.410012\n",
      "8. DEATH           11.940299\n",
      "7. PTD              5.319149\n",
      "Name: Claim Injury Type, dtype: float64\n"
     ]
    }
   ],
   "source": [
    "# Filter the dataframe for rows where 'Age at Injury' is 0.0\n",
    "age_zero_df = df_train[df_train['Birth Year'] == 0.0]\n",
    "\n",
    "# Display the target values for these rows\n",
    "# Calculate the percentage of each target value in age_zero_df compared to the whole 'Claim Injury Type' in df_train\n",
    "percentage = (age_zero_df['Claim Injury Type'].value_counts() / df_train['Claim Injury Type'].value_counts()) * 100\n",
    "print(percentage)"
   ]
  },
  {
   "cell_type": "markdown",
   "metadata": {},
   "source": [
    "How should we deal with this?\n",
    "-   We are first checking if in this rows there are some where we can calculate either Age at injury or Birth Year."
   ]
  },
  {
   "cell_type": "code",
   "execution_count": 1347,
   "metadata": {},
   "outputs": [
    {
     "name": "stdout",
     "output_type": "stream",
     "text": [
      "(177, 31)\n",
      "(23071, 31)\n"
     ]
    }
   ],
   "source": [
    "#For the Birth year that are 0 I want to check if there are rows with Age at injury == 0 but have a birth year != 0 and an accident Date\n",
    "\n",
    "age_zero_df = df_train[(df_train['Birth Year'] != 0.0) & (df_train['Age at Injury'] == 0.0) & (df_train['Accident Date'].notnull())]\n",
    "birth_year_zero_df = df_train[(df_train['Birth Year'] == 0.0) & (df_train['Age at Injury'] != 0.0) & (df_train['Accident Date'].notnull())]\n",
    "\n",
    "age_zero_df_indexes = age_zero_df.index\n",
    "birth_year_zero_df_indexes = birth_year_zero_df.index\n",
    "\n",
    "print(age_zero_df.shape)\n",
    "print(birth_year_zero_df.shape)"
   ]
  },
  {
   "cell_type": "code",
   "execution_count": 1348,
   "metadata": {},
   "outputs": [],
   "source": [
    "def infer_age_at_injury(df, target_column, date_column, birth_year_column):\n",
    "    \"\"\"\n",
    "    Infer Age at Injury by calculating the difference between Accident Date and Birth Year.\n",
    "    Skip rows where Accident Date is NaT.\n",
    "    \"\"\"\n",
    "    # Ensure Accident Date is in datetime format\n",
    "    df[date_column] = pd.to_datetime(df[date_column], errors='coerce')\n",
    "    \n",
    "    # Extract the year from Accident Date\n",
    "    df['accident_year'] = df[date_column].dt.year\n",
    "    \n",
    "    # Ensure Birth Year is numeric\n",
    "    df[birth_year_column] = pd.to_numeric(df[birth_year_column], errors='coerce')\n",
    "    \n",
    "    # Calculate the difference between Accident Year and Birth Year\n",
    "    df['calculated_age'] = df['accident_year'] - df[birth_year_column]\n",
    "    \n",
    "    # Impute Age at Injury only if:\n",
    "    # - Accident Date is not NaT\n",
    "    # - Birth Year is valid (not NaN)\n",
    "    # - Age at Injury is 0.0\n",
    "    df[target_column] = df.apply(\n",
    "        lambda row: row['calculated_age'] if pd.notna(row[date_column]) \n",
    "                    and pd.notna(row[birth_year_column]) \n",
    "                    and row[target_column] == 0.0 \n",
    "                    else row[target_column],\n",
    "        axis=1\n",
    "    )\n",
    "    \n",
    "    # Drop temporary columns\n",
    "    df.drop(columns=['accident_year', 'calculated_age'], inplace=True)\n",
    "    \n",
    "    return df\n",
    "\n"
   ]
  },
  {
   "cell_type": "code",
   "execution_count": 1349,
   "metadata": {},
   "outputs": [],
   "source": [
    "def infer_birth_year(df, target_column, date_column, age_column):\n",
    "    \"\"\"\n",
    "    Infer Birth Year by calculating the difference between Accident Date and Age at Injury.\n",
    "    Skip rows where Accident Date is NaT.\n",
    "    \"\"\"\n",
    "    # Ensure Accident Date is in datetime format\n",
    "    df[date_column] = pd.to_datetime(df[date_column], errors='coerce')\n",
    "    \n",
    "    # Extract the year from Accident Date\n",
    "    df['accident_year'] = df[date_column].dt.year\n",
    "    \n",
    "    # Ensure Age at Injury is numeric\n",
    "    df[age_column] = pd.to_numeric(df[age_column], errors='coerce')\n",
    "    \n",
    "    # Calculate the Birth Year using Accident Year and Age at Injury\n",
    "    df['calculated_birth_year'] = df['accident_year'] - df[age_column]\n",
    "    \n",
    "    # Impute Birth Year only if:\n",
    "    # - Accident Date is not NaT\n",
    "    # - Age at Injury is valid (not NaN)\n",
    "    # - Birth Year is 0.0\n",
    "    df[target_column] = df.apply(\n",
    "        lambda row: row['calculated_birth_year'] if pd.notna(row[date_column]) \n",
    "                    and pd.notna(row[age_column]) \n",
    "                    and row[target_column] == 0.0 \n",
    "                    else row[target_column],\n",
    "        axis=1\n",
    "    )\n",
    "    \n",
    "    # Drop temporary columns\n",
    "    df.drop(columns=['accident_year', 'calculated_birth_year'], inplace=True)\n",
    "    \n",
    "    return df\n"
   ]
  },
  {
   "cell_type": "code",
   "execution_count": 1350,
   "metadata": {},
   "outputs": [
    {
     "data": {
      "text/html": [
       "<div>\n",
       "<style scoped>\n",
       "    .dataframe tbody tr th:only-of-type {\n",
       "        vertical-align: middle;\n",
       "    }\n",
       "\n",
       "    .dataframe tbody tr th {\n",
       "        vertical-align: top;\n",
       "    }\n",
       "\n",
       "    .dataframe thead th {\n",
       "        text-align: right;\n",
       "    }\n",
       "</style>\n",
       "<table border=\"1\" class=\"dataframe\">\n",
       "  <thead>\n",
       "    <tr style=\"text-align: right;\">\n",
       "      <th></th>\n",
       "      <th>Accident Date</th>\n",
       "      <th>Age at Injury</th>\n",
       "      <th>Alternative Dispute Resolution</th>\n",
       "      <th>Assembly Date</th>\n",
       "      <th>Attorney/Representative</th>\n",
       "      <th>Average Weekly Wage</th>\n",
       "      <th>Birth Year</th>\n",
       "      <th>C-2 Date</th>\n",
       "      <th>C-3 Date</th>\n",
       "      <th>Carrier Name</th>\n",
       "      <th>...</th>\n",
       "      <th>WCIO Cause of Injury Code</th>\n",
       "      <th>WCIO Cause of Injury Description</th>\n",
       "      <th>WCIO Nature of Injury Code</th>\n",
       "      <th>WCIO Nature of Injury Description</th>\n",
       "      <th>WCIO Part Of Body Code</th>\n",
       "      <th>WCIO Part Of Body Description</th>\n",
       "      <th>Zip Code</th>\n",
       "      <th>Agreement Reached</th>\n",
       "      <th>WCB Decision</th>\n",
       "      <th>Number of Dependents</th>\n",
       "    </tr>\n",
       "    <tr>\n",
       "      <th>Claim Identifier</th>\n",
       "      <th></th>\n",
       "      <th></th>\n",
       "      <th></th>\n",
       "      <th></th>\n",
       "      <th></th>\n",
       "      <th></th>\n",
       "      <th></th>\n",
       "      <th></th>\n",
       "      <th></th>\n",
       "      <th></th>\n",
       "      <th></th>\n",
       "      <th></th>\n",
       "      <th></th>\n",
       "      <th></th>\n",
       "      <th></th>\n",
       "      <th></th>\n",
       "      <th></th>\n",
       "      <th></th>\n",
       "      <th></th>\n",
       "      <th></th>\n",
       "      <th></th>\n",
       "    </tr>\n",
       "  </thead>\n",
       "  <tbody>\n",
       "    <tr>\n",
       "      <th>5393875</th>\n",
       "      <td>2019-12-30</td>\n",
       "      <td>31.0</td>\n",
       "      <td>N</td>\n",
       "      <td>2020-01-01</td>\n",
       "      <td>N</td>\n",
       "      <td>0.00</td>\n",
       "      <td>1988.0</td>\n",
       "      <td>2019-12-31</td>\n",
       "      <td>NaN</td>\n",
       "      <td>NEW HAMPSHIRE INSURANCE CO</td>\n",
       "      <td>...</td>\n",
       "      <td>27.0</td>\n",
       "      <td>FROM LIQUID OR GREASE SPILLS</td>\n",
       "      <td>10.0</td>\n",
       "      <td>CONTUSION</td>\n",
       "      <td>62.0</td>\n",
       "      <td>BUTTOCKS</td>\n",
       "      <td>13662</td>\n",
       "      <td>0.0</td>\n",
       "      <td>Not Work Related</td>\n",
       "      <td>1.0</td>\n",
       "    </tr>\n",
       "    <tr>\n",
       "      <th>5393091</th>\n",
       "      <td>2019-08-30</td>\n",
       "      <td>46.0</td>\n",
       "      <td>N</td>\n",
       "      <td>2020-01-01</td>\n",
       "      <td>Y</td>\n",
       "      <td>1745.93</td>\n",
       "      <td>1973.0</td>\n",
       "      <td>2020-01-01</td>\n",
       "      <td>2020-01-14</td>\n",
       "      <td>ZURICH AMERICAN INSURANCE CO</td>\n",
       "      <td>...</td>\n",
       "      <td>97.0</td>\n",
       "      <td>REPETITIVE MOTION</td>\n",
       "      <td>49.0</td>\n",
       "      <td>SPRAIN OR TEAR</td>\n",
       "      <td>38.0</td>\n",
       "      <td>SHOULDER(S)</td>\n",
       "      <td>14569</td>\n",
       "      <td>1.0</td>\n",
       "      <td>Not Work Related</td>\n",
       "      <td>4.0</td>\n",
       "    </tr>\n",
       "    <tr>\n",
       "      <th>5393889</th>\n",
       "      <td>2019-12-06</td>\n",
       "      <td>40.0</td>\n",
       "      <td>N</td>\n",
       "      <td>2020-01-01</td>\n",
       "      <td>N</td>\n",
       "      <td>1434.80</td>\n",
       "      <td>1979.0</td>\n",
       "      <td>2020-01-01</td>\n",
       "      <td>NaN</td>\n",
       "      <td>INDEMNITY INSURANCE CO OF</td>\n",
       "      <td>...</td>\n",
       "      <td>79.0</td>\n",
       "      <td>OBJECT BEING LIFTED OR HANDLED</td>\n",
       "      <td>7.0</td>\n",
       "      <td>CONCUSSION</td>\n",
       "      <td>10.0</td>\n",
       "      <td>MULTIPLE HEAD INJURY</td>\n",
       "      <td>12589</td>\n",
       "      <td>0.0</td>\n",
       "      <td>Not Work Related</td>\n",
       "      <td>6.0</td>\n",
       "    </tr>\n",
       "    <tr>\n",
       "      <th>5393887</th>\n",
       "      <td>2019-12-30</td>\n",
       "      <td>61.0</td>\n",
       "      <td>N</td>\n",
       "      <td>2020-01-01</td>\n",
       "      <td>N</td>\n",
       "      <td>NaN</td>\n",
       "      <td>1958.0</td>\n",
       "      <td>2019-12-31</td>\n",
       "      <td>NaN</td>\n",
       "      <td>STATE INSURANCE FUND</td>\n",
       "      <td>...</td>\n",
       "      <td>16.0</td>\n",
       "      <td>HAND TOOL, UTENSIL; NOT POWERED</td>\n",
       "      <td>43.0</td>\n",
       "      <td>PUNCTURE</td>\n",
       "      <td>36.0</td>\n",
       "      <td>FINGER(S)</td>\n",
       "      <td>12603</td>\n",
       "      <td>0.0</td>\n",
       "      <td>Not Work Related</td>\n",
       "      <td>1.0</td>\n",
       "    </tr>\n",
       "    <tr>\n",
       "      <th>5393863</th>\n",
       "      <td>2019-12-26</td>\n",
       "      <td>67.0</td>\n",
       "      <td>N</td>\n",
       "      <td>2020-01-01</td>\n",
       "      <td>N</td>\n",
       "      <td>0.00</td>\n",
       "      <td>1952.0</td>\n",
       "      <td>2019-12-31</td>\n",
       "      <td>NaN</td>\n",
       "      <td>INDEMNITY INS. OF N AMERICA</td>\n",
       "      <td>...</td>\n",
       "      <td>31.0</td>\n",
       "      <td>FALL, SLIP OR TRIP, NOC</td>\n",
       "      <td>10.0</td>\n",
       "      <td>CONTUSION</td>\n",
       "      <td>38.0</td>\n",
       "      <td>SHOULDER(S)</td>\n",
       "      <td>11772</td>\n",
       "      <td>0.0</td>\n",
       "      <td>Not Work Related</td>\n",
       "      <td>5.0</td>\n",
       "    </tr>\n",
       "    <tr>\n",
       "      <th>...</th>\n",
       "      <td>...</td>\n",
       "      <td>...</td>\n",
       "      <td>...</td>\n",
       "      <td>...</td>\n",
       "      <td>...</td>\n",
       "      <td>...</td>\n",
       "      <td>...</td>\n",
       "      <td>...</td>\n",
       "      <td>...</td>\n",
       "      <td>...</td>\n",
       "      <td>...</td>\n",
       "      <td>...</td>\n",
       "      <td>...</td>\n",
       "      <td>...</td>\n",
       "      <td>...</td>\n",
       "      <td>...</td>\n",
       "      <td>...</td>\n",
       "      <td>...</td>\n",
       "      <td>...</td>\n",
       "      <td>...</td>\n",
       "      <td>...</td>\n",
       "    </tr>\n",
       "    <tr>\n",
       "      <th>6165265</th>\n",
       "      <td>2022-12-14</td>\n",
       "      <td>35.0</td>\n",
       "      <td>N</td>\n",
       "      <td>2022-12-30</td>\n",
       "      <td>N</td>\n",
       "      <td>0.00</td>\n",
       "      <td>1987.0</td>\n",
       "      <td>2022-12-30</td>\n",
       "      <td>NaN</td>\n",
       "      <td>STATE INSURANCE FUND</td>\n",
       "      <td>...</td>\n",
       "      <td>45.0</td>\n",
       "      <td>COLLISION OR SIDESWIPE WITH ANOTHER VEHICLE</td>\n",
       "      <td>10.0</td>\n",
       "      <td>CONTUSION</td>\n",
       "      <td>42.0</td>\n",
       "      <td>LOWER BACK AREA</td>\n",
       "      <td>10467</td>\n",
       "      <td>0.0</td>\n",
       "      <td>Not Work Related</td>\n",
       "      <td>4.0</td>\n",
       "    </tr>\n",
       "    <tr>\n",
       "      <th>6165285</th>\n",
       "      <td>2022-12-15</td>\n",
       "      <td>33.0</td>\n",
       "      <td>N</td>\n",
       "      <td>2022-12-31</td>\n",
       "      <td>N</td>\n",
       "      <td>0.00</td>\n",
       "      <td>1989.0</td>\n",
       "      <td>2022-12-31</td>\n",
       "      <td>NaN</td>\n",
       "      <td>WESCO INSURANCE CO</td>\n",
       "      <td>...</td>\n",
       "      <td>74.0</td>\n",
       "      <td>FELLOW WORKER, PATIENT OR OTHER PERSON</td>\n",
       "      <td>37.0</td>\n",
       "      <td>INFLAMMATION</td>\n",
       "      <td>35.0</td>\n",
       "      <td>HAND</td>\n",
       "      <td>11590</td>\n",
       "      <td>0.0</td>\n",
       "      <td>Not Work Related</td>\n",
       "      <td>6.0</td>\n",
       "    </tr>\n",
       "    <tr>\n",
       "      <th>6165506</th>\n",
       "      <td>2022-12-13</td>\n",
       "      <td>61.0</td>\n",
       "      <td>N</td>\n",
       "      <td>2022-12-31</td>\n",
       "      <td>N</td>\n",
       "      <td>991.08</td>\n",
       "      <td>1961.0</td>\n",
       "      <td>2022-12-31</td>\n",
       "      <td>NaN</td>\n",
       "      <td>SECURITY NATIONAL INSURANCE CO</td>\n",
       "      <td>...</td>\n",
       "      <td>98.0</td>\n",
       "      <td>CUMULATIVE, NOC</td>\n",
       "      <td>80.0</td>\n",
       "      <td>ALL OTHER CUMULATIVE INJURY, NOC</td>\n",
       "      <td>34.0</td>\n",
       "      <td>WRIST</td>\n",
       "      <td>14227</td>\n",
       "      <td>0.0</td>\n",
       "      <td>Not Work Related</td>\n",
       "      <td>3.0</td>\n",
       "    </tr>\n",
       "    <tr>\n",
       "      <th>6165339</th>\n",
       "      <td>2022-12-14</td>\n",
       "      <td>24.0</td>\n",
       "      <td>N</td>\n",
       "      <td>2022-12-31</td>\n",
       "      <td>N</td>\n",
       "      <td>0.00</td>\n",
       "      <td>1998.0</td>\n",
       "      <td>2022-12-31</td>\n",
       "      <td>NaN</td>\n",
       "      <td>TECHNOLOGY INSURANCE CO. INC.</td>\n",
       "      <td>...</td>\n",
       "      <td>59.0</td>\n",
       "      <td>USING TOOL OR MACHINERY</td>\n",
       "      <td>59.0</td>\n",
       "      <td>ALL OTHER SPECIFIC INJURIES, NOC</td>\n",
       "      <td>55.0</td>\n",
       "      <td>ANKLE</td>\n",
       "      <td>10029</td>\n",
       "      <td>0.0</td>\n",
       "      <td>Not Work Related</td>\n",
       "      <td>5.0</td>\n",
       "    </tr>\n",
       "    <tr>\n",
       "      <th>6165075</th>\n",
       "      <td>2022-12-13</td>\n",
       "      <td>72.0</td>\n",
       "      <td>N</td>\n",
       "      <td>2022-12-31</td>\n",
       "      <td>N</td>\n",
       "      <td>0.00</td>\n",
       "      <td>1950.0</td>\n",
       "      <td>2022-12-31</td>\n",
       "      <td>NaN</td>\n",
       "      <td>TECHNOLOGY INSURANCE CO. INC.</td>\n",
       "      <td>...</td>\n",
       "      <td>25.0</td>\n",
       "      <td>FROM DIFFERENT LEVEL (ELEVATION)</td>\n",
       "      <td>90.0</td>\n",
       "      <td>MULTIPLE PHYSICAL INJURIES ONLY</td>\n",
       "      <td>-9.0</td>\n",
       "      <td>MULTIPLE</td>\n",
       "      <td>12779</td>\n",
       "      <td>0.0</td>\n",
       "      <td>Not Work Related</td>\n",
       "      <td>3.0</td>\n",
       "    </tr>\n",
       "  </tbody>\n",
       "</table>\n",
       "<p>572324 rows × 31 columns</p>\n",
       "</div>"
      ],
      "text/plain": [
       "                 Accident Date  Age at Injury Alternative Dispute Resolution  \\\n",
       "Claim Identifier                                                               \n",
       "5393875             2019-12-30           31.0                              N   \n",
       "5393091             2019-08-30           46.0                              N   \n",
       "5393889             2019-12-06           40.0                              N   \n",
       "5393887             2019-12-30           61.0                              N   \n",
       "5393863             2019-12-26           67.0                              N   \n",
       "...                        ...            ...                            ...   \n",
       "6165265             2022-12-14           35.0                              N   \n",
       "6165285             2022-12-15           33.0                              N   \n",
       "6165506             2022-12-13           61.0                              N   \n",
       "6165339             2022-12-14           24.0                              N   \n",
       "6165075             2022-12-13           72.0                              N   \n",
       "\n",
       "                 Assembly Date Attorney/Representative  Average Weekly Wage  \\\n",
       "Claim Identifier                                                              \n",
       "5393875             2020-01-01                       N                 0.00   \n",
       "5393091             2020-01-01                       Y              1745.93   \n",
       "5393889             2020-01-01                       N              1434.80   \n",
       "5393887             2020-01-01                       N                  NaN   \n",
       "5393863             2020-01-01                       N                 0.00   \n",
       "...                        ...                     ...                  ...   \n",
       "6165265             2022-12-30                       N                 0.00   \n",
       "6165285             2022-12-31                       N                 0.00   \n",
       "6165506             2022-12-31                       N               991.08   \n",
       "6165339             2022-12-31                       N                 0.00   \n",
       "6165075             2022-12-31                       N                 0.00   \n",
       "\n",
       "                  Birth Year    C-2 Date    C-3 Date  \\\n",
       "Claim Identifier                                       \n",
       "5393875               1988.0  2019-12-31         NaN   \n",
       "5393091               1973.0  2020-01-01  2020-01-14   \n",
       "5393889               1979.0  2020-01-01         NaN   \n",
       "5393887               1958.0  2019-12-31         NaN   \n",
       "5393863               1952.0  2019-12-31         NaN   \n",
       "...                      ...         ...         ...   \n",
       "6165265               1987.0  2022-12-30         NaN   \n",
       "6165285               1989.0  2022-12-31         NaN   \n",
       "6165506               1961.0  2022-12-31         NaN   \n",
       "6165339               1998.0  2022-12-31         NaN   \n",
       "6165075               1950.0  2022-12-31         NaN   \n",
       "\n",
       "                                    Carrier Name  ...  \\\n",
       "Claim Identifier                                  ...   \n",
       "5393875               NEW HAMPSHIRE INSURANCE CO  ...   \n",
       "5393091             ZURICH AMERICAN INSURANCE CO  ...   \n",
       "5393889                INDEMNITY INSURANCE CO OF  ...   \n",
       "5393887                     STATE INSURANCE FUND  ...   \n",
       "5393863              INDEMNITY INS. OF N AMERICA  ...   \n",
       "...                                          ...  ...   \n",
       "6165265                     STATE INSURANCE FUND  ...   \n",
       "6165285                       WESCO INSURANCE CO  ...   \n",
       "6165506           SECURITY NATIONAL INSURANCE CO  ...   \n",
       "6165339            TECHNOLOGY INSURANCE CO. INC.  ...   \n",
       "6165075            TECHNOLOGY INSURANCE CO. INC.  ...   \n",
       "\n",
       "                 WCIO Cause of Injury Code  \\\n",
       "Claim Identifier                             \n",
       "5393875                               27.0   \n",
       "5393091                               97.0   \n",
       "5393889                               79.0   \n",
       "5393887                               16.0   \n",
       "5393863                               31.0   \n",
       "...                                    ...   \n",
       "6165265                               45.0   \n",
       "6165285                               74.0   \n",
       "6165506                               98.0   \n",
       "6165339                               59.0   \n",
       "6165075                               25.0   \n",
       "\n",
       "                             WCIO Cause of Injury Description  \\\n",
       "Claim Identifier                                                \n",
       "5393875                          FROM LIQUID OR GREASE SPILLS   \n",
       "5393091                                     REPETITIVE MOTION   \n",
       "5393889                        OBJECT BEING LIFTED OR HANDLED   \n",
       "5393887                       HAND TOOL, UTENSIL; NOT POWERED   \n",
       "5393863                               FALL, SLIP OR TRIP, NOC   \n",
       "...                                                       ...   \n",
       "6165265           COLLISION OR SIDESWIPE WITH ANOTHER VEHICLE   \n",
       "6165285                FELLOW WORKER, PATIENT OR OTHER PERSON   \n",
       "6165506                                       CUMULATIVE, NOC   \n",
       "6165339                               USING TOOL OR MACHINERY   \n",
       "6165075                      FROM DIFFERENT LEVEL (ELEVATION)   \n",
       "\n",
       "                 WCIO Nature of Injury Code WCIO Nature of Injury Description  \\\n",
       "Claim Identifier                                                                \n",
       "5393875                                10.0                         CONTUSION   \n",
       "5393091                                49.0                    SPRAIN OR TEAR   \n",
       "5393889                                 7.0                        CONCUSSION   \n",
       "5393887                                43.0                          PUNCTURE   \n",
       "5393863                                10.0                         CONTUSION   \n",
       "...                                     ...                               ...   \n",
       "6165265                                10.0                         CONTUSION   \n",
       "6165285                                37.0                      INFLAMMATION   \n",
       "6165506                                80.0  ALL OTHER CUMULATIVE INJURY, NOC   \n",
       "6165339                                59.0  ALL OTHER SPECIFIC INJURIES, NOC   \n",
       "6165075                                90.0   MULTIPLE PHYSICAL INJURIES ONLY   \n",
       "\n",
       "                 WCIO Part Of Body Code WCIO Part Of Body Description  \\\n",
       "Claim Identifier                                                        \n",
       "5393875                            62.0                      BUTTOCKS   \n",
       "5393091                            38.0                   SHOULDER(S)   \n",
       "5393889                            10.0          MULTIPLE HEAD INJURY   \n",
       "5393887                            36.0                     FINGER(S)   \n",
       "5393863                            38.0                   SHOULDER(S)   \n",
       "...                                 ...                           ...   \n",
       "6165265                            42.0               LOWER BACK AREA   \n",
       "6165285                            35.0                          HAND   \n",
       "6165506                            34.0                         WRIST   \n",
       "6165339                            55.0                         ANKLE   \n",
       "6165075                            -9.0                      MULTIPLE   \n",
       "\n",
       "                 Zip Code  Agreement Reached      WCB Decision  \\\n",
       "Claim Identifier                                                 \n",
       "5393875             13662                0.0  Not Work Related   \n",
       "5393091             14569                1.0  Not Work Related   \n",
       "5393889             12589                0.0  Not Work Related   \n",
       "5393887             12603                0.0  Not Work Related   \n",
       "5393863             11772                0.0  Not Work Related   \n",
       "...                   ...                ...               ...   \n",
       "6165265             10467                0.0  Not Work Related   \n",
       "6165285             11590                0.0  Not Work Related   \n",
       "6165506             14227                0.0  Not Work Related   \n",
       "6165339             10029                0.0  Not Work Related   \n",
       "6165075             12779                0.0  Not Work Related   \n",
       "\n",
       "                 Number of Dependents  \n",
       "Claim Identifier                       \n",
       "5393875                           1.0  \n",
       "5393091                           4.0  \n",
       "5393889                           6.0  \n",
       "5393887                           1.0  \n",
       "5393863                           5.0  \n",
       "...                               ...  \n",
       "6165265                           4.0  \n",
       "6165285                           6.0  \n",
       "6165506                           3.0  \n",
       "6165339                           5.0  \n",
       "6165075                           3.0  \n",
       "\n",
       "[572324 rows x 31 columns]"
      ]
     },
     "execution_count": 1350,
     "metadata": {},
     "output_type": "execute_result"
    }
   ],
   "source": [
    "infer_age_at_injury(df_train, 'Age at Injury', 'Accident Date', 'Birth Year')\n",
    "infer_birth_year(df_train, 'Birth Year', 'Accident Date', 'Age at Injury')"
   ]
  },
  {
   "cell_type": "code",
   "execution_count": 1351,
   "metadata": {},
   "outputs": [
    {
     "name": "stdout",
     "output_type": "stream",
     "text": [
      "(84, 31)\n",
      "(1598, 31)\n"
     ]
    }
   ],
   "source": [
    "age_zero_df = df_train[(df_train['Birth Year'] != 0.0) & (df_train['Age at Injury'] == 0.0) & (df_train['Accident Date'].notnull())]\n",
    "birth_year_zero_df = df_train[(df_train['Birth Year'] == 0.0) & (df_train['Age at Injury'] != 0.0) & (df_train['Accident Date'].notnull())]\n",
    "\n",
    "idx = birth_year_zero_df.index\n",
    "\n",
    "print(age_zero_df.shape)\n",
    "print(birth_year_zero_df.shape)"
   ]
  },
  {
   "cell_type": "markdown",
   "metadata": {},
   "source": [
    "Not every value was filled in. We're fixing them after fixing missing values on Accident Date's rows."
   ]
  },
  {
   "cell_type": "markdown",
   "metadata": {},
   "source": [
    "### Average weekly wage"
   ]
  },
  {
   "cell_type": "code",
   "execution_count": 1352,
   "metadata": {},
   "outputs": [
    {
     "name": "stdout",
     "output_type": "stream",
     "text": [
      "0.00          335128\n",
      "13.94              1\n",
      "17.41              1\n",
      "23.27              1\n",
      "27.49              1\n",
      "               ...  \n",
      "1055027.00         1\n",
      "1227017.00         1\n",
      "1297304.00         1\n",
      "2659398.00         1\n",
      "2828079.00         1\n",
      "Name: Average Weekly Wage, Length: 119529, dtype: int64\n"
     ]
    }
   ],
   "source": [
    "#'Average Weekly Wage' value counts\n",
    "\n",
    "print(df_train['Average Weekly Wage'].value_counts().sort_index())"
   ]
  },
  {
   "cell_type": "code",
   "execution_count": 1353,
   "metadata": {},
   "outputs": [
    {
     "name": "stdout",
     "output_type": "stream",
     "text": [
      "28584\n"
     ]
    }
   ],
   "source": [
    "#'Average Weekly wage' nan's\n",
    "\n",
    "print(df_train['Average Weekly Wage'].isnull().sum())"
   ]
  },
  {
   "cell_type": "markdown",
   "metadata": {},
   "source": [
    "We're going to assume that the average weekly wage with 0 values is incorrectly imputed data or the people didn't want to disclose their wage. We're going to transform them into NaN values so that we can fill them later."
   ]
  },
  {
   "cell_type": "code",
   "execution_count": 1354,
   "metadata": {},
   "outputs": [],
   "source": [
    "# Transforming 0 values to NaN in Average Weekly Wage\n",
    "\n",
    "df_train['Average Weekly Wage'] = df_train['Average Weekly Wage'].replace(0.0, np.nan)"
   ]
  },
  {
   "cell_type": "code",
   "execution_count": 1355,
   "metadata": {},
   "outputs": [
    {
     "name": "stdout",
     "output_type": "stream",
     "text": [
      "363712\n"
     ]
    }
   ],
   "source": [
    "#'Average Weekly wage' nan's\n",
    "\n",
    "print(df_train['Average Weekly Wage'].isnull().sum())"
   ]
  },
  {
   "cell_type": "markdown",
   "metadata": {},
   "source": [
    "### WCIO Part of Body Code / Description"
   ]
  },
  {
   "cell_type": "code",
   "execution_count": 1356,
   "metadata": {},
   "outputs": [
    {
     "name": "stdout",
     "output_type": "stream",
     "text": [
      "-9.0     41736\n",
      " 10.0     7937\n",
      " 11.0     7903\n",
      " 12.0     1988\n",
      " 13.0     3677\n",
      " 14.0    12971\n",
      " 15.0     2087\n",
      " 16.0      803\n",
      " 17.0     1602\n",
      " 18.0    13758\n",
      " 19.0     3905\n",
      " 20.0     2846\n",
      " 21.0     1331\n",
      " 22.0     1098\n",
      " 23.0      477\n",
      " 24.0      141\n",
      " 25.0     5927\n",
      " 26.0       83\n",
      " 30.0     2621\n",
      " 31.0    11207\n",
      " 32.0     9883\n",
      " 33.0    15339\n",
      " 34.0    18584\n",
      " 35.0    31103\n",
      " 36.0    36074\n",
      " 37.0    12511\n",
      " 38.0    37717\n",
      " 39.0     2544\n",
      " 40.0     1749\n",
      " 41.0     8233\n",
      " 42.0    51822\n",
      " 43.0     1891\n",
      " 44.0     7643\n",
      " 45.0      402\n",
      " 46.0      740\n",
      " 47.0      401\n",
      " 48.0     3750\n",
      " 49.0      637\n",
      " 50.0     1926\n",
      " 51.0     6414\n",
      " 52.0     4294\n",
      " 53.0    47837\n",
      " 54.0    11617\n",
      " 55.0    24918\n",
      " 56.0    18707\n",
      " 57.0     2535\n",
      " 58.0     1806\n",
      " 60.0    13977\n",
      " 61.0     6763\n",
      " 62.0     1161\n",
      " 63.0     1997\n",
      " 64.0       53\n",
      " 65.0     5298\n",
      " 66.0     6096\n",
      " 90.0    22554\n",
      " 91.0    10937\n",
      " 99.0     1249\n",
      "Name: WCIO Part Of Body Code, dtype: int64\n"
     ]
    }
   ],
   "source": [
    "#Value counts for 'WCIO Part Of Body Code'\n",
    "\n",
    "print(df_train['WCIO Part Of Body Code'].value_counts().sort_index())"
   ]
  },
  {
   "cell_type": "code",
   "execution_count": 1357,
   "metadata": {},
   "outputs": [
    {
     "name": "stdout",
     "output_type": "stream",
     "text": [
      "2. NON-COMP        15291\n",
      "4. TEMPORARY       13450\n",
      "3. MED ONLY         7214\n",
      "5. PPD SCH LOSS     4941\n",
      "1. CANCELLED         532\n",
      "6. PPD NSL           295\n",
      "8. DEATH              12\n",
      "7. PTD                 1\n",
      "Name: Claim Injury Type, dtype: int64\n"
     ]
    }
   ],
   "source": [
    "#Check the 'Claim Injury Type' for the rows with 'WCIO Part Of Body Code' == -9.0\n",
    "\n",
    "wcio_part_of_body_code_minus_nine = df_train[df_train['WCIO Part Of Body Code'] == -9.0]\n",
    "\n",
    "print(wcio_part_of_body_code_minus_nine['Claim Injury Type'].value_counts())"
   ]
  },
  {
   "cell_type": "markdown",
   "metadata": {},
   "source": [
    "There is no part of the body code -9. The part of body code starts at 10. https://www.guarantysupport.com/wp-content/uploads/2024/02/WCIO-Legacy.pdf"
   ]
  },
  {
   "cell_type": "markdown",
   "metadata": {},
   "source": [
    "Since there are important label variables that are important on the -9.0 rows, we're going to leave them Nan so they can be processed later."
   ]
  },
  {
   "cell_type": "code",
   "execution_count": 1358,
   "metadata": {},
   "outputs": [],
   "source": [
    "#Transform -9.0 to NaN in 'WCIO Part Of Body Code'\n",
    "\n",
    "df_train['WCIO Part Of Body Code'] = df_train['WCIO Part Of Body Code'].replace(-9.0, np.nan)"
   ]
  },
  {
   "cell_type": "code",
   "execution_count": 1359,
   "metadata": {},
   "outputs": [
    {
     "name": "stdout",
     "output_type": "stream",
     "text": [
      "10.0     7937\n",
      "11.0     7903\n",
      "12.0     1988\n",
      "13.0     3677\n",
      "14.0    12971\n",
      "15.0     2087\n",
      "16.0      803\n",
      "17.0     1602\n",
      "18.0    13758\n",
      "19.0     3905\n",
      "20.0     2846\n",
      "21.0     1331\n",
      "22.0     1098\n",
      "23.0      477\n",
      "24.0      141\n",
      "25.0     5927\n",
      "26.0       83\n",
      "30.0     2621\n",
      "31.0    11207\n",
      "32.0     9883\n",
      "33.0    15339\n",
      "34.0    18584\n",
      "35.0    31103\n",
      "36.0    36074\n",
      "37.0    12511\n",
      "38.0    37717\n",
      "39.0     2544\n",
      "40.0     1749\n",
      "41.0     8233\n",
      "42.0    51822\n",
      "43.0     1891\n",
      "44.0     7643\n",
      "45.0      402\n",
      "46.0      740\n",
      "47.0      401\n",
      "48.0     3750\n",
      "49.0      637\n",
      "50.0     1926\n",
      "51.0     6414\n",
      "52.0     4294\n",
      "53.0    47837\n",
      "54.0    11617\n",
      "55.0    24918\n",
      "56.0    18707\n",
      "57.0     2535\n",
      "58.0     1806\n",
      "60.0    13977\n",
      "61.0     6763\n",
      "62.0     1161\n",
      "63.0     1997\n",
      "64.0       53\n",
      "65.0     5298\n",
      "66.0     6096\n",
      "90.0    22554\n",
      "91.0    10937\n",
      "99.0     1249\n",
      "Name: WCIO Part Of Body Code, dtype: int64\n"
     ]
    }
   ],
   "source": [
    "print(df_train['WCIO Part Of Body Code'].value_counts().sort_index())"
   ]
  },
  {
   "cell_type": "markdown",
   "metadata": {},
   "source": [
    "## Splitting the data into train and validation sets"
   ]
  },
  {
   "cell_type": "code",
   "execution_count": 1360,
   "metadata": {},
   "outputs": [],
   "source": [
    "# Do the train val split. Before I also have to drop the target variable from the train data\n",
    "\n",
    "X_train = df_train.drop(columns=['Claim Injury Type'])\n",
    "y = df_train['Claim Injury Type']\n",
    "X_train.drop(columns=['Agreement Reached', 'WCB Decision'], inplace=True)\n",
    "\n",
    "X_train, X_val, y_train, y_val = train_test_split(X_train, y, test_size=0.2, stratify=y, random_state=42)\n"
   ]
  },
  {
   "cell_type": "code",
   "execution_count": 1361,
   "metadata": {},
   "outputs": [
    {
     "data": {
      "text/plain": [
       "((457859, 28), (114465, 28), (457859,), (114465,))"
      ]
     },
     "execution_count": 1361,
     "metadata": {},
     "output_type": "execute_result"
    }
   ],
   "source": [
    "X_train.shape, X_val.shape, y_train.shape, y_val.shape"
   ]
  },
  {
   "cell_type": "code",
   "execution_count": 1362,
   "metadata": {},
   "outputs": [
    {
     "name": "stdout",
     "output_type": "stream",
     "text": [
      "Accident Date                          2975\n",
      "Age at Injury                             0\n",
      "Alternative Dispute Resolution            0\n",
      "Assembly Date                             0\n",
      "Attorney/Representative                   0\n",
      "Average Weekly Wage                  290989\n",
      "Birth Year                            23254\n",
      "C-2 Date                              11700\n",
      "C-3 Date                             309200\n",
      "Carrier Name                              0\n",
      "Carrier Type                              0\n",
      "County of Injury                          0\n",
      "COVID-19 Indicator                        0\n",
      "District Name                             0\n",
      "First Hearing Date                   338437\n",
      "Gender                                    0\n",
      "IME-4 Count                          352602\n",
      "Industry Code                          7964\n",
      "Industry Code Description              7964\n",
      "Medical Fee Region                        0\n",
      "WCIO Cause of Injury Code             12583\n",
      "WCIO Cause of Injury Description      12583\n",
      "WCIO Nature of Injury Code            12597\n",
      "WCIO Nature of Injury Description     12597\n",
      "WCIO Part Of Body Code                47116\n",
      "WCIO Part Of Body Description         13708\n",
      "Zip Code                              34656\n",
      "Number of Dependents                      0\n",
      "dtype: int64\n"
     ]
    }
   ],
   "source": [
    "print(X_train.isna().sum())"
   ]
  },
  {
   "cell_type": "code",
   "execution_count": 1363,
   "metadata": {},
   "outputs": [],
   "source": [
    "#!pip install dython"
   ]
  },
  {
   "cell_type": "code",
   "execution_count": 1364,
   "metadata": {},
   "outputs": [
    {
     "data": {
      "text/plain": [
       "Index(['Accident Date', 'Age at Injury', 'Alternative Dispute Resolution',\n",
       "       'Assembly Date', 'Attorney/Representative', 'Average Weekly Wage',\n",
       "       'Birth Year', 'C-2 Date', 'C-3 Date', 'Carrier Name', 'Carrier Type',\n",
       "       'County of Injury', 'COVID-19 Indicator', 'District Name',\n",
       "       'First Hearing Date', 'Gender', 'IME-4 Count', 'Industry Code',\n",
       "       'Industry Code Description', 'Medical Fee Region',\n",
       "       'WCIO Cause of Injury Code', 'WCIO Cause of Injury Description',\n",
       "       'WCIO Nature of Injury Code', 'WCIO Nature of Injury Description',\n",
       "       'WCIO Part Of Body Code', 'WCIO Part Of Body Description', 'Zip Code',\n",
       "       'Number of Dependents'],\n",
       "      dtype='object')"
      ]
     },
     "execution_count": 1364,
     "metadata": {},
     "output_type": "execute_result"
    }
   ],
   "source": [
    "X_train.columns"
   ]
  },
  {
   "cell_type": "code",
   "execution_count": 1365,
   "metadata": {},
   "outputs": [],
   "source": [
    "numeric_features = ['Age at Injury', 'Average Weekly Wage', 'Birth Year','Number of Dependents', 'IME-4 Count']\n",
    "                    \n",
    "categorical_features = ['Accident Date','Assembly Date','Carrier Name', 'Carrier Type', 'County of Injury','District Name', 'Industry Code', 'Industry Code Description', 'Medical Fee Region',\n",
    "                        'WCIO Cause of Injury Code', 'WCIO Cause of Injury Description','First Hearing Date','Gender',\n",
    "                        'WCIO Nature of Injury Code', 'WCIO Nature of Injury Description','C-2 Date', 'C-3 Date',\n",
    "                        'WCIO Part Of Body Code', 'WCIO Part Of Body Description', 'Zip Code']\n",
    "                        \n",
    "binary_features = ['Alternative Dispute Resolution', 'Attorney/Representative', 'COVID-19 Indicator']\n"
   ]
  },
  {
   "cell_type": "code",
   "execution_count": 1366,
   "metadata": {},
   "outputs": [],
   "source": [
    "#Apply a map function that transforms the binary features into 0 and 1\n",
    "\n",
    "def binary_map(x):\n",
    "    return x.map({'Y': 1, 'N': 0})\n",
    "\n",
    "X_train[binary_features] = X_train[binary_features].apply(binary_map)\n",
    "X_val[binary_features] = X_val[binary_features].apply(binary_map)\n",
    "df_test[binary_features] = df_test[binary_features].apply(binary_map)\n"
   ]
  },
  {
   "cell_type": "code",
   "execution_count": 1367,
   "metadata": {},
   "outputs": [],
   "source": [
    "#%pip install psutil"
   ]
  },
  {
   "cell_type": "code",
   "execution_count": 1368,
   "metadata": {},
   "outputs": [],
   "source": [
    "from dython.nominal import associations\n",
    "\n",
    "# Define the extracted date components\n",
    "date_columns = [\"Accident Date\", \"Assembly Date\", \"First Hearing Date\", \"C-2 Date\", \"C-3 Date\"]\n",
    "date_components = [f\"{col}_year\" for col in date_columns] + \\\n",
    "                [f\"{col}_month\" for col in date_columns] + \\\n",
    "                [f\"{col}_day\" for col in date_columns]\n",
    "\n",
    "# Convert date columns to datetime format\n",
    "for col in date_columns:\n",
    "    X_train[col] = pd.to_datetime(X_train[col], errors='coerce')\n",
    "\n",
    "# Extract year, month, and day from date columns\n",
    "for col in date_columns:\n",
    "    X_train[f\"{col}_year\"] = X_train[col].dt.year\n",
    "    X_train[f\"{col}_month\"] = X_train[col].dt.month\n",
    "    X_train[f\"{col}_day\"] = X_train[col].dt.day\n",
    "\n",
    "# Define the extracted date components\n",
    "date_components = [f\"{col}_year\" for col in date_columns] + \\\n",
    "                [f\"{col}_month\" for col in date_columns] + \\\n",
    "                [f\"{col}_day\" for col in date_columns]\n",
    "\n",
    "\n",
    "# # Combine all features\n",
    "# all_features = numeric_features + categorical_features + binary_features #+ date_components\n",
    "\n",
    "# # Ensure categorical features are set correctly\n",
    "# for col in categorical_features + binary_features:\n",
    "#     df_train[col] = df_train[col].astype('category')\n",
    "\n",
    "# # Run associations to calculate correlations\n",
    "# correlation_matrix = associations(\n",
    "#     df_train[all_features], \n",
    "#     nominal_columns=categorical_features + binary_features,  # Specify nominal columns\n",
    "#     plot=True  # Plot the heatmap\n",
    "# )\n",
    "\n",
    "# # Print correlation matrix\n",
    "# print(correlation_matrix)"
   ]
  },
  {
   "cell_type": "markdown",
   "metadata": {},
   "source": [
    "## Outlier Treatment"
   ]
  },
  {
   "cell_type": "code",
   "execution_count": 1369,
   "metadata": {},
   "outputs": [
    {
     "name": "stdout",
     "output_type": "stream",
     "text": [
      "The shape of X_train before outlier removal is:  (457859, 43)\n"
     ]
    }
   ],
   "source": [
    "#Shape before outlier removal\n",
    "\n",
    "print(\"The shape of X_train before outlier removal is: \", X_train.shape)"
   ]
  },
  {
   "cell_type": "markdown",
   "metadata": {},
   "source": [
    "### Accident Date"
   ]
  },
  {
   "cell_type": "code",
   "execution_count": 1370,
   "metadata": {},
   "outputs": [
    {
     "name": "stdout",
     "output_type": "stream",
     "text": [
      "2975\n"
     ]
    }
   ],
   "source": [
    "#Accident date missing values\n",
    "\n",
    "print(X_train['Accident Date'].isnull().sum())"
   ]
  },
  {
   "cell_type": "code",
   "execution_count": 1371,
   "metadata": {},
   "outputs": [
    {
     "name": "stdout",
     "output_type": "stream",
     "text": [
      "1961.0         1\n",
      "1966.0         2\n",
      "1967.0         3\n",
      "1969.0         2\n",
      "1970.0         1\n",
      "1971.0         2\n",
      "1972.0         4\n",
      "1973.0         7\n",
      "1974.0         5\n",
      "1975.0         7\n",
      "1976.0         1\n",
      "1977.0         6\n",
      "1978.0         6\n",
      "1979.0         3\n",
      "1980.0        11\n",
      "1981.0         7\n",
      "1982.0         9\n",
      "1983.0         8\n",
      "1984.0         9\n",
      "1985.0         6\n",
      "1986.0         5\n",
      "1987.0        13\n",
      "1988.0        33\n",
      "1989.0        31\n",
      "1990.0        37\n",
      "1991.0        41\n",
      "1992.0        54\n",
      "1993.0        39\n",
      "1994.0        55\n",
      "1995.0        62\n",
      "1996.0        81\n",
      "1997.0        93\n",
      "1998.0        85\n",
      "1999.0        85\n",
      "2000.0       129\n",
      "2001.0       399\n",
      "2002.0       114\n",
      "2003.0       107\n",
      "2004.0       139\n",
      "2005.0       116\n",
      "2006.0       122\n",
      "2007.0       138\n",
      "2008.0       165\n",
      "2009.0       156\n",
      "2010.0       187\n",
      "2011.0       227\n",
      "2012.0       205\n",
      "2013.0       246\n",
      "2014.0       196\n",
      "2015.0       233\n",
      "2016.0       262\n",
      "2017.0       330\n",
      "2018.0       980\n",
      "2019.0     11355\n",
      "2020.0    138547\n",
      "2021.0    151188\n",
      "2022.0    148529\n",
      "Name: Accident Date_year, dtype: int64\n"
     ]
    }
   ],
   "source": [
    "#Check the value counts for 'Accident Date_year'\n",
    "\n",
    "print(X_train['Accident Date_year'].value_counts().sort_index())"
   ]
  },
  {
   "cell_type": "code",
   "execution_count": 1372,
   "metadata": {},
   "outputs": [
    {
     "name": "stdout",
     "output_type": "stream",
     "text": [
      "4. TEMPORARY       1311\n",
      "2. NON-COMP         845\n",
      "1. CANCELLED        287\n",
      "3. MED ONLY         106\n",
      "5. PPD SCH LOSS      30\n",
      "6. PPD NSL            6\n",
      "7. PTD                1\n",
      "Name: Claim Injury Type, dtype: int64\n"
     ]
    }
   ],
   "source": [
    "#What are the 'Claim injury type' for the years between 1961 and 2010?\n",
    "\n",
    "year_range_df = X_train[(X_train['Accident Date_year'] >= 1961) & (X_train['Accident Date_year'] <= 2010)].index\n",
    "\n",
    "# Display the y data for the year_range_df\n",
    "\n",
    "print(y.loc[year_range_df].value_counts())"
   ]
  },
  {
   "cell_type": "code",
   "execution_count": 1373,
   "metadata": {},
   "outputs": [
    {
     "name": "stdout",
     "output_type": "stream",
     "text": [
      "4. TEMPORARY       1311\n",
      "2. NON-COMP         845\n",
      "1. CANCELLED        287\n",
      "3. MED ONLY         106\n",
      "5. PPD SCH LOSS      30\n",
      "6. PPD NSL            6\n",
      "7. PTD                1\n",
      "Name: Claim Injury Type, dtype: int64\n"
     ]
    }
   ],
   "source": [
    "accdate_idxs = X_train[X_train['Accident Date'].dt.year <= 2010].index\n",
    "\n",
    "# Check the 'Claim Injury Type' for the rows with 'Accident Date' >= 2010\n",
    "\n",
    "print(y.loc[accdate_idxs].value_counts())"
   ]
  },
  {
   "cell_type": "code",
   "execution_count": 1374,
   "metadata": {},
   "outputs": [],
   "source": [
    "# Extract the year from 'Accident Date' and drop rows where the year is before 2010\n",
    "X_train = X_train[(X_train['Accident Date'].dt.year >= 2010) | (X_train['Accident Date'].isnull())]\n",
    "y_train = y_train.loc[X_train.index]\n",
    "\n",
    "#Drop with the same logic in validation set\n",
    "X_val = X_val[(X_val['Accident Date'].dt.year >= 2010) | (X_val['Accident Date'].isnull())]\n",
    "y_val = y_val.loc[X_val.index]"
   ]
  },
  {
   "cell_type": "code",
   "execution_count": 1375,
   "metadata": {},
   "outputs": [
    {
     "name": "stdout",
     "output_type": "stream",
     "text": [
      "The shape of X_train after Accident Date outlier removal is:  (455460, 43)\n"
     ]
    }
   ],
   "source": [
    "#Shape\n",
    "\n",
    "print(\"The shape of X_train after Accident Date outlier removal is: \", X_train.shape)"
   ]
  },
  {
   "cell_type": "code",
   "execution_count": 1376,
   "metadata": {},
   "outputs": [
    {
     "name": "stdout",
     "output_type": "stream",
     "text": [
      "2975\n"
     ]
    }
   ],
   "source": [
    "#Accident date nan's\n",
    "\n",
    "print(X_train['Accident Date'].isnull().sum())"
   ]
  },
  {
   "cell_type": "markdown",
   "metadata": {},
   "source": [
    "### Age at injury"
   ]
  },
  {
   "cell_type": "code",
   "execution_count": 1377,
   "metadata": {},
   "outputs": [
    {
     "name": "stdout",
     "output_type": "stream",
     "text": [
      "0.0       3036\n",
      "1.0          1\n",
      "7.0          1\n",
      "8.0          4\n",
      "9.0          3\n",
      "          ... \n",
      "2018.0      40\n",
      "2019.0     117\n",
      "2020.0     438\n",
      "2021.0     314\n",
      "2022.0     209\n",
      "Name: Age at Injury, Length: 123, dtype: int64\n"
     ]
    }
   ],
   "source": [
    "#Value counts for 'Age at injury'\n",
    "\n",
    "print(X_train['Age at Injury'].value_counts().sort_index())"
   ]
  },
  {
   "cell_type": "markdown",
   "metadata": {},
   "source": [
    "Let's assume people only work between 16 and 70 years old. Let's analyze these rows to maybe drop the rows that are outside this range."
   ]
  },
  {
   "cell_type": "code",
   "execution_count": 1378,
   "metadata": {},
   "outputs": [
    {
     "name": "stdout",
     "output_type": "stream",
     "text": [
      "(9998, 43)\n"
     ]
    }
   ],
   "source": [
    "# Check how many rows are oustide of the 16-70 range\n",
    "\n",
    "age_outliers_train = X_train[(X_train['Age at Injury'] < 16) | (X_train['Age at Injury'] > 70)]\n",
    "age_outliers_val = X_val[(X_val['Age at Injury'] < 16) | (X_val['Age at Injury'] > 70)]\n",
    "\n",
    "print(age_outliers_train.shape)"
   ]
  },
  {
   "cell_type": "code",
   "execution_count": 1379,
   "metadata": {},
   "outputs": [
    {
     "name": "stdout",
     "output_type": "stream",
     "text": [
      "2. NON-COMP        232016\n",
      "4. TEMPORARY       117298\n",
      "3. MED ONLY         54712\n",
      "5. PPD SCH LOSS     37931\n",
      "1. CANCELLED         9704\n",
      "6. PPD NSL           3350\n",
      "8. DEATH              375\n",
      "7. PTD                 74\n",
      "Name: Claim Injury Type, dtype: int64\n"
     ]
    }
   ],
   "source": [
    "# y value counts\n",
    "\n",
    "print(y_train.value_counts())"
   ]
  },
  {
   "cell_type": "code",
   "execution_count": 1380,
   "metadata": {},
   "outputs": [
    {
     "name": "stdout",
     "output_type": "stream",
     "text": [
      "2. NON-COMP        5230\n",
      "4. TEMPORARY       1870\n",
      "1. CANCELLED       1454\n",
      "3. MED ONLY         867\n",
      "5. PPD SCH LOSS     468\n",
      "6. PPD NSL           53\n",
      "8. DEATH             51\n",
      "7. PTD                5\n",
      "Name: Claim Injury Type, dtype: int64\n"
     ]
    }
   ],
   "source": [
    "#What are the 'Claim injury type' for the rows that are outside of the 16-70 range?\n",
    "\n",
    "print(y_train.loc[age_outliers_train.index].value_counts())"
   ]
  },
  {
   "cell_type": "markdown",
   "metadata": {},
   "source": [
    "As they are a lot of rows for Death and PTD let's analyze them separately from the rest of the target variable values"
   ]
  },
  {
   "cell_type": "code",
   "execution_count": 1381,
   "metadata": {},
   "outputs": [
    {
     "name": "stdout",
     "output_type": "stream",
     "text": [
      "8.0       1\n",
      "71.0      3\n",
      "72.0      9\n",
      "73.0      5\n",
      "74.0      2\n",
      "75.0      1\n",
      "76.0      6\n",
      "77.0      3\n",
      "78.0      2\n",
      "79.0      2\n",
      "80.0      2\n",
      "81.0      3\n",
      "82.0      2\n",
      "83.0      2\n",
      "84.0      3\n",
      "85.0      2\n",
      "89.0      1\n",
      "2018.0    1\n",
      "2020.0    1\n",
      "Name: Age at Injury, dtype: int64\n"
     ]
    }
   ],
   "source": [
    "#Check the age_outliers rows where 'Claim Injury Type' is 'Death'.\n",
    "#We can only have access to the 'Claim Injury Type' through the y variable but it has the same index as the X_train\n",
    "#so we can use the index from age_outliers to get the 'Claim Injury Type' from y and check those rows in X_train\n",
    "\n",
    "#Get the indexes of '6. Death' in y and '7. PTD' in y\n",
    "\n",
    "death_indexes = y_train[y_train == '8. DEATH'].index\n",
    "ptd_indexes = y_train[y_train == '7. PTD'].index\n",
    "\n",
    "\n",
    "\n",
    "#Get the rows in X_train that are in the death_indexes and age_outliers indexes\n",
    "\n",
    "death_age_outliers = X_train.loc[death_indexes.intersection(age_outliers_train.index)]\n",
    "\n",
    "#Age at injury value counts for the death_age_outliers\n",
    "\n",
    "print(death_age_outliers['Age at Injury'].value_counts().sort_index())"
   ]
  },
  {
   "cell_type": "code",
   "execution_count": 1382,
   "metadata": {},
   "outputs": [
    {
     "name": "stdout",
     "output_type": "stream",
     "text": [
      "71.0    1\n",
      "72.0    1\n",
      "76.0    2\n",
      "77.0    1\n",
      "Name: Age at Injury, dtype: int64\n"
     ]
    }
   ],
   "source": [
    "#Lets do the same for the '7. PTD' rows\n",
    "\n",
    "ptd_age_outliers = X_train.loc[ptd_indexes.intersection(age_outliers_train.index)]\n",
    "\n",
    "#Age at injury value counts for the ptd_age_outliers\n",
    "\n",
    "print(ptd_age_outliers['Age at Injury'].value_counts().sort_index())"
   ]
  },
  {
   "cell_type": "markdown",
   "metadata": {},
   "source": [
    "Let's increase the range until 80 years old so we lose fewer death and PTD rows."
   ]
  },
  {
   "cell_type": "code",
   "execution_count": 1383,
   "metadata": {},
   "outputs": [
    {
     "name": "stdout",
     "output_type": "stream",
     "text": [
      "The shape of X_train after Age at Injury outlier removal is:  (455460, 43)\n"
     ]
    }
   ],
   "source": [
    "age_outliers_train = X_train[((X_train['Age at Injury'] >= 16) & (X_train['Age at Injury'] <= 80)) | (X_train['Age at Injury'].isnull())]\n",
    "age_outliers_val = X_val[((X_val['Age at Injury'] >= 16) & (X_val['Age at Injury'] <= 80)) | (X_val['Age at Injury'].isnull())]\n",
    "\n",
    "print(\"The shape of X_train after Age at Injury outlier removal is: \", X_train.shape)"
   ]
  },
  {
   "cell_type": "code",
   "execution_count": 1384,
   "metadata": {},
   "outputs": [
    {
     "name": "stdout",
     "output_type": "stream",
     "text": [
      "2. NON-COMP        229206\n",
      "4. TEMPORARY       116760\n",
      "3. MED ONLY         54422\n",
      "5. PPD SCH LOSS     37881\n",
      "1. CANCELLED         8333\n",
      "6. PPD NSL           3343\n",
      "8. DEATH              359\n",
      "7. PTD                 74\n",
      "Name: Claim Injury Type, dtype: int64\n"
     ]
    }
   ],
   "source": [
    "#lets check the 'Claim Injury Type' for the rows that are outside of the 16-80 range\n",
    "\n",
    "print(y_train.loc[age_outliers_train.index].value_counts())"
   ]
  },
  {
   "cell_type": "markdown",
   "metadata": {},
   "source": [
    "Let's filter it like that"
   ]
  },
  {
   "cell_type": "code",
   "execution_count": 1385,
   "metadata": {},
   "outputs": [],
   "source": [
    "#Filter the rows that are outside of the 16-80 range\n",
    "\n",
    "X_train = X_train[X_train.index.isin(age_outliers_train.index)]\n",
    "y_train = y_train.loc[X_train.index]\n",
    "\n",
    "#Drop with the same logic in validation set\n",
    "X_val = X_val[X_val.index.isin(age_outliers_val.index)]\n",
    "y_val = y_val.loc[X_val.index]"
   ]
  },
  {
   "cell_type": "code",
   "execution_count": 1386,
   "metadata": {},
   "outputs": [
    {
     "name": "stdout",
     "output_type": "stream",
     "text": [
      "The shape of X_train after Age at Injury outlier removal is:  (450378, 43)\n"
     ]
    }
   ],
   "source": [
    "#Shape \n",
    "\n",
    "print(\"The shape of X_train after Age at Injury outlier removal is: \", X_train.shape)"
   ]
  },
  {
   "cell_type": "markdown",
   "metadata": {},
   "source": [
    "### Assembly Date"
   ]
  },
  {
   "cell_type": "code",
   "execution_count": 1387,
   "metadata": {},
   "outputs": [
    {
     "name": "stdout",
     "output_type": "stream",
     "text": [
      "2020-01-01    107\n",
      "2020-01-02    410\n",
      "2020-01-03    640\n",
      "2020-01-06    624\n",
      "2020-01-07    607\n",
      "             ... \n",
      "2022-12-27    479\n",
      "2022-12-28    522\n",
      "2022-12-29    500\n",
      "2022-12-30    482\n",
      "2022-12-31      4\n",
      "Name: Assembly Date, Length: 891, dtype: int64\n"
     ]
    }
   ],
   "source": [
    "#Assembly date value counts\n",
    "\n",
    "print(X_train['Assembly Date'].value_counts().sort_index())"
   ]
  },
  {
   "cell_type": "code",
   "execution_count": 1388,
   "metadata": {},
   "outputs": [
    {
     "name": "stdout",
     "output_type": "stream",
     "text": [
      "The shape of X_train before Assembly Date outlier removal is:  (450378, 43)\n"
     ]
    }
   ],
   "source": [
    "#Check for shape \n",
    "\n",
    "print(\"The shape of X_train before Assembly Date outlier removal is: \", X_train.shape)"
   ]
  },
  {
   "cell_type": "markdown",
   "metadata": {},
   "source": [
    "Not removing any rows because they are recent."
   ]
  },
  {
   "cell_type": "markdown",
   "metadata": {},
   "source": [
    "### Average Weekly Wage"
   ]
  },
  {
   "cell_type": "code",
   "execution_count": 1389,
   "metadata": {},
   "outputs": [
    {
     "name": "stdout",
     "output_type": "stream",
     "text": [
      "13.94         1\n",
      "17.41         1\n",
      "27.49         1\n",
      "30.88         1\n",
      "32.00         1\n",
      "             ..\n",
      "266855.00     1\n",
      "315528.00     1\n",
      "360000.00     1\n",
      "1055027.00    1\n",
      "1297304.00    1\n",
      "Name: Average Weekly Wage, Length: 102221, dtype: int64\n"
     ]
    }
   ],
   "source": [
    "#Average Weekly Wage value counts\n",
    "\n",
    "print(X_train['Average Weekly Wage'].value_counts().sort_index())"
   ]
  },
  {
   "cell_type": "code",
   "execution_count": 1390,
   "metadata": {},
   "outputs": [
    {
     "data": {
      "image/png": "[encoded data removed]",
      "text/plain": [
       "<Figure size 1000x600 with 1 Axes>"
      ]
     },
     "metadata": {},
     "output_type": "display_data"
    }
   ],
   "source": [
    "#boxplot the feature 'Average Weekly Wage'\n",
    "\n",
    "plt.figure(figsize=(10, 6))\n",
    "sns.boxplot(x='Average Weekly Wage', data=X_train)\n",
    "plt.title('Boxplot of Average Weekly Wage')\n",
    "plt.show()\n",
    "\n"
   ]
  },
  {
   "cell_type": "markdown",
   "metadata": {},
   "source": [
    "Let's do the IQR Method and check what rows are removed."
   ]
  },
  {
   "cell_type": "code",
   "execution_count": 1391,
   "metadata": {},
   "outputs": [
    {
     "name": "stdout",
     "output_type": "stream",
     "text": [
      "(4799, 43)\n"
     ]
    }
   ],
   "source": [
    "#Let's apply the IQR method to remove the outliers from 'Average Weekly Wage'\n",
    "\n",
    "Q1 = X_train['Average Weekly Wage'].quantile(0.25)\n",
    "Q3 = X_train['Average Weekly Wage'].quantile(0.75)\n",
    "IQR = Q3 - Q1\n",
    "\n",
    "#Filter the rows that are outside of the IQR range\n",
    "\n",
    "wage_outliers_train = X_train[(X_train['Average Weekly Wage'] < (Q1 - 1.5 * IQR)) | (X_train['Average Weekly Wage'] > (Q3 + 1.5 * IQR))]\n",
    "\n",
    "#Do the same for the validation set\n",
    "#Using the train set Q1, Q3 and IQR to avoid data leakage\n",
    "wage_outliers_val = X_val[(X_val['Average Weekly Wage'] < (Q1 - 1.5 * IQR)) | (X_val['Average Weekly Wage'] > (Q3 + 1.5 * IQR))]\n",
    "\n",
    "print(wage_outliers_train.shape)"
   ]
  },
  {
   "cell_type": "code",
   "execution_count": 1392,
   "metadata": {},
   "outputs": [
    {
     "name": "stdout",
     "output_type": "stream",
     "text": [
      "4. TEMPORARY       2577\n",
      "5. PPD SCH LOSS    1389\n",
      "3. MED ONLY         723\n",
      "6. PPD NSL           88\n",
      "2. NON-COMP          11\n",
      "8. DEATH              6\n",
      "7. PTD                4\n",
      "1. CANCELLED          1\n",
      "Name: Claim Injury Type, dtype: int64\n"
     ]
    }
   ],
   "source": [
    "#Check the 'Claim Injury Type' for the wage_outliers\n",
    "\n",
    "print(y_train.loc[wage_outliers_train.index].value_counts())\n"
   ]
  },
  {
   "cell_type": "markdown",
   "metadata": {},
   "source": [
    "Since the target variable the IQR method's doesn't have an high impact on the target variable, we are going to remove the rows that are outside the IQR range."
   ]
  },
  {
   "cell_type": "code",
   "execution_count": 1393,
   "metadata": {},
   "outputs": [
    {
     "name": "stdout",
     "output_type": "stream",
     "text": [
      "The shape of X_train after Average Weekly Wage outlier removal is:  (445579, 43)\n"
     ]
    }
   ],
   "source": [
    "#Filter out the wage_outliers on X_train\n",
    "\n",
    "X_train = X_train[~X_train.index.isin(wage_outliers_train.index)]\n",
    "y_train = y_train.loc[X_train.index]\n",
    "\n",
    "#Drop with the same logic in validation set\n",
    "\n",
    "X_val = X_val[~X_val.index.isin(wage_outliers_val.index)]\n",
    "y_val = y_val.loc[X_val.index]\n",
    "\n",
    "print(\"The shape of X_train after Average Weekly Wage outlier removal is: \", X_train.shape)"
   ]
  },
  {
   "cell_type": "markdown",
   "metadata": {},
   "source": [
    "### Birth Year"
   ]
  },
  {
   "cell_type": "code",
   "execution_count": 1394,
   "metadata": {},
   "outputs": [
    {
     "name": "stdout",
     "output_type": "stream",
     "text": [
      "1937.0       1\n",
      "1938.0       4\n",
      "1939.0      30\n",
      "1940.0      57\n",
      "1941.0     151\n",
      "          ... \n",
      "2002.0    3778\n",
      "2003.0    2141\n",
      "2004.0     926\n",
      "2005.0     300\n",
      "2006.0      53\n",
      "Name: Birth Year, Length: 70, dtype: int64\n"
     ]
    }
   ],
   "source": [
    "#Birth Year value counts\n",
    "\n",
    "print(X_train['Birth Year'].value_counts().sort_index())"
   ]
  },
  {
   "cell_type": "code",
   "execution_count": 1395,
   "metadata": {},
   "outputs": [
    {
     "name": "stdout",
     "output_type": "stream",
     "text": [
      "(445579, 43) (445579,)\n"
     ]
    }
   ],
   "source": [
    "#Check for shape of x_train and y_train\n",
    "\n",
    "print(X_train.shape, y_train.shape)"
   ]
  },
  {
   "cell_type": "markdown",
   "metadata": {},
   "source": [
    "### C-2 Date"
   ]
  },
  {
   "cell_type": "markdown",
   "metadata": {},
   "source": [
    "We've already checked for data inconsistencies before splitting the data and we've already set the threshold for accident dates. Let's check if we need to drop something."
   ]
  },
  {
   "cell_type": "code",
   "execution_count": 1396,
   "metadata": {},
   "outputs": [
    {
     "name": "stdout",
     "output_type": "stream",
     "text": [
      "2010-01-12    1\n",
      "2010-01-15    1\n",
      "2010-01-25    1\n",
      "2010-01-27    1\n",
      "2010-01-28    1\n",
      "             ..\n",
      "2024-05-13    1\n",
      "2024-05-15    1\n",
      "2024-05-17    1\n",
      "2024-05-31    1\n",
      "2024-06-01    1\n",
      "Name: C-2 Date, Length: 1736, dtype: int64\n"
     ]
    }
   ],
   "source": [
    "#Value counts for 'C-2 Date'\n",
    "\n",
    "print(X_train['C-2 Date'].value_counts().sort_index())"
   ]
  },
  {
   "cell_type": "markdown",
   "metadata": {},
   "source": [
    "No rows dropped."
   ]
  },
  {
   "cell_type": "code",
   "execution_count": 1397,
   "metadata": {},
   "outputs": [
    {
     "name": "stdout",
     "output_type": "stream",
     "text": [
      "The shape of X_train before C-2 Date outlier removal is:  (445579, 43)\n"
     ]
    }
   ],
   "source": [
    "#Check for shape \n",
    "\n",
    "print(\"The shape of X_train before C-2 Date outlier removal is: \", X_train.shape)"
   ]
  },
  {
   "cell_type": "markdown",
   "metadata": {},
   "source": [
    "### C-3 Date"
   ]
  },
  {
   "cell_type": "markdown",
   "metadata": {},
   "source": [
    "Same as 'C-2 Date'"
   ]
  },
  {
   "cell_type": "code",
   "execution_count": 1398,
   "metadata": {},
   "outputs": [
    {
     "name": "stdout",
     "output_type": "stream",
     "text": [
      "2010-08-27    1\n",
      "2011-03-03    1\n",
      "2011-05-26    1\n",
      "2012-07-12    1\n",
      "2012-11-02    1\n",
      "             ..\n",
      "2024-05-24    7\n",
      "2024-05-28    7\n",
      "2024-05-29    2\n",
      "2024-05-30    3\n",
      "2024-05-31    1\n",
      "Name: C-3 Date, Length: 1603, dtype: int64\n"
     ]
    }
   ],
   "source": [
    "#Value counts for 'C-3 Date'\n",
    "\n",
    "print(X_train['C-3 Date'].value_counts().sort_index())"
   ]
  },
  {
   "cell_type": "markdown",
   "metadata": {},
   "source": [
    "No rows dropped."
   ]
  },
  {
   "cell_type": "markdown",
   "metadata": {},
   "source": [
    "### Carrier Name"
   ]
  },
  {
   "cell_type": "code",
   "execution_count": 1399,
   "metadata": {},
   "outputs": [
    {
     "name": "stdout",
     "output_type": "stream",
     "text": [
      "STATE INSURANCE FUND            86777\n",
      "POLICE, FIRE, SANITATION        16596\n",
      "AMERICAN ZURICH INSURANCE CO    13737\n",
      "CHARTER OAK FIRE INS CO         13426\n",
      "INDEMNITY INS. OF N AMERICA     11379\n",
      "                                ...  \n",
      "CASTLEPOINT NATIONAL INS CO         1\n",
      "WAUSAU UNDERWRITERS INS CO          1\n",
      "UNITED STATES FID & GUAR CO         1\n",
      "EAST HAMPTON UNION FREE             1\n",
      "FORT EDWARD UFSD                    1\n",
      "Name: Carrier Name, Length: 1432, dtype: int64\n"
     ]
    }
   ],
   "source": [
    "#Value counts for 'Carrier Name'\n",
    "\n",
    "print(X_train['Carrier Name'].value_counts())"
   ]
  },
  {
   "cell_type": "code",
   "execution_count": 1400,
   "metadata": {},
   "outputs": [
    {
     "data": {
      "text/plain": [
       "UNION SPRINGS CSD                 10\n",
       "ACE PROPERTY & CASUALTY INS CO    10\n",
       "WHITESBORO CSD                    10\n",
       "MIDWEST EMPLOYERS CASUALTY CO     10\n",
       "BRADFORD CENTRAL SCHOOL           10\n",
       "                                  ..\n",
       "CASTLEPOINT NATIONAL INS CO        1\n",
       "WAUSAU UNDERWRITERS INS CO         1\n",
       "UNITED STATES FID & GUAR CO        1\n",
       "EAST HAMPTON UNION FREE            1\n",
       "FORT EDWARD UFSD                   1\n",
       "Name: Carrier Name, Length: 515, dtype: int64"
      ]
     },
     "execution_count": 1400,
     "metadata": {},
     "output_type": "execute_result"
    }
   ],
   "source": [
    "#Check values for 'Carrier Name' that have more than 5 counts\n",
    "\n",
    "carrier_counts = X_train['Carrier Name'].value_counts()\n",
    "carrier_counts[carrier_counts <= 10]\n",
    "\n",
    "\n",
    "\n",
    "#Check the 'Claim Injury Type' for the 'Carrier Name' that have less or equal than 5 counts\n",
    "\n",
    "# carrier_outliers = X_train[X_train['Carrier Name'].isin(carrier_counts[carrier_counts <= 15].index)]\n",
    "\n",
    "# print(y_train.loc[carrier_outliers.index].value_counts())"
   ]
  },
  {
   "cell_type": "markdown",
   "metadata": {},
   "source": [
    "If we were to use only OHE in encoding we might have dropped these rows to reduce the cardinality of this feature. But since we are using Frequency Encoding for high cardinality, we are not going to drop any rows."
   ]
  },
  {
   "cell_type": "markdown",
   "metadata": {},
   "source": [
    "### Carrier Type"
   ]
  },
  {
   "cell_type": "code",
   "execution_count": 1401,
   "metadata": {},
   "outputs": [
    {
     "name": "stdout",
     "output_type": "stream",
     "text": [
      "1A. PRIVATE                                    222413\n",
      "3A. SELF PUBLIC                                 92954\n",
      "2A. SIF                                         86777\n",
      "4A. SELF PRIVATE                                41440\n",
      "UNKNOWN                                          1218\n",
      "5D. SPECIAL FUND - UNKNOWN                        774\n",
      "5C. SPECIAL FUND - POI CARRIER WCB MENANDS          2\n",
      "5A. SPECIAL FUND - CONS. COMM. (SECT. 25-A)         1\n",
      "Name: Carrier Type, dtype: int64\n"
     ]
    }
   ],
   "source": [
    "#Carrier Type value counts\n",
    "\n",
    "print(X_train['Carrier Type'].value_counts())"
   ]
  },
  {
   "cell_type": "markdown",
   "metadata": {},
   "source": [
    "We're going to transform the 'Unknown' values into NaN values so that we can fill them later."
   ]
  },
  {
   "cell_type": "code",
   "execution_count": 1402,
   "metadata": {},
   "outputs": [],
   "source": [
    "#Transform the 'Carrier Type' 'Unknown' to NaN\n",
    "\n",
    "X_train['Carrier Type'] = X_train['Carrier Type'].replace('Unknown', np.nan)\n",
    "\n",
    "#Do the same for the validation set\n",
    "\n",
    "X_val['Carrier Type'] = X_val['Carrier Type'].replace('Unknown', np.nan)"
   ]
  },
  {
   "cell_type": "code",
   "execution_count": 1403,
   "metadata": {},
   "outputs": [
    {
     "name": "stdout",
     "output_type": "stream",
     "text": [
      "0\n"
     ]
    }
   ],
   "source": [
    "#Check for missing values in 'Carrier Type'\n",
    "\n",
    "print(X_train['Carrier Type'].isnull().sum())"
   ]
  },
  {
   "cell_type": "markdown",
   "metadata": {},
   "source": [
    "### County of Injury"
   ]
  },
  {
   "cell_type": "code",
   "execution_count": 1404,
   "metadata": {},
   "outputs": [
    {
     "name": "stdout",
     "output_type": "stream",
     "text": [
      "HAMILTON        108\n",
      "YATES           304\n",
      "SCHOHARIE       428\n",
      "MONTGOMERY      480\n",
      "WYOMING         620\n",
      "              ...  \n",
      "BRONX         31155\n",
      "NASSAU        33135\n",
      "KINGS         41417\n",
      "QUEENS        45273\n",
      "SUFFOLK       46014\n",
      "Name: County of Injury, Length: 63, dtype: int64\n"
     ]
    }
   ],
   "source": [
    "#County of Injury value counts\n",
    "\n",
    "print(X_train['County of Injury'].value_counts().sort_values())"
   ]
  },
  {
   "cell_type": "markdown",
   "metadata": {},
   "source": [
    "Since the county with the least number of occurrences has 108 occurrences, we are not going to drop any rows."
   ]
  },
  {
   "cell_type": "markdown",
   "metadata": {},
   "source": [
    "### District Name"
   ]
  },
  {
   "cell_type": "code",
   "execution_count": 1405,
   "metadata": {},
   "outputs": [
    {
     "name": "stdout",
     "output_type": "stream",
     "text": [
      "STATEWIDE       2824\n",
      "BINGHAMTON     17108\n",
      "ROCHESTER      31810\n",
      "SYRACUSE       34900\n",
      "BUFFALO        35662\n",
      "HAUPPAUGE      46089\n",
      "ALBANY         67605\n",
      "NYC           209581\n",
      "Name: District Name, dtype: int64\n"
     ]
    }
   ],
   "source": [
    "#District Name value counts\n",
    "\n",
    "print(X_train['District Name'].value_counts().sort_values())"
   ]
  },
  {
   "cell_type": "markdown",
   "metadata": {},
   "source": [
    "Since there district with the least number of occurrences has 2824 occurrences, we are not going to drop any rows because thats a significant amount of data."
   ]
  },
  {
   "cell_type": "markdown",
   "metadata": {},
   "source": [
    "### First Hearing Date"
   ]
  },
  {
   "cell_type": "code",
   "execution_count": 1406,
   "metadata": {},
   "outputs": [
    {
     "name": "stdout",
     "output_type": "stream",
     "text": [
      "2020-01-31      1\n",
      "2024-01-08      2\n",
      "2020-01-30      2\n",
      "2020-09-17      2\n",
      "2020-06-23      2\n",
      "             ... \n",
      "2021-05-25    288\n",
      "2020-12-21    299\n",
      "2022-01-20    306\n",
      "2022-04-15    319\n",
      "2022-02-15    328\n",
      "Name: First Hearing Date, Length: 1091, dtype: int64\n"
     ]
    }
   ],
   "source": [
    "#First Hearing Date value counts\n",
    "\n",
    "print(X_train['First Hearing Date'].value_counts().sort_values())"
   ]
  },
  {
   "cell_type": "markdown",
   "metadata": {},
   "source": [
    "Since we already checked for data inconsistencies before splitting the data, we are not going to drop any rows here."
   ]
  },
  {
   "cell_type": "markdown",
   "metadata": {},
   "source": [
    "### Gender"
   ]
  },
  {
   "cell_type": "code",
   "execution_count": 1407,
   "metadata": {},
   "outputs": [
    {
     "name": "stdout",
     "output_type": "stream",
     "text": [
      "M    258266\n",
      "F    183704\n",
      "U      3576\n",
      "X        33\n",
      "Name: Gender, dtype: int64\n"
     ]
    }
   ],
   "source": [
    "#Gender value counts\n",
    "\n",
    "print(X_train['Gender'].value_counts())"
   ]
  },
  {
   "cell_type": "code",
   "execution_count": 1408,
   "metadata": {},
   "outputs": [
    {
     "name": "stdout",
     "output_type": "stream",
     "text": [
      "2. NON-COMP        2404\n",
      "4. TEMPORARY        560\n",
      "3. MED ONLY         363\n",
      "5. PPD SCH LOSS     131\n",
      "1. CANCELLED        106\n",
      "6. PPD NSL           12\n",
      "Name: Claim Injury Type, dtype: int64\n"
     ]
    }
   ],
   "source": [
    "#Check what the indexes of 'U' and 'X' are on the target variable\n",
    "\n",
    "u_indexes_train = X_train[X_train['Gender'] == 'U'].index\n",
    "x_indexes_train = X_train[X_train['Gender'] == 'X'].index\n",
    "\n",
    "u_indexes_val = X_val[X_val['Gender'] == 'U'].index\n",
    "x_indexes_val = X_val[X_val['Gender'] == 'X'].index\n",
    "\n",
    "\n",
    "\n",
    "u_rows = y_train.loc[u_indexes_train]\n",
    "#value counts for the u_rows\n",
    "print(u_rows.value_counts())"
   ]
  },
  {
   "cell_type": "code",
   "execution_count": 1409,
   "metadata": {},
   "outputs": [
    {
     "name": "stdout",
     "output_type": "stream",
     "text": [
      "3. MED ONLY        14\n",
      "2. NON-COMP         8\n",
      "4. TEMPORARY        5\n",
      "5. PPD SCH LOSS     4\n",
      "1. CANCELLED        2\n",
      "Name: Claim Injury Type, dtype: int64\n"
     ]
    }
   ],
   "source": [
    "#Do the same for the 'X' indexes\n",
    "x_rows_train = y_train.loc[x_indexes_train]\n",
    "\n",
    "x_rows_val = y_val\n",
    "\n",
    "#value counts for the x_rows\n",
    "print(x_rows_train.value_counts())"
   ]
  },
  {
   "cell_type": "markdown",
   "metadata": {},
   "source": [
    "We can see that none of the most critical target variables have a significant amount of rows in 'X' and 'U'"
   ]
  },
  {
   "cell_type": "code",
   "execution_count": 1410,
   "metadata": {},
   "outputs": [],
   "source": [
    "#Filter the rows that are 'U' and 'X' \n",
    "\n",
    "X_train = X_train[~X_train.index.isin(u_indexes_train)]\n",
    "X_train = X_train[~X_train.index.isin(x_indexes_train)]\n",
    "y_train = y_train.loc[X_train.index]\n",
    "\n",
    "#Drop with the same logic in validation set\n",
    "\n",
    "X_val = X_val[~X_val.index.isin(u_indexes_val)]\n",
    "X_val = X_val[~X_val.index.isin(x_indexes_val)]\n",
    "y_val = y_val.loc[X_val.index]\n",
    "\n"
   ]
  },
  {
   "cell_type": "code",
   "execution_count": 1411,
   "metadata": {},
   "outputs": [
    {
     "name": "stdout",
     "output_type": "stream",
     "text": [
      "The shape of X_train after outlier removal is:  (441970, 43)\n"
     ]
    }
   ],
   "source": [
    "print(\"The shape of X_train after outlier removal is: \", X_train.shape)"
   ]
  },
  {
   "cell_type": "markdown",
   "metadata": {},
   "source": [
    "Transform the feature into binary"
   ]
  },
  {
   "cell_type": "code",
   "execution_count": 1412,
   "metadata": {},
   "outputs": [],
   "source": [
    "X_train['Gender'] = X_train['Gender'].map({'M': 1, 'F': 0})\n",
    "X_val['Gender'] = X_val['Gender'].map({'M': 1, 'F': 0})"
   ]
  },
  {
   "cell_type": "markdown",
   "metadata": {},
   "source": [
    "### IME-4 Count"
   ]
  },
  {
   "cell_type": "code",
   "execution_count": 1413,
   "metadata": {},
   "outputs": [
    {
     "name": "stdout",
     "output_type": "stream",
     "text": [
      "73.0        1\n",
      "35.0        1\n",
      "39.0        2\n",
      "33.0        2\n",
      "31.0        2\n",
      "36.0        2\n",
      "28.0        3\n",
      "29.0        4\n",
      "32.0        4\n",
      "30.0        4\n",
      "34.0        4\n",
      "25.0        6\n",
      "26.0        7\n",
      "27.0       11\n",
      "23.0       13\n",
      "24.0       14\n",
      "22.0       27\n",
      "21.0       41\n",
      "20.0       49\n",
      "19.0       57\n",
      "17.0       86\n",
      "18.0      108\n",
      "16.0      163\n",
      "15.0      222\n",
      "14.0      303\n",
      "13.0      387\n",
      "12.0      620\n",
      "11.0      768\n",
      "10.0     1131\n",
      "9.0      1470\n",
      "8.0      2466\n",
      "7.0      3013\n",
      "6.0      5037\n",
      "5.0      5910\n",
      "4.0     10652\n",
      "3.0     12362\n",
      "2.0     26460\n",
      "1.0     30425\n",
      "Name: IME-4 Count, dtype: int64\n"
     ]
    }
   ],
   "source": [
    "#IME-4 Count value counts\n",
    "\n",
    "print(X_train['IME-4 Count'].value_counts().sort_values())"
   ]
  },
  {
   "cell_type": "code",
   "execution_count": 1414,
   "metadata": {},
   "outputs": [
    {
     "name": "stdout",
     "output_type": "stream",
     "text": [
      "4. TEMPORARY       142\n",
      "6. PPD NSL           3\n",
      "3. MED ONLY          2\n",
      "5. PPD SCH LOSS      1\n",
      "Name: Claim Injury Type, dtype: int64\n"
     ]
    }
   ],
   "source": [
    "#Check the value counts of the target variable for the IME-4 Count that are higher than 20\n",
    "\n",
    "ime_outliers_train = X_train[X_train['IME-4 Count'] > 20]\n",
    "\n",
    "ime_outliers_val = X_val[X_val['IME-4 Count'] > 20]\n",
    "\n",
    "\n",
    "\n",
    "print(y_train.loc[ime_outliers_train.index].value_counts())"
   ]
  },
  {
   "cell_type": "markdown",
   "metadata": {},
   "source": [
    "Since there are no critical target variables with a significant amount of rows above 'IME-4 Count' above of 20, we are dropping the rows with 'IME-4 Count' above 20."
   ]
  },
  {
   "cell_type": "code",
   "execution_count": 1415,
   "metadata": {},
   "outputs": [],
   "source": [
    "#Filter out the IME-4 Count outliers\n",
    "\n",
    "X_train = X_train[~X_train.index.isin(ime_outliers_train.index)]\n",
    "y_train = y_train.loc[X_train.index]\n",
    "\n",
    "#Drop with the same logic in validation set\n",
    "\n",
    "X_val = X_val[~X_val.index.isin(ime_outliers_val.index)]\n",
    "y_val = y_val.loc[X_val.index]"
   ]
  },
  {
   "cell_type": "markdown",
   "metadata": {},
   "source": [
    "### Industry Code / Description"
   ]
  },
  {
   "cell_type": "code",
   "execution_count": 1416,
   "metadata": {},
   "outputs": [
    {
     "name": "stdout",
     "output_type": "stream",
     "text": [
      "55.0      262\n",
      "21.0      538\n",
      "11.0     1884\n",
      "22.0     2028\n",
      "52.0     6273\n",
      "51.0     6818\n",
      "53.0     6931\n",
      "54.0     7491\n",
      "71.0     7749\n",
      "31.0     7847\n",
      "32.0     8321\n",
      "81.0    10286\n",
      "42.0    11887\n",
      "49.0    12492\n",
      "33.0    13417\n",
      "45.0    14046\n",
      "56.0    16298\n",
      "72.0    20674\n",
      "23.0    23729\n",
      "48.0    28393\n",
      "44.0    34272\n",
      "61.0    34830\n",
      "92.0    69916\n",
      "62.0    88964\n",
      "Name: Industry Code, dtype: int64\n"
     ]
    }
   ],
   "source": [
    "#Industy_code value counts\n",
    "\n",
    "print(X_train['Industry Code'].value_counts().sort_values())"
   ]
  },
  {
   "cell_type": "markdown",
   "metadata": {},
   "source": [
    "No industry codes will be dropped"
   ]
  },
  {
   "cell_type": "markdown",
   "metadata": {},
   "source": [
    "### Medical Fee Region"
   ]
  },
  {
   "cell_type": "code",
   "execution_count": 1417,
   "metadata": {},
   "outputs": [
    {
     "name": "stdout",
     "output_type": "stream",
     "text": [
      "UK      24935\n",
      "III     40913\n",
      "II      66119\n",
      "I      105717\n",
      "IV     204138\n",
      "Name: Medical Fee Region, dtype: int64\n"
     ]
    }
   ],
   "source": [
    "#Medical Fee Region value counts\n",
    "\n",
    "print(X_train['Medical Fee Region'].value_counts().sort_values())"
   ]
  },
  {
   "cell_type": "code",
   "execution_count": 1418,
   "metadata": {},
   "outputs": [
    {
     "name": "stdout",
     "output_type": "stream",
     "text": [
      "0\n"
     ]
    }
   ],
   "source": [
    "#Medical fee region missing values\n",
    "\n",
    "print(X_train['Medical Fee Region'].isnull().sum())"
   ]
  },
  {
   "cell_type": "markdown",
   "metadata": {},
   "source": [
    "We are going to transform the 'Unknown' values into NaN values so that we can fill them later."
   ]
  },
  {
   "cell_type": "code",
   "execution_count": 1419,
   "metadata": {},
   "outputs": [],
   "source": [
    "#TRanfrom the unknown values to NaN\n",
    "\n",
    "X_train['Medical Fee Region'] = X_train['Medical Fee Region'].replace('UK', np.nan)\n",
    "\n",
    "#Do the same for the validation set\n",
    "\n",
    "X_val['Medical Fee Region'] = X_val['Medical Fee Region'].replace('UK', np.nan)"
   ]
  },
  {
   "cell_type": "markdown",
   "metadata": {},
   "source": [
    "### WCIO Cause of Injury Code / Description"
   ]
  },
  {
   "cell_type": "code",
   "execution_count": 1420,
   "metadata": {},
   "outputs": [
    {
     "name": "stdout",
     "output_type": "stream",
     "text": [
      "47.0       10\n",
      "8.0        23\n",
      "40.0       34\n",
      "14.0       42\n",
      "91.0       42\n",
      "        ...  \n",
      "29.0    22857\n",
      "31.0    24661\n",
      "60.0    25657\n",
      "74.0    29052\n",
      "56.0    36303\n",
      "Name: WCIO Cause of Injury Code, Length: 77, dtype: int64\n"
     ]
    }
   ],
   "source": [
    "#WCIO Cause of Injury Code value counts\n",
    "\n",
    "print(X_train['WCIO Cause of Injury Code'].value_counts().sort_values())"
   ]
  },
  {
   "cell_type": "markdown",
   "metadata": {},
   "source": [
    "No dropped rows since the least frequent cause of injury has 10 occurrence."
   ]
  },
  {
   "cell_type": "markdown",
   "metadata": {},
   "source": [
    "### WCIO Nature of Injury Code / Description"
   ]
  },
  {
   "cell_type": "code",
   "execution_count": 1421,
   "metadata": {},
   "outputs": [
    {
     "name": "stdout",
     "output_type": "stream",
     "text": [
      "63.0         1\n",
      "76.0         3\n",
      "79.0         3\n",
      "62.0         5\n",
      "22.0         6\n",
      "70.0        10\n",
      "64.0        10\n",
      "67.0        20\n",
      "75.0        21\n",
      "30.0        49\n",
      "60.0        50\n",
      "61.0        61\n",
      "54.0        67\n",
      "74.0        85\n",
      "55.0       119\n",
      "3.0        142\n",
      "38.0       156\n",
      "58.0       208\n",
      "66.0       228\n",
      "91.0       266\n",
      "47.0       276\n",
      "42.0       319\n",
      "32.0       336\n",
      "69.0       346\n",
      "41.0       348\n",
      "19.0       477\n",
      "72.0       490\n",
      "73.0       556\n",
      "2.0        584\n",
      "36.0       735\n",
      "68.0       827\n",
      "46.0       951\n",
      "65.0       960\n",
      "31.0      1051\n",
      "71.0      1065\n",
      "53.0      1123\n",
      "77.0      1209\n",
      "78.0      1807\n",
      "80.0      1980\n",
      "34.0      2110\n",
      "13.0      4120\n",
      "7.0       4291\n",
      "16.0      4552\n",
      "1.0       4662\n",
      "25.0      5834\n",
      "4.0       5909\n",
      "37.0      9712\n",
      "90.0      9738\n",
      "43.0     13578\n",
      "28.0     17567\n",
      "83.0     19171\n",
      "59.0     27988\n",
      "40.0     36893\n",
      "49.0     43357\n",
      "10.0     86334\n",
      "52.0    118969\n",
      "Name: WCIO Nature of Injury Code, dtype: int64\n"
     ]
    }
   ],
   "source": [
    "#WCIO Nature of Injury Code value counts\n",
    "\n",
    "print(X_train['WCIO Nature of Injury Code'].value_counts().sort_values())"
   ]
  },
  {
   "cell_type": "code",
   "execution_count": 1422,
   "metadata": {},
   "outputs": [
    {
     "name": "stdout",
     "output_type": "stream",
     "text": [
      "4. TEMPORARY    10\n",
      "2. NON-COMP      6\n",
      "3. MED ONLY      2\n",
      "Name: Claim Injury Type, dtype: int64\n"
     ]
    }
   ],
   "source": [
    "# Check the value counts for the 'WCIO Nature of Injury Code' that are less than 10\n",
    "\n",
    "code_list_train = X_train['WCIO Nature of Injury Code'].value_counts()[X_train['WCIO Nature of Injury Code'].value_counts() < 10].index\n",
    "\n",
    "code_list_val = X_val['WCIO Nature of Injury Code'].value_counts()[X_val['WCIO Nature of Injury Code'].value_counts() < 10].index\n",
    "\n",
    "\n",
    "wcio_nature_idxs_train = X_train[X_train['WCIO Nature of Injury Code'].isin(code_list_train)].index\n",
    "wcio_nature_idxs_val = X_val[X_val['WCIO Nature of Injury Code'].isin(code_list_val)].index\n",
    "\n",
    "\n",
    "print(y_train.loc[wcio_nature_idxs_train].value_counts())\n"
   ]
  },
  {
   "cell_type": "markdown",
   "metadata": {},
   "source": [
    "We'll drop the codes with less than 10 occurrences."
   ]
  },
  {
   "cell_type": "code",
   "execution_count": 1423,
   "metadata": {},
   "outputs": [],
   "source": [
    "#Dropping the rows that have 'WCIO Nature of Injury Code' that are less than 10\n",
    "\n",
    "X_train = X_train[~X_train.index.isin(wcio_nature_idxs_train)]\n",
    "y_train = y_train.loc[X_train.index]\n",
    "\n",
    "#Drop with the same logic in validation set\n",
    "\n",
    "X_val = X_val[~X_val.index.isin(wcio_nature_idxs_val)]\n",
    "y_val = y_val.loc[X_val.index]"
   ]
  },
  {
   "cell_type": "markdown",
   "metadata": {},
   "source": [
    "### WCIO Part Of Body Code / Description"
   ]
  },
  {
   "cell_type": "code",
   "execution_count": 1424,
   "metadata": {},
   "outputs": [
    {
     "name": "stdout",
     "output_type": "stream",
     "text": [
      "10.0     6111\n",
      "11.0     6208\n",
      "12.0     1561\n",
      "13.0     2357\n",
      "14.0    10250\n",
      "15.0     1614\n",
      "16.0      626\n",
      "17.0     1252\n",
      "18.0    10791\n",
      "19.0     3071\n",
      "20.0     2166\n",
      "21.0     1038\n",
      "22.0      844\n",
      "23.0      375\n",
      "24.0      116\n",
      "25.0     4607\n",
      "26.0       63\n",
      "30.0     2004\n",
      "31.0     8702\n",
      "32.0     7662\n",
      "33.0    11904\n",
      "34.0    14427\n",
      "35.0    24306\n",
      "36.0    28302\n",
      "37.0     9823\n",
      "38.0    29318\n",
      "39.0     1922\n",
      "40.0     1332\n",
      "41.0     6373\n",
      "42.0    40643\n",
      "43.0     1497\n",
      "44.0     5988\n",
      "45.0      317\n",
      "46.0      548\n",
      "47.0      320\n",
      "48.0     2706\n",
      "49.0      465\n",
      "50.0     1467\n",
      "51.0     4995\n",
      "52.0     3347\n",
      "53.0    37169\n",
      "54.0     9050\n",
      "55.0    19471\n",
      "56.0    14605\n",
      "57.0     1989\n",
      "58.0     1415\n",
      "60.0    10577\n",
      "61.0     5296\n",
      "62.0      938\n",
      "63.0     1543\n",
      "64.0       41\n",
      "65.0     3947\n",
      "66.0     4723\n",
      "90.0    17266\n",
      "91.0     8274\n",
      "99.0      821\n",
      "Name: WCIO Part Of Body Code, dtype: int64\n"
     ]
    }
   ],
   "source": [
    "# WCIO Part Of Body Code value counts\n",
    "\n",
    "print(X_train['WCIO Part Of Body Code'].value_counts().sort_index())"
   ]
  },
  {
   "cell_type": "markdown",
   "metadata": {},
   "source": [
    "### Zip Code"
   ]
  },
  {
   "cell_type": "code",
   "execution_count": 1425,
   "metadata": {},
   "outputs": [
    {
     "name": "stdout",
     "output_type": "stream",
     "text": [
      "46322       1\n",
      "79904       1\n",
      "77034       1\n",
      "29532       1\n",
      "77598       1\n",
      "         ... \n",
      "11706    2112\n",
      "11434    2120\n",
      "11717    2231\n",
      "10940    2337\n",
      "11236    2522\n",
      "Name: Zip Code, Length: 7317, dtype: int64\n"
     ]
    }
   ],
   "source": [
    "# Zip Code value counts\n",
    "\n",
    "print(X_train['Zip Code'].value_counts().sort_values())"
   ]
  },
  {
   "cell_type": "markdown",
   "metadata": {},
   "source": [
    "We've already checked for data inconsistencies before splitting the data, we are not going to drop any rows here."
   ]
  },
  {
   "cell_type": "markdown",
   "metadata": {},
   "source": [
    "### Number of Dependents"
   ]
  },
  {
   "cell_type": "code",
   "execution_count": 1426,
   "metadata": {},
   "outputs": [
    {
     "name": "stdout",
     "output_type": "stream",
     "text": [
      "0.0    62956\n",
      "1.0    62880\n",
      "2.0    62778\n",
      "3.0    63372\n",
      "4.0    63163\n",
      "5.0    63118\n",
      "6.0    63537\n",
      "Name: Number of Dependents, dtype: int64\n"
     ]
    }
   ],
   "source": [
    "# Value counts for 'Number of Dependents'\n",
    "\n",
    "print(X_train['Number of Dependents'].value_counts().sort_index())"
   ]
  },
  {
   "cell_type": "markdown",
   "metadata": {},
   "source": [
    "No rows will be dropped."
   ]
  },
  {
   "cell_type": "markdown",
   "metadata": {},
   "source": [
    "## Missing Values:\n",
    "\n",
    "- Accident Date \n",
    "- Average Weekly Wage\n",
    "- Birth Year\n",
    "- C-2 Date\n",
    "- C-3 Date\n",
    "- First Hearing Date\n",
    "- IME-4 Count\n",
    "- Industry Code\n",
    "- Industry Code Description\n",
    "- WCIO Cause of Injury Code\n",
    "- WCIO Cause of Injury Description\n",
    "- WCIO Nature of Injury Code\n",
    "- WCIO Nature of Injury Description\n",
    "- WCIO Part Of Body Code\n",
    "- WCIO Part Of Body Description\n",
    "- Zip Code\n",
    "\n",
    "Let's fill it from the least to the most missing values."
   ]
  },
  {
   "cell_type": "markdown",
   "metadata": {},
   "source": [
    "### Accident Date"
   ]
  },
  {
   "cell_type": "markdown",
   "metadata": {},
   "source": [
    "Accident Value: This feature is highly correlated with the Assembly Date and the C-2 Date. Since Assembly Date has less missing values, we're going to assume it's more reliable and fill the missing values with the Assembly Date."
   ]
  },
  {
   "cell_type": "code",
   "execution_count": 1427,
   "metadata": {},
   "outputs": [
    {
     "name": "stdout",
     "output_type": "stream",
     "text": [
      "There are 0 rows with missing Accident Date values\n"
     ]
    }
   ],
   "source": [
    "#I want to compare the rows that have empty 'Accident Values' before and after the imputation\n",
    "\n",
    "#Check before\n",
    "print(\"There are {} rows with missing Accident Date values\".format(X_train['Accident Date'].isna().sum()))\n",
    "\n",
    "# I want to save those indexes to compare after the imputation\n",
    "\n",
    "missing_accident_date_idxs = X_train[X_train['Accident Date'].isna()].index"
   ]
  },
  {
   "cell_type": "code",
   "execution_count": 1428,
   "metadata": {},
   "outputs": [
    {
     "name": "stdout",
     "output_type": "stream",
     "text": [
      "Mean difference (Assembly): -43.0\n"
     ]
    }
   ],
   "source": [
    "X_train['diff_accident_assembly'] = (X_train['Accident Date'] - X_train['Assembly Date']).dt.days\n",
    "\n",
    "# Check the mean differences\n",
    "mean_diff_assembly = round(X_train['diff_accident_assembly'].mean(skipna=True),0)\n",
    "print(f\"Mean difference (Assembly): {mean_diff_assembly}\")\n"
   ]
  },
  {
   "cell_type": "code",
   "execution_count": 1429,
   "metadata": {},
   "outputs": [],
   "source": [
    "#We're using this function to help us impute the missing values in the Date type columns\n",
    "\n",
    "def impute_missing_dates(target_df, target_column, reference_columns):\n",
    "    \"\"\"\n",
    "    Generalized function to impute missing dates based on the mean difference between target and reference columns.\n",
    "\n",
    "    Parameters:\n",
    "        target_df (pd.DataFrame): The dataset where imputation is applied.\n",
    "        target_column (str): The name of the column with missing dates to be imputed.\n",
    "        reference_columns (list of str): List of columns to calculate mean differences with the target column.\n",
    "\n",
    "    Returns:\n",
    "        pd.DataFrame: The dataset with missing values in the target column imputed.\n",
    "    \"\"\"\n",
    "    import numpy as np\n",
    "\n",
    "    # Ensure all reference columns and target column are in datetime format\n",
    "    for col in [target_column] + reference_columns:\n",
    "        target_df[col] = pd.to_datetime(target_df[col], errors='coerce')\n",
    "\n",
    "    # Calculate mean differences for each reference column\n",
    "    mean_differences = {}\n",
    "    for ref_col in reference_columns:\n",
    "        # Compute the mean difference (in days) between the target column and the reference column\n",
    "        valid_diff = (target_df[target_column] - target_df[ref_col]).dt.days.dropna()\n",
    "        mean_differences[ref_col] = round(valid_diff.mean(), 0)\n",
    "\n",
    "    print(f\"Mean differences (in days): {mean_differences}\")\n",
    "\n",
    "    # Impute missing values in the target column\n",
    "    def impute_row(row):\n",
    "        # If target_column is not missing, keep the existing value\n",
    "        if pd.notna(row[target_column]):\n",
    "            return row[target_column]\n",
    "\n",
    "        # Attempt to impute using reference columns\n",
    "        for ref_col in reference_columns:\n",
    "            if pd.notna(row[ref_col]):  # Check if reference column has a value\n",
    "                return row[ref_col] + pd.Timedelta(days=mean_differences[ref_col])\n",
    "\n",
    "        # If no imputation is possible, leave as NaT\n",
    "        return np.nan\n",
    "\n",
    "    # Apply the imputation logic\n",
    "    target_df[target_column] = target_df.apply(impute_row, axis=1)\n",
    "\n",
    "    return target_df"
   ]
  },
  {
   "cell_type": "code",
   "execution_count": 1430,
   "metadata": {},
   "outputs": [
    {
     "name": "stdout",
     "output_type": "stream",
     "text": [
      "Mean difference (in days): -43.0\n"
     ]
    }
   ],
   "source": [
    "# Ensure 'Assembly Date' is in datetime format\n",
    "X_val['Assembly Date'] = pd.to_datetime(X_val['Assembly Date'], errors='coerce')\n",
    "df_test['Assembly Date'] = pd.to_datetime(df_test['Assembly Date'], errors='coerce')\n",
    "\n",
    "mean_diff_assembly = round((X_train['Accident Date'] - X_train['Assembly Date']).dt.days.mean(),0)\n",
    "print(f\"Mean difference (in days): {mean_diff_assembly}\")\n",
    "\n",
    "def impute_accident_date(target_df, mean_diff_assembly):\n",
    "    \"\"\"\n",
    "    Impute missing values in the 'Accident Date' column based on the mean difference from 'Assembly Date'.\n",
    "    \n",
    "    Parameters:\n",
    "        target_df (pd.DataFrame): The dataset (training, validation, or test) where imputation is applied.\n",
    "        mean_diff_assembly (int): The mean difference in days between 'Assembly Date' and 'Accident Date'.\n",
    "    \n",
    "    Returns:\n",
    "        pd.DataFrame: The dataset with missing values in 'Accident Date' imputed.\n",
    "    \"\"\"\n",
    "    target_df['Accident Date'] = target_df.apply(\n",
    "        lambda row: row['Assembly Date'] + pd.Timedelta(days=mean_diff_assembly)\n",
    "        if pd.isna(row['Accident Date']) else row['Accident Date'],\n",
    "        axis=1\n",
    "    )\n",
    "    return target_df"
   ]
  },
  {
   "cell_type": "code",
   "execution_count": 1431,
   "metadata": {},
   "outputs": [],
   "source": [
    "X_train = impute_accident_date(X_train, mean_diff_assembly)\n",
    "X_val = impute_accident_date(X_val, mean_diff_assembly)\n",
    "df_test = impute_accident_date(df_test, mean_diff_assembly)"
   ]
  },
  {
   "cell_type": "code",
   "execution_count": 1432,
   "metadata": {},
   "outputs": [
    {
     "data": {
      "text/html": [
       "<div>\n",
       "<style scoped>\n",
       "    .dataframe tbody tr th:only-of-type {\n",
       "        vertical-align: middle;\n",
       "    }\n",
       "\n",
       "    .dataframe tbody tr th {\n",
       "        vertical-align: top;\n",
       "    }\n",
       "\n",
       "    .dataframe thead th {\n",
       "        text-align: right;\n",
       "    }\n",
       "</style>\n",
       "<table border=\"1\" class=\"dataframe\">\n",
       "  <thead>\n",
       "    <tr style=\"text-align: right;\">\n",
       "      <th></th>\n",
       "      <th>Accident Date</th>\n",
       "      <th>Age at Injury</th>\n",
       "      <th>Alternative Dispute Resolution</th>\n",
       "      <th>Assembly Date</th>\n",
       "      <th>Attorney/Representative</th>\n",
       "      <th>Average Weekly Wage</th>\n",
       "      <th>Birth Year</th>\n",
       "      <th>C-2 Date</th>\n",
       "      <th>C-3 Date</th>\n",
       "      <th>Carrier Name</th>\n",
       "      <th>...</th>\n",
       "      <th>First Hearing Date_year</th>\n",
       "      <th>First Hearing Date_month</th>\n",
       "      <th>First Hearing Date_day</th>\n",
       "      <th>C-2 Date_year</th>\n",
       "      <th>C-2 Date_month</th>\n",
       "      <th>C-2 Date_day</th>\n",
       "      <th>C-3 Date_year</th>\n",
       "      <th>C-3 Date_month</th>\n",
       "      <th>C-3 Date_day</th>\n",
       "      <th>diff_accident_assembly</th>\n",
       "    </tr>\n",
       "    <tr>\n",
       "      <th>Claim Identifier</th>\n",
       "      <th></th>\n",
       "      <th></th>\n",
       "      <th></th>\n",
       "      <th></th>\n",
       "      <th></th>\n",
       "      <th></th>\n",
       "      <th></th>\n",
       "      <th></th>\n",
       "      <th></th>\n",
       "      <th></th>\n",
       "      <th></th>\n",
       "      <th></th>\n",
       "      <th></th>\n",
       "      <th></th>\n",
       "      <th></th>\n",
       "      <th></th>\n",
       "      <th></th>\n",
       "      <th></th>\n",
       "      <th></th>\n",
       "      <th></th>\n",
       "      <th></th>\n",
       "    </tr>\n",
       "  </thead>\n",
       "  <tbody>\n",
       "  </tbody>\n",
       "</table>\n",
       "<p>0 rows × 44 columns</p>\n",
       "</div>"
      ],
      "text/plain": [
       "Empty DataFrame\n",
       "Columns: [Accident Date, Age at Injury, Alternative Dispute Resolution, Assembly Date, Attorney/Representative, Average Weekly Wage, Birth Year, C-2 Date, C-3 Date, Carrier Name, Carrier Type, County of Injury, COVID-19 Indicator, District Name, First Hearing Date, Gender, IME-4 Count, Industry Code, Industry Code Description, Medical Fee Region, WCIO Cause of Injury Code, WCIO Cause of Injury Description, WCIO Nature of Injury Code, WCIO Nature of Injury Description, WCIO Part Of Body Code, WCIO Part Of Body Description, Zip Code, Number of Dependents, Accident Date_year, Accident Date_month, Accident Date_day, Assembly Date_year, Assembly Date_month, Assembly Date_day, First Hearing Date_year, First Hearing Date_month, First Hearing Date_day, C-2 Date_year, C-2 Date_month, C-2 Date_day, C-3 Date_year, C-3 Date_month, C-3 Date_day, diff_accident_assembly]\n",
       "Index: []\n",
       "\n",
       "[0 rows x 44 columns]"
      ]
     },
     "execution_count": 1432,
     "metadata": {},
     "output_type": "execute_result"
    }
   ],
   "source": [
    "# Now show the rows with missing 'Accident Date' after the imputation. With missing_accident_date \n",
    "\n",
    "X_train.loc[missing_accident_date_idxs].head()"
   ]
  },
  {
   "cell_type": "markdown",
   "metadata": {},
   "source": [
    "### C-2 Date"
   ]
  },
  {
   "cell_type": "code",
   "execution_count": 1433,
   "metadata": {},
   "outputs": [
    {
     "name": "stdout",
     "output_type": "stream",
     "text": [
      "Mean difference (C-2): -4.0\n"
     ]
    }
   ],
   "source": [
    "#Imput the missing values of 'C-2 Date' based on the 'Assembly Date'\n",
    "\n",
    "X_train['diff_assembly_c2'] = (X_train['Assembly Date'] - X_train['C-2 Date']).dt.days\n",
    "\n",
    "# Check the mean differences\n",
    "mean_diff_c2 = round(X_train['diff_assembly_c2'].mean(skipna=True),0)\n",
    "\n",
    "print(f\"Mean difference (C-2): {mean_diff_c2}\")"
   ]
  },
  {
   "cell_type": "code",
   "execution_count": 1434,
   "metadata": {},
   "outputs": [],
   "source": [
    "def impute_c2_date(target_df, mean_diff_c2):\n",
    "    \"\"\"\n",
    "    Impute missing values in 'C-2 Date' based on 'Assembly Date' and the mean temporal difference.\n",
    "    \n",
    "    Parameters:\n",
    "        target_df (pd.DataFrame): The dataset (training, validation, or test) where imputation is applied.\n",
    "        mean_diff_c2 (int): The mean difference (in days) between 'C-2 Date' and 'Assembly Date'.\n",
    "    \n",
    "    Returns:\n",
    "        pd.DataFrame: The target dataset with missing values in 'C-2 Date' imputed.\n",
    "    \"\"\"\n",
    "    # Apply the imputation logic row-wise\n",
    "    target_df['C-2 Date'] = target_df.apply(\n",
    "        lambda row: row['Assembly Date'] - pd.Timedelta(days=mean_diff_c2)\n",
    "        if pd.isna(row['C-2 Date']) else row['C-2 Date'],\n",
    "        axis=1\n",
    "    )\n",
    "    \n",
    "    return target_df\n",
    "\n",
    "# Impute 'C-2 Date' in the training set\n",
    "X_train = impute_c2_date(X_train, mean_diff_c2)\n",
    "X_val = impute_c2_date(X_val, mean_diff_c2)\n",
    "df_test = impute_c2_date(df_test, mean_diff_c2)"
   ]
  },
  {
   "cell_type": "code",
   "execution_count": 1435,
   "metadata": {},
   "outputs": [
    {
     "data": {
      "text/plain": [
       "0"
      ]
     },
     "execution_count": 1435,
     "metadata": {},
     "output_type": "execute_result"
    }
   ],
   "source": [
    "# C-2 missing values \n",
    "\n",
    "X_train['C-2 Date'].isna().sum()"
   ]
  },
  {
   "cell_type": "code",
   "execution_count": 1436,
   "metadata": {},
   "outputs": [
    {
     "data": {
      "text/plain": [
       "0"
      ]
     },
     "execution_count": 1436,
     "metadata": {},
     "output_type": "execute_result"
    }
   ],
   "source": [
    "X_val['C-2 Date'].isna().sum()"
   ]
  },
  {
   "cell_type": "code",
   "execution_count": 1437,
   "metadata": {},
   "outputs": [
    {
     "data": {
      "text/plain": [
       "0"
      ]
     },
     "execution_count": 1437,
     "metadata": {},
     "output_type": "execute_result"
    }
   ],
   "source": [
    "df_test['C-2 Date'].isna().sum()"
   ]
  },
  {
   "cell_type": "code",
   "execution_count": 1438,
   "metadata": {},
   "outputs": [
    {
     "data": {
      "text/html": [
       "<div>\n",
       "<style scoped>\n",
       "    .dataframe tbody tr th:only-of-type {\n",
       "        vertical-align: middle;\n",
       "    }\n",
       "\n",
       "    .dataframe tbody tr th {\n",
       "        vertical-align: top;\n",
       "    }\n",
       "\n",
       "    .dataframe thead th {\n",
       "        text-align: right;\n",
       "    }\n",
       "</style>\n",
       "<table border=\"1\" class=\"dataframe\">\n",
       "  <thead>\n",
       "    <tr style=\"text-align: right;\">\n",
       "      <th></th>\n",
       "      <th>Accident Date</th>\n",
       "      <th>Age at Injury</th>\n",
       "      <th>Alternative Dispute Resolution</th>\n",
       "      <th>Assembly Date</th>\n",
       "      <th>Attorney/Representative</th>\n",
       "      <th>Average Weekly Wage</th>\n",
       "      <th>Birth Year</th>\n",
       "      <th>C-2 Date</th>\n",
       "      <th>C-3 Date</th>\n",
       "      <th>Carrier Name</th>\n",
       "      <th>...</th>\n",
       "      <th>First Hearing Date_month</th>\n",
       "      <th>First Hearing Date_day</th>\n",
       "      <th>C-2 Date_year</th>\n",
       "      <th>C-2 Date_month</th>\n",
       "      <th>C-2 Date_day</th>\n",
       "      <th>C-3 Date_year</th>\n",
       "      <th>C-3 Date_month</th>\n",
       "      <th>C-3 Date_day</th>\n",
       "      <th>diff_accident_assembly</th>\n",
       "      <th>diff_assembly_c2</th>\n",
       "    </tr>\n",
       "    <tr>\n",
       "      <th>Claim Identifier</th>\n",
       "      <th></th>\n",
       "      <th></th>\n",
       "      <th></th>\n",
       "      <th></th>\n",
       "      <th></th>\n",
       "      <th></th>\n",
       "      <th></th>\n",
       "      <th></th>\n",
       "      <th></th>\n",
       "      <th></th>\n",
       "      <th></th>\n",
       "      <th></th>\n",
       "      <th></th>\n",
       "      <th></th>\n",
       "      <th></th>\n",
       "      <th></th>\n",
       "      <th></th>\n",
       "      <th></th>\n",
       "      <th></th>\n",
       "      <th></th>\n",
       "      <th></th>\n",
       "    </tr>\n",
       "  </thead>\n",
       "  <tbody>\n",
       "  </tbody>\n",
       "</table>\n",
       "<p>0 rows × 45 columns</p>\n",
       "</div>"
      ],
      "text/plain": [
       "Empty DataFrame\n",
       "Columns: [Accident Date, Age at Injury, Alternative Dispute Resolution, Assembly Date, Attorney/Representative, Average Weekly Wage, Birth Year, C-2 Date, C-3 Date, Carrier Name, Carrier Type, County of Injury, COVID-19 Indicator, District Name, First Hearing Date, Gender, IME-4 Count, Industry Code, Industry Code Description, Medical Fee Region, WCIO Cause of Injury Code, WCIO Cause of Injury Description, WCIO Nature of Injury Code, WCIO Nature of Injury Description, WCIO Part Of Body Code, WCIO Part Of Body Description, Zip Code, Number of Dependents, Accident Date_year, Accident Date_month, Accident Date_day, Assembly Date_year, Assembly Date_month, Assembly Date_day, First Hearing Date_year, First Hearing Date_month, First Hearing Date_day, C-2 Date_year, C-2 Date_month, C-2 Date_day, C-3 Date_year, C-3 Date_month, C-3 Date_day, diff_accident_assembly, diff_assembly_c2]\n",
       "Index: []\n",
       "\n",
       "[0 rows x 45 columns]"
      ]
     },
     "execution_count": 1438,
     "metadata": {},
     "output_type": "execute_result"
    }
   ],
   "source": [
    "X_train.loc[missing_accident_date_idxs].head()"
   ]
  },
  {
   "cell_type": "code",
   "execution_count": 1439,
   "metadata": {},
   "outputs": [
    {
     "name": "stdout",
     "output_type": "stream",
     "text": [
      "Accident Date                             0\n",
      "diff_accident_assembly                    0\n",
      "Accident Date_month                       0\n",
      "Accident Date_day                         0\n",
      "Assembly Date_year                        0\n",
      "Assembly Date_month                       0\n",
      "Gender                                    0\n",
      "Assembly Date_day                         0\n",
      "District Name                             0\n",
      "Accident Date_year                        0\n",
      "County of Injury                          0\n",
      "COVID-19 Indicator                        0\n",
      "Carrier Name                              0\n",
      "C-2 Date                                  0\n",
      "Attorney/Representative                   0\n",
      "Assembly Date                             0\n",
      "Age at Injury                             0\n",
      "Carrier Type                              0\n",
      "Number of Dependents                      0\n",
      "Alternative Dispute Resolution            5\n",
      "Industry Code                          6476\n",
      "Industry Code Description              6476\n",
      "C-2 Date_year                          9454\n",
      "C-2 Date_month                         9454\n",
      "C-2 Date_day                           9454\n",
      "diff_assembly_c2                       9454\n",
      "WCIO Cause of Injury Description      10077\n",
      "WCIO Cause of Injury Code             10077\n",
      "WCIO Nature of Injury Code            10087\n",
      "WCIO Nature of Injury Description     10087\n",
      "WCIO Part Of Body Description         10979\n",
      "Birth Year                            22445\n",
      "Medical Fee Region                    24932\n",
      "Zip Code                              33493\n",
      "WCIO Part Of Body Code                43261\n",
      "Average Weekly Wage                  281225\n",
      "C-3 Date                             300581\n",
      "C-3 Date_year                        300581\n",
      "C-3 Date_month                       300581\n",
      "C-3 Date_day                         300581\n",
      "First Hearing Date_year              327220\n",
      "First Hearing Date_day               327220\n",
      "First Hearing Date                   327220\n",
      "First Hearing Date_month             327220\n",
      "IME-4 Count                          340122\n",
      "dtype: int64\n"
     ]
    }
   ],
   "source": [
    "print(X_train.isna().sum().sort_values())"
   ]
  },
  {
   "cell_type": "code",
   "execution_count": 1440,
   "metadata": {},
   "outputs": [],
   "source": [
    "X_train.drop(columns=date_components, inplace=True)"
   ]
  },
  {
   "cell_type": "code",
   "execution_count": 1441,
   "metadata": {},
   "outputs": [],
   "source": [
    "# Ensure 'C-2 Date' is in datetime format\n",
    "X_train['C-2 Date'] = pd.to_datetime(X_train['C-2 Date'], errors='coerce')\n",
    "X_val['C-2 Date'] = pd.to_datetime(X_val['C-2 Date'], errors='coerce')\n",
    "df_test['C-2 Date'] = pd.to_datetime(df_test['C-2 Date'], errors='coerce')\n",
    "\n",
    "# Create new features 'C-2 Date_year', 'C-2 Date_month', 'C-2 Date_day' because they will be used up ahead for Industry Code Imputation\n",
    "X_train['C-2 Date_year'] = X_train['C-2 Date'].dt.year\n",
    "X_val['C-2 Date_year'] = X_val['C-2 Date'].dt.year\n",
    "df_test['C-2 Date_year'] = df_test['C-2 Date'].dt.year\n"
   ]
  },
  {
   "cell_type": "code",
   "execution_count": 1442,
   "metadata": {},
   "outputs": [
    {
     "name": "stdout",
     "output_type": "stream",
     "text": [
      "Accident Date                             0\n",
      "diff_accident_assembly                    0\n",
      "Number of Dependents                      0\n",
      "District Name                             0\n",
      "COVID-19 Indicator                        0\n",
      "County of Injury                          0\n",
      "Carrier Type                              0\n",
      "Carrier Name                              0\n",
      "Gender                                    0\n",
      "C-2 Date                                  0\n",
      "Age at Injury                             0\n",
      "Assembly Date                             0\n",
      "C-2 Date_year                             0\n",
      "Attorney/Representative                   0\n",
      "Alternative Dispute Resolution            5\n",
      "Industry Code                          6476\n",
      "Industry Code Description              6476\n",
      "diff_assembly_c2                       9454\n",
      "WCIO Cause of Injury Description      10077\n",
      "WCIO Cause of Injury Code             10077\n",
      "WCIO Nature of Injury Code            10087\n",
      "WCIO Nature of Injury Description     10087\n",
      "WCIO Part Of Body Description         10979\n",
      "Birth Year                            22445\n",
      "Medical Fee Region                    24932\n",
      "Zip Code                              33493\n",
      "WCIO Part Of Body Code                43261\n",
      "Average Weekly Wage                  281225\n",
      "C-3 Date                             300581\n",
      "First Hearing Date                   327220\n",
      "IME-4 Count                          340122\n",
      "dtype: int64\n"
     ]
    }
   ],
   "source": [
    "print(X_train.isna().sum().sort_values())"
   ]
  },
  {
   "cell_type": "markdown",
   "metadata": {},
   "source": [
    "### Industry Code and Industry Code Description"
   ]
  },
  {
   "cell_type": "code",
   "execution_count": 1443,
   "metadata": {},
   "outputs": [],
   "source": [
    "def imputer_function(df_train, df_target, feature_to_fill, features_to_be_based_on):\n",
    "    \"\"\"\n",
    "    Impute missing values in a specified feature using context from other grouping features.\n",
    "\n",
    "    Parameters:\n",
    "        df_train (pd.DataFrame): The training dataset to calculate modes.\n",
    "        df_target (pd.DataFrame): The dataset to which imputation is applied (e.g., validation or test).\n",
    "        feature_to_fill (str): The name of the feature to impute missing values.\n",
    "        features_to_be_based_on (list): A list of features to use for group-based imputation.\n",
    "\n",
    "    Returns:\n",
    "        pd.DataFrame: The target dataset with imputed values.\n",
    "    \"\"\"\n",
    "    # Step 1: Calculate modes based on grouping features\n",
    "    group_modes = df_train.groupby(features_to_be_based_on)[feature_to_fill].agg(\n",
    "        lambda x: x.mode().iloc[0] if not x.mode().empty else None\n",
    "    ).to_dict()  # Ensure it's a dictionary for .get()\n",
    "    \n",
    "    global_modes = df_train.groupby(features_to_be_based_on[-1:])[feature_to_fill].agg(\n",
    "        lambda x: x.mode().iloc[0] if not x.mode().empty else None\n",
    "    ).to_dict()  # Ensure it's a dictionary for .get()\n",
    "    \n",
    "    overall_mode = (\n",
    "        df_train[feature_to_fill].mode().iloc[0]\n",
    "        if not df_train[feature_to_fill].mode().empty\n",
    "        else None\n",
    "    )  # Handle edge case for empty modes\n",
    "\n",
    "    # Step 2: Define the row-wise imputation logic\n",
    "    def impute_row(row):\n",
    "        if pd.isna(row[feature_to_fill]):\n",
    "            # Try group-based mode\n",
    "            group_values = tuple(row[feature] for feature in features_to_be_based_on)\n",
    "            group_mode = group_modes.get(group_values, None)\n",
    "            if group_mode is not None:\n",
    "                return group_mode\n",
    "\n",
    "            # Try global mode\n",
    "            global_value = tuple(row[feature] for feature in features_to_be_based_on[-1:])\n",
    "            global_mode = global_modes.get(global_value, None)\n",
    "            if global_mode is not None:\n",
    "                return global_mode\n",
    "\n",
    "            # Fallback to overall mode\n",
    "            return overall_mode\n",
    "        \n",
    "        return row[feature_to_fill]\n",
    "\n",
    "    # Step 3: Apply the imputation logic to the target dataset\n",
    "    df_target[feature_to_fill] = df_target.apply(impute_row, axis=1)\n",
    "    if df_target[feature_to_fill].isna().sum() > 0:\n",
    "        df_target[feature_to_fill].fillna(overall_mode, inplace=True)\n",
    "\n",
    "    return df_target"
   ]
  },
  {
   "cell_type": "code",
   "execution_count": 1444,
   "metadata": {},
   "outputs": [],
   "source": [
    "def impute_with_mapping(train_df, target_df, key_column, value_column):\n",
    "    \"\"\"\n",
    "    Impute missing values in a target column based on a mapping derived from another column.\n",
    "\n",
    "    Parameters:\n",
    "        train_df (pd.DataFrame): The training dataset used to build the mapping.\n",
    "        target_df (pd.DataFrame): The dataset to which imputation is applied (e.g., validation or test).\n",
    "        key_column (str): The column used as the key for the mapping (e.g., 'Industry Code').\n",
    "        value_column (str): The column where missing values will be imputed (e.g., 'Industry Code Description').\n",
    "\n",
    "    Returns:\n",
    "        pd.DataFrame: The target dataset with missing values imputed.\n",
    "    \"\"\"\n",
    "    # Step 1: Build the mapping from key_column to value_column\n",
    "    value_mapping = train_df.groupby(key_column)[value_column].agg(lambda x: x.mode().iloc[0] if not x.mode().empty else None).to_dict()\n",
    "    \n",
    "    # Step 2: Define the imputation function\n",
    "    def impute_row(row):\n",
    "        if pd.isna(row[value_column]) and row[key_column] in value_mapping:\n",
    "            return value_mapping[row[key_column]]\n",
    "        return row[value_column]\n",
    "    \n",
    "    # Step 3: Apply the imputation function to the target dataset\n",
    "    target_df[value_column] = target_df.apply(impute_row, axis=1)\n",
    "    \n",
    "    return target_df"
   ]
  },
  {
   "cell_type": "code",
   "execution_count": 1445,
   "metadata": {},
   "outputs": [],
   "source": [
    "#TODO We need to justify from what value we consider 'high correlation' for the features. Carrier Name s 0.48 with Industry Code and C-2 Date_year is 0.70 with Industry Code\n",
    "# Impute 'Industry Code' in the training, validation, and test sets\n",
    "X_train = imputer_function(X_train, X_train, 'Industry Code', ['C-2 Date_year', 'Carrier Name'])\n",
    "X_val = imputer_function(X_train, X_val, 'Industry Code', ['C-2 Date_year', 'Carrier Name'])\n",
    "df_test = imputer_function(X_train, df_test, 'Industry Code', ['C-2 Date_year', 'Carrier Name'])"
   ]
  },
  {
   "cell_type": "code",
   "execution_count": 1446,
   "metadata": {},
   "outputs": [
    {
     "name": "stdout",
     "output_type": "stream",
     "text": [
      "There are 0 missing values in X_train dataset.\n",
      "There are 0 missing values in X_val dataset.\n",
      "There are 0 missing values in df_test dataset.\n"
     ]
    }
   ],
   "source": [
    "#Missing values in 'Industry Code' in each dataset\n",
    "\n",
    "print(\"There are {} missing values in X_train dataset.\".format(X_train['Industry Code'].isna().sum()))\n",
    "print(\"There are {} missing values in X_val dataset.\".format(X_val['Industry Code'].isna().sum()))\n",
    "print(\"There are {} missing values in df_test dataset.\".format(df_test['Industry Code'].isna().sum()))"
   ]
  },
  {
   "cell_type": "code",
   "execution_count": 1447,
   "metadata": {},
   "outputs": [],
   "source": [
    "# Apply the imputation function to the training set\n",
    "X_train = impute_with_mapping(X_train, X_train, 'Industry Code', 'Industry Code Description')\n",
    "X_val = impute_with_mapping(X_train, X_val, 'Industry Code', 'Industry Code Description')\n",
    "df_test = impute_with_mapping(X_train, df_test, 'Industry Code', 'Industry Code Description')"
   ]
  },
  {
   "cell_type": "code",
   "execution_count": 1448,
   "metadata": {},
   "outputs": [
    {
     "name": "stdout",
     "output_type": "stream",
     "text": [
      "There are 0 missing values in X_train dataset.\n",
      "There are 0 missing values in X_val dataset.\n",
      "There are 0 missing values in df_test dataset.\n"
     ]
    }
   ],
   "source": [
    "#Missing values for 'Industry Code Description' in each dataset\n",
    "\n",
    "print(\"There are {} missing values in X_train dataset.\".format(X_train['Industry Code Description'].isna().sum()))\n",
    "print(\"There are {} missing values in X_val dataset.\".format(X_val['Industry Code Description'].isna().sum()))\n",
    "print(\"There are {} missing values in df_test dataset.\".format(df_test['Industry Code Description'].isna().sum()))"
   ]
  },
  {
   "cell_type": "markdown",
   "metadata": {},
   "source": [
    "### WCIO Cause of Injury Code and WCIO Cause of Injury Description"
   ]
  },
  {
   "cell_type": "markdown",
   "metadata": {},
   "source": [
    "This feature is highly correlated with COVID-19 Indicator and C-2 Date_year."
   ]
  },
  {
   "cell_type": "code",
   "execution_count": 1449,
   "metadata": {},
   "outputs": [],
   "source": [
    "# Apply the imputation function to the training set\n",
    "X_train = imputer_function(X_train, X_train, 'WCIO Cause of Injury Code', ['COVID-19 Indicator', 'C-2 Date_year'])\n",
    "X_val = imputer_function(X_train, X_val, 'WCIO Cause of Injury Code', ['COVID-19 Indicator', 'C-2 Date_year'])\n",
    "df_test = imputer_function(X_train, df_test, 'WCIO Cause of Injury Code', ['COVID-19 Indicator', 'C-2 Date_year'])"
   ]
  },
  {
   "cell_type": "code",
   "execution_count": 1450,
   "metadata": {},
   "outputs": [
    {
     "name": "stdout",
     "output_type": "stream",
     "text": [
      "There are 0 missing values in X_train dataset.\n",
      "There are 0 missing values in X_val dataset.\n",
      "There are 0 missing values in df_test dataset.\n"
     ]
    }
   ],
   "source": [
    "#Check missing values for 'WCIO Cause of Injury Code' in each dataset\n",
    "\n",
    "print(\"There are {} missing values in X_train dataset.\".format(X_train['WCIO Cause of Injury Code'].isna().sum()))\n",
    "print(\"There are {} missing values in X_val dataset.\".format(X_val['WCIO Cause of Injury Code'].isna().sum()))\n",
    "print(\"There are {} missing values in df_test dataset.\".format(df_test['WCIO Cause of Injury Code'].isna().sum()))"
   ]
  },
  {
   "cell_type": "code",
   "execution_count": 1451,
   "metadata": {},
   "outputs": [],
   "source": [
    "#Fill the missing 'WCIO Cause of Injury Description' with the mappings\n",
    "X_train = impute_with_mapping(X_train, X_train, 'WCIO Cause of Injury Code', 'WCIO Cause of Injury Description')\n",
    "X_val = impute_with_mapping(X_train, X_val, 'WCIO Cause of Injury Code', 'WCIO Cause of Injury Description')\n",
    "df_test = impute_with_mapping(X_train, df_test, 'WCIO Cause of Injury Code', 'WCIO Cause of Injury Description')"
   ]
  },
  {
   "cell_type": "code",
   "execution_count": 1452,
   "metadata": {},
   "outputs": [
    {
     "name": "stdout",
     "output_type": "stream",
     "text": [
      "There are 0 missing values in X_train dataset.\n",
      "There are 0 missing values in X_val dataset.\n",
      "There are 0 missing values in df_test dataset.\n"
     ]
    }
   ],
   "source": [
    "#Check the missing values for 'WCIO Cause of Injury Description' in each dataset\n",
    "\n",
    "print(\"There are {} missing values in X_train dataset.\".format(X_train['WCIO Cause of Injury Description'].isna().sum()))\n",
    "print(\"There are {} missing values in X_val dataset.\".format(X_val['WCIO Cause of Injury Description'].isna().sum()))\n",
    "print(\"There are {} missing values in df_test dataset.\".format(df_test['WCIO Cause of Injury Description'].isna().sum()))"
   ]
  },
  {
   "cell_type": "markdown",
   "metadata": {},
   "source": [
    "### WCIO Nature of Injury Code and WCIO Nature of Injury Description"
   ]
  },
  {
   "cell_type": "markdown",
   "metadata": {},
   "source": [
    "This feature is highly correlated with COVID-19 Indicator and C-2 Date_year."
   ]
  },
  {
   "cell_type": "code",
   "execution_count": 1453,
   "metadata": {},
   "outputs": [],
   "source": [
    "# Apply the imputation function to the training set\n",
    "X_train = imputer_function(X_train, X_train, 'WCIO Nature of Injury Code', ['COVID-19 Indicator', 'C-2 Date_year'])\n",
    "X_val = imputer_function(X_train, X_val, 'WCIO Nature of Injury Code', ['COVID-19 Indicator', 'C-2 Date_year'])\n",
    "df_test = imputer_function(X_train, df_test, 'WCIO Nature of Injury Code', ['COVID-19 Indicator', 'C-2 Date_year'])"
   ]
  },
  {
   "cell_type": "code",
   "execution_count": 1454,
   "metadata": {},
   "outputs": [
    {
     "name": "stdout",
     "output_type": "stream",
     "text": [
      "There are 0 missing values in X_train dataset.\n",
      "There are 0 missing values in X_val dataset.\n",
      "There are 0 missing values in df_test dataset.\n"
     ]
    }
   ],
   "source": [
    "#Check missing values for 'WCIO Nature of Injury Code' in each dataset\n",
    "\n",
    "print(\"There are {} missing values in X_train dataset.\".format(X_train['WCIO Nature of Injury Code'].isna().sum()))\n",
    "print(\"There are {} missing values in X_val dataset.\".format(X_val['WCIO Nature of Injury Code'].isna().sum()))\n",
    "print(\"There are {} missing values in df_test dataset.\".format(df_test['WCIO Nature of Injury Code'].isna().sum()))"
   ]
  },
  {
   "cell_type": "code",
   "execution_count": 1455,
   "metadata": {},
   "outputs": [],
   "source": [
    "X_train = impute_with_mapping(X_train, X_train, 'WCIO Nature of Injury Code', 'WCIO Nature of Injury Description')\n",
    "X_val = impute_with_mapping(X_train, X_val, 'WCIO Nature of Injury Code', 'WCIO Nature of Injury Description')\n",
    "df_test = impute_with_mapping(X_train, df_test, 'WCIO Nature of Injury Code', 'WCIO Nature of Injury Description')"
   ]
  },
  {
   "cell_type": "code",
   "execution_count": 1456,
   "metadata": {},
   "outputs": [
    {
     "name": "stdout",
     "output_type": "stream",
     "text": [
      "There are 0 missing values in X_train dataset.\n",
      "There are 0 missing values in X_val dataset.\n",
      "There are 0 missing values in df_test dataset.\n"
     ]
    }
   ],
   "source": [
    "#Check missing values for 'WCIO Nature of Injury Description' in each dataset\n",
    "\n",
    "print(\"There are {} missing values in X_train dataset.\".format(X_train['WCIO Nature of Injury Description'].isna().sum()))\n",
    "print(\"There are {} missing values in X_val dataset.\".format(X_val['WCIO Nature of Injury Description'].isna().sum()))\n",
    "print(\"There are {} missing values in df_test dataset.\".format(df_test['WCIO Nature of Injury Description'].isna().sum()))"
   ]
  },
  {
   "cell_type": "code",
   "execution_count": 1457,
   "metadata": {},
   "outputs": [
    {
     "name": "stdout",
     "output_type": "stream",
     "text": [
      "Accident Date                             0\n",
      "diff_accident_assembly                    0\n",
      "Number of Dependents                      0\n",
      "WCIO Nature of Injury Description         0\n",
      "WCIO Nature of Injury Code                0\n",
      "WCIO Cause of Injury Description          0\n",
      "WCIO Cause of Injury Code                 0\n",
      "Industry Code Description                 0\n",
      "Industry Code                             0\n",
      "District Name                             0\n",
      "COVID-19 Indicator                        0\n",
      "Gender                                    0\n",
      "Carrier Type                              0\n",
      "Age at Injury                             0\n",
      "Assembly Date                             0\n",
      "Attorney/Representative                   0\n",
      "County of Injury                          0\n",
      "C-2 Date                                  0\n",
      "C-2 Date_year                             0\n",
      "Carrier Name                              0\n",
      "Alternative Dispute Resolution            5\n",
      "diff_assembly_c2                       9454\n",
      "WCIO Part Of Body Description         10979\n",
      "Birth Year                            22445\n",
      "Medical Fee Region                    24932\n",
      "Zip Code                              33493\n",
      "WCIO Part Of Body Code                43261\n",
      "Average Weekly Wage                  281225\n",
      "C-3 Date                             300581\n",
      "First Hearing Date                   327220\n",
      "IME-4 Count                          340122\n",
      "dtype: int64\n"
     ]
    }
   ],
   "source": [
    "#Check for missing values \n",
    "\n",
    "print(X_train.isna().sum().sort_values())"
   ]
  },
  {
   "cell_type": "markdown",
   "metadata": {},
   "source": [
    "### WCIO Part Of Body Code and WCIO Part Of Body Description"
   ]
  },
  {
   "cell_type": "markdown",
   "metadata": {},
   "source": [
    "This feature is highly correlated with COVID-19 Indicator and C-2 Date_year."
   ]
  },
  {
   "cell_type": "code",
   "execution_count": 1458,
   "metadata": {},
   "outputs": [],
   "source": [
    "X_train = imputer_function(X_train, X_train, 'WCIO Part Of Body Code', ['COVID-19 Indicator', 'C-2 Date_year'])\n",
    "X_val = imputer_function(X_train, X_val, 'WCIO Part Of Body Code', ['COVID-19 Indicator', 'C-2 Date_year'])\n",
    "df_test = imputer_function(X_train, df_test, 'WCIO Part Of Body Code', ['COVID-19 Indicator', 'C-2 Date_year'])\n"
   ]
  },
  {
   "cell_type": "code",
   "execution_count": 1459,
   "metadata": {},
   "outputs": [
    {
     "name": "stdout",
     "output_type": "stream",
     "text": [
      "There are 0 missing values in X_train dataset.\n",
      "There are 0 missing values in X_val dataset.\n",
      "There are 0 missing values in df_test dataset.\n"
     ]
    }
   ],
   "source": [
    "#Check missing values for 'WCIO Part Of Body Code' in each dataset\n",
    "\n",
    "print(\"There are {} missing values in X_train dataset.\".format(X_train['WCIO Part Of Body Code'].isna().sum()))\n",
    "print(\"There are {} missing values in X_val dataset.\".format(X_val['WCIO Part Of Body Code'].isna().sum()))\n",
    "print(\"There are {} missing values in df_test dataset.\".format(df_test['WCIO Part Of Body Code'].isna().sum()))"
   ]
  },
  {
   "cell_type": "code",
   "execution_count": 1460,
   "metadata": {},
   "outputs": [],
   "source": [
    "X_train = impute_with_mapping(X_train, X_train, 'WCIO Part Of Body Code', 'WCIO Part Of Body Description')\n",
    "X_val = impute_with_mapping(X_train, X_val, 'WCIO Part Of Body Code', 'WCIO Part Of Body Description')\n",
    "df_test = impute_with_mapping(X_train, df_test, 'WCIO Part Of Body Code', 'WCIO Part Of Body Description')"
   ]
  },
  {
   "cell_type": "code",
   "execution_count": 1461,
   "metadata": {},
   "outputs": [
    {
     "name": "stdout",
     "output_type": "stream",
     "text": [
      "There are 0 missing values in X_train dataset.\n",
      "There are 0 missing values in X_val dataset.\n",
      "There are 0 missing values in df_test dataset.\n"
     ]
    }
   ],
   "source": [
    "#Check missing values for 'WCIO Part Of Body Description' in each dataset\n",
    "\n",
    "print(\"There are {} missing values in X_train dataset.\".format(X_train['WCIO Part Of Body Description'].isna().sum()))\n",
    "print(\"There are {} missing values in X_val dataset.\".format(X_val['WCIO Part Of Body Description'].isna().sum()))\n",
    "print(\"There are {} missing values in df_test dataset.\".format(df_test['WCIO Part Of Body Description'].isna().sum()))"
   ]
  },
  {
   "cell_type": "markdown",
   "metadata": {},
   "source": [
    "### Zip code"
   ]
  },
  {
   "cell_type": "code",
   "execution_count": 1462,
   "metadata": {},
   "outputs": [
    {
     "data": {
      "text/html": [
       "<div>\n",
       "<style scoped>\n",
       "    .dataframe tbody tr th:only-of-type {\n",
       "        vertical-align: middle;\n",
       "    }\n",
       "\n",
       "    .dataframe tbody tr th {\n",
       "        vertical-align: top;\n",
       "    }\n",
       "\n",
       "    .dataframe thead th {\n",
       "        text-align: right;\n",
       "    }\n",
       "</style>\n",
       "<table border=\"1\" class=\"dataframe\">\n",
       "  <thead>\n",
       "    <tr style=\"text-align: right;\">\n",
       "      <th></th>\n",
       "      <th>Accident Date</th>\n",
       "      <th>Age at Injury</th>\n",
       "      <th>Alternative Dispute Resolution</th>\n",
       "      <th>Assembly Date</th>\n",
       "      <th>Attorney/Representative</th>\n",
       "      <th>Average Weekly Wage</th>\n",
       "      <th>Birth Year</th>\n",
       "      <th>C-2 Date</th>\n",
       "      <th>C-3 Date</th>\n",
       "      <th>Carrier Name</th>\n",
       "      <th>...</th>\n",
       "      <th>Medical Fee Region</th>\n",
       "      <th>WCIO Cause of Injury Code</th>\n",
       "      <th>WCIO Cause of Injury Description</th>\n",
       "      <th>WCIO Nature of Injury Code</th>\n",
       "      <th>WCIO Nature of Injury Description</th>\n",
       "      <th>WCIO Part Of Body Code</th>\n",
       "      <th>WCIO Part Of Body Description</th>\n",
       "      <th>Zip Code</th>\n",
       "      <th>Number of Dependents</th>\n",
       "      <th>C-2 Date_year</th>\n",
       "    </tr>\n",
       "    <tr>\n",
       "      <th>Claim Identifier</th>\n",
       "      <th></th>\n",
       "      <th></th>\n",
       "      <th></th>\n",
       "      <th></th>\n",
       "      <th></th>\n",
       "      <th></th>\n",
       "      <th></th>\n",
       "      <th></th>\n",
       "      <th></th>\n",
       "      <th></th>\n",
       "      <th></th>\n",
       "      <th></th>\n",
       "      <th></th>\n",
       "      <th></th>\n",
       "      <th></th>\n",
       "      <th></th>\n",
       "      <th></th>\n",
       "      <th></th>\n",
       "      <th></th>\n",
       "      <th></th>\n",
       "      <th></th>\n",
       "    </tr>\n",
       "  </thead>\n",
       "  <tbody>\n",
       "    <tr>\n",
       "      <th>6165911</th>\n",
       "      <td>2022-12-24</td>\n",
       "      <td>19</td>\n",
       "      <td>0.0</td>\n",
       "      <td>2023-01-02</td>\n",
       "      <td>0</td>\n",
       "      <td>NaN</td>\n",
       "      <td>2003.0</td>\n",
       "      <td>2023-01-02</td>\n",
       "      <td>NaN</td>\n",
       "      <td>INDEMNITY INSURANCE CO OF</td>\n",
       "      <td>...</td>\n",
       "      <td>IV</td>\n",
       "      <td>31.0</td>\n",
       "      <td>FALL, SLIP OR TRIP, NOC</td>\n",
       "      <td>10.0</td>\n",
       "      <td>CONTUSION</td>\n",
       "      <td>54.0</td>\n",
       "      <td>LOWER LEG</td>\n",
       "      <td>10466</td>\n",
       "      <td>1</td>\n",
       "      <td>2023</td>\n",
       "    </tr>\n",
       "    <tr>\n",
       "      <th>6166141</th>\n",
       "      <td>2022-11-20</td>\n",
       "      <td>19</td>\n",
       "      <td>0.0</td>\n",
       "      <td>2023-01-02</td>\n",
       "      <td>0</td>\n",
       "      <td>NaN</td>\n",
       "      <td>2003.0</td>\n",
       "      <td>2023-01-02</td>\n",
       "      <td>NaN</td>\n",
       "      <td>A I U INSURANCE COMPANY</td>\n",
       "      <td>...</td>\n",
       "      <td>IV</td>\n",
       "      <td>75.0</td>\n",
       "      <td>FALLING OR FLYING OBJECT</td>\n",
       "      <td>10.0</td>\n",
       "      <td>CONTUSION</td>\n",
       "      <td>10.0</td>\n",
       "      <td>MULTIPLE HEAD INJURY</td>\n",
       "      <td>11691</td>\n",
       "      <td>1</td>\n",
       "      <td>2023</td>\n",
       "    </tr>\n",
       "    <tr>\n",
       "      <th>6165907</th>\n",
       "      <td>2022-12-26</td>\n",
       "      <td>59</td>\n",
       "      <td>0.0</td>\n",
       "      <td>2023-01-02</td>\n",
       "      <td>0</td>\n",
       "      <td>0.0</td>\n",
       "      <td>1963.0</td>\n",
       "      <td>2022-12-31</td>\n",
       "      <td>NaN</td>\n",
       "      <td>AMGUARD INSURANCE COMPANY</td>\n",
       "      <td>...</td>\n",
       "      <td>III</td>\n",
       "      <td>68.0</td>\n",
       "      <td>STATIONARY OBJECT</td>\n",
       "      <td>49.0</td>\n",
       "      <td>SPRAIN OR TEAR</td>\n",
       "      <td>62.0</td>\n",
       "      <td>BUTTOCKS</td>\n",
       "      <td>10604</td>\n",
       "      <td>0</td>\n",
       "      <td>2022</td>\n",
       "    </tr>\n",
       "    <tr>\n",
       "      <th>6166047</th>\n",
       "      <td>2022-12-28</td>\n",
       "      <td>55</td>\n",
       "      <td>0.0</td>\n",
       "      <td>2023-01-02</td>\n",
       "      <td>0</td>\n",
       "      <td>0.0</td>\n",
       "      <td>0.0</td>\n",
       "      <td>2023-01-02</td>\n",
       "      <td>NaN</td>\n",
       "      <td>INDEMNITY INS. OF N AMERICA</td>\n",
       "      <td>...</td>\n",
       "      <td>IV</td>\n",
       "      <td>25.0</td>\n",
       "      <td>FROM DIFFERENT LEVEL (ELEVATION)</td>\n",
       "      <td>10.0</td>\n",
       "      <td>CONTUSION</td>\n",
       "      <td>53.0</td>\n",
       "      <td>KNEE</td>\n",
       "      <td>11411</td>\n",
       "      <td>6</td>\n",
       "      <td>2023</td>\n",
       "    </tr>\n",
       "    <tr>\n",
       "      <th>6166102</th>\n",
       "      <td>2022-12-20</td>\n",
       "      <td>25</td>\n",
       "      <td>0.0</td>\n",
       "      <td>2023-01-02</td>\n",
       "      <td>0</td>\n",
       "      <td>0.0</td>\n",
       "      <td>1997.0</td>\n",
       "      <td>2022-12-31</td>\n",
       "      <td>NaN</td>\n",
       "      <td>NEW HAMPSHIRE INSURANCE CO</td>\n",
       "      <td>...</td>\n",
       "      <td>IV</td>\n",
       "      <td>79.0</td>\n",
       "      <td>OBJECT BEING LIFTED OR HANDLED</td>\n",
       "      <td>40.0</td>\n",
       "      <td>LACERATION</td>\n",
       "      <td>37.0</td>\n",
       "      <td>THUMB</td>\n",
       "      <td>11212</td>\n",
       "      <td>5</td>\n",
       "      <td>2022</td>\n",
       "    </tr>\n",
       "    <tr>\n",
       "      <th>...</th>\n",
       "      <td>...</td>\n",
       "      <td>...</td>\n",
       "      <td>...</td>\n",
       "      <td>...</td>\n",
       "      <td>...</td>\n",
       "      <td>...</td>\n",
       "      <td>...</td>\n",
       "      <td>...</td>\n",
       "      <td>...</td>\n",
       "      <td>...</td>\n",
       "      <td>...</td>\n",
       "      <td>...</td>\n",
       "      <td>...</td>\n",
       "      <td>...</td>\n",
       "      <td>...</td>\n",
       "      <td>...</td>\n",
       "      <td>...</td>\n",
       "      <td>...</td>\n",
       "      <td>...</td>\n",
       "      <td>...</td>\n",
       "      <td>...</td>\n",
       "    </tr>\n",
       "    <tr>\n",
       "      <th>6553137</th>\n",
       "      <td>2012-09-12</td>\n",
       "      <td>52</td>\n",
       "      <td>0.0</td>\n",
       "      <td>2024-06-05</td>\n",
       "      <td>0</td>\n",
       "      <td>NaN</td>\n",
       "      <td>1960.0</td>\n",
       "      <td>2012-10-23</td>\n",
       "      <td>NaN</td>\n",
       "      <td>STATE INSURANCE FUND</td>\n",
       "      <td>...</td>\n",
       "      <td>I</td>\n",
       "      <td>56.0</td>\n",
       "      <td>LIFTING</td>\n",
       "      <td>52.0</td>\n",
       "      <td>STRAIN OR TEAR</td>\n",
       "      <td>42.0</td>\n",
       "      <td>LOWER BACK AREA</td>\n",
       "      <td>13619</td>\n",
       "      <td>5</td>\n",
       "      <td>2012</td>\n",
       "    </tr>\n",
       "    <tr>\n",
       "      <th>6553119</th>\n",
       "      <td>2024-05-22</td>\n",
       "      <td>59</td>\n",
       "      <td>0.0</td>\n",
       "      <td>2024-06-05</td>\n",
       "      <td>1</td>\n",
       "      <td>0.0</td>\n",
       "      <td>1965.0</td>\n",
       "      <td>2024-06-09</td>\n",
       "      <td>2024-05-28</td>\n",
       "      <td>NYC TRANSIT AUTHORITY</td>\n",
       "      <td>...</td>\n",
       "      <td>IV</td>\n",
       "      <td>57.0</td>\n",
       "      <td>PUSHING OR PULLING</td>\n",
       "      <td>10.0</td>\n",
       "      <td>CONTUSION</td>\n",
       "      <td>42.0</td>\n",
       "      <td>LOWER BACK AREA</td>\n",
       "      <td>11776</td>\n",
       "      <td>1</td>\n",
       "      <td>2024</td>\n",
       "    </tr>\n",
       "    <tr>\n",
       "      <th>6553542</th>\n",
       "      <td>2024-05-06</td>\n",
       "      <td>45</td>\n",
       "      <td>0.0</td>\n",
       "      <td>2024-06-05</td>\n",
       "      <td>1</td>\n",
       "      <td>0.0</td>\n",
       "      <td>1979.0</td>\n",
       "      <td>2024-06-09</td>\n",
       "      <td>NaN</td>\n",
       "      <td>STATE INSURANCE FUND</td>\n",
       "      <td>...</td>\n",
       "      <td>IV</td>\n",
       "      <td>57.0</td>\n",
       "      <td>PUSHING OR PULLING</td>\n",
       "      <td>10.0</td>\n",
       "      <td>CONTUSION</td>\n",
       "      <td>42.0</td>\n",
       "      <td>LOWER BACK AREA</td>\n",
       "      <td>11368</td>\n",
       "      <td>5</td>\n",
       "      <td>2024</td>\n",
       "    </tr>\n",
       "    <tr>\n",
       "      <th>6553455</th>\n",
       "      <td>2024-02-24</td>\n",
       "      <td>42</td>\n",
       "      <td>0.0</td>\n",
       "      <td>2024-06-05</td>\n",
       "      <td>1</td>\n",
       "      <td>0.0</td>\n",
       "      <td>1981.0</td>\n",
       "      <td>2024-06-09</td>\n",
       "      <td>2024-05-21</td>\n",
       "      <td>NEW YORK BLACK CAR OPERATORS'</td>\n",
       "      <td>...</td>\n",
       "      <td>IV</td>\n",
       "      <td>57.0</td>\n",
       "      <td>PUSHING OR PULLING</td>\n",
       "      <td>10.0</td>\n",
       "      <td>CONTUSION</td>\n",
       "      <td>42.0</td>\n",
       "      <td>LOWER BACK AREA</td>\n",
       "      <td>11432</td>\n",
       "      <td>5</td>\n",
       "      <td>2024</td>\n",
       "    </tr>\n",
       "    <tr>\n",
       "      <th>6553594</th>\n",
       "      <td>2024-04-23 00:00:00</td>\n",
       "      <td>0</td>\n",
       "      <td>0.0</td>\n",
       "      <td>2024-06-05</td>\n",
       "      <td>1</td>\n",
       "      <td>0.0</td>\n",
       "      <td>NaN</td>\n",
       "      <td>2024-06-09</td>\n",
       "      <td>2024-05-28</td>\n",
       "      <td>CNY OTHER THAN ED, HED WATER</td>\n",
       "      <td>...</td>\n",
       "      <td>IV</td>\n",
       "      <td>57.0</td>\n",
       "      <td>PUSHING OR PULLING</td>\n",
       "      <td>10.0</td>\n",
       "      <td>CONTUSION</td>\n",
       "      <td>42.0</td>\n",
       "      <td>LOWER BACK AREA</td>\n",
       "      <td>10302</td>\n",
       "      <td>5</td>\n",
       "      <td>2024</td>\n",
       "    </tr>\n",
       "  </tbody>\n",
       "</table>\n",
       "<p>387975 rows × 29 columns</p>\n",
       "</div>"
      ],
      "text/plain": [
       "                        Accident Date  Age at Injury  \\\n",
       "Claim Identifier                                       \n",
       "6165911                    2022-12-24             19   \n",
       "6166141                    2022-11-20             19   \n",
       "6165907                    2022-12-26             59   \n",
       "6166047                    2022-12-28             55   \n",
       "6166102                    2022-12-20             25   \n",
       "...                               ...            ...   \n",
       "6553137                    2012-09-12             52   \n",
       "6553119                    2024-05-22             59   \n",
       "6553542                    2024-05-06             45   \n",
       "6553455                    2024-02-24             42   \n",
       "6553594           2024-04-23 00:00:00              0   \n",
       "\n",
       "                  Alternative Dispute Resolution Assembly Date  \\\n",
       "Claim Identifier                                                 \n",
       "6165911                                      0.0    2023-01-02   \n",
       "6166141                                      0.0    2023-01-02   \n",
       "6165907                                      0.0    2023-01-02   \n",
       "6166047                                      0.0    2023-01-02   \n",
       "6166102                                      0.0    2023-01-02   \n",
       "...                                          ...           ...   \n",
       "6553137                                      0.0    2024-06-05   \n",
       "6553119                                      0.0    2024-06-05   \n",
       "6553542                                      0.0    2024-06-05   \n",
       "6553455                                      0.0    2024-06-05   \n",
       "6553594                                      0.0    2024-06-05   \n",
       "\n",
       "                  Attorney/Representative  Average Weekly Wage  Birth Year  \\\n",
       "Claim Identifier                                                             \n",
       "6165911                                 0                  NaN      2003.0   \n",
       "6166141                                 0                  NaN      2003.0   \n",
       "6165907                                 0                  0.0      1963.0   \n",
       "6166047                                 0                  0.0         0.0   \n",
       "6166102                                 0                  0.0      1997.0   \n",
       "...                                   ...                  ...         ...   \n",
       "6553137                                 0                  NaN      1960.0   \n",
       "6553119                                 1                  0.0      1965.0   \n",
       "6553542                                 1                  0.0      1979.0   \n",
       "6553455                                 1                  0.0      1981.0   \n",
       "6553594                                 1                  0.0         NaN   \n",
       "\n",
       "                   C-2 Date    C-3 Date                   Carrier Name  ...  \\\n",
       "Claim Identifier                                                        ...   \n",
       "6165911          2023-01-02         NaN      INDEMNITY INSURANCE CO OF  ...   \n",
       "6166141          2023-01-02         NaN        A I U INSURANCE COMPANY  ...   \n",
       "6165907          2022-12-31         NaN      AMGUARD INSURANCE COMPANY  ...   \n",
       "6166047          2023-01-02         NaN    INDEMNITY INS. OF N AMERICA  ...   \n",
       "6166102          2022-12-31         NaN     NEW HAMPSHIRE INSURANCE CO  ...   \n",
       "...                     ...         ...                            ...  ...   \n",
       "6553137          2012-10-23         NaN           STATE INSURANCE FUND  ...   \n",
       "6553119          2024-06-09  2024-05-28          NYC TRANSIT AUTHORITY  ...   \n",
       "6553542          2024-06-09         NaN           STATE INSURANCE FUND  ...   \n",
       "6553455          2024-06-09  2024-05-21  NEW YORK BLACK CAR OPERATORS'  ...   \n",
       "6553594          2024-06-09  2024-05-28   CNY OTHER THAN ED, HED WATER  ...   \n",
       "\n",
       "                 Medical Fee Region WCIO Cause of Injury Code  \\\n",
       "Claim Identifier                                                \n",
       "6165911                          IV                      31.0   \n",
       "6166141                          IV                      75.0   \n",
       "6165907                         III                      68.0   \n",
       "6166047                          IV                      25.0   \n",
       "6166102                          IV                      79.0   \n",
       "...                             ...                       ...   \n",
       "6553137                           I                      56.0   \n",
       "6553119                          IV                      57.0   \n",
       "6553542                          IV                      57.0   \n",
       "6553455                          IV                      57.0   \n",
       "6553594                          IV                      57.0   \n",
       "\n",
       "                  WCIO Cause of Injury Description WCIO Nature of Injury Code  \\\n",
       "Claim Identifier                                                                \n",
       "6165911                    FALL, SLIP OR TRIP, NOC                       10.0   \n",
       "6166141                   FALLING OR FLYING OBJECT                       10.0   \n",
       "6165907                          STATIONARY OBJECT                       49.0   \n",
       "6166047           FROM DIFFERENT LEVEL (ELEVATION)                       10.0   \n",
       "6166102             OBJECT BEING LIFTED OR HANDLED                       40.0   \n",
       "...                                            ...                        ...   \n",
       "6553137                                    LIFTING                       52.0   \n",
       "6553119                         PUSHING OR PULLING                       10.0   \n",
       "6553542                         PUSHING OR PULLING                       10.0   \n",
       "6553455                         PUSHING OR PULLING                       10.0   \n",
       "6553594                         PUSHING OR PULLING                       10.0   \n",
       "\n",
       "                 WCIO Nature of Injury Description WCIO Part Of Body Code  \\\n",
       "Claim Identifier                                                            \n",
       "6165911                                  CONTUSION                   54.0   \n",
       "6166141                                  CONTUSION                   10.0   \n",
       "6165907                             SPRAIN OR TEAR                   62.0   \n",
       "6166047                                  CONTUSION                   53.0   \n",
       "6166102                                 LACERATION                   37.0   \n",
       "...                                            ...                    ...   \n",
       "6553137                             STRAIN OR TEAR                   42.0   \n",
       "6553119                                  CONTUSION                   42.0   \n",
       "6553542                                  CONTUSION                   42.0   \n",
       "6553455                                  CONTUSION                   42.0   \n",
       "6553594                                  CONTUSION                   42.0   \n",
       "\n",
       "                  WCIO Part Of Body Description  Zip Code  \\\n",
       "Claim Identifier                                            \n",
       "6165911                               LOWER LEG     10466   \n",
       "6166141                    MULTIPLE HEAD INJURY     11691   \n",
       "6165907                                BUTTOCKS     10604   \n",
       "6166047                                    KNEE     11411   \n",
       "6166102                                   THUMB     11212   \n",
       "...                                         ...       ...   \n",
       "6553137                         LOWER BACK AREA     13619   \n",
       "6553119                         LOWER BACK AREA     11776   \n",
       "6553542                         LOWER BACK AREA     11368   \n",
       "6553455                         LOWER BACK AREA     11432   \n",
       "6553594                         LOWER BACK AREA     10302   \n",
       "\n",
       "                 Number of Dependents C-2 Date_year  \n",
       "Claim Identifier                                     \n",
       "6165911                             1          2023  \n",
       "6166141                             1          2023  \n",
       "6165907                             0          2022  \n",
       "6166047                             6          2023  \n",
       "6166102                             5          2022  \n",
       "...                               ...           ...  \n",
       "6553137                             5          2012  \n",
       "6553119                             1          2024  \n",
       "6553542                             5          2024  \n",
       "6553455                             5          2024  \n",
       "6553594                             5          2024  \n",
       "\n",
       "[387975 rows x 29 columns]"
      ]
     },
     "execution_count": 1462,
     "metadata": {},
     "output_type": "execute_result"
    }
   ],
   "source": [
    "imputer_function(X_train, X_train, 'Zip Code', ['Medical Fee Region','County of Injury', 'District Name'])\n",
    "imputer_function(X_train, X_val, 'Zip Code', ['Medical Fee Region','County of Injury', 'District Name'])\n",
    "imputer_function(X_train, df_test, 'Zip Code', ['Medical Fee Region','County of Injury', 'District Name'])"
   ]
  },
  {
   "cell_type": "code",
   "execution_count": 1463,
   "metadata": {},
   "outputs": [
    {
     "name": "stdout",
     "output_type": "stream",
     "text": [
      "There are 0 missing values in X_train dataset.\n",
      "There are 0 missing values in X_val dataset.\n",
      "There are 0 missing values in df_test dataset.\n"
     ]
    }
   ],
   "source": [
    "#Check missing values for 'Zip Code' in each dataset\n",
    "\n",
    "print(\"There are {} missing values in X_train dataset.\".format(X_train['Zip Code'].isna().sum()))\n",
    "print(\"There are {} missing values in X_val dataset.\".format(X_val['Zip Code'].isna().sum()))\n",
    "print(\"There are {} missing values in df_test dataset.\".format(df_test['Zip Code'].isna().sum()))"
   ]
  },
  {
   "cell_type": "markdown",
   "metadata": {},
   "source": [
    "### Medical Fee Region"
   ]
  },
  {
   "cell_type": "code",
   "execution_count": 1464,
   "metadata": {},
   "outputs": [
    {
     "name": "stdout",
     "output_type": "stream",
     "text": [
      "Accident Date                             0\n",
      "diff_accident_assembly                    0\n",
      "Number of Dependents                      0\n",
      "Zip Code                                  0\n",
      "WCIO Part Of Body Description             0\n",
      "WCIO Part Of Body Code                    0\n",
      "WCIO Nature of Injury Description         0\n",
      "WCIO Nature of Injury Code                0\n",
      "WCIO Cause of Injury Description          0\n",
      "WCIO Cause of Injury Code                 0\n",
      "Industry Code Description                 0\n",
      "Industry Code                             0\n",
      "District Name                             0\n",
      "Gender                                    0\n",
      "C-2 Date                                  0\n",
      "Age at Injury                             0\n",
      "Assembly Date                             0\n",
      "Attorney/Representative                   0\n",
      "COVID-19 Indicator                        0\n",
      "Carrier Name                              0\n",
      "C-2 Date_year                             0\n",
      "Carrier Type                              0\n",
      "County of Injury                          0\n",
      "Alternative Dispute Resolution            5\n",
      "diff_assembly_c2                       9454\n",
      "Birth Year                            22445\n",
      "Medical Fee Region                    24932\n",
      "Average Weekly Wage                  281225\n",
      "C-3 Date                             300581\n",
      "First Hearing Date                   327220\n",
      "IME-4 Count                          340122\n",
      "dtype: int64\n"
     ]
    }
   ],
   "source": [
    "#Check for missing values\n",
    "\n",
    "print(X_train.isna().sum().sort_values())"
   ]
  },
  {
   "cell_type": "code",
   "execution_count": 1465,
   "metadata": {},
   "outputs": [
    {
     "data": {
      "text/html": [
       "<div>\n",
       "<style scoped>\n",
       "    .dataframe tbody tr th:only-of-type {\n",
       "        vertical-align: middle;\n",
       "    }\n",
       "\n",
       "    .dataframe tbody tr th {\n",
       "        vertical-align: top;\n",
       "    }\n",
       "\n",
       "    .dataframe thead th {\n",
       "        text-align: right;\n",
       "    }\n",
       "</style>\n",
       "<table border=\"1\" class=\"dataframe\">\n",
       "  <thead>\n",
       "    <tr style=\"text-align: right;\">\n",
       "      <th></th>\n",
       "      <th>Accident Date</th>\n",
       "      <th>Age at Injury</th>\n",
       "      <th>Alternative Dispute Resolution</th>\n",
       "      <th>Assembly Date</th>\n",
       "      <th>Attorney/Representative</th>\n",
       "      <th>Average Weekly Wage</th>\n",
       "      <th>Birth Year</th>\n",
       "      <th>C-2 Date</th>\n",
       "      <th>C-3 Date</th>\n",
       "      <th>Carrier Name</th>\n",
       "      <th>...</th>\n",
       "      <th>Medical Fee Region</th>\n",
       "      <th>WCIO Cause of Injury Code</th>\n",
       "      <th>WCIO Cause of Injury Description</th>\n",
       "      <th>WCIO Nature of Injury Code</th>\n",
       "      <th>WCIO Nature of Injury Description</th>\n",
       "      <th>WCIO Part Of Body Code</th>\n",
       "      <th>WCIO Part Of Body Description</th>\n",
       "      <th>Zip Code</th>\n",
       "      <th>Number of Dependents</th>\n",
       "      <th>C-2 Date_year</th>\n",
       "    </tr>\n",
       "    <tr>\n",
       "      <th>Claim Identifier</th>\n",
       "      <th></th>\n",
       "      <th></th>\n",
       "      <th></th>\n",
       "      <th></th>\n",
       "      <th></th>\n",
       "      <th></th>\n",
       "      <th></th>\n",
       "      <th></th>\n",
       "      <th></th>\n",
       "      <th></th>\n",
       "      <th></th>\n",
       "      <th></th>\n",
       "      <th></th>\n",
       "      <th></th>\n",
       "      <th></th>\n",
       "      <th></th>\n",
       "      <th></th>\n",
       "      <th></th>\n",
       "      <th></th>\n",
       "      <th></th>\n",
       "      <th></th>\n",
       "    </tr>\n",
       "  </thead>\n",
       "  <tbody>\n",
       "    <tr>\n",
       "      <th>6165911</th>\n",
       "      <td>2022-12-24</td>\n",
       "      <td>19</td>\n",
       "      <td>0.0</td>\n",
       "      <td>2023-01-02</td>\n",
       "      <td>0</td>\n",
       "      <td>NaN</td>\n",
       "      <td>2003.0</td>\n",
       "      <td>2023-01-02</td>\n",
       "      <td>NaN</td>\n",
       "      <td>INDEMNITY INSURANCE CO OF</td>\n",
       "      <td>...</td>\n",
       "      <td>IV</td>\n",
       "      <td>31.0</td>\n",
       "      <td>FALL, SLIP OR TRIP, NOC</td>\n",
       "      <td>10.0</td>\n",
       "      <td>CONTUSION</td>\n",
       "      <td>54.0</td>\n",
       "      <td>LOWER LEG</td>\n",
       "      <td>10466</td>\n",
       "      <td>1</td>\n",
       "      <td>2023</td>\n",
       "    </tr>\n",
       "    <tr>\n",
       "      <th>6166141</th>\n",
       "      <td>2022-11-20</td>\n",
       "      <td>19</td>\n",
       "      <td>0.0</td>\n",
       "      <td>2023-01-02</td>\n",
       "      <td>0</td>\n",
       "      <td>NaN</td>\n",
       "      <td>2003.0</td>\n",
       "      <td>2023-01-02</td>\n",
       "      <td>NaN</td>\n",
       "      <td>A I U INSURANCE COMPANY</td>\n",
       "      <td>...</td>\n",
       "      <td>IV</td>\n",
       "      <td>75.0</td>\n",
       "      <td>FALLING OR FLYING OBJECT</td>\n",
       "      <td>10.0</td>\n",
       "      <td>CONTUSION</td>\n",
       "      <td>10.0</td>\n",
       "      <td>MULTIPLE HEAD INJURY</td>\n",
       "      <td>11691</td>\n",
       "      <td>1</td>\n",
       "      <td>2023</td>\n",
       "    </tr>\n",
       "    <tr>\n",
       "      <th>6165907</th>\n",
       "      <td>2022-12-26</td>\n",
       "      <td>59</td>\n",
       "      <td>0.0</td>\n",
       "      <td>2023-01-02</td>\n",
       "      <td>0</td>\n",
       "      <td>0.0</td>\n",
       "      <td>1963.0</td>\n",
       "      <td>2022-12-31</td>\n",
       "      <td>NaN</td>\n",
       "      <td>AMGUARD INSURANCE COMPANY</td>\n",
       "      <td>...</td>\n",
       "      <td>III</td>\n",
       "      <td>68.0</td>\n",
       "      <td>STATIONARY OBJECT</td>\n",
       "      <td>49.0</td>\n",
       "      <td>SPRAIN OR TEAR</td>\n",
       "      <td>62.0</td>\n",
       "      <td>BUTTOCKS</td>\n",
       "      <td>10604</td>\n",
       "      <td>0</td>\n",
       "      <td>2022</td>\n",
       "    </tr>\n",
       "    <tr>\n",
       "      <th>6166047</th>\n",
       "      <td>2022-12-28</td>\n",
       "      <td>55</td>\n",
       "      <td>0.0</td>\n",
       "      <td>2023-01-02</td>\n",
       "      <td>0</td>\n",
       "      <td>0.0</td>\n",
       "      <td>0.0</td>\n",
       "      <td>2023-01-02</td>\n",
       "      <td>NaN</td>\n",
       "      <td>INDEMNITY INS. OF N AMERICA</td>\n",
       "      <td>...</td>\n",
       "      <td>IV</td>\n",
       "      <td>25.0</td>\n",
       "      <td>FROM DIFFERENT LEVEL (ELEVATION)</td>\n",
       "      <td>10.0</td>\n",
       "      <td>CONTUSION</td>\n",
       "      <td>53.0</td>\n",
       "      <td>KNEE</td>\n",
       "      <td>11411</td>\n",
       "      <td>6</td>\n",
       "      <td>2023</td>\n",
       "    </tr>\n",
       "    <tr>\n",
       "      <th>6166102</th>\n",
       "      <td>2022-12-20</td>\n",
       "      <td>25</td>\n",
       "      <td>0.0</td>\n",
       "      <td>2023-01-02</td>\n",
       "      <td>0</td>\n",
       "      <td>0.0</td>\n",
       "      <td>1997.0</td>\n",
       "      <td>2022-12-31</td>\n",
       "      <td>NaN</td>\n",
       "      <td>NEW HAMPSHIRE INSURANCE CO</td>\n",
       "      <td>...</td>\n",
       "      <td>IV</td>\n",
       "      <td>79.0</td>\n",
       "      <td>OBJECT BEING LIFTED OR HANDLED</td>\n",
       "      <td>40.0</td>\n",
       "      <td>LACERATION</td>\n",
       "      <td>37.0</td>\n",
       "      <td>THUMB</td>\n",
       "      <td>11212</td>\n",
       "      <td>5</td>\n",
       "      <td>2022</td>\n",
       "    </tr>\n",
       "    <tr>\n",
       "      <th>...</th>\n",
       "      <td>...</td>\n",
       "      <td>...</td>\n",
       "      <td>...</td>\n",
       "      <td>...</td>\n",
       "      <td>...</td>\n",
       "      <td>...</td>\n",
       "      <td>...</td>\n",
       "      <td>...</td>\n",
       "      <td>...</td>\n",
       "      <td>...</td>\n",
       "      <td>...</td>\n",
       "      <td>...</td>\n",
       "      <td>...</td>\n",
       "      <td>...</td>\n",
       "      <td>...</td>\n",
       "      <td>...</td>\n",
       "      <td>...</td>\n",
       "      <td>...</td>\n",
       "      <td>...</td>\n",
       "      <td>...</td>\n",
       "      <td>...</td>\n",
       "    </tr>\n",
       "    <tr>\n",
       "      <th>6553137</th>\n",
       "      <td>2012-09-12</td>\n",
       "      <td>52</td>\n",
       "      <td>0.0</td>\n",
       "      <td>2024-06-05</td>\n",
       "      <td>0</td>\n",
       "      <td>NaN</td>\n",
       "      <td>1960.0</td>\n",
       "      <td>2012-10-23</td>\n",
       "      <td>NaN</td>\n",
       "      <td>STATE INSURANCE FUND</td>\n",
       "      <td>...</td>\n",
       "      <td>I</td>\n",
       "      <td>56.0</td>\n",
       "      <td>LIFTING</td>\n",
       "      <td>52.0</td>\n",
       "      <td>STRAIN OR TEAR</td>\n",
       "      <td>42.0</td>\n",
       "      <td>LOWER BACK AREA</td>\n",
       "      <td>13619</td>\n",
       "      <td>5</td>\n",
       "      <td>2012</td>\n",
       "    </tr>\n",
       "    <tr>\n",
       "      <th>6553119</th>\n",
       "      <td>2024-05-22</td>\n",
       "      <td>59</td>\n",
       "      <td>0.0</td>\n",
       "      <td>2024-06-05</td>\n",
       "      <td>1</td>\n",
       "      <td>0.0</td>\n",
       "      <td>1965.0</td>\n",
       "      <td>2024-06-09</td>\n",
       "      <td>2024-05-28</td>\n",
       "      <td>NYC TRANSIT AUTHORITY</td>\n",
       "      <td>...</td>\n",
       "      <td>IV</td>\n",
       "      <td>57.0</td>\n",
       "      <td>PUSHING OR PULLING</td>\n",
       "      <td>10.0</td>\n",
       "      <td>CONTUSION</td>\n",
       "      <td>42.0</td>\n",
       "      <td>LOWER BACK AREA</td>\n",
       "      <td>11776</td>\n",
       "      <td>1</td>\n",
       "      <td>2024</td>\n",
       "    </tr>\n",
       "    <tr>\n",
       "      <th>6553542</th>\n",
       "      <td>2024-05-06</td>\n",
       "      <td>45</td>\n",
       "      <td>0.0</td>\n",
       "      <td>2024-06-05</td>\n",
       "      <td>1</td>\n",
       "      <td>0.0</td>\n",
       "      <td>1979.0</td>\n",
       "      <td>2024-06-09</td>\n",
       "      <td>NaN</td>\n",
       "      <td>STATE INSURANCE FUND</td>\n",
       "      <td>...</td>\n",
       "      <td>IV</td>\n",
       "      <td>57.0</td>\n",
       "      <td>PUSHING OR PULLING</td>\n",
       "      <td>10.0</td>\n",
       "      <td>CONTUSION</td>\n",
       "      <td>42.0</td>\n",
       "      <td>LOWER BACK AREA</td>\n",
       "      <td>11368</td>\n",
       "      <td>5</td>\n",
       "      <td>2024</td>\n",
       "    </tr>\n",
       "    <tr>\n",
       "      <th>6553455</th>\n",
       "      <td>2024-02-24</td>\n",
       "      <td>42</td>\n",
       "      <td>0.0</td>\n",
       "      <td>2024-06-05</td>\n",
       "      <td>1</td>\n",
       "      <td>0.0</td>\n",
       "      <td>1981.0</td>\n",
       "      <td>2024-06-09</td>\n",
       "      <td>2024-05-21</td>\n",
       "      <td>NEW YORK BLACK CAR OPERATORS'</td>\n",
       "      <td>...</td>\n",
       "      <td>IV</td>\n",
       "      <td>57.0</td>\n",
       "      <td>PUSHING OR PULLING</td>\n",
       "      <td>10.0</td>\n",
       "      <td>CONTUSION</td>\n",
       "      <td>42.0</td>\n",
       "      <td>LOWER BACK AREA</td>\n",
       "      <td>11432</td>\n",
       "      <td>5</td>\n",
       "      <td>2024</td>\n",
       "    </tr>\n",
       "    <tr>\n",
       "      <th>6553594</th>\n",
       "      <td>2024-04-23 00:00:00</td>\n",
       "      <td>0</td>\n",
       "      <td>0.0</td>\n",
       "      <td>2024-06-05</td>\n",
       "      <td>1</td>\n",
       "      <td>0.0</td>\n",
       "      <td>NaN</td>\n",
       "      <td>2024-06-09</td>\n",
       "      <td>2024-05-28</td>\n",
       "      <td>CNY OTHER THAN ED, HED WATER</td>\n",
       "      <td>...</td>\n",
       "      <td>IV</td>\n",
       "      <td>57.0</td>\n",
       "      <td>PUSHING OR PULLING</td>\n",
       "      <td>10.0</td>\n",
       "      <td>CONTUSION</td>\n",
       "      <td>42.0</td>\n",
       "      <td>LOWER BACK AREA</td>\n",
       "      <td>10302</td>\n",
       "      <td>5</td>\n",
       "      <td>2024</td>\n",
       "    </tr>\n",
       "  </tbody>\n",
       "</table>\n",
       "<p>387975 rows × 29 columns</p>\n",
       "</div>"
      ],
      "text/plain": [
       "                        Accident Date  Age at Injury  \\\n",
       "Claim Identifier                                       \n",
       "6165911                    2022-12-24             19   \n",
       "6166141                    2022-11-20             19   \n",
       "6165907                    2022-12-26             59   \n",
       "6166047                    2022-12-28             55   \n",
       "6166102                    2022-12-20             25   \n",
       "...                               ...            ...   \n",
       "6553137                    2012-09-12             52   \n",
       "6553119                    2024-05-22             59   \n",
       "6553542                    2024-05-06             45   \n",
       "6553455                    2024-02-24             42   \n",
       "6553594           2024-04-23 00:00:00              0   \n",
       "\n",
       "                  Alternative Dispute Resolution Assembly Date  \\\n",
       "Claim Identifier                                                 \n",
       "6165911                                      0.0    2023-01-02   \n",
       "6166141                                      0.0    2023-01-02   \n",
       "6165907                                      0.0    2023-01-02   \n",
       "6166047                                      0.0    2023-01-02   \n",
       "6166102                                      0.0    2023-01-02   \n",
       "...                                          ...           ...   \n",
       "6553137                                      0.0    2024-06-05   \n",
       "6553119                                      0.0    2024-06-05   \n",
       "6553542                                      0.0    2024-06-05   \n",
       "6553455                                      0.0    2024-06-05   \n",
       "6553594                                      0.0    2024-06-05   \n",
       "\n",
       "                  Attorney/Representative  Average Weekly Wage  Birth Year  \\\n",
       "Claim Identifier                                                             \n",
       "6165911                                 0                  NaN      2003.0   \n",
       "6166141                                 0                  NaN      2003.0   \n",
       "6165907                                 0                  0.0      1963.0   \n",
       "6166047                                 0                  0.0         0.0   \n",
       "6166102                                 0                  0.0      1997.0   \n",
       "...                                   ...                  ...         ...   \n",
       "6553137                                 0                  NaN      1960.0   \n",
       "6553119                                 1                  0.0      1965.0   \n",
       "6553542                                 1                  0.0      1979.0   \n",
       "6553455                                 1                  0.0      1981.0   \n",
       "6553594                                 1                  0.0         NaN   \n",
       "\n",
       "                   C-2 Date    C-3 Date                   Carrier Name  ...  \\\n",
       "Claim Identifier                                                        ...   \n",
       "6165911          2023-01-02         NaN      INDEMNITY INSURANCE CO OF  ...   \n",
       "6166141          2023-01-02         NaN        A I U INSURANCE COMPANY  ...   \n",
       "6165907          2022-12-31         NaN      AMGUARD INSURANCE COMPANY  ...   \n",
       "6166047          2023-01-02         NaN    INDEMNITY INS. OF N AMERICA  ...   \n",
       "6166102          2022-12-31         NaN     NEW HAMPSHIRE INSURANCE CO  ...   \n",
       "...                     ...         ...                            ...  ...   \n",
       "6553137          2012-10-23         NaN           STATE INSURANCE FUND  ...   \n",
       "6553119          2024-06-09  2024-05-28          NYC TRANSIT AUTHORITY  ...   \n",
       "6553542          2024-06-09         NaN           STATE INSURANCE FUND  ...   \n",
       "6553455          2024-06-09  2024-05-21  NEW YORK BLACK CAR OPERATORS'  ...   \n",
       "6553594          2024-06-09  2024-05-28   CNY OTHER THAN ED, HED WATER  ...   \n",
       "\n",
       "                 Medical Fee Region WCIO Cause of Injury Code  \\\n",
       "Claim Identifier                                                \n",
       "6165911                          IV                      31.0   \n",
       "6166141                          IV                      75.0   \n",
       "6165907                         III                      68.0   \n",
       "6166047                          IV                      25.0   \n",
       "6166102                          IV                      79.0   \n",
       "...                             ...                       ...   \n",
       "6553137                           I                      56.0   \n",
       "6553119                          IV                      57.0   \n",
       "6553542                          IV                      57.0   \n",
       "6553455                          IV                      57.0   \n",
       "6553594                          IV                      57.0   \n",
       "\n",
       "                  WCIO Cause of Injury Description WCIO Nature of Injury Code  \\\n",
       "Claim Identifier                                                                \n",
       "6165911                    FALL, SLIP OR TRIP, NOC                       10.0   \n",
       "6166141                   FALLING OR FLYING OBJECT                       10.0   \n",
       "6165907                          STATIONARY OBJECT                       49.0   \n",
       "6166047           FROM DIFFERENT LEVEL (ELEVATION)                       10.0   \n",
       "6166102             OBJECT BEING LIFTED OR HANDLED                       40.0   \n",
       "...                                            ...                        ...   \n",
       "6553137                                    LIFTING                       52.0   \n",
       "6553119                         PUSHING OR PULLING                       10.0   \n",
       "6553542                         PUSHING OR PULLING                       10.0   \n",
       "6553455                         PUSHING OR PULLING                       10.0   \n",
       "6553594                         PUSHING OR PULLING                       10.0   \n",
       "\n",
       "                 WCIO Nature of Injury Description WCIO Part Of Body Code  \\\n",
       "Claim Identifier                                                            \n",
       "6165911                                  CONTUSION                   54.0   \n",
       "6166141                                  CONTUSION                   10.0   \n",
       "6165907                             SPRAIN OR TEAR                   62.0   \n",
       "6166047                                  CONTUSION                   53.0   \n",
       "6166102                                 LACERATION                   37.0   \n",
       "...                                            ...                    ...   \n",
       "6553137                             STRAIN OR TEAR                   42.0   \n",
       "6553119                                  CONTUSION                   42.0   \n",
       "6553542                                  CONTUSION                   42.0   \n",
       "6553455                                  CONTUSION                   42.0   \n",
       "6553594                                  CONTUSION                   42.0   \n",
       "\n",
       "                  WCIO Part Of Body Description  Zip Code  \\\n",
       "Claim Identifier                                            \n",
       "6165911                               LOWER LEG     10466   \n",
       "6166141                    MULTIPLE HEAD INJURY     11691   \n",
       "6165907                                BUTTOCKS     10604   \n",
       "6166047                                    KNEE     11411   \n",
       "6166102                                   THUMB     11212   \n",
       "...                                         ...       ...   \n",
       "6553137                         LOWER BACK AREA     13619   \n",
       "6553119                         LOWER BACK AREA     11776   \n",
       "6553542                         LOWER BACK AREA     11368   \n",
       "6553455                         LOWER BACK AREA     11432   \n",
       "6553594                         LOWER BACK AREA     10302   \n",
       "\n",
       "                 Number of Dependents C-2 Date_year  \n",
       "Claim Identifier                                     \n",
       "6165911                             1          2023  \n",
       "6166141                             1          2023  \n",
       "6165907                             0          2022  \n",
       "6166047                             6          2023  \n",
       "6166102                             5          2022  \n",
       "...                               ...           ...  \n",
       "6553137                             5          2012  \n",
       "6553119                             1          2024  \n",
       "6553542                             5          2024  \n",
       "6553455                             5          2024  \n",
       "6553594                             5          2024  \n",
       "\n",
       "[387975 rows x 29 columns]"
      ]
     },
     "execution_count": 1465,
     "metadata": {},
     "output_type": "execute_result"
    }
   ],
   "source": [
    "imputer_function(X_train, X_train, 'Medical Fee Region', ['County of Injury', 'Zip Code'])\n",
    "imputer_function(X_train, X_val, 'Medical Fee Region', ['County of Injury', 'Zip Code'])\n",
    "imputer_function(X_train, df_test, 'Medical Fee Region', ['County of Injury', 'Zip Code'])"
   ]
  },
  {
   "cell_type": "markdown",
   "metadata": {},
   "source": [
    "### Alternative Dispute Resolution"
   ]
  },
  {
   "cell_type": "code",
   "execution_count": 1466,
   "metadata": {},
   "outputs": [
    {
     "data": {
      "text/html": [
       "<div>\n",
       "<style scoped>\n",
       "    .dataframe tbody tr th:only-of-type {\n",
       "        vertical-align: middle;\n",
       "    }\n",
       "\n",
       "    .dataframe tbody tr th {\n",
       "        vertical-align: top;\n",
       "    }\n",
       "\n",
       "    .dataframe thead th {\n",
       "        text-align: right;\n",
       "    }\n",
       "</style>\n",
       "<table border=\"1\" class=\"dataframe\">\n",
       "  <thead>\n",
       "    <tr style=\"text-align: right;\">\n",
       "      <th></th>\n",
       "      <th>Accident Date</th>\n",
       "      <th>Age at Injury</th>\n",
       "      <th>Alternative Dispute Resolution</th>\n",
       "      <th>Assembly Date</th>\n",
       "      <th>Attorney/Representative</th>\n",
       "      <th>Average Weekly Wage</th>\n",
       "      <th>Birth Year</th>\n",
       "      <th>C-2 Date</th>\n",
       "      <th>C-3 Date</th>\n",
       "      <th>Carrier Name</th>\n",
       "      <th>...</th>\n",
       "      <th>WCIO Cause of Injury Description</th>\n",
       "      <th>WCIO Nature of Injury Code</th>\n",
       "      <th>WCIO Nature of Injury Description</th>\n",
       "      <th>WCIO Part Of Body Code</th>\n",
       "      <th>WCIO Part Of Body Description</th>\n",
       "      <th>Zip Code</th>\n",
       "      <th>Number of Dependents</th>\n",
       "      <th>diff_accident_assembly</th>\n",
       "      <th>diff_assembly_c2</th>\n",
       "      <th>C-2 Date_year</th>\n",
       "    </tr>\n",
       "    <tr>\n",
       "      <th>Claim Identifier</th>\n",
       "      <th></th>\n",
       "      <th></th>\n",
       "      <th></th>\n",
       "      <th></th>\n",
       "      <th></th>\n",
       "      <th></th>\n",
       "      <th></th>\n",
       "      <th></th>\n",
       "      <th></th>\n",
       "      <th></th>\n",
       "      <th></th>\n",
       "      <th></th>\n",
       "      <th></th>\n",
       "      <th></th>\n",
       "      <th></th>\n",
       "      <th></th>\n",
       "      <th></th>\n",
       "      <th></th>\n",
       "      <th></th>\n",
       "      <th></th>\n",
       "      <th></th>\n",
       "    </tr>\n",
       "  </thead>\n",
       "  <tbody>\n",
       "    <tr>\n",
       "      <th>6108701</th>\n",
       "      <td>2022-09-01</td>\n",
       "      <td>57.0</td>\n",
       "      <td>NaN</td>\n",
       "      <td>2022-10-17</td>\n",
       "      <td>0</td>\n",
       "      <td>NaN</td>\n",
       "      <td>1965.0</td>\n",
       "      <td>2022-10-21</td>\n",
       "      <td>NaT</td>\n",
       "      <td>ELECTRICAL EMPLOYERS</td>\n",
       "      <td>...</td>\n",
       "      <td>LIFTING</td>\n",
       "      <td>52.0</td>\n",
       "      <td>STRAIN OR TEAR</td>\n",
       "      <td>42.0</td>\n",
       "      <td>LOWER BACK AREA</td>\n",
       "      <td>11755</td>\n",
       "      <td>0.0</td>\n",
       "      <td>-46</td>\n",
       "      <td>NaN</td>\n",
       "      <td>2022</td>\n",
       "    </tr>\n",
       "    <tr>\n",
       "      <th>6032724</th>\n",
       "      <td>2021-11-05</td>\n",
       "      <td>56.0</td>\n",
       "      <td>NaN</td>\n",
       "      <td>2022-07-11</td>\n",
       "      <td>0</td>\n",
       "      <td>NaN</td>\n",
       "      <td>1965.0</td>\n",
       "      <td>2022-07-15</td>\n",
       "      <td>NaT</td>\n",
       "      <td>ELECTRICAL EMPLOYERS</td>\n",
       "      <td>...</td>\n",
       "      <td>LIFTING</td>\n",
       "      <td>52.0</td>\n",
       "      <td>STRAIN OR TEAR</td>\n",
       "      <td>42.0</td>\n",
       "      <td>LOWER BACK AREA</td>\n",
       "      <td>10595</td>\n",
       "      <td>5.0</td>\n",
       "      <td>-248</td>\n",
       "      <td>NaN</td>\n",
       "      <td>2022</td>\n",
       "    </tr>\n",
       "    <tr>\n",
       "      <th>5582402</th>\n",
       "      <td>2018-03-12</td>\n",
       "      <td>57.0</td>\n",
       "      <td>NaN</td>\n",
       "      <td>2020-10-21</td>\n",
       "      <td>0</td>\n",
       "      <td>NaN</td>\n",
       "      <td>1961.0</td>\n",
       "      <td>2020-10-25</td>\n",
       "      <td>NaT</td>\n",
       "      <td>ELECTRICAL EMPLOYERS</td>\n",
       "      <td>...</td>\n",
       "      <td>LIFTING</td>\n",
       "      <td>52.0</td>\n",
       "      <td>STRAIN OR TEAR</td>\n",
       "      <td>42.0</td>\n",
       "      <td>LOWER BACK AREA</td>\n",
       "      <td>10301</td>\n",
       "      <td>5.0</td>\n",
       "      <td>-954</td>\n",
       "      <td>NaN</td>\n",
       "      <td>2020</td>\n",
       "    </tr>\n",
       "    <tr>\n",
       "      <th>6034607</th>\n",
       "      <td>2022-07-06</td>\n",
       "      <td>52.0</td>\n",
       "      <td>NaN</td>\n",
       "      <td>2022-07-13</td>\n",
       "      <td>1</td>\n",
       "      <td>NaN</td>\n",
       "      <td>1969.0</td>\n",
       "      <td>2022-07-17</td>\n",
       "      <td>2023-03-09</td>\n",
       "      <td>ELECTRICAL EMPLOYERS</td>\n",
       "      <td>...</td>\n",
       "      <td>LIFTING</td>\n",
       "      <td>52.0</td>\n",
       "      <td>STRAIN OR TEAR</td>\n",
       "      <td>42.0</td>\n",
       "      <td>LOWER BACK AREA</td>\n",
       "      <td>11694</td>\n",
       "      <td>5.0</td>\n",
       "      <td>-7</td>\n",
       "      <td>NaN</td>\n",
       "      <td>2022</td>\n",
       "    </tr>\n",
       "    <tr>\n",
       "      <th>6108690</th>\n",
       "      <td>2022-08-29</td>\n",
       "      <td>55.0</td>\n",
       "      <td>NaN</td>\n",
       "      <td>2022-10-17</td>\n",
       "      <td>0</td>\n",
       "      <td>NaN</td>\n",
       "      <td>1967.0</td>\n",
       "      <td>2022-10-21</td>\n",
       "      <td>NaT</td>\n",
       "      <td>ELECTRICAL EMPLOYERS</td>\n",
       "      <td>...</td>\n",
       "      <td>LIFTING</td>\n",
       "      <td>52.0</td>\n",
       "      <td>STRAIN OR TEAR</td>\n",
       "      <td>42.0</td>\n",
       "      <td>LOWER BACK AREA</td>\n",
       "      <td>11743</td>\n",
       "      <td>6.0</td>\n",
       "      <td>-49</td>\n",
       "      <td>NaN</td>\n",
       "      <td>2022</td>\n",
       "    </tr>\n",
       "  </tbody>\n",
       "</table>\n",
       "<p>5 rows × 31 columns</p>\n",
       "</div>"
      ],
      "text/plain": [
       "                 Accident Date  Age at Injury  Alternative Dispute Resolution  \\\n",
       "Claim Identifier                                                                \n",
       "6108701             2022-09-01           57.0                             NaN   \n",
       "6032724             2021-11-05           56.0                             NaN   \n",
       "5582402             2018-03-12           57.0                             NaN   \n",
       "6034607             2022-07-06           52.0                             NaN   \n",
       "6108690             2022-08-29           55.0                             NaN   \n",
       "\n",
       "                 Assembly Date  Attorney/Representative  Average Weekly Wage  \\\n",
       "Claim Identifier                                                               \n",
       "6108701             2022-10-17                        0                  NaN   \n",
       "6032724             2022-07-11                        0                  NaN   \n",
       "5582402             2020-10-21                        0                  NaN   \n",
       "6034607             2022-07-13                        1                  NaN   \n",
       "6108690             2022-10-17                        0                  NaN   \n",
       "\n",
       "                  Birth Year   C-2 Date   C-3 Date          Carrier Name  ...  \\\n",
       "Claim Identifier                                                          ...   \n",
       "6108701               1965.0 2022-10-21        NaT  ELECTRICAL EMPLOYERS  ...   \n",
       "6032724               1965.0 2022-07-15        NaT  ELECTRICAL EMPLOYERS  ...   \n",
       "5582402               1961.0 2020-10-25        NaT  ELECTRICAL EMPLOYERS  ...   \n",
       "6034607               1969.0 2022-07-17 2023-03-09  ELECTRICAL EMPLOYERS  ...   \n",
       "6108690               1967.0 2022-10-21        NaT  ELECTRICAL EMPLOYERS  ...   \n",
       "\n",
       "                 WCIO Cause of Injury Description WCIO Nature of Injury Code  \\\n",
       "Claim Identifier                                                               \n",
       "6108701                                   LIFTING                       52.0   \n",
       "6032724                                   LIFTING                       52.0   \n",
       "5582402                                   LIFTING                       52.0   \n",
       "6034607                                   LIFTING                       52.0   \n",
       "6108690                                   LIFTING                       52.0   \n",
       "\n",
       "                  WCIO Nature of Injury Description WCIO Part Of Body Code  \\\n",
       "Claim Identifier                                                             \n",
       "6108701                              STRAIN OR TEAR                   42.0   \n",
       "6032724                              STRAIN OR TEAR                   42.0   \n",
       "5582402                              STRAIN OR TEAR                   42.0   \n",
       "6034607                              STRAIN OR TEAR                   42.0   \n",
       "6108690                              STRAIN OR TEAR                   42.0   \n",
       "\n",
       "                 WCIO Part Of Body Description  Zip Code  \\\n",
       "Claim Identifier                                           \n",
       "6108701                        LOWER BACK AREA     11755   \n",
       "6032724                        LOWER BACK AREA     10595   \n",
       "5582402                        LOWER BACK AREA     10301   \n",
       "6034607                        LOWER BACK AREA     11694   \n",
       "6108690                        LOWER BACK AREA     11743   \n",
       "\n",
       "                  Number of Dependents  diff_accident_assembly  \\\n",
       "Claim Identifier                                                 \n",
       "6108701                            0.0                     -46   \n",
       "6032724                            5.0                    -248   \n",
       "5582402                            5.0                    -954   \n",
       "6034607                            5.0                      -7   \n",
       "6108690                            6.0                     -49   \n",
       "\n",
       "                 diff_assembly_c2 C-2 Date_year  \n",
       "Claim Identifier                                 \n",
       "6108701                       NaN          2022  \n",
       "6032724                       NaN          2022  \n",
       "5582402                       NaN          2020  \n",
       "6034607                       NaN          2022  \n",
       "6108690                       NaN          2022  \n",
       "\n",
       "[5 rows x 31 columns]"
      ]
     },
     "execution_count": 1466,
     "metadata": {},
     "output_type": "execute_result"
    }
   ],
   "source": [
    "#Save the indexes of the missing values in 'Alternative Dispute Resolution' to compare after the imputation\n",
    "\n",
    "missing_adr_idxs = X_train[X_train['Alternative Dispute Resolution'].isna()].index\n",
    "\n",
    "#Check them rows\n",
    "\n",
    "X_train.loc[missing_adr_idxs].head()"
   ]
  },
  {
   "cell_type": "code",
   "execution_count": 1467,
   "metadata": {},
   "outputs": [],
   "source": [
    "X_train = imputer_function(X_train, X_train, 'Alternative Dispute Resolution', ['Carrier Name'])\n",
    "X_val = imputer_function(X_train, X_val, 'Alternative Dispute Resolution', ['Carrier Name'])\n",
    "df_test = imputer_function(X_train, df_test, 'Alternative Dispute Resolution', ['Carrier Name'])"
   ]
  },
  {
   "cell_type": "code",
   "execution_count": 1468,
   "metadata": {},
   "outputs": [
    {
     "data": {
      "text/html": [
       "<div>\n",
       "<style scoped>\n",
       "    .dataframe tbody tr th:only-of-type {\n",
       "        vertical-align: middle;\n",
       "    }\n",
       "\n",
       "    .dataframe tbody tr th {\n",
       "        vertical-align: top;\n",
       "    }\n",
       "\n",
       "    .dataframe thead th {\n",
       "        text-align: right;\n",
       "    }\n",
       "</style>\n",
       "<table border=\"1\" class=\"dataframe\">\n",
       "  <thead>\n",
       "    <tr style=\"text-align: right;\">\n",
       "      <th></th>\n",
       "      <th>Accident Date</th>\n",
       "      <th>Age at Injury</th>\n",
       "      <th>Alternative Dispute Resolution</th>\n",
       "      <th>Assembly Date</th>\n",
       "      <th>Attorney/Representative</th>\n",
       "      <th>Average Weekly Wage</th>\n",
       "      <th>Birth Year</th>\n",
       "      <th>C-2 Date</th>\n",
       "      <th>C-3 Date</th>\n",
       "      <th>Carrier Name</th>\n",
       "      <th>...</th>\n",
       "      <th>WCIO Cause of Injury Description</th>\n",
       "      <th>WCIO Nature of Injury Code</th>\n",
       "      <th>WCIO Nature of Injury Description</th>\n",
       "      <th>WCIO Part Of Body Code</th>\n",
       "      <th>WCIO Part Of Body Description</th>\n",
       "      <th>Zip Code</th>\n",
       "      <th>Number of Dependents</th>\n",
       "      <th>diff_accident_assembly</th>\n",
       "      <th>diff_assembly_c2</th>\n",
       "      <th>C-2 Date_year</th>\n",
       "    </tr>\n",
       "    <tr>\n",
       "      <th>Claim Identifier</th>\n",
       "      <th></th>\n",
       "      <th></th>\n",
       "      <th></th>\n",
       "      <th></th>\n",
       "      <th></th>\n",
       "      <th></th>\n",
       "      <th></th>\n",
       "      <th></th>\n",
       "      <th></th>\n",
       "      <th></th>\n",
       "      <th></th>\n",
       "      <th></th>\n",
       "      <th></th>\n",
       "      <th></th>\n",
       "      <th></th>\n",
       "      <th></th>\n",
       "      <th></th>\n",
       "      <th></th>\n",
       "      <th></th>\n",
       "      <th></th>\n",
       "      <th></th>\n",
       "    </tr>\n",
       "  </thead>\n",
       "  <tbody>\n",
       "    <tr>\n",
       "      <th>6108701</th>\n",
       "      <td>2022-09-01</td>\n",
       "      <td>57.0</td>\n",
       "      <td>0.0</td>\n",
       "      <td>2022-10-17</td>\n",
       "      <td>0</td>\n",
       "      <td>NaN</td>\n",
       "      <td>1965.0</td>\n",
       "      <td>2022-10-21</td>\n",
       "      <td>NaT</td>\n",
       "      <td>ELECTRICAL EMPLOYERS</td>\n",
       "      <td>...</td>\n",
       "      <td>LIFTING</td>\n",
       "      <td>52.0</td>\n",
       "      <td>STRAIN OR TEAR</td>\n",
       "      <td>42.0</td>\n",
       "      <td>LOWER BACK AREA</td>\n",
       "      <td>11755</td>\n",
       "      <td>0.0</td>\n",
       "      <td>-46</td>\n",
       "      <td>NaN</td>\n",
       "      <td>2022</td>\n",
       "    </tr>\n",
       "    <tr>\n",
       "      <th>6032724</th>\n",
       "      <td>2021-11-05</td>\n",
       "      <td>56.0</td>\n",
       "      <td>0.0</td>\n",
       "      <td>2022-07-11</td>\n",
       "      <td>0</td>\n",
       "      <td>NaN</td>\n",
       "      <td>1965.0</td>\n",
       "      <td>2022-07-15</td>\n",
       "      <td>NaT</td>\n",
       "      <td>ELECTRICAL EMPLOYERS</td>\n",
       "      <td>...</td>\n",
       "      <td>LIFTING</td>\n",
       "      <td>52.0</td>\n",
       "      <td>STRAIN OR TEAR</td>\n",
       "      <td>42.0</td>\n",
       "      <td>LOWER BACK AREA</td>\n",
       "      <td>10595</td>\n",
       "      <td>5.0</td>\n",
       "      <td>-248</td>\n",
       "      <td>NaN</td>\n",
       "      <td>2022</td>\n",
       "    </tr>\n",
       "    <tr>\n",
       "      <th>5582402</th>\n",
       "      <td>2018-03-12</td>\n",
       "      <td>57.0</td>\n",
       "      <td>0.0</td>\n",
       "      <td>2020-10-21</td>\n",
       "      <td>0</td>\n",
       "      <td>NaN</td>\n",
       "      <td>1961.0</td>\n",
       "      <td>2020-10-25</td>\n",
       "      <td>NaT</td>\n",
       "      <td>ELECTRICAL EMPLOYERS</td>\n",
       "      <td>...</td>\n",
       "      <td>LIFTING</td>\n",
       "      <td>52.0</td>\n",
       "      <td>STRAIN OR TEAR</td>\n",
       "      <td>42.0</td>\n",
       "      <td>LOWER BACK AREA</td>\n",
       "      <td>10301</td>\n",
       "      <td>5.0</td>\n",
       "      <td>-954</td>\n",
       "      <td>NaN</td>\n",
       "      <td>2020</td>\n",
       "    </tr>\n",
       "    <tr>\n",
       "      <th>6034607</th>\n",
       "      <td>2022-07-06</td>\n",
       "      <td>52.0</td>\n",
       "      <td>0.0</td>\n",
       "      <td>2022-07-13</td>\n",
       "      <td>1</td>\n",
       "      <td>NaN</td>\n",
       "      <td>1969.0</td>\n",
       "      <td>2022-07-17</td>\n",
       "      <td>2023-03-09</td>\n",
       "      <td>ELECTRICAL EMPLOYERS</td>\n",
       "      <td>...</td>\n",
       "      <td>LIFTING</td>\n",
       "      <td>52.0</td>\n",
       "      <td>STRAIN OR TEAR</td>\n",
       "      <td>42.0</td>\n",
       "      <td>LOWER BACK AREA</td>\n",
       "      <td>11694</td>\n",
       "      <td>5.0</td>\n",
       "      <td>-7</td>\n",
       "      <td>NaN</td>\n",
       "      <td>2022</td>\n",
       "    </tr>\n",
       "    <tr>\n",
       "      <th>6108690</th>\n",
       "      <td>2022-08-29</td>\n",
       "      <td>55.0</td>\n",
       "      <td>0.0</td>\n",
       "      <td>2022-10-17</td>\n",
       "      <td>0</td>\n",
       "      <td>NaN</td>\n",
       "      <td>1967.0</td>\n",
       "      <td>2022-10-21</td>\n",
       "      <td>NaT</td>\n",
       "      <td>ELECTRICAL EMPLOYERS</td>\n",
       "      <td>...</td>\n",
       "      <td>LIFTING</td>\n",
       "      <td>52.0</td>\n",
       "      <td>STRAIN OR TEAR</td>\n",
       "      <td>42.0</td>\n",
       "      <td>LOWER BACK AREA</td>\n",
       "      <td>11743</td>\n",
       "      <td>6.0</td>\n",
       "      <td>-49</td>\n",
       "      <td>NaN</td>\n",
       "      <td>2022</td>\n",
       "    </tr>\n",
       "  </tbody>\n",
       "</table>\n",
       "<p>5 rows × 31 columns</p>\n",
       "</div>"
      ],
      "text/plain": [
       "                 Accident Date  Age at Injury  Alternative Dispute Resolution  \\\n",
       "Claim Identifier                                                                \n",
       "6108701             2022-09-01           57.0                             0.0   \n",
       "6032724             2021-11-05           56.0                             0.0   \n",
       "5582402             2018-03-12           57.0                             0.0   \n",
       "6034607             2022-07-06           52.0                             0.0   \n",
       "6108690             2022-08-29           55.0                             0.0   \n",
       "\n",
       "                 Assembly Date  Attorney/Representative  Average Weekly Wage  \\\n",
       "Claim Identifier                                                               \n",
       "6108701             2022-10-17                        0                  NaN   \n",
       "6032724             2022-07-11                        0                  NaN   \n",
       "5582402             2020-10-21                        0                  NaN   \n",
       "6034607             2022-07-13                        1                  NaN   \n",
       "6108690             2022-10-17                        0                  NaN   \n",
       "\n",
       "                  Birth Year   C-2 Date   C-3 Date          Carrier Name  ...  \\\n",
       "Claim Identifier                                                          ...   \n",
       "6108701               1965.0 2022-10-21        NaT  ELECTRICAL EMPLOYERS  ...   \n",
       "6032724               1965.0 2022-07-15        NaT  ELECTRICAL EMPLOYERS  ...   \n",
       "5582402               1961.0 2020-10-25        NaT  ELECTRICAL EMPLOYERS  ...   \n",
       "6034607               1969.0 2022-07-17 2023-03-09  ELECTRICAL EMPLOYERS  ...   \n",
       "6108690               1967.0 2022-10-21        NaT  ELECTRICAL EMPLOYERS  ...   \n",
       "\n",
       "                 WCIO Cause of Injury Description WCIO Nature of Injury Code  \\\n",
       "Claim Identifier                                                               \n",
       "6108701                                   LIFTING                       52.0   \n",
       "6032724                                   LIFTING                       52.0   \n",
       "5582402                                   LIFTING                       52.0   \n",
       "6034607                                   LIFTING                       52.0   \n",
       "6108690                                   LIFTING                       52.0   \n",
       "\n",
       "                  WCIO Nature of Injury Description WCIO Part Of Body Code  \\\n",
       "Claim Identifier                                                             \n",
       "6108701                              STRAIN OR TEAR                   42.0   \n",
       "6032724                              STRAIN OR TEAR                   42.0   \n",
       "5582402                              STRAIN OR TEAR                   42.0   \n",
       "6034607                              STRAIN OR TEAR                   42.0   \n",
       "6108690                              STRAIN OR TEAR                   42.0   \n",
       "\n",
       "                 WCIO Part Of Body Description  Zip Code  \\\n",
       "Claim Identifier                                           \n",
       "6108701                        LOWER BACK AREA     11755   \n",
       "6032724                        LOWER BACK AREA     10595   \n",
       "5582402                        LOWER BACK AREA     10301   \n",
       "6034607                        LOWER BACK AREA     11694   \n",
       "6108690                        LOWER BACK AREA     11743   \n",
       "\n",
       "                  Number of Dependents  diff_accident_assembly  \\\n",
       "Claim Identifier                                                 \n",
       "6108701                            0.0                     -46   \n",
       "6032724                            5.0                    -248   \n",
       "5582402                            5.0                    -954   \n",
       "6034607                            5.0                      -7   \n",
       "6108690                            6.0                     -49   \n",
       "\n",
       "                 diff_assembly_c2 C-2 Date_year  \n",
       "Claim Identifier                                 \n",
       "6108701                       NaN          2022  \n",
       "6032724                       NaN          2022  \n",
       "5582402                       NaN          2020  \n",
       "6034607                       NaN          2022  \n",
       "6108690                       NaN          2022  \n",
       "\n",
       "[5 rows x 31 columns]"
      ]
     },
     "execution_count": 1468,
     "metadata": {},
     "output_type": "execute_result"
    }
   ],
   "source": [
    "X_train.loc[missing_adr_idxs].head()"
   ]
  },
  {
   "cell_type": "code",
   "execution_count": 1469,
   "metadata": {},
   "outputs": [
    {
     "name": "stdout",
     "output_type": "stream",
     "text": [
      "IME-4 Count                          76.984817\n",
      "First Hearing Date                   74.064517\n",
      "C-3 Date                             68.034920\n",
      "Average Weekly Wage                  63.653792\n",
      "Birth Year                            5.080307\n",
      "diff_assembly_c2                      2.139863\n",
      "Accident Date                         0.000000\n",
      "WCIO Nature of Injury Description     0.000000\n",
      "WCIO Cause of Injury Code             0.000000\n",
      "WCIO Cause of Injury Description      0.000000\n",
      "WCIO Nature of Injury Code            0.000000\n",
      "WCIO Part Of Body Description         0.000000\n",
      "WCIO Part Of Body Code                0.000000\n",
      "Industry Code Description             0.000000\n",
      "Zip Code                              0.000000\n",
      "Number of Dependents                  0.000000\n",
      "diff_accident_assembly                0.000000\n",
      "Medical Fee Region                    0.000000\n",
      "Gender                                0.000000\n",
      "Industry Code                         0.000000\n",
      "Age at Injury                         0.000000\n",
      "District Name                         0.000000\n",
      "COVID-19 Indicator                    0.000000\n",
      "County of Injury                      0.000000\n",
      "Carrier Type                          0.000000\n",
      "Carrier Name                          0.000000\n",
      "C-2 Date                              0.000000\n",
      "Attorney/Representative               0.000000\n",
      "Assembly Date                         0.000000\n",
      "Alternative Dispute Resolution        0.000000\n",
      "C-2 Date_year                         0.000000\n",
      "dtype: float64\n"
     ]
    }
   ],
   "source": [
    "#Do a percentage of how many missing values are in each feature in the training set\n",
    "\n",
    "missing_values = X_train.isna().sum().sort_values(ascending=False)\n",
    "\n",
    "missing_values_percentage = (missing_values / len(X_train)) * 100\n",
    "\n",
    "print(missing_values_percentage)\n",
    "\n"
   ]
  },
  {
   "cell_type": "markdown",
   "metadata": {},
   "source": [
    "Decisions we have to consider:\n",
    "\n",
    "- IME-4 Count:\n",
    "  - Is it better to fill nan's with 0 because there was no ocurrence\n",
    "  - use impute_function to use the group mode to fill value\n",
    "  - just turn it into binary as in there as at least one form '1' or there was no form '0'?\n",
    "- C-3 Date:\n",
    "  - Is it better to fill nan's as we did with C-2 Date and Accident Date\n",
    "  - just turn it into binary?\n",
    "- First Hearing Date:\n",
    "  - Just turn it into binary? Meaning if there was a hearing = 1 if no hearing = 0\n",
    "- Average Weekly Wage:\n",
    "  - Fill with Knn?\n",
    "- Birth Year:\n",
    "  - Fill with Knn?"
   ]
  },
  {
   "cell_type": "markdown",
   "metadata": {},
   "source": [
    "### IME-4 Count"
   ]
  },
  {
   "cell_type": "code",
   "execution_count": 1470,
   "metadata": {},
   "outputs": [],
   "source": [
    "#Transform this feature into binary. If there is 'IME-4 Count' then it is 1, otherwise 0\n",
    "\n",
    "X_train['IME-4 Count'] = X_train['IME-4 Count'].apply(lambda x: 1 if x > 0 else 0)\n",
    "X_val['IME-4 Count'] = X_val['IME-4 Count'].apply(lambda x: 1 if x > 0 else 0)\n",
    "df_test['IME-4 Count'] = df_test['IME-4 Count'].apply(lambda x: 1 if x > 0 else 0)"
   ]
  },
  {
   "cell_type": "markdown",
   "metadata": {},
   "source": [
    "### First Hearing Date"
   ]
  },
  {
   "cell_type": "code",
   "execution_count": 1471,
   "metadata": {},
   "outputs": [],
   "source": [
    "#Transform this feature into binary. If there is 'First Hearing Date' then it is 1, otherwise 0\n",
    "\n",
    "X_train['First Hearing Date'] = X_train['First Hearing Date'].apply(lambda x: 1 if pd.notna(x) else 0)\n",
    "X_val['First Hearing Date'] = X_val['First Hearing Date'].apply(lambda x: 1 if pd.notna(x) else 0)\n",
    "df_test['First Hearing Date'] = df_test['First Hearing Date'].apply(lambda x: 1 if pd.notna(x) else 0)"
   ]
  },
  {
   "cell_type": "markdown",
   "metadata": {},
   "source": [
    "### C-3 Date"
   ]
  },
  {
   "cell_type": "code",
   "execution_count": 1472,
   "metadata": {},
   "outputs": [],
   "source": [
    "#Transform this feature into binary. If there is 'C-3 Date' then it is 1, otherwise 0\n",
    "\n",
    "X_train['C-3 Date'] = X_train['C-3 Date'].apply(lambda x: 1 if pd.notna(x) else 0)\n",
    "X_val['C-3 Date'] = X_val['C-3 Date'].apply(lambda x: 1 if pd.notna(x) else 0)\n",
    "df_test['C-3 Date'] = df_test['C-3 Date'].apply(lambda x: 1 if pd.notna(x) else 0)"
   ]
  },
  {
   "cell_type": "code",
   "execution_count": 1473,
   "metadata": {},
   "outputs": [
    {
     "name": "stdout",
     "output_type": "stream",
     "text": [
      "Accident Date                             0\n",
      "diff_accident_assembly                    0\n",
      "Number of Dependents                      0\n",
      "Zip Code                                  0\n",
      "WCIO Part Of Body Description             0\n",
      "WCIO Part Of Body Code                    0\n",
      "WCIO Nature of Injury Description         0\n",
      "WCIO Nature of Injury Code                0\n",
      "WCIO Cause of Injury Description          0\n",
      "WCIO Cause of Injury Code                 0\n",
      "Medical Fee Region                        0\n",
      "Industry Code Description                 0\n",
      "Industry Code                             0\n",
      "IME-4 Count                               0\n",
      "Gender                                    0\n",
      "District Name                             0\n",
      "COVID-19 Indicator                        0\n",
      "County of Injury                          0\n",
      "Carrier Type                              0\n",
      "Carrier Name                              0\n",
      "C-3 Date                                  0\n",
      "C-2 Date                                  0\n",
      "Attorney/Representative                   0\n",
      "Assembly Date                             0\n",
      "Alternative Dispute Resolution            0\n",
      "Age at Injury                             0\n",
      "First Hearing Date                        0\n",
      "C-2 Date_year                             0\n",
      "diff_assembly_c2                       9454\n",
      "Birth Year                            22445\n",
      "Average Weekly Wage                  281225\n",
      "dtype: int64\n"
     ]
    }
   ],
   "source": [
    "#check misisng values\n",
    "\n",
    "print(X_train.isna().sum().sort_values())"
   ]
  },
  {
   "cell_type": "markdown",
   "metadata": {},
   "source": [
    "### Birth Year and Average Weekly Wage"
   ]
  },
  {
   "cell_type": "code",
   "execution_count": 1474,
   "metadata": {},
   "outputs": [],
   "source": [
    "#Calculate the mode of Birth Year and Average weekly wage on x_train\n",
    "\n",
    "birth_year_mode = X_train['Birth Year'].mode().iloc[0]\n",
    "average_weekly_wage_mode = X_train['Average Weekly Wage'].mode().iloc[0]\n",
    "\n",
    "\n",
    "#Impute the missing values in Birth Year and Average Weekly Wage with the mode\n",
    "\n",
    "X_train['Birth Year'].fillna(birth_year_mode, inplace=True)\n",
    "X_val['Birth Year'].fillna(birth_year_mode, inplace=True)\n",
    "df_test['Birth Year'].fillna(birth_year_mode, inplace=True)\n",
    "\n",
    "X_train['Average Weekly Wage'].fillna(average_weekly_wage_mode, inplace=True)\n",
    "X_val['Average Weekly Wage'].fillna(average_weekly_wage_mode, inplace=True)\n",
    "df_test['Average Weekly Wage'].fillna(average_weekly_wage_mode, inplace=True)"
   ]
  },
  {
   "cell_type": "code",
   "execution_count": 836,
   "metadata": {},
   "outputs": [],
   "source": [
    "# Define the numerical features to impute\n",
    "numerical_features = ['Birth Year', 'Average Weekly Wage']\n",
    "\n",
    "# Step 1: Normalize numerical features\n",
    "scaler = MinMaxScaler()\n",
    "X_train_scaled = X_train.copy()\n",
    "X_train_scaled[numerical_features] = scaler.fit_transform(X_train[numerical_features])\n",
    "\n",
    "# Step 2: Define the KNN imputer\n",
    "knn_imputer = KNNImputer(n_neighbors=3)\n",
    "\n",
    "# Step 3: Apply KNN imputation on scaled numerical features\n",
    "X_train_scaled[numerical_features] = knn_imputer.fit_transform(X_train_scaled[numerical_features])\n",
    "X_val_scaled = X_val.copy()\n",
    "X_val_scaled[numerical_features] = knn_imputer.transform(scaler.transform(X_val[numerical_features]))\n",
    "df_test_scaled = df_test.copy()\n",
    "df_test_scaled[numerical_features] = knn_imputer.transform(scaler.transform(df_test[numerical_features]))\n",
    "\n",
    "# Step 4: Reverse scaling for imputed values\n",
    "X_train[numerical_features] = scaler.inverse_transform(X_train_scaled[numerical_features])\n",
    "X_val[numerical_features] = scaler.inverse_transform(X_val_scaled[numerical_features])\n",
    "df_test[numerical_features] = scaler.inverse_transform(df_test_scaled[numerical_features])"
   ]
  },
  {
   "cell_type": "code",
   "execution_count": 1475,
   "metadata": {},
   "outputs": [
    {
     "name": "stdout",
     "output_type": "stream",
     "text": [
      "There are 0 missing values in X_train dataset.\n",
      "There are 0 missing values in X_val dataset.\n",
      "There are 0 missing values in df_test dataset.\n",
      "There are 0 missing values in X_train dataset.\n",
      "There are 0 missing values in X_val dataset.\n"
     ]
    }
   ],
   "source": [
    "#Check missing values for 'Birth Year' and 'Average Weekly Wage' in each dataset\n",
    "\n",
    "print(\"There are {} missing values in X_train dataset.\".format(X_train['Birth Year'].isna().sum()))\n",
    "print(\"There are {} missing values in X_val dataset.\".format(X_val['Birth Year'].isna().sum()))\n",
    "print(\"There are {} missing values in df_test dataset.\".format(df_test['Birth Year'].isna().sum()))\n",
    "\n",
    "print(\"There are {} missing values in X_train dataset.\".format(X_train['Average Weekly Wage'].isna().sum()))\n",
    "print(\"There are {} missing values in X_val dataset.\".format(X_val['Average Weekly Wage'].isna().sum()))"
   ]
  },
  {
   "cell_type": "code",
   "execution_count": 1168,
   "metadata": {},
   "outputs": [
    {
     "data": {
      "text/plain": [
       "Index(['Accident Date', 'Age at Injury', 'Alternative Dispute Resolution',\n",
       "       'Assembly Date', 'Attorney/Representative', 'Average Weekly Wage',\n",
       "       'Birth Year', 'C-2 Date', 'C-3 Date', 'Carrier Name', 'Carrier Type',\n",
       "       'County of Injury', 'COVID-19 Indicator', 'District Name',\n",
       "       'First Hearing Date', 'Gender', 'IME-4 Count', 'Industry Code',\n",
       "       'Industry Code Description', 'Medical Fee Region',\n",
       "       'WCIO Cause of Injury Code', 'WCIO Cause of Injury Description',\n",
       "       'WCIO Nature of Injury Code', 'WCIO Nature of Injury Description',\n",
       "       'WCIO Part Of Body Code', 'WCIO Part Of Body Description', 'Zip Code',\n",
       "       'Number of Dependents', 'diff_accident_assembly', 'diff_assembly_c2',\n",
       "       'C-2 Date_year'],\n",
       "      dtype='object')"
      ]
     },
     "execution_count": 1168,
     "metadata": {},
     "output_type": "execute_result"
    }
   ],
   "source": [
    "X_train.columns"
   ]
  },
  {
   "cell_type": "code",
   "execution_count": 942,
   "metadata": {},
   "outputs": [
    {
     "data": {
      "text/plain": [
       "Index(['Accident Date', 'Age at Injury', 'Alternative Dispute Resolution',\n",
       "       'Assembly Date', 'Attorney/Representative', 'Average Weekly Wage',\n",
       "       'Birth Year', 'C-2 Date', 'C-3 Date', 'Carrier Name', 'Carrier Type',\n",
       "       'County of Injury', 'COVID-19 Indicator', 'District Name',\n",
       "       'First Hearing Date', 'Gender', 'IME-4 Count', 'Industry Code',\n",
       "       'Industry Code Description', 'Medical Fee Region',\n",
       "       'WCIO Cause of Injury Code', 'WCIO Cause of Injury Description',\n",
       "       'WCIO Nature of Injury Code', 'WCIO Nature of Injury Description',\n",
       "       'WCIO Part Of Body Code', 'WCIO Part Of Body Description', 'Zip Code',\n",
       "       'Number of Dependents', 'C-2 Date_year'],\n",
       "      dtype='object')"
      ]
     },
     "execution_count": 942,
     "metadata": {},
     "output_type": "execute_result"
    }
   ],
   "source": [
    "X_val.columns"
   ]
  },
  {
   "cell_type": "code",
   "execution_count": 1476,
   "metadata": {},
   "outputs": [],
   "source": [
    "#Drop the rows created for data imputation that are no longer needed\n",
    "#Create new rows needed for FE and FS\n",
    "\n",
    "X_train.drop(columns=['diff_accident_assembly', 'diff_assembly_c2', 'C-2 Date_year'], inplace=True)\n",
    "X_val.drop(columns=['C-2 Date_year'], inplace=True)"
   ]
  },
  {
   "cell_type": "code",
   "execution_count": 1477,
   "metadata": {},
   "outputs": [
    {
     "data": {
      "text/plain": [
       "((441804, 28), (441804,))"
      ]
     },
     "execution_count": 1477,
     "metadata": {},
     "output_type": "execute_result"
    }
   ],
   "source": [
    "X_train.shape, y_train.shape"
   ]
  },
  {
   "cell_type": "markdown",
   "metadata": {},
   "source": [
    "# Exporting the datasets and creating datasets folder"
   ]
  },
  {
   "cell_type": "code",
   "execution_count": 1478,
   "metadata": {},
   "outputs": [],
   "source": [
    "#Check if the folder 'datasets' exists, if not, create it\n",
    "if not os.path.exists('datasets'):\n",
    "    os.makedirs('datasets')"
   ]
  },
  {
   "cell_type": "code",
   "execution_count": 1479,
   "metadata": {},
   "outputs": [],
   "source": [
    "#export to csv \n",
    "\n",
    "X_train.to_csv('datasets/preprocessed_train_delivery1.csv')\n",
    "X_val.to_csv('datasets/preprocessed_val_delivery1.csv')\n",
    "y_train.to_csv('datasets/preprocessed_y_train_delivery1.csv')\n",
    "y_val.to_csv('datasets/preprocessed_y_val_delivery1.csv')\n",
    "df_test.to_csv('datasets/test_delivery1.csv')"
   ]
  }
 ],
 "metadata": {
  "kernelspec": {
   "display_name": "Python 3",
   "language": "python",
   "name": "python3"
  },
  "language_info": {
   "codemirror_mode": {
    "name": "ipython",
    "version": 3
   },
   "file_extension": ".py",
   "mimetype": "text/x-python",
   "name": "python",
   "nbconvert_exporter": "python",
   "pygments_lexer": "ipython3",
   "version": "3.9.13"
  }
 },
 "nbformat": 4,
 "nbformat_minor": 2
}
