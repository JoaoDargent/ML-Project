{
 "cells": [
  {
   "cell_type": "code",
   "execution_count": 109,
   "metadata": {},
   "outputs": [],
   "source": [
    "# Standard libraries\n",
    "import numpy as np\n",
    "import pandas as pd\n",
    "import warnings\n",
    "import zipfile, io\n",
    "\n",
    "# Visualization libraries\n",
    "import matplotlib.pyplot as plt\n",
    "import seaborn as sns\n",
    "import matplotlib.ticker as mtick\n",
    "\n",
    "# Statistical libraries\n",
    "import scipy.stats as ss\n",
    "from scipy import stats\n",
    "from scipy.stats import f_oneway\n",
    "from scipy.sparse import csr_matrix\n",
    "\n",
    "# Scikit-learn preprocessing and model selection\n",
    "from sklearn.impute import KNNImputer\n",
    "from sklearn.preprocessing import MinMaxScaler, OrdinalEncoder, LabelEncoder, OneHotEncoder, RobustScaler, StandardScaler\n",
    "from sklearn.model_selection import train_test_split, StratifiedKFold, cross_val_score\n",
    "\n",
    "# Scikit-learn feature selection\n",
    "from sklearn.feature_selection import f_classif, SelectKBest, mutual_info_classif, RFE, RFECV\n",
    "\n",
    "# Scikit-learn models\n",
    "from sklearn.linear_model import LogisticRegression, LassoCV\n",
    "from sklearn.tree import DecisionTreeClassifier\n",
    "from sklearn.ensemble import RandomForestClassifier, GradientBoostingClassifier\n",
    "\n",
    "# Scikit-learn metrics\n",
    "from sklearn.metrics import make_scorer, precision_score, recall_score, f1_score, classification_report\n",
    "\n",
    "# Pickle for import and export of datasets\n",
    "import pickle\n",
    "\n",
    "# Seaborn settings\n",
    "sns.set()\n",
    "\n",
    "# Ignore warnings\n",
    "warnings.filterwarnings('ignore')\n",
    "\n",
    "# Enable inline plotting for Jupyter notebooks\n",
    "%matplotlib inline"
   ]
  },
  {
   "cell_type": "markdown",
   "metadata": {},
   "source": [
    "# 3. Data Scaling"
   ]
  },
  {
   "cell_type": "markdown",
   "metadata": {},
   "source": [
    "* Due to the different types of information that Categorical features and Numerical features provide, each requires unique data scaling methods. Therefore, before normalizing features, we must split them into numeric and categorical sets.\n",
    "* Regarding the numerical variables, the objective is to place them into the same scale, from 0 to 1, where 1 refers to the maximum value of the feature while 0 refers to the minimum value of the feature. One reason for normalizing / scaling the data is to prevent the model from giving more importance to variables with larger absolute numbers, since we do not want to make any assumptions on the level of importance of each feature. It is relevant to mention that while scaling we only consider information obtained from the training data. Only after we can use the minimum and maximum values of the training dataset for each variable to scale the validation dataset.\n",
    "* Concerning categorical features, these are encoded to be readable by the models, as these do not typically process non-numeric data directly. To do so, we used the Ordinal Encoder method to transform the categorical variables by assigning each category an unique integer based on its order or occurrence\n"
   ]
  },
  {
   "cell_type": "markdown",
   "metadata": {},
   "source": [
    "## NEED THE X VAL AND X TRAIN Y VAL Y TRAIN PREPROCESSED"
   ]
  },
  {
   "cell_type": "code",
   "execution_count": 110,
   "metadata": {},
   "outputs": [],
   "source": [
    "# load the data (train and test)\n",
    "X_train_DS = pd.read_csv('datasets/feature_engineering_train_delivery1.csv', index_col=0)\n",
    "X_val_DS = pd.read_csv('datasets/feature_engineering_val_delivery1.csv', index_col=0)\n",
    "y_train_DS = pd.read_csv('datasets/feature_engineering_y_train_delivery1.csv', index_col=0)\n",
    "y_val_DS = pd.read_csv('datasets/feature_engineering_y_val_delivery1.csv', index_col=0)\n",
    "\n",
    "X_test_DS = pd.read_csv('datasets/feature_engineering_test_delivery1.csv', index_col=0)"
   ]
  },
  {
   "cell_type": "code",
   "execution_count": 111,
   "metadata": {},
   "outputs": [],
   "source": [
    "numeric_features = ['Age at Injury', 'Average Weekly Wage', 'Birth Year','Number of Dependents', 'Accident Year', 'Assembly Year']\n",
    "                    \n",
    "categorical_features = ['Carrier Name', 'Carrier Type', 'County of Injury','District Name', 'Industry Code', 'Industry Code Description', 'Medical Fee Region',\n",
    "                        'WCIO Cause of Injury Code', 'WCIO Cause of Injury Description',\n",
    "                        'WCIO Nature of Injury Code', 'WCIO Nature of Injury Description', 'Age Group',\n",
    "                        'WCIO Part Of Body Code', 'WCIO Part Of Body Description', 'Zip Code', 'Broad Body Part']\n",
    "                        \n",
    "binary_features = ['Alternative Dispute Resolution', 'Attorney/Representative','C-2 Date', 'C-3 Date', 'COVID-19 Indicator','Gender', 'Accident on Weekday','Frequent Injury Cause']\n",
    "cyclic_features = ['Accident Month', 'Assembly Month']"
   ]
  },
  {
   "cell_type": "code",
   "execution_count": 112,
   "metadata": {},
   "outputs": [],
   "source": [
    "# Split datasets into feature categories\n",
    "X_train_numeric = X_train_DS[numeric_features]\n",
    "X_train_categorical = X_train_DS[categorical_features]\n",
    "X_train_binary = X_train_DS[binary_features]\n",
    "X_train_cyclic = X_train_DS[cyclic_features]\n",
    "\n",
    "X_val_numeric = X_val_DS[numeric_features]\n",
    "X_val_categorical = X_val_DS[categorical_features]\n",
    "X_val_binary = X_val_DS[binary_features]\n",
    "X_val_cyclic = X_val_DS[cyclic_features]\n",
    "\n",
    "X_test_numeric = X_test_DS[numeric_features]\n",
    "X_test_categorical = X_test_DS[categorical_features]\n",
    "X_test_binary = X_test_DS[binary_features]\n",
    "X_test_cyclic = X_test_DS[cyclic_features]"
   ]
  },
  {
   "cell_type": "markdown",
   "metadata": {},
   "source": [
    "## 3.1 Data Scaling for Numerical"
   ]
  },
  {
   "cell_type": "code",
   "execution_count": 113,
   "metadata": {},
   "outputs": [],
   "source": [
    "# Initialize scalers\n",
    "robust_scaler = RobustScaler()\n",
    "minmax_scaler = MinMaxScaler()\n",
    "standard_scaler = StandardScaler()\n",
    "\n",
    "# Apply RobustScaler\n",
    "X_train_numeric_robust_scaled = pd.DataFrame(robust_scaler.fit_transform(X_train_DS[numeric_features]),\n",
    "                              columns=numeric_features, \n",
    "                              index=X_train_DS.index)\n",
    "\n",
    "X_val_numeric_robust_scaled = pd.DataFrame(robust_scaler.transform(X_val_DS[numeric_features]),\n",
    "                                columns=numeric_features,\n",
    "                                index=X_val_DS.index)\n",
    "\n",
    "X_test_numeric_robust_scaled = pd.DataFrame(robust_scaler.transform(X_test_DS[numeric_features]),\n",
    "                              columns=numeric_features, \n",
    "                              index=X_test_DS.index)\n",
    "\n",
    "\n",
    "# Apply MinMaxScaler\n",
    "X_train_numeric_minmax_scaled = minmax_scaler.fit_transform(X_train_numeric)\n",
    "X_val_numeric_minmax_scaled = minmax_scaler.transform(X_val_numeric)\n",
    "X_test_numeric_minmax_scaled = minmax_scaler.transform(X_test_numeric)\n",
    "\n",
    "# Apply StandardScaler\n",
    "X_train_numeric_standard_scaled = standard_scaler.fit_transform(X_train_numeric)\n",
    "X_val_numeric_standard_scaled = standard_scaler.transform(X_val_numeric)\n",
    "X_test_numeric_standard_scaled = standard_scaler.transform(X_test_numeric)\n",
    "\n",
    "\n"
   ]
  },
  {
   "cell_type": "code",
   "execution_count": 114,
   "metadata": {},
   "outputs": [
    {
     "name": "stdout",
     "output_type": "stream",
     "text": [
      "                  Age at Injury_Original  Average Weekly Wage_Original  \\\n",
      "Claim Identifier                                                         \n",
      "6117892                             33.0                       1037.00   \n",
      "5539489                             56.0                          0.00   \n",
      "6074966                             43.0                        574.17   \n",
      "5738721                             58.0                          0.00   \n",
      "6133289                             35.0                          0.00   \n",
      "\n",
      "                  Birth Year_Original  Number of Dependents_Original  \\\n",
      "Claim Identifier                                                       \n",
      "6117892                        1988.0                            3.0   \n",
      "5539489                        1963.0                            2.0   \n",
      "6074966                        1979.0                            2.0   \n",
      "5738721                        1963.0                            6.0   \n",
      "6133289                        1987.0                            6.0   \n",
      "\n",
      "                  Accident Year_Original  Assembly Year_Original  \\\n",
      "Claim Identifier                                                   \n",
      "6117892                             2022                    2022   \n",
      "5539489                             2020                    2020   \n",
      "6074966                             2022                    2022   \n",
      "5738721                             2021                    2021   \n",
      "6133289                             2022                    2022   \n",
      "\n",
      "                  Age at Injury_RobustScaled  \\\n",
      "Claim Identifier                               \n",
      "6117892                            -0.363636   \n",
      "5539489                             0.681818   \n",
      "6074966                             0.090909   \n",
      "5738721                             0.772727   \n",
      "6133289                            -0.272727   \n",
      "\n",
      "                  Average Weekly Wage_RobustScaled  Birth Year_RobustScaled  \\\n",
      "Claim Identifier                                                              \n",
      "6117892                                   1.291118                     0.50   \n",
      "5539489                                   0.000000                    -0.75   \n",
      "6074966                                   0.714871                     0.05   \n",
      "5738721                                   0.000000                    -0.75   \n",
      "6133289                                   0.000000                     0.45   \n",
      "\n",
      "                  Number of Dependents_RobustScaled  \\\n",
      "Claim Identifier                                      \n",
      "6117892                                        0.00   \n",
      "5539489                                       -0.25   \n",
      "6074966                                       -0.25   \n",
      "5738721                                        0.75   \n",
      "6133289                                        0.75   \n",
      "\n",
      "                  Accident Year_RobustScaled  Assembly Year_RobustScaled  \n",
      "Claim Identifier                                                          \n",
      "6117892                                  0.5                         0.5  \n",
      "5539489                                 -0.5                        -0.5  \n",
      "6074966                                  0.5                         0.5  \n",
      "5738721                                  0.0                         0.0  \n",
      "6133289                                  0.5                         0.5  \n"
     ]
    }
   ],
   "source": [
    "# Optional: Create a comparison DataFrame for inspection (use one scaler's results)\n",
    "# Create a comparison DataFrame for inspection\n",
    "\n",
    "\n",
    "comparison_df = X_train_DS[numeric_features].add_suffix('_Original').join(\n",
    "    X_train_numeric_robust_scaled.add_suffix('_RobustScaled')\n",
    ")\n",
    "\n",
    "# Inspect the first few rows\n",
    "print(comparison_df.head())\n",
    "\n"
   ]
  },
  {
   "cell_type": "code",
   "execution_count": 115,
   "metadata": {},
   "outputs": [],
   "source": [
    "# Example: Choose RobustScaler for final use\n",
    "X_train_final = X_train_numeric_robust_scaled\n",
    "X_val_final = X_val_numeric_robust_scaled\n",
    "X_test_final = X_test_numeric_robust_scaled"
   ]
  },
  {
   "cell_type": "markdown",
   "metadata": {},
   "source": [
    "## 3.2 Data Scaling for Categorical"
   ]
  },
  {
   "cell_type": "code",
   "execution_count": 116,
   "metadata": {},
   "outputs": [
    {
     "data": {
      "text/plain": [
       "Carrier Name                         1934\n",
       "Carrier Type                            8\n",
       "County of Injury                       63\n",
       "District Name                           8\n",
       "Industry Code                          24\n",
       "Industry Code Description              20\n",
       "Medical Fee Region                      5\n",
       "WCIO Cause of Injury Code              77\n",
       "WCIO Cause of Injury Description       74\n",
       "WCIO Nature of Injury Code             56\n",
       "WCIO Nature of Injury Description      56\n",
       "Age Group                               4\n",
       "WCIO Part Of Body Code                 57\n",
       "WCIO Part Of Body Description          54\n",
       "Zip Code                             6046\n",
       "Broad Body Part                         6\n",
       "dtype: int64"
      ]
     },
     "execution_count": 116,
     "metadata": {},
     "output_type": "execute_result"
    }
   ],
   "source": [
    "#We're having a cardinality issue, with a lot of features. One Hot Encoder isn't being able to run properly.\n",
    "# We will assess that problem here and then maybe drop some redundant features.\n",
    "\n",
    "# Check cardinality of categorical features\n",
    "cardinality = X_train_categorical.nunique()\n",
    "cardinality"
   ]
  },
  {
   "cell_type": "markdown",
   "metadata": {},
   "source": [
    "We need to fix the high cardinality issue before encoding the categorical features. We will use the following strategies:\n",
    "  - Analyse the cardinality of each feature and check if we can drop it\n",
    "    - Feature 1 with high cardinality : Carrier Name:\n",
    "      - As we've seen in the EDA, the Carrier Name feature has a high correlation with Carrier Type. Given That, we are dropping it\n",
    "    - Feature 2 with high cardinality: Zip code:\n",
    "      - As we've seen in the EDA, the Zip code feature has a high correlation with the County of Injury and Medical Fee Region. Given That, we are dropping it"
   ]
  },
  {
   "cell_type": "code",
   "execution_count": 117,
   "metadata": {},
   "outputs": [
    {
     "name": "stdout",
     "output_type": "stream",
     "text": [
      "Cardinality of training categorical features (before further drops):\n",
      "Carrier Type                          8\n",
      "County of Injury                     63\n",
      "District Name                         8\n",
      "Industry Code                        24\n",
      "Industry Code Description            20\n",
      "Medical Fee Region                    5\n",
      "WCIO Cause of Injury Code            77\n",
      "WCIO Cause of Injury Description     74\n",
      "WCIO Nature of Injury Code           56\n",
      "WCIO Nature of Injury Description    56\n",
      "Age Group                             4\n",
      "WCIO Part Of Body Code               57\n",
      "WCIO Part Of Body Description        54\n",
      "Broad Body Part                       6\n",
      "dtype: int64\n"
     ]
    }
   ],
   "source": [
    "#remove the values 'Carrier Name' and 'Zip Code' from the list of categorical features\n",
    "\n",
    "X_train_categorical = X_train_categorical.drop(['Carrier Name', 'Zip Code'], axis=1)\n",
    "X_val_categorical = X_val_categorical.drop(['Carrier Name', 'Zip Code'], axis=1)\n",
    "X_test_categorical = X_test_categorical.drop(['Carrier Name', 'Zip Code'], axis=1)\n",
    "\n",
    "# Check cardinality of categorical features\n",
    "print(\"Cardinality of training categorical features (before further drops):\")\n",
    "print(X_train_categorical.nunique())"
   ]
  },
  {
   "cell_type": "markdown",
   "metadata": {},
   "source": [
    "We can also see that there are features that have a code and a given description. We will reduce the model interpretabilty but we will drop the description and keep the code. The features we are dropping are:\n",
    "- Industry Code Description \n",
    "- WCIO Cause of Injury Description\n",
    "- WCIO Nature of Injury Description\n",
    "- WCIO Part Of Body Description"
   ]
  },
  {
   "cell_type": "code",
   "execution_count": 118,
   "metadata": {},
   "outputs": [
    {
     "data": {
      "text/plain": [
       "Carrier Type                   8\n",
       "County of Injury              63\n",
       "District Name                  8\n",
       "Industry Code                 24\n",
       "Medical Fee Region             5\n",
       "WCIO Cause of Injury Code     77\n",
       "WCIO Nature of Injury Code    56\n",
       "Age Group                      4\n",
       "WCIO Part Of Body Code        57\n",
       "Broad Body Part                6\n",
       "dtype: int64"
      ]
     },
     "execution_count": 118,
     "metadata": {},
     "output_type": "execute_result"
    }
   ],
   "source": [
    "#remove the values 'Carrier Name' and 'Zip Code' from the list of categorical features\n",
    "\n",
    "X_train_categorical = X_train_categorical.drop(['Industry Code Description', 'WCIO Cause of Injury Description', \n",
    "                                                'WCIO Nature of Injury Description', 'WCIO Part Of Body Description'], axis=1)\n",
    "X_val_categorical = X_val_categorical.drop(['Industry Code Description', 'WCIO Cause of Injury Description', \n",
    "                                            'WCIO Nature of Injury Description', 'WCIO Part Of Body Description'], axis=1)\n",
    "X_test_categorical = X_test_categorical.drop(['Industry Code Description', 'WCIO Cause of Injury Description', \n",
    "                                              'WCIO Nature of Injury Description', 'WCIO Part Of Body Description'], axis=1)\n",
    "# Check cardinality of categorical features\n",
    "\n",
    "X_train_categorical.nunique()"
   ]
  },
  {
   "cell_type": "code",
   "execution_count": 119,
   "metadata": {},
   "outputs": [],
   "source": [
    "# Initialize OneHotEncoder\n",
    "ohc = OneHotEncoder(sparse_output=False, drop=\"first\", handle_unknown=\"ignore\")\n",
    "\n",
    "# Fit on training data and transform train, validation, and test sets\n",
    "ohc_train_feat = ohc.fit_transform(X_train_categorical)\n",
    "ohc_val_feat = ohc.transform(X_val_categorical)\n",
    "ohc_test_feat = ohc.transform(X_test_categorical)"
   ]
  },
  {
   "cell_type": "code",
   "execution_count": 120,
   "metadata": {},
   "outputs": [
    {
     "data": {
      "text/plain": [
       "(387975, 298)"
      ]
     },
     "execution_count": 120,
     "metadata": {},
     "output_type": "execute_result"
    }
   ],
   "source": [
    "ohc_test_feat.shape"
   ]
  },
  {
   "cell_type": "code",
   "execution_count": 121,
   "metadata": {},
   "outputs": [],
   "source": [
    "# Get feature names\n",
    "ohc_feat_names = ohc.get_feature_names_out(X_train_categorical.columns)\n",
    "\n",
    "# Convert to DataFrames with the same index as the original categorical sets\n",
    "ohc_train_df = pd.DataFrame(ohc_train_feat, index=X_train_categorical.index, columns=ohc_feat_names)\n",
    "ohc_val_df = pd.DataFrame(ohc_val_feat, index=X_val_categorical.index, columns=ohc_feat_names)\n",
    "ohc_test_df = pd.DataFrame(ohc_test_feat, index=X_test_categorical.index, columns=ohc_feat_names)\n"
   ]
  },
  {
   "cell_type": "code",
   "execution_count": 122,
   "metadata": {},
   "outputs": [
    {
     "data": {
      "text/plain": [
       "(387975, 298)"
      ]
     },
     "execution_count": 122,
     "metadata": {},
     "output_type": "execute_result"
    }
   ],
   "source": [
    "ohc_test_df.shape"
   ]
  },
  {
   "cell_type": "code",
   "execution_count": 123,
   "metadata": {},
   "outputs": [
    {
     "name": "stdout",
     "output_type": "stream",
     "text": [
      "One-hot encoded training data (sample):\n",
      "                  Carrier Type_2A. SIF  Carrier Type_3A. SELF PUBLIC  \\\n",
      "Claim Identifier                                                       \n",
      "6117892                            0.0                           1.0   \n",
      "5539489                            0.0                           0.0   \n",
      "6074966                            0.0                           0.0   \n",
      "5738721                            1.0                           0.0   \n",
      "6133289                            0.0                           0.0   \n",
      "\n",
      "                  Carrier Type_4A. SELF PRIVATE  \\\n",
      "Claim Identifier                                  \n",
      "6117892                                     0.0   \n",
      "5539489                                     1.0   \n",
      "6074966                                     0.0   \n",
      "5738721                                     0.0   \n",
      "6133289                                     0.0   \n",
      "\n",
      "                  Carrier Type_5A. SPECIAL FUND - CONS. COMM. (SECT. 25-A)  \\\n",
      "Claim Identifier                                                             \n",
      "6117892                                                         0.0          \n",
      "5539489                                                         0.0          \n",
      "6074966                                                         0.0          \n",
      "5738721                                                         0.0          \n",
      "6133289                                                         0.0          \n",
      "\n",
      "                  Carrier Type_5C. SPECIAL FUND - POI CARRIER WCB MENANDS  \\\n",
      "Claim Identifier                                                            \n",
      "6117892                                                         0.0         \n",
      "5539489                                                         0.0         \n",
      "6074966                                                         0.0         \n",
      "5738721                                                         0.0         \n",
      "6133289                                                         0.0         \n",
      "\n",
      "                  Carrier Type_5D. SPECIAL FUND - UNKNOWN  \\\n",
      "Claim Identifier                                            \n",
      "6117892                                               0.0   \n",
      "5539489                                               0.0   \n",
      "6074966                                               0.0   \n",
      "5738721                                               0.0   \n",
      "6133289                                               0.0   \n",
      "\n",
      "                  Carrier Type_UNKNOWN  County of Injury_ALLEGANY  \\\n",
      "Claim Identifier                                                    \n",
      "6117892                            0.0                        0.0   \n",
      "5539489                            0.0                        0.0   \n",
      "6074966                            0.0                        0.0   \n",
      "5738721                            0.0                        0.0   \n",
      "6133289                            0.0                        0.0   \n",
      "\n",
      "                  County of Injury_BRONX  County of Injury_BROOME  ...  \\\n",
      "Claim Identifier                                                   ...   \n",
      "6117892                              0.0                      0.0  ...   \n",
      "5539489                              0.0                      0.0  ...   \n",
      "6074966                              0.0                      0.0  ...   \n",
      "5738721                              0.0                      0.0  ...   \n",
      "6133289                              0.0                      0.0  ...   \n",
      "\n",
      "                  WCIO Part Of Body Code_65.0  WCIO Part Of Body Code_66.0  \\\n",
      "Claim Identifier                                                             \n",
      "6117892                                   0.0                          0.0   \n",
      "5539489                                   0.0                          0.0   \n",
      "6074966                                   0.0                          0.0   \n",
      "5738721                                   0.0                          0.0   \n",
      "6133289                                   0.0                          0.0   \n",
      "\n",
      "                  WCIO Part Of Body Code_90.0  WCIO Part Of Body Code_91.0  \\\n",
      "Claim Identifier                                                             \n",
      "6117892                                   0.0                          0.0   \n",
      "5539489                                   0.0                          0.0   \n",
      "6074966                                   0.0                          0.0   \n",
      "5738721                                   0.0                          0.0   \n",
      "6133289                                   0.0                          0.0   \n",
      "\n",
      "                  WCIO Part Of Body Code_99.0  Broad Body Part_Lower Limbs  \\\n",
      "Claim Identifier                                                             \n",
      "6117892                                   0.0                          0.0   \n",
      "5539489                                   0.0                          0.0   \n",
      "6074966                                   0.0                          0.0   \n",
      "5738721                                   0.0                          0.0   \n",
      "6133289                                   0.0                          0.0   \n",
      "\n",
      "                  Broad Body Part_Multiple  Broad Body Part_Other  \\\n",
      "Claim Identifier                                                    \n",
      "6117892                                0.0                    1.0   \n",
      "5539489                                0.0                    1.0   \n",
      "6074966                                0.0                    1.0   \n",
      "5738721                                0.0                    1.0   \n",
      "6133289                                0.0                    1.0   \n",
      "\n",
      "                  Broad Body Part_Trunk  Broad Body Part_Upper Limbs  \n",
      "Claim Identifier                                                      \n",
      "6117892                             0.0                          0.0  \n",
      "5539489                             0.0                          0.0  \n",
      "6074966                             0.0                          0.0  \n",
      "5738721                             0.0                          0.0  \n",
      "6133289                             0.0                          0.0  \n",
      "\n",
      "[5 rows x 298 columns]\n",
      "One-hot encoded validation data (sample):\n",
      "                  Carrier Type_2A. SIF  Carrier Type_3A. SELF PUBLIC  \\\n",
      "Claim Identifier                                                       \n",
      "5673739                            0.0                           1.0   \n",
      "5594305                            0.0                           0.0   \n",
      "5425239                            0.0                           0.0   \n",
      "5976991                            0.0                           1.0   \n",
      "6113041                            0.0                           0.0   \n",
      "\n",
      "                  Carrier Type_4A. SELF PRIVATE  \\\n",
      "Claim Identifier                                  \n",
      "5673739                                     0.0   \n",
      "5594305                                     1.0   \n",
      "5425239                                     0.0   \n",
      "5976991                                     0.0   \n",
      "6113041                                     0.0   \n",
      "\n",
      "                  Carrier Type_5A. SPECIAL FUND - CONS. COMM. (SECT. 25-A)  \\\n",
      "Claim Identifier                                                             \n",
      "5673739                                                         0.0          \n",
      "5594305                                                         0.0          \n",
      "5425239                                                         0.0          \n",
      "5976991                                                         0.0          \n",
      "6113041                                                         0.0          \n",
      "\n",
      "                  Carrier Type_5C. SPECIAL FUND - POI CARRIER WCB MENANDS  \\\n",
      "Claim Identifier                                                            \n",
      "5673739                                                         0.0         \n",
      "5594305                                                         0.0         \n",
      "5425239                                                         0.0         \n",
      "5976991                                                         0.0         \n",
      "6113041                                                         0.0         \n",
      "\n",
      "                  Carrier Type_5D. SPECIAL FUND - UNKNOWN  \\\n",
      "Claim Identifier                                            \n",
      "5673739                                               0.0   \n",
      "5594305                                               0.0   \n",
      "5425239                                               0.0   \n",
      "5976991                                               0.0   \n",
      "6113041                                               0.0   \n",
      "\n",
      "                  Carrier Type_UNKNOWN  County of Injury_ALLEGANY  \\\n",
      "Claim Identifier                                                    \n",
      "5673739                            0.0                        0.0   \n",
      "5594305                            0.0                        0.0   \n",
      "5425239                            0.0                        0.0   \n",
      "5976991                            0.0                        0.0   \n",
      "6113041                            0.0                        0.0   \n",
      "\n",
      "                  County of Injury_BRONX  County of Injury_BROOME  ...  \\\n",
      "Claim Identifier                                                   ...   \n",
      "5673739                              0.0                      0.0  ...   \n",
      "5594305                              0.0                      0.0  ...   \n",
      "5425239                              0.0                      0.0  ...   \n",
      "5976991                              0.0                      0.0  ...   \n",
      "6113041                              0.0                      0.0  ...   \n",
      "\n",
      "                  WCIO Part Of Body Code_65.0  WCIO Part Of Body Code_66.0  \\\n",
      "Claim Identifier                                                             \n",
      "5673739                                   0.0                          0.0   \n",
      "5594305                                   0.0                          0.0   \n",
      "5425239                                   0.0                          0.0   \n",
      "5976991                                   0.0                          0.0   \n",
      "6113041                                   0.0                          0.0   \n",
      "\n",
      "                  WCIO Part Of Body Code_90.0  WCIO Part Of Body Code_91.0  \\\n",
      "Claim Identifier                                                             \n",
      "5673739                                   0.0                          0.0   \n",
      "5594305                                   0.0                          0.0   \n",
      "5425239                                   1.0                          0.0   \n",
      "5976991                                   0.0                          0.0   \n",
      "6113041                                   0.0                          0.0   \n",
      "\n",
      "                  WCIO Part Of Body Code_99.0  Broad Body Part_Lower Limbs  \\\n",
      "Claim Identifier                                                             \n",
      "5673739                                   0.0                          0.0   \n",
      "5594305                                   0.0                          0.0   \n",
      "5425239                                   0.0                          0.0   \n",
      "5976991                                   0.0                          0.0   \n",
      "6113041                                   0.0                          0.0   \n",
      "\n",
      "                  Broad Body Part_Multiple  Broad Body Part_Other  \\\n",
      "Claim Identifier                                                    \n",
      "5673739                                0.0                    1.0   \n",
      "5594305                                0.0                    1.0   \n",
      "5425239                                0.0                    1.0   \n",
      "5976991                                0.0                    1.0   \n",
      "6113041                                0.0                    1.0   \n",
      "\n",
      "                  Broad Body Part_Trunk  Broad Body Part_Upper Limbs  \n",
      "Claim Identifier                                                      \n",
      "5673739                             0.0                          0.0  \n",
      "5594305                             0.0                          0.0  \n",
      "5425239                             0.0                          0.0  \n",
      "5976991                             0.0                          0.0  \n",
      "6113041                             0.0                          0.0  \n",
      "\n",
      "[5 rows x 298 columns]\n",
      "One-hot encoded test data (sample):\n",
      "                  Carrier Type_2A. SIF  Carrier Type_3A. SELF PUBLIC  \\\n",
      "Claim Identifier                                                       \n",
      "6165911                            0.0                           0.0   \n",
      "6166141                            0.0                           0.0   \n",
      "6165907                            0.0                           0.0   \n",
      "6166047                            0.0                           0.0   \n",
      "6166102                            0.0                           0.0   \n",
      "\n",
      "                  Carrier Type_4A. SELF PRIVATE  \\\n",
      "Claim Identifier                                  \n",
      "6165911                                     0.0   \n",
      "6166141                                     0.0   \n",
      "6165907                                     0.0   \n",
      "6166047                                     0.0   \n",
      "6166102                                     0.0   \n",
      "\n",
      "                  Carrier Type_5A. SPECIAL FUND - CONS. COMM. (SECT. 25-A)  \\\n",
      "Claim Identifier                                                             \n",
      "6165911                                                         0.0          \n",
      "6166141                                                         0.0          \n",
      "6165907                                                         0.0          \n",
      "6166047                                                         0.0          \n",
      "6166102                                                         0.0          \n",
      "\n",
      "                  Carrier Type_5C. SPECIAL FUND - POI CARRIER WCB MENANDS  \\\n",
      "Claim Identifier                                                            \n",
      "6165911                                                         0.0         \n",
      "6166141                                                         0.0         \n",
      "6165907                                                         0.0         \n",
      "6166047                                                         0.0         \n",
      "6166102                                                         0.0         \n",
      "\n",
      "                  Carrier Type_5D. SPECIAL FUND - UNKNOWN  \\\n",
      "Claim Identifier                                            \n",
      "6165911                                               0.0   \n",
      "6166141                                               0.0   \n",
      "6165907                                               0.0   \n",
      "6166047                                               0.0   \n",
      "6166102                                               0.0   \n",
      "\n",
      "                  Carrier Type_UNKNOWN  County of Injury_ALLEGANY  \\\n",
      "Claim Identifier                                                    \n",
      "6165911                            0.0                        0.0   \n",
      "6166141                            0.0                        0.0   \n",
      "6165907                            0.0                        0.0   \n",
      "6166047                            0.0                        0.0   \n",
      "6166102                            0.0                        0.0   \n",
      "\n",
      "                  County of Injury_BRONX  County of Injury_BROOME  ...  \\\n",
      "Claim Identifier                                                   ...   \n",
      "6165911                              1.0                      0.0  ...   \n",
      "6166141                              0.0                      0.0  ...   \n",
      "6165907                              0.0                      0.0  ...   \n",
      "6166047                              0.0                      0.0  ...   \n",
      "6166102                              0.0                      0.0  ...   \n",
      "\n",
      "                  WCIO Part Of Body Code_65.0  WCIO Part Of Body Code_66.0  \\\n",
      "Claim Identifier                                                             \n",
      "6165911                                   0.0                          0.0   \n",
      "6166141                                   0.0                          0.0   \n",
      "6165907                                   0.0                          0.0   \n",
      "6166047                                   0.0                          0.0   \n",
      "6166102                                   0.0                          0.0   \n",
      "\n",
      "                  WCIO Part Of Body Code_90.0  WCIO Part Of Body Code_91.0  \\\n",
      "Claim Identifier                                                             \n",
      "6165911                                   0.0                          0.0   \n",
      "6166141                                   0.0                          0.0   \n",
      "6165907                                   0.0                          0.0   \n",
      "6166047                                   0.0                          0.0   \n",
      "6166102                                   0.0                          0.0   \n",
      "\n",
      "                  WCIO Part Of Body Code_99.0  Broad Body Part_Lower Limbs  \\\n",
      "Claim Identifier                                                             \n",
      "6165911                                   0.0                          0.0   \n",
      "6166141                                   0.0                          0.0   \n",
      "6165907                                   0.0                          0.0   \n",
      "6166047                                   0.0                          0.0   \n",
      "6166102                                   0.0                          0.0   \n",
      "\n",
      "                  Broad Body Part_Multiple  Broad Body Part_Other  \\\n",
      "Claim Identifier                                                    \n",
      "6165911                                0.0                    1.0   \n",
      "6166141                                0.0                    0.0   \n",
      "6165907                                0.0                    1.0   \n",
      "6166047                                0.0                    1.0   \n",
      "6166102                                0.0                    1.0   \n",
      "\n",
      "                  Broad Body Part_Trunk  Broad Body Part_Upper Limbs  \n",
      "Claim Identifier                                                      \n",
      "6165911                             0.0                          0.0  \n",
      "6166141                             0.0                          1.0  \n",
      "6165907                             0.0                          0.0  \n",
      "6166047                             0.0                          0.0  \n",
      "6166102                             0.0                          0.0  \n",
      "\n",
      "[5 rows x 298 columns]\n"
     ]
    }
   ],
   "source": [
    "# Display the resulting one-hot encoded DataFrames\n",
    "print(\"One-hot encoded training data (sample):\")\n",
    "print(ohc_train_df.head())\n",
    "\n",
    "print(\"One-hot encoded validation data (sample):\")\n",
    "print(ohc_val_df.head())\n",
    "\n",
    "print(\"One-hot encoded test data (sample):\")\n",
    "print(ohc_test_df.head())"
   ]
  },
  {
   "cell_type": "markdown",
   "metadata": {},
   "source": [
    "## 3.3 Data Scaling for Cyclic Features"
   ]
  },
  {
   "cell_type": "code",
   "execution_count": 124,
   "metadata": {},
   "outputs": [],
   "source": [
    "def cyclic_encode(data, columns, max_value): #Maximum value for the cyclic period (2 for months).\n",
    "#Returns:Encoded DataFrame with '_sin' and '_cos' for each cyclic column\n",
    "    \n",
    "    for col in columns:\n",
    "        data[f\"{col}_sin\"] = np.sin(2 * np.pi * data[col] / max_value)\n",
    "        data[f\"{col}_cos\"] = np.cos(2 * np.pi * data[col] / max_value)\n",
    "        data.drop(columns=[col], inplace=True)\n",
    "    return data"
   ]
  },
  {
   "cell_type": "code",
   "execution_count": 125,
   "metadata": {},
   "outputs": [
    {
     "name": "stdout",
     "output_type": "stream",
     "text": [
      "X_train_cyclic_encoded:\n",
      "                   Accident Month_sin  Accident Month_cos  Assembly Month_sin  \\\n",
      "Claim Identifier                                                               \n",
      "6117892                -8.660254e-01           -0.500000       -8.660254e-01   \n",
      "5539489                 8.660254e-01           -0.500000       -8.660254e-01   \n",
      "6074966                -8.660254e-01           -0.500000       -8.660254e-01   \n",
      "5738721                 1.224647e-16           -1.000000        1.224647e-16   \n",
      "6133289                -5.000000e-01            0.866025       -5.000000e-01   \n",
      "\n",
      "                  Assembly Month_cos  \n",
      "Claim Identifier                      \n",
      "6117892                     0.500000  \n",
      "5539489                    -0.500000  \n",
      "6074966                    -0.500000  \n",
      "5738721                    -1.000000  \n",
      "6133289                     0.866025  \n",
      "X_val_cyclic_encoded:\n",
      "                   Accident Month_sin  Accident Month_cos  Assembly Month_sin  \\\n",
      "Claim Identifier                                                               \n",
      "5673739                     0.866025            0.500000            1.000000   \n",
      "5594305                    -0.500000            0.866025           -0.500000   \n",
      "5425239                     0.866025            0.500000            0.866025   \n",
      "5976991                     0.866025           -0.500000            0.866025   \n",
      "6113041                    -0.866025            0.500000           -0.866025   \n",
      "\n",
      "                  Assembly Month_cos  \n",
      "Claim Identifier                      \n",
      "5673739                 6.123234e-17  \n",
      "5594305                 8.660254e-01  \n",
      "5425239                 5.000000e-01  \n",
      "5976991                -5.000000e-01  \n",
      "6113041                 5.000000e-01  \n",
      "X_test_cyclic_encoded:\n",
      "                   Accident Month_sin  Accident Month_cos  Assembly Month_sin  \\\n",
      "Claim Identifier                                                               \n",
      "6165911                -2.449294e-16            1.000000                 0.5   \n",
      "6166141                -5.000000e-01            0.866025                 0.5   \n",
      "6165907                -2.449294e-16            1.000000                 0.5   \n",
      "6166047                -2.449294e-16            1.000000                 0.5   \n",
      "6166102                -2.449294e-16            1.000000                 0.5   \n",
      "\n",
      "                  Assembly Month_cos  \n",
      "Claim Identifier                      \n",
      "6165911                     0.866025  \n",
      "6166141                     0.866025  \n",
      "6165907                     0.866025  \n",
      "6166047                     0.866025  \n",
      "6166102                     0.866025  \n"
     ]
    }
   ],
   "source": [
    "max_value = 12  # Max value for months in a year\n",
    "\n",
    "# Apply cyclic encoding to train, validation, and test sets\n",
    "X_train_cyclic_encoded = cyclic_encode(X_train_cyclic.copy(), cyclic_features, max_value)\n",
    "X_val_cyclic_encoded = cyclic_encode(X_val_cyclic.copy(), cyclic_features, max_value)\n",
    "X_test_cyclic_encoded = cyclic_encode(X_test_cyclic.copy(), cyclic_features, max_value)\n",
    "\n",
    "# Display encoded features\n",
    "print(\"X_train_cyclic_encoded:\\n\", X_train_cyclic_encoded.head())\n",
    "print(\"X_val_cyclic_encoded:\\n\", X_val_cyclic_encoded.head())\n",
    "print(\"X_test_cyclic_encoded:\\n\", X_test_cyclic_encoded.head())\n"
   ]
  },
  {
   "cell_type": "code",
   "execution_count": 126,
   "metadata": {},
   "outputs": [],
   "source": [
    "# Sample a subset of training data for visualization\n",
    "sample_data = X_train_cyclic_encoded.sample(1000, random_state=42)"
   ]
  },
  {
   "cell_type": "code",
   "execution_count": 127,
   "metadata": {},
   "outputs": [
    {
     "data": {
      "image/png": "[encoded data removed]",
      "text/plain": [
       "<Figure size 1000x600 with 1 Axes>"
      ]
     },
     "metadata": {},
     "output_type": "display_data"
    }
   ],
   "source": [
    "# Compare Train, Validation, and Test Sets with scatter plots\n",
    "plt.figure(figsize=(10, 6))\n",
    "plt.scatter(X_train_cyclic_encoded['Accident Month_sin'], \n",
    "            X_train_cyclic_encoded['Accident Month_cos'], \n",
    "            label='Accident Month (Train)', alpha=0.5, color='blue')\n",
    "plt.scatter(X_val_cyclic_encoded['Accident Month_sin'], \n",
    "            X_val_cyclic_encoded['Accident Month_cos'], \n",
    "            label='Accident Month (Validation)', alpha=0.5, color='green')\n",
    "plt.scatter(X_test_cyclic_encoded['Accident Month_sin'], \n",
    "            X_test_cyclic_encoded['Accident Month_cos'], \n",
    "            label='Accident Month (Test)', alpha=0.5, color='red')\n",
    "plt.title('Cyclic Encoding Visualization - Accident Month')\n",
    "plt.xlabel('sin(Accident Month)')\n",
    "plt.ylabel('cos(Accident Month)')\n",
    "plt.legend()\n",
    "plt.grid()\n",
    "plt.show()"
   ]
  },
  {
   "cell_type": "code",
   "execution_count": 128,
   "metadata": {},
   "outputs": [],
   "source": [
    "# test points (red) follow the same circular pattern as the train points (blue).\n",
    "# December (near -1, 0 on the circle) is close to January (near 1, 0)."
   ]
  },
  {
   "cell_type": "markdown",
   "metadata": {},
   "source": [
    "## 3.4 Data Scalling for Binary"
   ]
  },
  {
   "cell_type": "markdown",
   "metadata": {},
   "source": [
    "## 3.4 Data Scaling for Target"
   ]
  },
  {
   "cell_type": "code",
   "execution_count": 129,
   "metadata": {},
   "outputs": [],
   "source": [
    "# Initialize the encoder\n",
    "le = LabelEncoder()\n",
    "\n",
    "# Fit and transform the target variable in the training set\n",
    "\n",
    "y_train_encoded = le.fit_transform(y_train_DS)\n",
    "y_val_encoded = le.transform(y_val_DS)\n",
    "\n",
    "y_train_encoded_df = pd.DataFrame(y_train_encoded, columns=['Encoded Target'], index=y_train_DS.index)\n",
    "y_val_encoded_df = pd.DataFrame(y_val_encoded, columns=['Encoded Target'], index=y_val_DS.index)"
   ]
  },
  {
   "cell_type": "code",
   "execution_count": 130,
   "metadata": {},
   "outputs": [],
   "source": [
    "# Combine features for the training set\n",
    "X_train = pd.concat([\n",
    "    pd.DataFrame(X_train_numeric_robust_scaled, index=X_train_DS.index),  # Scaled numeric features\n",
    "    ohc_train_df,  # One-hot encoded categorical features\n",
    "    X_train_binary,  # Binary features\n",
    "    X_train_cyclic_encoded  # Cyclic encoded features\n",
    "], axis=1)\n",
    "\n",
    "# Combine features for the validation set\n",
    "X_val = pd.concat([\n",
    "    pd.DataFrame(X_val_numeric_robust_scaled, index=X_val_DS.index),  # Scaled numeric features\n",
    "    ohc_val_df,  # One-hot encoded categorical features\n",
    "    X_val_binary,  # Binary features\n",
    "    X_val_cyclic_encoded  # Cyclic encoded features\n",
    "], axis=1)\n",
    "\n",
    "# Combine features for the test set\n",
    "X_test = pd.concat([\n",
    "    pd.DataFrame(X_test_numeric_robust_scaled, index=X_test_DS.index),  # Scaled numeric features\n",
    "    ohc_test_df,  # One-hot encoded categorical features\n",
    "    X_test_binary,  # Binary features\n",
    "    X_test_cyclic_encoded  # Cyclic encoded features\n",
    "], axis=1)\n"
   ]
  },
  {
   "cell_type": "code",
   "execution_count": 131,
   "metadata": {},
   "outputs": [
    {
     "data": {
      "text/plain": [
       "((418486, 316), (418486, 1), (101383, 316), (101383, 1))"
      ]
     },
     "execution_count": 131,
     "metadata": {},
     "output_type": "execute_result"
    }
   ],
   "source": [
    "X_train.shape, y_train_encoded_df.shape, X_val.shape, y_val_encoded_df.shape"
   ]
  },
  {
   "cell_type": "code",
   "execution_count": null,
   "metadata": {},
   "outputs": [
    {
     "name": "stdout",
     "output_type": "stream",
     "text": [
      "Data and target variables have been saved successfully.\n"
     ]
    }
   ],
   "source": [
    "# Save processed training data and target variable\n",
    "X_train.to_csv('datasets/scaled_data_train_delivery1.csv', index=True)\n",
    "y_train_encoded_df.to_csv('datasets/scaled_target_train_delivery1.csv', index=True)\n",
    "\n",
    "# Save processed test data\n",
    "X_test.to_csv('datasets/scaled_data_test_delivery1.csv', index=True)\n",
    "\n",
    "# Optionally, save validation data if available\n",
    "X_val.to_csv('datasets/scaled_data_val_delivery1.csv', index=True)\n",
    "y_val_encoded_df.to_csv('datasets/scaled_target_val_delivery1.csv', index=True)\n",
    "\n",
    "print(\"Data and target variables have been saved successfully.\")"
   ]
  }
 ],
 "metadata": {
  "kernelspec": {
   "display_name": "base",
   "language": "python",
   "name": "python3"
  },
  "language_info": {
   "codemirror_mode": {
    "name": "ipython",
    "version": 3
   },
   "file_extension": ".py",
   "mimetype": "text/x-python",
   "name": "python",
   "nbconvert_exporter": "python",
   "pygments_lexer": "ipython3",
   "version": "3.12.2"
  }
 },
 "nbformat": 4,
 "nbformat_minor": 4
}
