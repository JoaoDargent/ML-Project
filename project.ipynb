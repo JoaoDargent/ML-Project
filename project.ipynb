{
 "cells": [
  {
   "cell_type": "markdown",
   "metadata": {},
   "source": [
    "# Imports"
   ]
  },
  {
   "cell_type": "code",
   "execution_count": 2,
   "metadata": {},
   "outputs": [],
   "source": [
    "import pandas as pd"
   ]
  },
  {
   "cell_type": "markdown",
   "metadata": {},
   "source": [
    "# Data"
   ]
  },
  {
   "cell_type": "markdown",
   "metadata": {},
   "source": [
    "Because the training data file was to big to push to github, we had to divided into 2 files, so now let's convert them into 1 file again"
   ]
  },
  {
   "cell_type": "code",
   "execution_count": 5,
   "metadata": {},
   "outputs": [
    {
     "name": "stderr",
     "output_type": "stream",
     "text": [
      "/var/folders/hw/2p89gqtx3hld0n6c10zj8b4w0000gn/T/ipykernel_33756/4144609298.py:1: DtypeWarning: Columns (29) have mixed types. Specify dtype option on import or set low_memory=False.\n",
      "  train_df1 = pd.read_csv('./project_data/train_data1.csv')\n"
     ]
    }
   ],
   "source": [
    "train_df1 = pd.read_csv('./project_data/train_data1.csv')\n",
    "\n",
    "train_df2 = pd.read_csv('./project_data/train_data2.csv')\n",
    "\n",
    "# concat train_df1 and train_df2\n",
    "train_df = pd.concat([train_df1, train_df2], ignore_index=True)\n",
    "test_df = pd.read_csv('./project_data/test_data.csv')"
   ]
  }
 ],
 "metadata": {
  "kernelspec": {
   "display_name": "base",
   "language": "python",
   "name": "python3"
  },
  "language_info": {
   "codemirror_mode": {
    "name": "ipython",
    "version": 3
   },
   "file_extension": ".py",
   "mimetype": "text/x-python",
   "name": "python",
   "nbconvert_exporter": "python",
   "pygments_lexer": "ipython3",
   "version": "3.12.4"
  }
 },
 "nbformat": 4,
 "nbformat_minor": 2
}
