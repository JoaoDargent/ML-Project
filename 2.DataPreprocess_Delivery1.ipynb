{
 "cells": [
  {
   "cell_type": "markdown",
   "metadata": {},
   "source": [
    "## **1.1 Importing libraries**"
   ]
  },
  {
   "cell_type": "code",
   "execution_count": 1,
   "metadata": {},
   "outputs": [],
   "source": [
    "# Standard libraries\n",
    "import numpy as np\n",
    "import pandas as pd\n",
    "import warnings\n",
    "import zipfile, io\n",
    "\n",
    "# Visualization libraries\n",
    "import matplotlib.pyplot as plt\n",
    "import seaborn as sns\n",
    "import matplotlib.ticker as mtick\n",
    "\n",
    "# Statistical libraries\n",
    "import scipy.stats as ss\n",
    "from scipy import stats\n",
    "from scipy.stats import f_oneway\n",
    "from scipy.sparse import csr_matrix\n",
    "\n",
    "# Scikit-learn preprocessing and model selection\n",
    "from sklearn.preprocessing import MinMaxScaler, OrdinalEncoder, LabelEncoder\n",
    "from sklearn.model_selection import StratifiedKFold, cross_val_score\n",
    "from sklearn.model_selection import train_test_split\n",
    "\n",
    "# Scikit-learn feature selection\n",
    "from sklearn.feature_selection import f_classif, SelectKBest, mutual_info_classif, RFE, RFECV\n",
    "\n",
    "# Scikit-learn models\n",
    "from sklearn.linear_model import LogisticRegression, LassoCV\n",
    "from sklearn.tree import DecisionTreeClassifier\n",
    "from sklearn.ensemble import RandomForestClassifier, GradientBoostingClassifier\n",
    "\n",
    "# Scikit-learn metrics\n",
    "from sklearn.metrics import make_scorer, precision_score, recall_score, f1_score, classification_report\n",
    "\n",
    "# Seaborn settings\n",
    "sns.set()\n",
    "\n",
    "# Ignore warnings\n",
    "warnings.filterwarnings('ignore')\n",
    "\n",
    "# Enable inline plotting for Jupyter notebooks\n",
    "%matplotlib inline"
   ]
  },
  {
   "cell_type": "markdown",
   "metadata": {},
   "source": [
    "## **1.2 Importing the datasets**"
   ]
  },
  {
   "cell_type": "code",
   "execution_count": 2,
   "metadata": {},
   "outputs": [],
   "source": [
    "# extract the project data zip file\n",
    "z = zipfile.ZipFile('project_data.zip')\n",
    "z.extractall()\n",
    "\n",
    "del z"
   ]
  },
  {
   "cell_type": "code",
   "execution_count": 3,
   "metadata": {},
   "outputs": [],
   "source": [
    "# load the data (train and test)\n",
    "df_train = pd.read_csv('train_data.csv')\n",
    "df_test = pd.read_csv('test_data.csv')"
   ]
  },
  {
   "cell_type": "markdown",
   "metadata": {},
   "source": [
    "## 1.3 **Data preparation for split**"
   ]
  },
  {
   "cell_type": "markdown",
   "metadata": {},
   "source": [
    "## Removing Duplicates, Setting the index and removing empty target values and empty feature"
   ]
  },
  {
   "cell_type": "code",
   "execution_count": 4,
   "metadata": {},
   "outputs": [],
   "source": [
    "#Drop the columns that have Claim inury type missing\n",
    "\n",
    "df_train = df_train.dropna(subset=['Claim Injury Type'])"
   ]
  },
  {
   "cell_type": "code",
   "execution_count": 5,
   "metadata": {},
   "outputs": [],
   "source": [
    "#Make 'claim identifier' as index\n",
    "\n",
    "df_train = df_train.set_index('Claim Identifier')\n",
    "df_test = df_test.set_index('Claim Identifier')"
   ]
  },
  {
   "cell_type": "code",
   "execution_count": 6,
   "metadata": {},
   "outputs": [
    {
     "name": "stdout",
     "output_type": "stream",
     "text": [
      "0\n"
     ]
    }
   ],
   "source": [
    "#Are there duplicates in indexes?\n",
    "\n",
    "print(df_train.index.duplicated().sum())"
   ]
  },
  {
   "cell_type": "code",
   "execution_count": 7,
   "metadata": {},
   "outputs": [
    {
     "name": "stdout",
     "output_type": "stream",
     "text": [
      "1\n"
     ]
    }
   ],
   "source": [
    "# check duplicates\n",
    "\n",
    "print(df_train.duplicated().sum())"
   ]
  },
  {
   "cell_type": "code",
   "execution_count": 8,
   "metadata": {},
   "outputs": [],
   "source": [
    "#drop duplicates\n",
    "\n",
    "df_train = df_train.drop_duplicates()"
   ]
  },
  {
   "cell_type": "markdown",
   "metadata": {},
   "source": [
    "## 1.4 **Splitting the data into train, val and test sets**"
   ]
  },
  {
   "cell_type": "code",
   "execution_count": 9,
   "metadata": {},
   "outputs": [],
   "source": [
    "# Do the train val split. Before I also have to drop the target variable from the train data\n",
    "\n",
    "X_train = df_train.drop(columns=['Claim Injury Type'])\n",
    "y = df_train['Claim Injury Type']\n",
    "X_train.drop(columns=['Agreement Reached', 'WCB Decision'], inplace=True)\n",
    "\n",
    "X_train, X_val, y_train, y_val = train_test_split(X_train, y, stratify=y, test_size=0.2, random_state=42)\n",
    "\n",
    "X_test = df_test.copy()"
   ]
  },
  {
   "cell_type": "code",
   "execution_count": 10,
   "metadata": {},
   "outputs": [
    {
     "data": {
      "text/plain": [
       "((459220, 29), (459220,))"
      ]
     },
     "execution_count": 10,
     "metadata": {},
     "output_type": "execute_result"
    }
   ],
   "source": [
    "X_train.shape, y_train.shape"
   ]
  },
  {
   "cell_type": "code",
   "execution_count": 11,
   "metadata": {},
   "outputs": [
    {
     "data": {
      "text/plain": [
       "((114805, 29), (114805,))"
      ]
     },
     "execution_count": 11,
     "metadata": {},
     "output_type": "execute_result"
    }
   ],
   "source": [
    "X_val.shape, y_val.shape"
   ]
  },
  {
   "cell_type": "code",
   "execution_count": 12,
   "metadata": {},
   "outputs": [
    {
     "data": {
      "text/plain": [
       "(387975, 29)"
      ]
     },
     "execution_count": 12,
     "metadata": {},
     "output_type": "execute_result"
    }
   ],
   "source": [
    "X_test.shape"
   ]
  },
  {
   "cell_type": "markdown",
   "metadata": {},
   "source": [
    "# 2. Clean and Pre-Process the dataset"
   ]
  },
  {
   "cell_type": "code",
   "execution_count": 13,
   "metadata": {},
   "outputs": [
    {
     "data": {
      "text/plain": [
       "Accident Date                           2959\n",
       "Age at Injury                              0\n",
       "Alternative Dispute Resolution             0\n",
       "Assembly Date                              0\n",
       "Attorney/Representative                    0\n",
       "Average Weekly Wage                    22968\n",
       "Birth Year                             23204\n",
       "C-2 Date                               11590\n",
       "C-3 Date                              309591\n",
       "Carrier Name                               0\n",
       "Carrier Type                               0\n",
       "County of Injury                           0\n",
       "COVID-19 Indicator                         0\n",
       "District Name                              0\n",
       "First Hearing Date                    338649\n",
       "Gender                                     0\n",
       "IME-4 Count                           353010\n",
       "Industry Code                           7959\n",
       "Industry Code Description               7959\n",
       "Medical Fee Region                         0\n",
       "OIICS Nature of Injury Description    459220\n",
       "WCIO Cause of Injury Code              12441\n",
       "WCIO Cause of Injury Description       12441\n",
       "WCIO Nature of Injury Code             12456\n",
       "WCIO Nature of Injury Description      12456\n",
       "WCIO Part Of Body Code                 13564\n",
       "WCIO Part Of Body Description          13564\n",
       "Zip Code                               22869\n",
       "Number of Dependents                       0\n",
       "dtype: int64"
      ]
     },
     "execution_count": 13,
     "metadata": {},
     "output_type": "execute_result"
    }
   ],
   "source": [
    "# Check for missing values in the training dataset\n",
    "X_train.isnull().sum()"
   ]
  },
  {
   "cell_type": "code",
   "execution_count": 14,
   "metadata": {},
   "outputs": [
    {
     "data": {
      "text/plain": [
       "OIICS Nature of Injury Description    100.000000\n",
       "IME-4 Count                            76.871652\n",
       "First Hearing Date                     73.744393\n",
       "C-3 Date                               67.416707\n",
       "Birth Year                              5.052916\n",
       "Average Weekly Wage                     5.001524\n",
       "Zip Code                                4.979966\n",
       "WCIO Part Of Body Code                  2.953704\n",
       "WCIO Part Of Body Description           2.953704\n",
       "WCIO Nature of Injury Code              2.712425\n",
       "WCIO Nature of Injury Description       2.712425\n",
       "WCIO Cause of Injury Code               2.709159\n",
       "WCIO Cause of Injury Description        2.709159\n",
       "C-2 Date                                2.523845\n",
       "Industry Code Description               1.733156\n",
       "Industry Code                           1.733156\n",
       "Accident Date                           0.644353\n",
       "dtype: float64"
      ]
     },
     "execution_count": 14,
     "metadata": {},
     "output_type": "execute_result"
    }
   ],
   "source": [
    "# Calculate the percentage of missing values in each column of the training dataset\n",
    "# Only include columns with missing values (x > 0) and sort them in descending order\n",
    "X_train.isnull().mean().loc[lambda x: x > 0].sort_values(ascending=False) * 100"
   ]
  },
  {
   "cell_type": "markdown",
   "metadata": {},
   "source": [
    "- In data analysis, the presence of columns with a high proportion of missing values can harm the quality of results and model performance. Columns with 100%, 77%, or 74% missing values carry little or no useful information for the model, potentially introducing noise and increasing data complexity unnecessarily.\n",
    "\n",
    "- Eliminating these columns is a common practice to reduce dimensionality and improve data interpretability without significantly compromising the integrity of the analysis."
   ]
  },
  {
   "cell_type": "code",
   "execution_count": 15,
   "metadata": {},
   "outputs": [],
   "source": [
    "# Drop columns with high percentages of missing values\n",
    "# Specifically dropping columns: 'OIICS Nature of Injury Description', 'IME-4 Count', and 'First Hearing Date'\n",
    "X_train = X_train.drop(columns=['OIICS Nature of Injury Description', 'IME-4 Count', 'First Hearing Date'])\n",
    "X_val = X_val.drop(columns=['OIICS Nature of Injury Description', 'IME-4 Count', 'First Hearing Date'])\n",
    "X_test = X_test.drop(columns=['OIICS Nature of Injury Description', 'IME-4 Count', 'First Hearing Date'])"
   ]
  },
  {
   "cell_type": "markdown",
   "metadata": {},
   "source": [
    "## 2.1. Numerical Data"
   ]
  },
  {
   "cell_type": "markdown",
   "metadata": {},
   "source": [
    "According to a quick research, Zip Codes in America don't have letters, so this variable can be numerical."
   ]
  },
  {
   "cell_type": "code",
   "execution_count": 16,
   "metadata": {},
   "outputs": [],
   "source": [
    "# Extract numeric part of the Zip Code from both training and test datasets\n",
    "# Using regex to match only digits in the Zip Code (removes any potential non-numeric characters)\n",
    "X_train['Zip Code'] = X_train['Zip Code'].str.extract('(\\d+)')\n",
    "X_val['Zip Code'] = X_val['Zip Code'].str.extract('(\\d+)')\n",
    "X_test['Zip Code'] = X_test['Zip Code'].str.extract('(\\d+)')"
   ]
  },
  {
   "cell_type": "code",
   "execution_count": 17,
   "metadata": {},
   "outputs": [
    {
     "data": {
      "text/plain": [
       "Claim Identifier\n",
       "5785935    11432.0\n",
       "5980545    10451.0\n",
       "5552635    11203.0\n",
       "5758039    11237.0\n",
       "5951382    11003.0\n",
       "            ...   \n",
       "5837651    10805.0\n",
       "5781926    11429.0\n",
       "5890060    14127.0\n",
       "5539380    11226.0\n",
       "6157884    10465.0\n",
       "Name: Zip Code, Length: 459220, dtype: float64"
      ]
     },
     "execution_count": 17,
     "metadata": {},
     "output_type": "execute_result"
    }
   ],
   "source": [
    "# Convert the Zip Code column to numeric data type in both training and test datasets\n",
    "# 'errors=\"coerce\"' will set invalid parsing to NaN, handling cases where Zip Code may still have non-numeric characters\n",
    "X_train['Zip Code'] = pd.to_numeric(X_train['Zip Code'], errors='coerce')\n",
    "X_val['Zip Code'] = pd.to_numeric(X_val['Zip Code'], errors='coerce')\n",
    "X_test['Zip Code'] = pd.to_numeric(X_test['Zip Code'], errors='coerce')\n",
    "\n",
    "# display zip code column\n",
    "X_train['Zip Code'] "
   ]
  },
  {
   "cell_type": "markdown",
   "metadata": {},
   "source": [
    "### 2.1.1. Missing Values"
   ]
  },
  {
   "cell_type": "markdown",
   "metadata": {},
   "source": [
    "To handle the missing values, different strategies were applied in both the train and test datasets, according to the nature of the variables:\n",
    "1. Continuous Variables (Age at Injury, Average Weekly Wage):\n",
    "   - For continuous variables, such as Age at Injury and Average Weekly Wage, missing values were filled with the column mean. This approach is common when the variables are continuous, and it is assumed that the data is approximately symmetrical, meaning the mean adequately represents the central tendency.\n",
    "2. Discrete Variables (Year of Birth, Industry Code, etc.):\n",
    "   - For the variable Year of Birth, the mode was used to replace missing values, as this variable is more discrete and represents the birth year, where the median or mean would not be appropriate and could unbalance the data, causing potential issues in the future.\n",
    "   - Other discrete variables, such as Industry Code and WCIO Cause of Injury Code, were also filled with the mode, which represents the most common value. We believe that the most frequent category is a reasonable substitution for missing values.\n"
   ]
  },
  {
   "cell_type": "code",
   "execution_count": 18,
   "metadata": {},
   "outputs": [
    {
     "data": {
      "text/plain": [
       "Index(['Age at Injury', 'Average Weekly Wage', 'Birth Year', 'Industry Code',\n",
       "       'WCIO Cause of Injury Code', 'WCIO Nature of Injury Code',\n",
       "       'WCIO Part Of Body Code', 'Zip Code', 'Number of Dependents'],\n",
       "      dtype='object')"
      ]
     },
     "execution_count": 18,
     "metadata": {},
     "output_type": "execute_result"
    }
   ],
   "source": [
    "# Select only numerical columns in the training dataset\n",
    "# Store their column names for easier access and processing\n",
    "num_cols = X_train.select_dtypes(include=['float64', 'int64']).columns\n",
    "num_cols"
   ]
  },
  {
   "cell_type": "code",
   "execution_count": 19,
   "metadata": {},
   "outputs": [
    {
     "data": {
      "text/plain": [
       "Age at Injury                     0\n",
       "Average Weekly Wage           22968\n",
       "Birth Year                    23204\n",
       "Industry Code                  7959\n",
       "WCIO Cause of Injury Code     12441\n",
       "WCIO Nature of Injury Code    12456\n",
       "WCIO Part Of Body Code        13564\n",
       "Zip Code                      34861\n",
       "Number of Dependents              0\n",
       "dtype: int64"
      ]
     },
     "execution_count": 19,
     "metadata": {},
     "output_type": "execute_result"
    }
   ],
   "source": [
    "# Calculate the number of missing values in each numerical column\n",
    "X_train[num_cols].isna().sum()"
   ]
  },
  {
   "cell_type": "code",
   "execution_count": 20,
   "metadata": {},
   "outputs": [],
   "source": [
    "# Fill missing values in 'Age at Injury' with the mean value, for both training and test datasets\n",
    "# Mean is used because it is a continuous variable\n",
    "injury_age_mean = int(X_train['Age at Injury'].mean()) # using mean because it's a continuous variable\n",
    "X_train['Age at Injury'].fillna(injury_age_mean, inplace=True)\n",
    "X_val['Age at Injury'].fillna(injury_age_mean, inplace=True)\n",
    "X_test['Age at Injury'].fillna(injury_age_mean, inplace=True)\n",
    "\n",
    "# Fill missing values in 'Average Weekly Wage' with the mean value, for both training and test datasets\n",
    "# Mean is used because it is a continuous variable\n",
    "avg_w_wage_mean = X_train['Average Weekly Wage'].mean() # using mean because it's a continuous variable\n",
    "X_train['Average Weekly Wage'].fillna(avg_w_wage_mean, inplace=True)\n",
    "X_val['Average Weekly Wage'].fillna(avg_w_wage_mean, inplace=True)\n",
    "X_test['Average Weekly Wage'].fillna(avg_w_wage_mean, inplace=True)"
   ]
  },
  {
   "cell_type": "code",
   "execution_count": 21,
   "metadata": {},
   "outputs": [
    {
     "data": {
      "image/png": "[encoded data removed]",
      "text/plain": [
       "<Figure size 1200x600 with 1 Axes>"
      ]
     },
     "metadata": {},
     "output_type": "display_data"
    }
   ],
   "source": [
    "# boxplot 'Average Weekly Wage' to check for outliers\n",
    "plt.figure(figsize=(12, 6))\n",
    "sns.boxplot(x=X_train['Average Weekly Wage'])\n",
    "plt.title('Boxplot of Average Weekly Wage')\n",
    "plt.show()\n"
   ]
  },
  {
   "cell_type": "code",
   "execution_count": 22,
   "metadata": {},
   "outputs": [],
   "source": [
    "# Handle missing values in 'Birth Year'\n",
    "# Replace 0 values with NaN to avoid using incorrect data, then replace NaN with\n",
    "X_train['Birth Year'].replace(0, np.nan, inplace=True)\n",
    "birt_year_mode = X_train['Birth Year'].mode()\n",
    "\n",
    "# replace in train and test\n",
    "X_train['Birth Year'].fillna(birt_year_mode, inplace=True)\n",
    "X_val['Birth Year'].fillna(birt_year_mode, inplace=True)\n",
    "X_test['Birth Year'].fillna(birt_year_mode, inplace=True)"
   ]
  },
  {
   "cell_type": "code",
   "execution_count": 23,
   "metadata": {},
   "outputs": [],
   "source": [
    "# Calculate the mode (most frequent value) for each categorical or discrete column\n",
    "zip_code_mode = X_train['Zip Code'].mode()[0]\n",
    "cause_code_mode = X_train['WCIO Cause of Injury Code'].mode()[0]\n",
    "nature_code_mode = X_train['WCIO Nature of Injury Code'].mode()[0]\n",
    "part_code_mode = X_train['WCIO Part Of Body Code'].mode()[0]\n",
    "industry_code_mode = X_train['Industry Code'].mode()[0]\n",
    "dependents_mode = X_train['Number of Dependents'].mode()[0]\n",
    "\n",
    "# Fill missing values in the training dataset with the mode for each respective column\n",
    "X_train['Zip Code'].fillna(zip_code_mode, inplace=True)\n",
    "X_train['WCIO Cause of Injury Code'].fillna(cause_code_mode, inplace=True)\n",
    "X_train['WCIO Nature of Injury Code'].fillna(nature_code_mode, inplace=True)\n",
    "X_train['WCIO Part Of Body Code'].fillna(part_code_mode, inplace=True)\n",
    "X_train['Industry Code'].fillna(industry_code_mode, inplace=True)\n",
    "X_train['Number of Dependents'].fillna(dependents_mode, inplace=True)\n",
    "\n",
    "# Repeat the same imputation process for the test dataset using the modes calculated from the training dataset\n",
    "X_val['Zip Code'].fillna(zip_code_mode, inplace=True)\n",
    "X_val['WCIO Cause of Injury Code'].fillna(cause_code_mode, inplace=True)\n",
    "X_val['WCIO Nature of Injury Code'].fillna(nature_code_mode, inplace=True)\n",
    "X_val['WCIO Part Of Body Code'].fillna(part_code_mode, inplace=True)\n",
    "X_val['Industry Code'].fillna(industry_code_mode, inplace=True)\n",
    "X_val['Number of Dependents'].fillna(dependents_mode, inplace=True)\n",
    "\n",
    "X_test['Zip Code'].fillna(zip_code_mode, inplace=True)\n",
    "X_test['WCIO Cause of Injury Code'].fillna(cause_code_mode, inplace=True)\n",
    "X_test['WCIO Nature of Injury Code'].fillna(nature_code_mode, inplace=True)\n",
    "X_test['WCIO Part Of Body Code'].fillna(part_code_mode, inplace=True)\n",
    "X_test['Industry Code'].fillna(industry_code_mode, inplace=True)\n",
    "X_test['Number of Dependents'].fillna(dependents_mode, inplace=True)"
   ]
  },
  {
   "cell_type": "code",
   "execution_count": 24,
   "metadata": {},
   "outputs": [],
   "source": [
    "# Fill missing values in 'Birth Year' with the median value\n",
    "# Median is used here as a more robust measure for this continuous variable\n",
    "birth_year_median = X_train['Birth Year'].median()\n",
    "X_train['Birth Year'].fillna(birth_year_median, inplace=True)\n",
    "X_val['Birth Year'].fillna(birth_year_median, inplace=True)"
   ]
  },
  {
   "cell_type": "code",
   "execution_count": 25,
   "metadata": {},
   "outputs": [
    {
     "data": {
      "text/plain": [
       "Age at Injury                 0\n",
       "Average Weekly Wage           0\n",
       "Birth Year                    0\n",
       "Industry Code                 0\n",
       "WCIO Cause of Injury Code     0\n",
       "WCIO Nature of Injury Code    0\n",
       "WCIO Part Of Body Code        0\n",
       "Zip Code                      0\n",
       "Number of Dependents          0\n",
       "dtype: int64"
      ]
     },
     "execution_count": 25,
     "metadata": {},
     "output_type": "execute_result"
    }
   ],
   "source": [
    "# Check if there are any remaining missing values in numerical columns\n",
    "X_train[num_cols].isna().sum() #rechecking missing values"
   ]
  },
  {
   "cell_type": "code",
   "execution_count": 26,
   "metadata": {},
   "outputs": [
    {
     "data": {
      "text/plain": [
       "Age at Injury                 0\n",
       "Average Weekly Wage           0\n",
       "Birth Year                    0\n",
       "Industry Code                 0\n",
       "WCIO Cause of Injury Code     0\n",
       "WCIO Nature of Injury Code    0\n",
       "WCIO Part Of Body Code        0\n",
       "Zip Code                      0\n",
       "Number of Dependents          0\n",
       "dtype: int64"
      ]
     },
     "execution_count": 26,
     "metadata": {},
     "output_type": "execute_result"
    }
   ],
   "source": [
    "X_val[num_cols].isna().sum() #rechecking missing values"
   ]
  },
  {
   "cell_type": "markdown",
   "metadata": {},
   "source": [
    "### 2.1.2. Outliers"
   ]
  },
  {
   "cell_type": "markdown",
   "metadata": {},
   "source": [
    "Outlier Removal and Treatment\n",
    "Each variable was treated according to the data type and reasonable limits to avoid distortions, and these changes were applied to both datasets.\n",
    "1. Age at Injury:\n",
    "   - An acceptable range for Age at Injury was defined between 14 and 66 years, based on labor regulations that set minimum and maximum working ages. Values outside this range were considered outliers and were removed.\n",
    "2. Year of Birth:\n",
    "   - A range for Year of Birth was set between 1955 and 2004, assuming a reasonable age range for workers. Data outside this range was considered atypical and removed to maintain consistency.\n",
    "3. Average Weekly Wage:\n",
    "   - For Average Weekly Wage, the Interquartile Range (IQR) technique was used to define lower and upper limits based on the quartiles (Q1 and Q3) and the formula IQR = Q3 - Q1. Any value outside the range was considered an outlier. Instead of removing these values, a capping technique was applied, limiting the values to the upper and lower bounds of the IQR, which allows data preservation by adjusting outliers to an acceptable value without losing them.\n",
    " \n",
    "3. Specific Numerical Values Treatment\n",
    "Zip Code\n",
    "The postal code (Zip Code) was transformed to ensure it was numeric and contained only valid values:\n",
    "- First, the numeric part of the postal code was extracted, removing any non-numeric characters that might be present.\n",
    "- Then, postal codes were converted to a numeric type, with the errors=coerce setting to replace invalid values with NaN, ensuring an initial data cleanup.\n",
    "- Subsequently, a filter was applied to remove postal codes with fewer than 5 digits, retaining only those that follow the expected pattern for US postal codes.\n"
   ]
  },
  {
   "cell_type": "code",
   "execution_count": 27,
   "metadata": {},
   "outputs": [
    {
     "data": {
      "text/html": [
       "<div>\n",
       "<style scoped>\n",
       "    .dataframe tbody tr th:only-of-type {\n",
       "        vertical-align: middle;\n",
       "    }\n",
       "\n",
       "    .dataframe tbody tr th {\n",
       "        vertical-align: top;\n",
       "    }\n",
       "\n",
       "    .dataframe thead th {\n",
       "        text-align: right;\n",
       "    }\n",
       "</style>\n",
       "<table border=\"1\" class=\"dataframe\">\n",
       "  <thead>\n",
       "    <tr style=\"text-align: right;\">\n",
       "      <th></th>\n",
       "      <th>Age at Injury</th>\n",
       "      <th>Average Weekly Wage</th>\n",
       "      <th>Birth Year</th>\n",
       "      <th>Industry Code</th>\n",
       "      <th>WCIO Cause of Injury Code</th>\n",
       "      <th>WCIO Nature of Injury Code</th>\n",
       "      <th>WCIO Part Of Body Code</th>\n",
       "      <th>Zip Code</th>\n",
       "      <th>Number of Dependents</th>\n",
       "    </tr>\n",
       "  </thead>\n",
       "  <tbody>\n",
       "    <tr>\n",
       "      <th>count</th>\n",
       "      <td>459220.000000</td>\n",
       "      <td>4.592200e+05</td>\n",
       "      <td>459220.000000</td>\n",
       "      <td>459220.000000</td>\n",
       "      <td>459220.000000</td>\n",
       "      <td>459220.000000</td>\n",
       "      <td>459220.000000</td>\n",
       "      <td>459220.000000</td>\n",
       "      <td>459220.000000</td>\n",
       "    </tr>\n",
       "    <tr>\n",
       "      <th>mean</th>\n",
       "      <td>42.111306</td>\n",
       "      <td>4.953600e+02</td>\n",
       "      <td>1977.817917</td>\n",
       "      <td>58.698820</td>\n",
       "      <td>54.432738</td>\n",
       "      <td>41.341057</td>\n",
       "      <td>39.832660</td>\n",
       "      <td>12401.191679</td>\n",
       "      <td>3.003952</td>\n",
       "    </tr>\n",
       "    <tr>\n",
       "      <th>std</th>\n",
       "      <td>14.264959</td>\n",
       "      <td>6.605856e+03</td>\n",
       "      <td>13.175586</td>\n",
       "      <td>19.475487</td>\n",
       "      <td>25.523650</td>\n",
       "      <td>21.972452</td>\n",
       "      <td>22.051675</td>\n",
       "      <td>5213.010424</td>\n",
       "      <td>2.000465</td>\n",
       "    </tr>\n",
       "    <tr>\n",
       "      <th>min</th>\n",
       "      <td>0.000000</td>\n",
       "      <td>0.000000e+00</td>\n",
       "      <td>1900.000000</td>\n",
       "      <td>11.000000</td>\n",
       "      <td>1.000000</td>\n",
       "      <td>1.000000</td>\n",
       "      <td>-9.000000</td>\n",
       "      <td>0.000000</td>\n",
       "      <td>0.000000</td>\n",
       "    </tr>\n",
       "    <tr>\n",
       "      <th>25%</th>\n",
       "      <td>31.000000</td>\n",
       "      <td>0.000000e+00</td>\n",
       "      <td>1968.000000</td>\n",
       "      <td>45.000000</td>\n",
       "      <td>31.000000</td>\n",
       "      <td>25.000000</td>\n",
       "      <td>33.000000</td>\n",
       "      <td>11208.000000</td>\n",
       "      <td>1.000000</td>\n",
       "    </tr>\n",
       "    <tr>\n",
       "      <th>50%</th>\n",
       "      <td>42.000000</td>\n",
       "      <td>0.000000e+00</td>\n",
       "      <td>1978.000000</td>\n",
       "      <td>61.000000</td>\n",
       "      <td>56.000000</td>\n",
       "      <td>49.000000</td>\n",
       "      <td>39.000000</td>\n",
       "      <td>11691.000000</td>\n",
       "      <td>3.000000</td>\n",
       "    </tr>\n",
       "    <tr>\n",
       "      <th>75%</th>\n",
       "      <td>54.000000</td>\n",
       "      <td>7.980725e+02</td>\n",
       "      <td>1988.000000</td>\n",
       "      <td>62.000000</td>\n",
       "      <td>75.000000</td>\n",
       "      <td>52.000000</td>\n",
       "      <td>53.000000</td>\n",
       "      <td>13039.000000</td>\n",
       "      <td>5.000000</td>\n",
       "    </tr>\n",
       "    <tr>\n",
       "      <th>max</th>\n",
       "      <td>117.000000</td>\n",
       "      <td>2.828079e+06</td>\n",
       "      <td>2018.000000</td>\n",
       "      <td>92.000000</td>\n",
       "      <td>99.000000</td>\n",
       "      <td>91.000000</td>\n",
       "      <td>99.000000</td>\n",
       "      <td>99999.000000</td>\n",
       "      <td>6.000000</td>\n",
       "    </tr>\n",
       "  </tbody>\n",
       "</table>\n",
       "</div>"
      ],
      "text/plain": [
       "       Age at Injury  Average Weekly Wage     Birth Year  Industry Code  \\\n",
       "count  459220.000000         4.592200e+05  459220.000000  459220.000000   \n",
       "mean       42.111306         4.953600e+02    1977.817917      58.698820   \n",
       "std        14.264959         6.605856e+03      13.175586      19.475487   \n",
       "min         0.000000         0.000000e+00    1900.000000      11.000000   \n",
       "25%        31.000000         0.000000e+00    1968.000000      45.000000   \n",
       "50%        42.000000         0.000000e+00    1978.000000      61.000000   \n",
       "75%        54.000000         7.980725e+02    1988.000000      62.000000   \n",
       "max       117.000000         2.828079e+06    2018.000000      92.000000   \n",
       "\n",
       "       WCIO Cause of Injury Code  WCIO Nature of Injury Code  \\\n",
       "count              459220.000000               459220.000000   \n",
       "mean                   54.432738                   41.341057   \n",
       "std                    25.523650                   21.972452   \n",
       "min                     1.000000                    1.000000   \n",
       "25%                    31.000000                   25.000000   \n",
       "50%                    56.000000                   49.000000   \n",
       "75%                    75.000000                   52.000000   \n",
       "max                    99.000000                   91.000000   \n",
       "\n",
       "       WCIO Part Of Body Code       Zip Code  Number of Dependents  \n",
       "count           459220.000000  459220.000000         459220.000000  \n",
       "mean                39.832660   12401.191679              3.003952  \n",
       "std                 22.051675    5213.010424              2.000465  \n",
       "min                 -9.000000       0.000000              0.000000  \n",
       "25%                 33.000000   11208.000000              1.000000  \n",
       "50%                 39.000000   11691.000000              3.000000  \n",
       "75%                 53.000000   13039.000000              5.000000  \n",
       "max                 99.000000   99999.000000              6.000000  "
      ]
     },
     "execution_count": 27,
     "metadata": {},
     "output_type": "execute_result"
    }
   ],
   "source": [
    "# Check the distribution and summary statistics for numerical columns to identify possible outliers\n",
    "X_train.describe()"
   ]
  },
  {
   "cell_type": "markdown",
   "metadata": {},
   "source": [
    "**Age at Injury**"
   ]
  },
  {
   "cell_type": "code",
   "execution_count": 28,
   "metadata": {},
   "outputs": [
    {
     "data": {
      "image/png": "[encoded data removed]",
      "text/plain": [
       "<Figure size 1600x200 with 1 Axes>"
      ]
     },
     "metadata": {},
     "output_type": "display_data"
    },
    {
     "data": {
      "image/png": "[encoded data removed]",
      "text/plain": [
       "<Figure size 1600x200 with 1 Axes>"
      ]
     },
     "metadata": {},
     "output_type": "display_data"
    }
   ],
   "source": [
    "# Initial boxplot to visualize outliers in 'Age at Injury'\n",
    "X_train['Age at Injury'].plot(kind='box', vert=False, figsize=(16, 2))\n",
    "plt.title('Age at Injury Boxplot Before Removing Outliers')\n",
    "plt.show()\n",
    "\n",
    "# Filter out outliers in 'Age at Injury' by retaining only values between 14 and 66\n",
    "# Ages below 14 and above 66 are considered unlikely for workplace injuries according to U.S. labor regulations\n",
    "\n",
    "X_train = X_train[(X_train['Age at Injury'] >= 14) & (X_train['Age at Injury'] <= 66)]\n",
    "X_val = X_val[(X_val['Age at Injury'] >= 14) & (X_val['Age at Injury'] <= 66)]\n",
    "\n",
    "\n",
    "# remove the same instances from the target variable, because both need to have the same shape for RFE Logistic Regression (for example)\n",
    "y_train = y_train.loc[X_train.index]\n",
    "y_val = y_val.loc[X_val.index]\n",
    "\n",
    "# Boxplot for 'Age at Injury' after removing outliers to verify the change\n",
    "X_train['Age at Injury'].plot(kind='box', vert=False, figsize=(16, 2))\n",
    "plt.title('Age at Injury Boxplot After Removing Outliers')\n",
    "plt.show()\n"
   ]
  },
  {
   "cell_type": "markdown",
   "metadata": {},
   "source": [
    "**Birth Year**"
   ]
  },
  {
   "cell_type": "code",
   "execution_count": 29,
   "metadata": {},
   "outputs": [
    {
     "data": {
      "image/png": "[encoded data removed]",
      "text/plain": [
       "<Figure size 1600x200 with 1 Axes>"
      ]
     },
     "metadata": {},
     "output_type": "display_data"
    },
    {
     "data": {
      "image/png": "[encoded data removed]",
      "text/plain": [
       "<Figure size 1600x200 with 1 Axes>"
      ]
     },
     "metadata": {},
     "output_type": "display_data"
    }
   ],
   "source": [
    "# Initial boxplot to visualize outliers in 'Birth Year'\n",
    "X_train['Birth Year'].plot(kind='box', vert=False, figsize=(16, 2))\n",
    "plt.title('Birth Year Boxplot Before Removing Outliers')\n",
    "plt.show()\n",
    "\n",
    "# Define the valid range for 'Birth Year' based on the dataset's collection period (2020 to 2022)\n",
    "# Assuming a working age range, birth years are expected to be between 1955 and 2004\n",
    "\n",
    "X_train = X_train[(X_train['Birth Year'] >= 1955) & (X_train['Birth Year'] <= 2004)]\n",
    "X_val = X_val[(X_val['Birth Year'] >= 1955) & (X_val['Birth Year'] <= 2004)]\n",
    "\n",
    "\n",
    "# remove the same instances from the target variable, because both need to have the same shape for RFE Logistic Regression (for example)\n",
    "y_train = y_train.loc[X_train.index]\n",
    "y_val = y_val.loc[X_val.index]\n",
    "\n",
    "# Boxplot for 'Birth Year' after removing outliers to verify the change\n",
    "X_train['Birth Year'].plot(kind='box', vert=False, figsize=(16, 2))\n",
    "plt.title('Birth Year Boxplot After Removing Outliers')\n",
    "plt.show()"
   ]
  },
  {
   "cell_type": "markdown",
   "metadata": {},
   "source": [
    "**Average Weekly Wage**"
   ]
  },
  {
   "cell_type": "code",
   "execution_count": 30,
   "metadata": {},
   "outputs": [
    {
     "data": {
      "text/plain": [
       "Average Weekly Wage\n",
       "0.000000       255254\n",
       "495.360038      21971\n",
       "250.000000       2448\n",
       "600.000000       1724\n",
       "1765.000000      1011\n",
       "                ...  \n",
       "1073.170000         1\n",
       "1555.860000         1\n",
       "1575.430000         1\n",
       "1745.410000         1\n",
       "969.260000          1\n",
       "Name: count, Length: 100244, dtype: int64"
      ]
     },
     "execution_count": 30,
     "metadata": {},
     "output_type": "execute_result"
    }
   ],
   "source": [
    "X_train['Average Weekly Wage'].value_counts()"
   ]
  },
  {
   "cell_type": "code",
   "execution_count": 31,
   "metadata": {},
   "outputs": [
    {
     "name": "stdout",
     "output_type": "stream",
     "text": [
      "Number of outliers: 19703\n"
     ]
    },
    {
     "data": {
      "text/html": [
       "<div>\n",
       "<style scoped>\n",
       "    .dataframe tbody tr th:only-of-type {\n",
       "        vertical-align: middle;\n",
       "    }\n",
       "\n",
       "    .dataframe tbody tr th {\n",
       "        vertical-align: top;\n",
       "    }\n",
       "\n",
       "    .dataframe thead th {\n",
       "        text-align: right;\n",
       "    }\n",
       "</style>\n",
       "<table border=\"1\" class=\"dataframe\">\n",
       "  <thead>\n",
       "    <tr style=\"text-align: right;\">\n",
       "      <th></th>\n",
       "      <th>Average Weekly Wage</th>\n",
       "    </tr>\n",
       "    <tr>\n",
       "      <th>Claim Identifier</th>\n",
       "      <th></th>\n",
       "    </tr>\n",
       "  </thead>\n",
       "  <tbody>\n",
       "    <tr>\n",
       "      <th>5712640</th>\n",
       "      <td>3965.20</td>\n",
       "    </tr>\n",
       "    <tr>\n",
       "      <th>5538175</th>\n",
       "      <td>2122.86</td>\n",
       "    </tr>\n",
       "    <tr>\n",
       "      <th>6108343</th>\n",
       "      <td>5309.25</td>\n",
       "    </tr>\n",
       "    <tr>\n",
       "      <th>5763865</th>\n",
       "      <td>2990.44</td>\n",
       "    </tr>\n",
       "    <tr>\n",
       "      <th>5551907</th>\n",
       "      <td>2077.33</td>\n",
       "    </tr>\n",
       "  </tbody>\n",
       "</table>\n",
       "</div>"
      ],
      "text/plain": [
       "                  Average Weekly Wage\n",
       "Claim Identifier                     \n",
       "5712640                       3965.20\n",
       "5538175                       2122.86\n",
       "6108343                       5309.25\n",
       "5763865                       2990.44\n",
       "5551907                       2077.33"
      ]
     },
     "execution_count": 31,
     "metadata": {},
     "output_type": "execute_result"
    }
   ],
   "source": [
    "# Calculate the first and third quartiles (Q1 and Q3) for 'Average Weekly Wage'\n",
    "Q1 = X_train['Average Weekly Wage'].quantile(0.25)\n",
    "Q3 = X_train['Average Weekly Wage'].quantile(0.75)\n",
    "IQR = Q3 - Q1\n",
    "\n",
    "# Determine the lower and upper bounds for outliers using the IQR\n",
    "# Any values outside these bounds are considered outliers\n",
    "lower_bound = Q1 - 1.5 * IQR\n",
    "upper_bound = Q3 + 1.5 * IQR\n",
    "\n",
    "# Filter out outliers in 'Average Weekly Wage' based on the defined bounds\n",
    "outliers = X_train[(X_train['Average Weekly Wage'] < lower_bound) | (X_train['Average Weekly Wage'] > upper_bound)]\n",
    "print(f\"Number of outliers: {outliers.shape[0]}\")\n",
    "outliers[['Average Weekly Wage']].head()\n"
   ]
  },
  {
   "cell_type": "code",
   "execution_count": 32,
   "metadata": {},
   "outputs": [],
   "source": [
    "# Limit the values in 'Average Weekly Wage' to the IQR bounds by capping\n",
    "# Values below lower_bound are set to lower_bound, and those above upper_bound are set to upper_bound\n",
    "X_train['Average Weekly Wage'] = X_train['Average Weekly Wage'].clip(lower=lower_bound, upper=upper_bound)\n",
    "X_val['Average Weekly Wage'] = X_val['Average Weekly Wage'].clip(lower=lower_bound, upper=upper_bound)\n",
    "X_test['Average Weekly Wage'] = X_test['Average Weekly Wage'].clip(lower=lower_bound, upper=upper_bound)\n"
   ]
  },
  {
   "cell_type": "code",
   "execution_count": 33,
   "metadata": {},
   "outputs": [
    {
     "data": {
      "image/png": "[encoded data removed]",
      "text/plain": [
       "<Figure size 800x600 with 1 Axes>"
      ]
     },
     "metadata": {},
     "output_type": "display_data"
    }
   ],
   "source": [
    "# Boxplot to verify the distribution of 'Average Weekly Wage' after capping\n",
    "plt.figure(figsize=(8, 6))\n",
    "sns.boxplot(data=X_train, y='Average Weekly Wage')\n",
    "plt.title('Average Weekly Wage After Capping')\n",
    "plt.show()\n"
   ]
  },
  {
   "cell_type": "markdown",
   "metadata": {},
   "source": [
    "**Zip Code**"
   ]
  },
  {
   "cell_type": "code",
   "execution_count": 34,
   "metadata": {},
   "outputs": [],
   "source": [
    "X_train['Zip Code'] = X_train['Zip Code'].astype(int)\n",
    "X_val['Zip Code'] = X_val['Zip Code'].astype(int)\n",
    "X_test['Zip Code'] = X_test['Zip Code'].astype(int)"
   ]
  },
  {
   "cell_type": "code",
   "execution_count": 35,
   "metadata": {},
   "outputs": [],
   "source": [
    "# zip codes can only have 5 digits, let's remove those that haven't\n",
    "\n",
    "# create a function to count the number of digits\n",
    "def count_digit(x):\n",
    "    count = 0\n",
    "    for i in x:\n",
    "        if i.isdigit():\n",
    "            count += 1\n",
    "    return count\n",
    "\n",
    "# get zip codes with less or more than 5 digits using the function created\n",
    "zip_outliers = X_train[X_train['Zip Code'].apply(lambda x: count_digit(str(x)) != 5)]\n",
    "\n",
    "# remove zip outliers from X_train\n",
    "X_train = X_train[~X_train['Zip Code'].isin(zip_outliers['Zip Code'])]\n",
    "X_val = X_val[~X_val['Zip Code'].isin(zip_outliers['Zip Code'])]\n",
    "\n",
    "# remove the same instances from the target variable, because both need to have the same shape for RFE Logistic Regression (for example)\n",
    "y_train = y_train.loc[X_train.index]\n",
    "y_val = y_val.loc[X_val.index]"
   ]
  },
  {
   "cell_type": "markdown",
   "metadata": {},
   "source": [
    "The remaining variables are codes, therefore, they must be checked with the documentation in order to discover wrong codes.\n",
    "\n",
    "We have left it for future work for the time being. Deferring code validation allows us to concentrate on high-priority data issues first, optimizing resources and preventing redundancies. The clean and accurate results it allows mean eventual coding errors are easier to debug, informed by patterns identified in initial analyses."
   ]
  },
  {
   "cell_type": "markdown",
   "metadata": {},
   "source": [
    "## 2.2 Categorical Data"
   ]
  },
  {
   "cell_type": "code",
   "execution_count": 36,
   "metadata": {},
   "outputs": [
    {
     "data": {
      "text/plain": [
       "Index(['Accident Date', 'Alternative Dispute Resolution', 'Assembly Date',\n",
       "       'Attorney/Representative', 'C-2 Date', 'C-3 Date', 'Carrier Name',\n",
       "       'Carrier Type', 'County of Injury', 'COVID-19 Indicator',\n",
       "       'District Name', 'Gender', 'Industry Code Description',\n",
       "       'Medical Fee Region', 'WCIO Cause of Injury Description',\n",
       "       'WCIO Nature of Injury Description', 'WCIO Part Of Body Description'],\n",
       "      dtype='object')"
      ]
     },
     "execution_count": 36,
     "metadata": {},
     "output_type": "execute_result"
    }
   ],
   "source": [
    "cat_cols = X_train.select_dtypes(exclude=['float64', 'int64']).columns\n",
    "cat_cols"
   ]
  },
  {
   "cell_type": "markdown",
   "metadata": {},
   "source": [
    "### Missing Values"
   ]
  },
  {
   "cell_type": "code",
   "execution_count": 37,
   "metadata": {},
   "outputs": [
    {
     "data": {
      "text/plain": [
       "Accident Date                             0\n",
       "Alternative Dispute Resolution            0\n",
       "Assembly Date                             0\n",
       "Attorney/Representative                   0\n",
       "C-2 Date                               8820\n",
       "C-3 Date                             288829\n",
       "Carrier Name                              0\n",
       "Carrier Type                              0\n",
       "County of Injury                          0\n",
       "COVID-19 Indicator                        0\n",
       "District Name                             0\n",
       "Gender                                    0\n",
       "Industry Code Description              6172\n",
       "Medical Fee Region                        0\n",
       "WCIO Cause of Injury Description       9475\n",
       "WCIO Nature of Injury Description      9485\n",
       "WCIO Part Of Body Description         10305\n",
       "dtype: int64"
      ]
     },
     "execution_count": 37,
     "metadata": {},
     "output_type": "execute_result"
    }
   ],
   "source": [
    "X_train[cat_cols].isna().sum()"
   ]
  },
  {
   "cell_type": "markdown",
   "metadata": {},
   "source": [
    "Lets start by watching missing values in the target variable. Those observations should be dropped"
   ]
  },
  {
   "cell_type": "code",
   "execution_count": 38,
   "metadata": {},
   "outputs": [
    {
     "name": "stdout",
     "output_type": "stream",
     "text": [
      "Missing values in y_train: 0\n",
      "Missing values in y_val: 0\n"
     ]
    }
   ],
   "source": [
    "# Check the missing values in the target variable Claim Injury Type\n",
    "print(f\"Missing values in y_train: {y_train.isna().sum()}\")\n",
    "print(f\"Missing values in y_val: {y_val.isna().sum()}\")"
   ]
  },
  {
   "cell_type": "code",
   "execution_count": 39,
   "metadata": {},
   "outputs": [],
   "source": [
    "# get the indexes of the missing values in the target variable Claim Injury Type\n",
    "missing_y_train = y_train[y_train.isna()].index\n",
    "missing_y_val = y_val[y_val.isna()].index\n",
    "\n",
    "# drop the missing values from the target variable Claim Injury Type\n",
    "y_train.drop(index=missing_y_train, inplace=True)\n",
    "y_val.drop(index=missing_y_val, inplace=True)\n",
    "\n",
    "# drop the same indexes from the X_train and X_val\n",
    "X_train.drop(index=missing_y_train, inplace=True)\n",
    "X_val.drop(index=missing_y_val, inplace=True)\n"
   ]
  },
  {
   "cell_type": "code",
   "execution_count": 40,
   "metadata": {},
   "outputs": [
    {
     "data": {
      "text/plain": [
       "(0, 0)"
      ]
     },
     "execution_count": 40,
     "metadata": {},
     "output_type": "execute_result"
    }
   ],
   "source": [
    "y_train.isna().sum(), y_val.isna().sum()"
   ]
  },
  {
   "cell_type": "markdown",
   "metadata": {},
   "source": [
    "### **2.2.1. Accident Date**"
   ]
  },
  {
   "cell_type": "markdown",
   "metadata": {},
   "source": [
    "* Our initial observation was that there were missing values for the accident date, so we decided to fill them in with C-2 and C-3. The underlying logic is that these values normally correspond closely to the Accident Date, so accuracy is maintained. \n",
    "* However, since these two also had many missing values, when the data remains unavailable we decided to use the Date of Assembly minus the average offset (typical time difference) between the Date of Assembly and the Date of Accident. Through this process we aim to maintain the highest date accuracy based on the knowledge that the other dates we observed generally did not differ much from the Accident Date.\n"
   ]
  },
  {
   "cell_type": "code",
   "execution_count": 41,
   "metadata": {},
   "outputs": [],
   "source": [
    "missing_values_train = X_train[\"Accident Date\"].isna().sum()\n",
    "missing_values_val = X_val[\"Accident Date\"].isna().sum()\n",
    "missing_values_test = X_test[\"Accident Date\"].isna().sum()"
   ]
  },
  {
   "cell_type": "code",
   "execution_count": 42,
   "metadata": {},
   "outputs": [
    {
     "name": "stdout",
     "output_type": "stream",
     "text": [
      "Missing values in 'Accident Date' before handling (X_train): 0\n",
      "Missing values in 'Accident Date' before handling (X_val): 2444\n",
      "Missing values in 'Accident Date' before handling (X_test): 0\n"
     ]
    }
   ],
   "source": [
    "print(f\"Missing values in 'Accident Date' before handling (X_train): {missing_values_train}\")\n",
    "print(f\"Missing values in 'Accident Date' before handling (X_val): {missing_values_test}\")\n",
    "print(f\"Missing values in 'Accident Date' before handling (X_test): {missing_values_val}\")"
   ]
  },
  {
   "cell_type": "code",
   "execution_count": 43,
   "metadata": {},
   "outputs": [
    {
     "name": "stdout",
     "output_type": "stream",
     "text": [
      "Missing values in 'Accident Date' after handling (X_train): 0\n",
      "Missing values in 'Accident Date' after handling (X_val): 0\n"
     ]
    }
   ],
   "source": [
    "# Ensure date columns are in datetime format\n",
    "X_train['Accident Date'] = pd.to_datetime(X_train['Accident Date'], errors='coerce')\n",
    "X_train['Assembly Date'] = pd.to_datetime(X_train['Assembly Date'], errors='coerce')\n",
    "X_train['C-2 Date'] = pd.to_datetime(X_train['C-2 Date'], errors='coerce')\n",
    "X_train['C-3 Date'] = pd.to_datetime(X_train['C-3 Date'], errors='coerce')\n",
    "\n",
    "X_val['Accident Date'] = pd.to_datetime(X_val['Accident Date'], errors='coerce')\n",
    "X_val['Assembly Date'] = pd.to_datetime(X_val['Assembly Date'], errors='coerce')\n",
    "X_val['C-2 Date'] = pd.to_datetime(X_val['C-2 Date'], errors='coerce')\n",
    "X_val['C-3 Date'] = pd.to_datetime(X_val['C-3 Date'], errors='coerce')\n",
    "\n",
    "X_test['Accident Date'] = pd.to_datetime(X_test['Accident Date'], errors='coerce')\n",
    "X_test['Assembly Date'] = pd.to_datetime(X_test['Assembly Date'], errors='coerce')\n",
    "X_test['C-2 Date'] = pd.to_datetime(X_test['C-2 Date'], errors='coerce')\n",
    "X_test['C-3 Date'] = pd.to_datetime(X_test['C-3 Date'], errors='coerce')\n",
    "\n",
    "\n",
    "# Try to fill missing 'Accident Date' with 'C-2 Date' or 'C-3 Date'\n",
    "X_train['Accident Date'] = X_train['Accident Date'].fillna(X_train['C-2 Date']).fillna(X_train['C-3 Date'])\n",
    "X_val['Accident Date'] = X_val['Accident Date'].fillna(X_val['C-2 Date']).fillna(X_val['C-3 Date'])\n",
    "X_test['Accident Date'] = X_test['Accident Date'].fillna(X_test['C-2 Date']).fillna(X_test['C-3 Date'])\n",
    "\n",
    "# Calculate the median offset between 'Accident Date' and 'Assembly Date'\n",
    "avg_offset = (X_train['Assembly Date'] - X_train['Accident Date']).median()\n",
    "\n",
    "# Fill missing 'Accident Date' with 'Assembly Date' minus the average offset\n",
    "X_train['Accident Date'] = X_train['Accident Date'].fillna(X_train['Assembly Date'] - avg_offset)\n",
    "X_val['Accident Date'] = X_val['Accident Date'].fillna(X_val['Assembly Date'] - avg_offset)\n",
    "\n",
    "# Check if there are still missing values after this handling\n",
    "missing_values_train = X_train[\"Accident Date\"].isna().sum()\n",
    "missing_values_test = X_val[\"Accident Date\"].isna().sum()\n",
    "\n",
    "print(f\"Missing values in 'Accident Date' after handling (X_train): {missing_values_train}\")\n",
    "print(f\"Missing values in 'Accident Date' after handling (X_val): {missing_values_test}\")\n"
   ]
  },
  {
   "cell_type": "markdown",
   "metadata": {},
   "source": [
    "We're also dropping the date column and keep a column for the accident year, one for accident month, and one called accident on weekday."
   ]
  },
  {
   "cell_type": "code",
   "execution_count": 44,
   "metadata": {},
   "outputs": [],
   "source": [
    "X_train['Accident Year'] = X_train['Accident Date'].dt.year\n",
    "X_train['Accident Month'] = X_train['Accident Date'].dt.month\n",
    "X_train['Accident on Weekday'] = X_train['Accident Date'].dt.dayofweek < 5\n",
    "\n",
    "X_val['Accident Year'] = X_val['Accident Date'].dt.year\n",
    "X_val['Accident Month'] = X_val['Accident Date'].dt.month\n",
    "X_val['Accident on Weekday'] = X_val['Accident Date'].dt.dayofweek < 5\n",
    "\n",
    "# Make accident date datetime on test set\n",
    "X_test['Accident Date'] = pd.to_datetime(X_test['Accident Date'], errors='coerce')\n",
    "\n",
    "X_test['Accident Year'] = X_test['Accident Date'].dt.year\n",
    "X_test['Accident Month'] = X_test['Accident Date'].dt.month\n",
    "X_test['Accident on Weekday'] = X_test['Accident Date'].dt.dayofweek < 5\n",
    "\n"
   ]
  },
  {
   "cell_type": "markdown",
   "metadata": {},
   "source": [
    "### **2.2.2 Alternative Dispute Resolution**"
   ]
  },
  {
   "cell_type": "markdown",
   "metadata": {},
   "source": [
    "* Regarding the execution of Alternative Dispute Resolutions, it did not occur for more than 95% of the dataset entries. Due to the high class imbalance of this feature, it will most likely not have a significant influence on the target variable, so the model will not learn much from it."
   ]
  },
  {
   "cell_type": "code",
   "execution_count": 45,
   "metadata": {},
   "outputs": [
    {
     "data": {
      "text/plain": [
       "count     425239\n",
       "unique         3\n",
       "top            N\n",
       "freq      423502\n",
       "Name: Alternative Dispute Resolution, dtype: object"
      ]
     },
     "execution_count": 45,
     "metadata": {},
     "output_type": "execute_result"
    }
   ],
   "source": [
    "X_train['Alternative Dispute Resolution'].describe()"
   ]
  },
  {
   "cell_type": "code",
   "execution_count": 46,
   "metadata": {},
   "outputs": [],
   "source": [
    "# Calculate the mode of 'Alternative Dispute Resolution' from X_train to fill missing data\n",
    "adr_mode = X_train[\"Alternative Dispute Resolution\"].mode()[0]\n",
    "\n",
    "# Replace \"U\" directly with the mode in both training and test sets\n",
    "X_train[\"Alternative Dispute Resolution\"].replace(\"U\", adr_mode, inplace=True)\n",
    "X_train[\"Alternative Dispute Resolution\"].fillna(adr_mode, inplace=True)  # Fill any remaining missing values\n",
    "X_val[\"Alternative Dispute Resolution\"].replace(\"U\", adr_mode, inplace=True)\n",
    "X_val[\"Alternative Dispute Resolution\"].fillna(adr_mode, inplace=True)  # Fill any remaining missing values\n",
    "X_test[\"Alternative Dispute Resolution\"].replace(\"U\", adr_mode, inplace=True)\n",
    "X_test[\"Alternative Dispute Resolution\"].fillna(adr_mode, inplace=True)  # Fill any remaining missing values\n",
    "\n",
    "# Convert \"Y\" to 1 and \"N\" to 0 for binary representation in both sets\n",
    "X_train[\"Alternative Dispute Resolution\"] = X_train[\"Alternative Dispute Resolution\"].map({\"Y\": 1, \"N\": 0})\n",
    "X_val[\"Alternative Dispute Resolution\"] = X_val[\"Alternative Dispute Resolution\"].map({\"Y\": 1, \"N\": 0})\n",
    "X_test[\"Alternative Dispute Resolution\"] = X_test[\"Alternative Dispute Resolution\"].map({\"Y\": 1, \"N\": 0})"
   ]
  },
  {
   "cell_type": "markdown",
   "metadata": {},
   "source": [
    "### **2.2.3 Attorney/Representative**"
   ]
  },
  {
   "cell_type": "markdown",
   "metadata": {},
   "source": [
    "* The Distribution of the existence of an Attorney / Representative provides enough cases of each binary option for the model to be potentially able to learn useful knowledge to predict the target dependent variable."
   ]
  },
  {
   "cell_type": "code",
   "execution_count": 47,
   "metadata": {},
   "outputs": [
    {
     "name": "stdout",
     "output_type": "stream",
     "text": [
      "Missing values in 'Attorney/Representative' before handling (X_train): 0\n",
      "Missing values in 'Attorney/Representative' before handling (X_val): 0\n"
     ]
    }
   ],
   "source": [
    "#Check for missing values in Attorney/Representative\n",
    "\n",
    "missing_values_train = X_train[\"Attorney/Representative\"].isna().sum()\n",
    "missing_values_test = X_val[\"Attorney/Representative\"].isna().sum()\n",
    "\n",
    "print(f\"Missing values in 'Attorney/Representative' before handling (X_train): {missing_values_train}\")\n",
    "print(f\"Missing values in 'Attorney/Representative' before handling (X_val): {missing_values_test}\")"
   ]
  },
  {
   "cell_type": "code",
   "execution_count": 48,
   "metadata": {},
   "outputs": [],
   "source": [
    "# Calculate the proportion of \"Y\" and \"N\" in X_train for Attorney/Representative\n",
    "proportion_Y = X_train['Attorney/Representative'].value_counts(normalize=True)[\"Y\"]\n",
    "proportion_N = X_train['Attorney/Representative'].value_counts(normalize=True)[\"N\"]\n",
    "\n",
    "# Fill missing values in X_train based on the calculated proportions\n",
    "X_train['Attorney/Representative'] = X_train['Attorney/Representative'].apply(\n",
    "    lambda x: np.random.choice([\"Y\", \"N\"], p=[proportion_Y, proportion_N]) if pd.isna(x) else x\n",
    ")\n",
    "\n",
    "# Repeat the same filling process for X_val\n",
    "X_val['Attorney/Representative'] = X_val['Attorney/Representative'].apply(\n",
    "    lambda x: np.random.choice([\"Y\", \"N\"], p=[proportion_Y, proportion_N]) if pd.isna(x) else x\n",
    ")\n",
    "\n",
    "# Repeat the same filling process for X_test\n",
    "X_test['Attorney/Representative'] = X_test['Attorney/Representative'].apply(\n",
    "    lambda x: np.random.choice([\"Y\", \"N\"], p=[proportion_Y, proportion_N]) if pd.isna(x) else x\n",
    ")\n",
    "\n",
    "# Convert \"Y\" to 1 and \"N\" to 0 for binary representation in both sets\n",
    "X_train['Attorney/Representative'] = X_train['Attorney/Representative'].map({\"Y\": 1, \"N\": 0})\n",
    "X_val['Attorney/Representative'] = X_val['Attorney/Representative'].map({\"Y\": 1, \"N\": 0})\n",
    "X_test['Attorney/Representative'] = X_test['Attorney/Representative'].map({\"Y\": 1, \"N\": 0})\n"
   ]
  },
  {
   "cell_type": "markdown",
   "metadata": {},
   "source": [
    "### **2.2.4 C-2 Date C-3 Date**"
   ]
  },
  {
   "cell_type": "markdown",
   "metadata": {},
   "source": [
    "* Many values are missing in both C-2 and C-3, but before making decisions on how to deal with them we decided to analyze the time intervals between the date of the accident and these dates to find out if there were any inconsistencies. \n",
    "\n",
    "* As a result, we found that many of the time intervals gave negative values (which is not possible since those dates cannot be prior to the accident). With this in mind, we decided to remove the rows that showed such inconsistencies. Next, we continued to visualize the remaining data and discovered that the date range was really high, probably showing extreme outliers. Therefore, we conducted some research on IUS law and discovered that the time period for filing a post-accident injury claim, known as the statute of limitations, varies by state and type of claim. In general, the statute of limitations for personal injury claims ranges from 1 to 6 years in different states, so we set a threshold of 2190 days or 6 years.\n",
    "\n",
    "* Our last step was to binarize those two dates: 1 if a date-time existed and 0 if it was missing. \n"
   ]
  },
  {
   "cell_type": "code",
   "execution_count": 49,
   "metadata": {},
   "outputs": [],
   "source": [
    "X_train['Accident_C2_Diff'] = (X_train['C-2 Date'] - X_train['Accident Date']).dt.days\n",
    "X_train['Accident_C3_Diff'] = (X_train['C-3 Date'] - X_train['Accident Date']).dt.days\n",
    "\n",
    "X_val['Accident_C2_Diff'] = (X_val['C-2 Date'] - X_val['Accident Date']).dt.days\n",
    "X_val['Accident_C3_Diff'] = (X_val['C-3 Date'] - X_val['Accident Date']).dt.days\n",
    "\n",
    "X_test['Accident_C2_Diff'] = (X_test['C-2 Date'] - X_test['Accident Date']).dt.days\n",
    "X_test['Accident_C3_Diff'] = (X_test['C-3 Date'] - X_test['Accident Date']).dt.days\n"
   ]
  },
  {
   "cell_type": "code",
   "execution_count": 50,
   "metadata": {},
   "outputs": [
    {
     "data": {
      "image/png": "[encoded data removed]",
      "text/plain": [
       "<Figure size 1000x600 with 1 Axes>"
      ]
     },
     "metadata": {},
     "output_type": "display_data"
    }
   ],
   "source": [
    "# Checking the initial distribution of 'Accident_C2_Diff' and 'Accident_C3_Diff'\n",
    "# Prepare data for plotting by melting into long format\n",
    "time_data = X_train[['Accident_C2_Diff', 'Accident_C3_Diff']].melt(var_name=\"Time Type\", value_name=\"Days\")\n",
    "\n",
    "# Create the boxplot for 'Accident_C2_Diff' and 'Accident_C3_Diff'\n",
    "plt.figure(figsize=(10, 6))\n",
    "sns.boxplot(data=time_data, x=\"Time Type\", y=\"Days\", palette=\"coolwarm\")\n",
    "\n",
    "\n",
    "plt.title(\"Distribution of Time Intervals between Accident Date and C-2/C-3 Dates\")\n",
    "plt.xlabel(\"Time Type\")\n",
    "plt.ylabel(\"Days between Accident and C-2/C-3 Dates\")\n",
    "\n",
    "# Display the plot\n",
    "plt.grid(axis=\"y\", linestyle=\"--\", alpha=0.7)\n",
    "\n",
    "plt.show()"
   ]
  },
  {
   "cell_type": "code",
   "execution_count": 51,
   "metadata": {},
   "outputs": [
    {
     "name": "stdout",
     "output_type": "stream",
     "text": [
      "Number of rows with negative intervals before filter in training set: 1265\n",
      "Number of rows with negative intervals before filter in test set: 282\n",
      "Number of rows with negative intervals before filter in test set: 1842\n",
      "Number of rows with negative intervals after filter in training set: 1265\n",
      "Number of rows with negative intervals after filter in test set: 282\n",
      "Number of rows with negative intervals after filter in test set: 1842\n"
     ]
    }
   ],
   "source": [
    "# Convert 'Accident Date', 'C-2 Date', and 'C-3 Date' to datetime format\n",
    "\n",
    "X_train['C-2 Date'] = pd.to_datetime(X_train['C-2 Date'], errors='coerce')\n",
    "X_train['C-3 Date'] = pd.to_datetime(X_train['C-3 Date'], errors='coerce')\n",
    "\n",
    "X_val['C-2 Date'] = pd.to_datetime(X_val['C-2 Date'], errors='coerce')\n",
    "X_val['C-3 Date'] = pd.to_datetime(X_val['C-3 Date'], errors='coerce')\n",
    "\n",
    "X_test['C-2 Date'] = pd.to_datetime(X_test['C-2 Date'], errors='coerce')\n",
    "X_test['C-3 Date'] = pd.to_datetime(X_test['C-3 Date'], errors='coerce')\n",
    "\n",
    "# Calculate the time intervals\n",
    "time_to_c2_train = (X_train['C-2 Date'] - X_train['Accident Date']).dt.days\n",
    "time_to_c3_train = (X_train['C-3 Date'] - X_train['Accident Date']).dt.days\n",
    "\n",
    "time_to_c2_val = (X_val['C-2 Date'] - X_val['Accident Date']).dt.days\n",
    "time_to_c3_val = (X_val['C-3 Date'] - X_val['Accident Date']).dt.days\n",
    "\n",
    "time_to_c2_test = (X_test['C-2 Date'] - X_test['Accident Date']).dt.days\n",
    "time_to_c3_test = (X_test['C-3 Date'] - X_test['Accident Date']).dt.days\n",
    "\n",
    "# Print the number of rows with negative intervals\n",
    "print(f\"Number of rows with negative intervals before filter in training set: {((time_to_c2_train < 0) | (time_to_c3_train < 0)).sum()}\")\n",
    "print(f\"Number of rows with negative intervals before filter in test set: {((time_to_c2_val < 0) | (time_to_c3_val < 0)).sum()}\")\n",
    "print(f\"Number of rows with negative intervals before filter in test set: {((time_to_c2_test < 0) | (time_to_c3_test < 0)).sum()}\")\n",
    "\n",
    "\n",
    "# Drop rows with negative intervals, keeping rows with NaN values\n",
    "X_train = X_train[((time_to_c2_train >= 0) | (time_to_c2_train.isna())) & ((time_to_c3_train >= 0) | (time_to_c3_train.isna()))]\n",
    "X_val = X_val[((time_to_c2_val >= 0) | (time_to_c2_val.isna())) & ((time_to_c3_val >= 0) | (time_to_c3_val.isna()))]\n",
    "\n",
    "\n",
    "#Print the number of rows with negative intervals\n",
    "print(f\"Number of rows with negative intervals after filter in training set: {((time_to_c2_train < 0) | (time_to_c3_train < 0)).sum()}\")\n",
    "print(f\"Number of rows with negative intervals after filter in test set: {((time_to_c2_val < 0) | (time_to_c3_val < 0)).sum()}\")\n",
    "print(f\"Number of rows with negative intervals after filter in test set: {((time_to_c2_test < 0) | (time_to_c3_test < 0)).sum()}\")\n",
    "\n",
    "# remove the same instances from the target variable, because both need to have the same shape for RFE Logistic Regression (for example)\n",
    "y_train = y_train.loc[X_train.index]\n",
    "y_val = y_val.loc[X_val.index]"
   ]
  },
  {
   "cell_type": "code",
   "execution_count": 52,
   "metadata": {},
   "outputs": [
    {
     "data": {
      "image/png": "[encoded data removed]",
      "text/plain": [
       "<Figure size 1000x600 with 1 Axes>"
      ]
     },
     "metadata": {},
     "output_type": "display_data"
    }
   ],
   "source": [
    "#Checking the distribution after last cell filetering to check that there are no negative values\n",
    "time_data = X_train[['Accident_C2_Diff', 'Accident_C3_Diff']].melt(var_name=\"Time Type\", value_name=\"Days\")\n",
    "\n",
    "# Create the boxplot for 'Accident_C2_Diff' and 'Accident_C3_Diff' on the same graph with coolwarm palette\n",
    "plt.figure(figsize=(10, 6))\n",
    "sns.boxplot(data=time_data, x=\"Time Type\", y=\"Days\", palette=\"coolwarm\")\n",
    "\n",
    "# Titles and labels\n",
    "plt.title(\"Distribution of Time Intervals between Accident Date and C-2/C-3 Dates\")\n",
    "plt.xlabel(\"Time Type\")\n",
    "plt.ylabel(\"Days between Accident and C-2/C-3 Dates\")\n",
    "\n",
    "# Display the plot\n",
    "plt.grid(axis=\"y\", linestyle=\"--\", alpha=0.7)\n",
    "\n",
    "plt.show()"
   ]
  },
  {
   "cell_type": "markdown",
   "metadata": {},
   "source": [
    "In the United States, the time limit to file an injury claim after an accident, known as the statute of limitations, varies by state and type of claim. Generally, the limitation period for personal injury claims ranges from 1 to 6 years across different states."
   ]
  },
  {
   "cell_type": "code",
   "execution_count": 53,
   "metadata": {},
   "outputs": [
    {
     "name": "stdout",
     "output_type": "stream",
     "text": [
      "Number of rows exceeding threshold in Accident_C2_Diff (X_train): 1691\n",
      "Number of rows exceeding threshold in Accident_C3_Diff (X_train): 495\n",
      "Number of rows exceeding threshold in Accident_C2_Diff (X_val): 364\n",
      "Number of rows exceeding threshold in Accident_C3_Diff (X_val): 107\n",
      "Number of rows exceeding threshold in Accident_C2_Diff (X_test): 1373\n",
      "Number of rows exceeding threshold in Accident_C3_Diff (X_test): 286\n"
     ]
    }
   ],
   "source": [
    "# Ensure 'C-2 Date', and 'C-3 Date' are in datetime format\n",
    "X_train['C-2 Date'] = pd.to_datetime(X_train['C-2 Date'], errors='coerce')\n",
    "X_train['C-3 Date'] = pd.to_datetime(X_train['C-3 Date'], errors='coerce')\n",
    "\n",
    "X_val['C-2 Date'] = pd.to_datetime(X_val['C-2 Date'], errors='coerce')\n",
    "X_val['C-3 Date'] = pd.to_datetime(X_val['C-3 Date'], errors='coerce')\n",
    "\n",
    "# Calculate the time differences (in days) between 'Accident Date' and 'C-2 Date' / 'C-3 Date'\n",
    "X_train['Accident_C2_Diff'] = (X_train['C-2 Date'] - X_train['Accident Date']).dt.days\n",
    "X_train['Accident_C3_Diff'] = (X_train['C-3 Date'] - X_train['Accident Date']).dt.days\n",
    "\n",
    "X_val['Accident_C2_Diff'] = (X_val['C-2 Date'] - X_val['Accident Date']).dt.days\n",
    "X_val['Accident_C3_Diff'] = (X_val['C-3 Date'] - X_val['Accident Date']).dt.days\n",
    "\n",
    "X_test['Accident_C2_Diff'] = (X_test['C-2 Date'] - X_test['Accident Date']).dt.days\n",
    "X_test['Accident_C3_Diff'] = (X_test['C-3 Date'] - X_test['Accident Date']).dt.days\n",
    "\n",
    "# Define the threshold for time. We set 6 years and expalined in the markdown above\n",
    "time_threshold = 2190  # 6 years in days\n",
    "\n",
    "# Check the number of rows exceeding the threshold for each interval. Just to check if our conditions are set up correctly\n",
    "print(f\"Number of rows exceeding threshold in Accident_C2_Diff (X_train): {(X_train['Accident_C2_Diff'] > time_threshold).sum()}\")\n",
    "print(f\"Number of rows exceeding threshold in Accident_C3_Diff (X_train): {(X_train['Accident_C3_Diff'] > time_threshold).sum()}\")\n",
    "\n",
    "print(f\"Number of rows exceeding threshold in Accident_C2_Diff (X_val): {(X_val['Accident_C2_Diff'] > time_threshold).sum()}\")\n",
    "print(f\"Number of rows exceeding threshold in Accident_C3_Diff (X_val): {(X_val['Accident_C3_Diff'] > time_threshold).sum()}\")\n",
    "\n",
    "print(f\"Number of rows exceeding threshold in Accident_C2_Diff (X_test): {(X_test['Accident_C2_Diff'] > time_threshold).sum()}\")\n",
    "print(f\"Number of rows exceeding threshold in Accident_C3_Diff (X_test): {(X_test['Accident_C3_Diff'] > time_threshold).sum()}\")\n",
    "\n",
    "# Drop rows with time intervals exceeding the threshold, keeping rows with NaN values\n",
    "X_train = X_train[((X_train['Accident_C2_Diff'] <= time_threshold) | (X_train['Accident_C2_Diff'].isna())) &\n",
    "                  ((X_train['Accident_C3_Diff'] <= time_threshold) | (X_train['Accident_C3_Diff'].isna()))]\n",
    "\n",
    "X_val = X_val[((X_val['Accident_C2_Diff'] <= time_threshold) | (X_val['Accident_C2_Diff'].isna())) &\n",
    "                ((X_val['Accident_C3_Diff'] <= time_threshold) | (X_val['Accident_C3_Diff'].isna()))]\n",
    "\n",
    "\n",
    "# remove the same instances from the target variable, because both need to have the same shape for RFE Logistic Regression (for example)\n",
    "y_train = y_train.loc[X_train.index]\n",
    "y_val = y_val.loc[X_val.index]\n"
   ]
  },
  {
   "cell_type": "code",
   "execution_count": 54,
   "metadata": {},
   "outputs": [],
   "source": [
    "#Now we're creating a new column to indicate if the date was imputed or not\n",
    "X_train['C-2 Date'] = X_train['C-2 Date'].isna().astype(int)\n",
    "X_train['C-3 Date'] = X_train['C-3 Date'].isna().astype(int)\n",
    "\n",
    "X_val['C-2 Date'] = X_val['C-2 Date'].isna().astype(int)\n",
    "X_val['C-3 Date'] = X_val['C-3 Date'].isna().astype(int)\n",
    "\n",
    "X_test['C-2 Date'] = X_test['C-2 Date'].isna().astype(int)\n",
    "X_test['C-3 Date'] = X_test['C-3 Date'].isna().astype(int)"
   ]
  },
  {
   "cell_type": "code",
   "execution_count": 55,
   "metadata": {},
   "outputs": [],
   "source": [
    "#Drop the features created to help visualize the data\n",
    "\n",
    "X_train.drop(columns=['Accident_C2_Diff', 'Accident_C3_Diff'], inplace=True)\n",
    "X_val.drop(columns=['Accident_C2_Diff', 'Accident_C3_Diff'], inplace=True)\n",
    "X_test.drop(columns=['Accident_C2_Diff', 'Accident_C3_Diff'], inplace=True)"
   ]
  },
  {
   "cell_type": "markdown",
   "metadata": {},
   "source": [
    "### **2.2.5 Carrier Name**"
   ]
  },
  {
   "cell_type": "markdown",
   "metadata": {},
   "source": [
    "* After performing the data cleaning process described above, we did not find any missing values for either Carrier Name, Carrier Type, or Accident County. \n",
    "\n",
    "Note: however, when examining our dataset model, we observed that some text entries for Carrier Name had inconsistencies that caused the inaccuracy of the unique values. In the next phase we will apply the fuzzy machine technique to solve this problem which will hopefully result in a better predictive model.\n"
   ]
  },
  {
   "cell_type": "code",
   "execution_count": 56,
   "metadata": {},
   "outputs": [
    {
     "name": "stdout",
     "output_type": "stream",
     "text": [
      "Missing values in X_train after replacement: 0\n",
      "Missing values in X_val after replacement: 0\n",
      "Missing values in X_test after replacement: 0\n"
     ]
    }
   ],
   "source": [
    "# Display the result to confirm it's 0\n",
    "print(\"Missing values in X_train after replacement:\", X_train['Carrier Name'].isna().sum())\n",
    "print(\"Missing values in X_val after replacement:\", X_val['Carrier Name'].isna().sum())\n",
    "print(\"Missing values in X_test after replacement:\", X_test['Carrier Name'].isna().sum())\n"
   ]
  },
  {
   "cell_type": "markdown",
   "metadata": {},
   "source": [
    "In the next handout we need to fix this feature. We found a lot of carrier names that were very simillar but were written in different ways. We need to fix this in order to reduce the cardinality of this feature."
   ]
  },
  {
   "cell_type": "markdown",
   "metadata": {},
   "source": [
    "### **2.2.6 Carrier Type**"
   ]
  },
  {
   "cell_type": "code",
   "execution_count": 57,
   "metadata": {},
   "outputs": [
    {
     "name": "stdout",
     "output_type": "stream",
     "text": [
      "Missing values in X_train after replacement: 0\n",
      "Missing values in X_val after replacement: 0\n",
      "Missing values in X_test after replacement: 0\n"
     ]
    }
   ],
   "source": [
    "# Display the result to confirm it's 0\n",
    "print(\"Missing values in X_train after replacement:\", X_train['Carrier Type'].isna().sum())\n",
    "print(\"Missing values in X_val after replacement:\", X_val['Carrier Type'].isna().sum())\n",
    "print(\"Missing values in X_test after replacement:\", X_test['Carrier Type'].isna().sum())\n"
   ]
  },
  {
   "cell_type": "markdown",
   "metadata": {},
   "source": [
    "### **2.2.7 County of Injury**"
   ]
  },
  {
   "cell_type": "code",
   "execution_count": 58,
   "metadata": {},
   "outputs": [
    {
     "name": "stdout",
     "output_type": "stream",
     "text": [
      "Missing values in X_train after replacement: 0\n",
      "Missing values in X_val after replacement: 0\n",
      "Missing values in X_test after replacement: 0\n"
     ]
    }
   ],
   "source": [
    "# Calculate the mode of 'County of Injury' column in X_train\n",
    "county_injury_mode = X_train['County of Injury'].mode()[0]\n",
    "\n",
    "# Replace missing values in 'County of Injury' with the mode in both X_train and X_val\n",
    "X_train['County of Injury'].fillna(county_injury_mode, inplace=True)\n",
    "X_val['County of Injury'].fillna(county_injury_mode, inplace=True)\n",
    "X_test['County of Injury'].fillna(county_injury_mode, inplace=True)\n",
    "\n",
    "# Display the result to confirm\n",
    "print(\"Missing values in X_train after replacement:\", X_train['County of Injury'].isna().sum())\n",
    "print(\"Missing values in X_val after replacement:\", X_val['County of Injury'].isna().sum())\n",
    "print(\"Missing values in X_test after replacement:\", X_test['County of Injury'].isna().sum())\n"
   ]
  },
  {
   "cell_type": "markdown",
   "metadata": {},
   "source": [
    "### **2.2.8 Covid-19**"
   ]
  },
  {
   "cell_type": "markdown",
   "metadata": {},
   "source": [
    "* We defined a function to check for missing values. If there were, we used the missing values approach based on the most common indicators for each “WCIO Nature of Injury Description” and “WCIO Cause of Injury Description”. We wanted to find the most likely indicator value for any injury or cause. \n",
    "* Finally, we converted the COVID/19 indicator to binary, where Y corresponds to 1 and N to 0, to ensure consistency of format for modeling.  \n",
    "* This method ensures that the values are filled in logically based on common patterns of other feature combinations, which increases the reliability of the model.\n"
   ]
  },
  {
   "cell_type": "code",
   "execution_count": 59,
   "metadata": {},
   "outputs": [],
   "source": [
    "# Create a mapping of the most common 'Covid-19 Indicator' for each combination of injury and cause\n",
    "covid_mapping = X_train.groupby(['WCIO Nature of Injury Description', 'WCIO Cause of Injury Description'])['COVID-19 Indicator'].apply(lambda x: x.mode()[0] if not x.mode().empty else None)\n",
    "\n",
    "# Define a function to fill missing 'Covid-19 Indicator' based on the mapping\n",
    "def fill_covid_indicator(row):\n",
    "    if pd.isna(row['COVID-19 Indicator']):\n",
    "        return covid_mapping.get((row['WCIO Nature of Injury Description'], row['WCIO Cause of Injury Description']), row['COVID-19 Indicator'])\n",
    "    else:\n",
    "        return row['COVID-19 Indicator']\n",
    "\n",
    "# Apply the function to fill missing values\n",
    "X_train['COVID-19 Indicator'] = X_train.apply(fill_covid_indicator, axis=1)\n",
    "X_val['COVID-19 Indicator'] = X_val.apply(fill_covid_indicator, axis=1)\n",
    "X_test['COVID-19 Indicator'] = X_test.apply(fill_covid_indicator, axis=1)"
   ]
  },
  {
   "cell_type": "code",
   "execution_count": 60,
   "metadata": {},
   "outputs": [
    {
     "name": "stdout",
     "output_type": "stream",
     "text": [
      "Missing values in X_train after replacement: 0\n",
      "Missing values in X_val after replacement: 0\n",
      "Missing values in X_test after replacement: 0\n"
     ]
    }
   ],
   "source": [
    "# Convert 'COVID-19 Indicator' to binary: 1 for \"Yes\" and 0 for \"No\"\n",
    "X_train['COVID-19 Indicator'] = X_train['COVID-19 Indicator'].map({\"Y\": 1, \"N\": 0})\n",
    "X_val['COVID-19 Indicator'] = X_val['COVID-19 Indicator'].map({\"Y\": 1, \"N\": 0})\n",
    "X_test['COVID-19 Indicator'] = X_test['COVID-19 Indicator'].map({\"Y\": 1, \"N\": 0})\n",
    "\n",
    "# Print number of missing values after handling\n",
    "print(\"Missing values in X_train after replacement:\", X_train['COVID-19 Indicator'].isna().sum())\n",
    "print(\"Missing values in X_val after replacement:\", X_val['COVID-19 Indicator'].isna().sum())\n",
    "print(\"Missing values in X_test after replacement:\", X_test['COVID-19 Indicator'].isna().sum())"
   ]
  },
  {
   "cell_type": "markdown",
   "metadata": {},
   "source": [
    "### **2.2.9 Assembly Date**"
   ]
  },
  {
   "cell_type": "markdown",
   "metadata": {},
   "source": [
    "There were no missing values for this feature. However, applying logic and reasoning, we decided to eliminate all rows where the assembly date was prior to the date of the accident."
   ]
  },
  {
   "cell_type": "code",
   "execution_count": 61,
   "metadata": {},
   "outputs": [
    {
     "name": "stdout",
     "output_type": "stream",
     "text": [
      "Number of rows dropped on train: 8\n",
      "Number of rows dropped on validation: 3\n",
      "Number of rows dropped on test: 0\n"
     ]
    }
   ],
   "source": [
    "# Calculate the number of rows before dropping\n",
    "rows_before_train = X_train.shape[0]\n",
    "rows_before_val = X_val.shape[0]\n",
    "rows_before_test = X_test.shape[0]\n",
    "\n",
    "X_train['Assembly Date'] = pd.to_datetime(X_train['Assembly Date'], errors='coerce')\n",
    "X_val['Assembly Date'] = pd.to_datetime(X_val['Assembly Date'], errors='coerce')\n",
    "X_test['Assembly Date'] = pd.to_datetime(X_test['Assembly Date'], errors='coerce')\n",
    "\n",
    "# Drop rows where 'Assembly Date' is before 'Accident Date'\n",
    "X_train = X_train[X_train['Assembly Date'] >= X_train['Accident Date']]\n",
    "X_val = X_val[X_val['Assembly Date'] >= X_val['Accident Date']]\n",
    "\n",
    "# Calculate the number of rows after dropping\n",
    "rows_after_train = X_train.shape[0]\n",
    "rows_after_val = X_val.shape[0]\n",
    "rows_after_test = X_test.shape[0]\n",
    "\n",
    "# Drop the indexes from the target variable\n",
    "y_train = y_train.loc[X_train.index]\n",
    "y_val = y_val.loc[X_val.index]\n",
    "\n",
    "# Print the difference in row count\n",
    "print(f\"Number of rows dropped on train: {rows_before_train - rows_after_train}\")\n",
    "print(f\"Number of rows dropped on validation: {rows_before_val - rows_after_val}\")\n",
    "print(f\"Number of rows dropped on test: {rows_before_test - rows_after_test}\")"
   ]
  },
  {
   "cell_type": "code",
   "execution_count": 62,
   "metadata": {},
   "outputs": [],
   "source": [
    "#Create new columns for the year and month of the Assembly Date\n",
    "\n",
    "X_train['Assembly Year'] = X_train['Assembly Date'].dt.year\n",
    "X_train['Assembly Month'] = X_train['Assembly Date'].dt.month\n",
    "\n",
    "X_val['Assembly Year'] = X_val['Assembly Date'].dt.year\n",
    "X_val['Assembly Month'] = X_val['Assembly Date'].dt.month\n",
    "\n",
    "# Make Assembly Year datetime on test set\n",
    "X_test['Assembly Date'] = pd.to_datetime(X_test['Assembly Date'], errors='coerce')  \n",
    "\n",
    "X_test['Assembly Year'] = X_test['Assembly Date'].dt.year\n",
    "X_test['Assembly Month'] = X_test['Assembly Date'].dt.month"
   ]
  },
  {
   "cell_type": "markdown",
   "metadata": {},
   "source": [
    "### **2.2.10 Gender**"
   ]
  },
  {
   "cell_type": "markdown",
   "metadata": {},
   "source": [
    "* We did not obtain missing values after running the code, but decided to standardize the entries by replacing the ambiguous “U” and “X” values with “Other” in both data sets, simplifying the “ Gender” categories for clearer analysis. This data processing ensured consistency for modeling, with a more straightforward representation of the gender categories.\n"
   ]
  },
  {
   "cell_type": "code",
   "execution_count": 63,
   "metadata": {},
   "outputs": [
    {
     "name": "stdout",
     "output_type": "stream",
     "text": [
      "Missing values in X_train: 0\n",
      "Missing values in X_val: 0\n",
      "Missing values in X_test: 0\n"
     ]
    }
   ],
   "source": [
    "#Checking the nan in 'Gender' before handling\n",
    "\n",
    "# Printing number of missing values after handling\n",
    "print(\"Missing values in X_train:\", X_train['Gender'].isna().sum())\n",
    "print(\"Missing values in X_val:\", X_val['Gender'].isna().sum())\n",
    "print(\"Missing values in X_test:\", X_test['Gender'].isna().sum())"
   ]
  },
  {
   "cell_type": "code",
   "execution_count": 64,
   "metadata": {},
   "outputs": [
    {
     "name": "stdout",
     "output_type": "stream",
     "text": [
      "Gender\n",
      "M    244800\n",
      "F    173938\n",
      "U      3321\n",
      "X        32\n",
      "Name: count, dtype: int64\n"
     ]
    },
    {
     "data": {
      "image/png": "[encoded data removed]",
      "text/plain": [
       "<Figure size 1000x600 with 1 Axes>"
      ]
     },
     "metadata": {},
     "output_type": "display_data"
    }
   ],
   "source": [
    "gender_counts = X_train['Gender'].value_counts()\n",
    "print(gender_counts)\n",
    "\n",
    "# Plot the bar plot\n",
    "plt.figure(figsize=(10, 6))\n",
    "plt.bar(gender_counts.index, gender_counts.values, color='pink', edgecolor='black')\n",
    "plt.title('Distribution of Gender Feature')\n",
    "plt.xlabel('Gender')\n",
    "plt.ylabel('Count')\n",
    "plt.grid(axis='y', alpha=0.75)\n",
    "plt.show()"
   ]
  },
  {
   "cell_type": "code",
   "execution_count": 65,
   "metadata": {},
   "outputs": [],
   "source": [
    "# Dropping the rows in Gender feature that have U or X as gender values\n",
    "X_train = X_train[~X_train['Gender'].isin(['U', 'X'])]\n",
    "X_val = X_val[~X_val['Gender'].isin(['U', 'X'])] \n",
    "\n",
    "# remove the same instances from the target variable, because both need to have the same shape for RFE Logistic Regression (for example)\n",
    "y_train = y_train.loc[X_train.index]\n",
    "y_val = y_val.loc[X_val.index]"
   ]
  },
  {
   "cell_type": "code",
   "execution_count": 66,
   "metadata": {},
   "outputs": [],
   "source": [
    "X_train['Gender'] = X_train['Gender'].map({'M': 0, 'F': 1})\n",
    "X_val['Gender'] = X_val['Gender'].map({'M': 0, 'F': 1})\n",
    "X_test['Gender'] = X_test['Gender'].map({'M': 0, 'F': 1})"
   ]
  },
  {
   "cell_type": "markdown",
   "metadata": {},
   "source": [
    "### **2.2.11. Injury Descriptions**"
   ]
  },
  {
   "cell_type": "markdown",
   "metadata": {},
   "source": [
    "* We have created a function, map_cause_of_injury_description, to make the “cause of injury” descriptions consistent and accurate. This function maps each injury code to its most frequent description (mode). This function generates a dictionary of code-description pairs, in which each unique code in the specified column is paired with its most frequent description. In this way, we can systematically replace codes with their corresponding descriptions, ensuring a standardized representation across the entire dataset.\n",
    "* Thanks to this, we have mapped several X_train columns - including “Industry code”, “WCIO cause of injury code”, “WCIO nature of injury code” and “WCIO body part code” - to their respective descriptions. The goal is to improve the accuracy of the data, allowing for clearer analysis of patterns and trends. \n"
   ]
  },
  {
   "cell_type": "code",
   "execution_count": 67,
   "metadata": {},
   "outputs": [],
   "source": [
    "def map_cause_of_injury_description(df, code_col, desc_col):\n",
    "\n",
    "    dict = {}\n",
    "\n",
    "    for code in df[code_col].unique():\n",
    "        # get the description of the code\n",
    "        description = df[df[code_col] == code][desc_col].mode()[0]\n",
    "        # save the code and description in the dictionary\n",
    "        dict[code] = description\n",
    "\n",
    "    # map the industry codes to their descriptions\n",
    "    return df[code_col].map(dict)"
   ]
  },
  {
   "cell_type": "code",
   "execution_count": 68,
   "metadata": {},
   "outputs": [],
   "source": [
    "# Use the function to map the descriptions\n",
    "X_train['Industry Code Description'] = map_cause_of_injury_description(X_train, 'Industry Code', 'Industry Code Description')\n",
    "X_train['WCIO Cause of Injury Description'] = map_cause_of_injury_description(X_train, 'WCIO Cause of Injury Code', 'WCIO Cause of Injury Description')\n",
    "X_train['WCIO Nature of Injury Description'] = map_cause_of_injury_description(X_train, 'WCIO Nature of Injury Code', 'WCIO Nature of Injury Description')\n",
    "X_train['WCIO Part Of Body Description'] = map_cause_of_injury_description(X_train, 'WCIO Part Of Body Code', 'WCIO Part Of Body Description')"
   ]
  },
  {
   "cell_type": "markdown",
   "metadata": {},
   "source": [
    "### **2.2.12 Last Check**"
   ]
  },
  {
   "cell_type": "code",
   "execution_count": 69,
   "metadata": {},
   "outputs": [],
   "source": [
    "#Drop the Accident Date column because we have already extracted the year and month and weekday\n",
    "\n",
    "X_train.drop(columns=['Accident Date'], inplace=True)\n",
    "X_val.drop(columns=['Accident Date'], inplace=True)\n",
    "X_test.drop(columns=['Accident Date'], inplace=True)  # IS THIS CORRECT? DROPPING ON THE TEST SET ?\n",
    "\n",
    "# Drop the 'Assembly Date' column as we have extracted the year and month\n",
    "\n",
    "X_train.drop(columns=['Assembly Date'], inplace=True)\n",
    "X_val.drop(columns=['Assembly Date'], inplace=True)\n",
    "X_test.drop(columns=['Assembly Date'], inplace=True)  # IS THIS CORRECT? DROPPING ON THE TEST SET ?"
   ]
  },
  {
   "cell_type": "code",
   "execution_count": 70,
   "metadata": {},
   "outputs": [
    {
     "data": {
      "text/plain": [
       "Age at Injury                        0\n",
       "Alternative Dispute Resolution       0\n",
       "Attorney/Representative              0\n",
       "Average Weekly Wage                  0\n",
       "Birth Year                           0\n",
       "C-2 Date                             0\n",
       "C-3 Date                             0\n",
       "Carrier Name                         0\n",
       "Carrier Type                         0\n",
       "County of Injury                     0\n",
       "COVID-19 Indicator                   0\n",
       "District Name                        0\n",
       "Gender                               0\n",
       "Industry Code                        0\n",
       "Industry Code Description            0\n",
       "Medical Fee Region                   0\n",
       "WCIO Cause of Injury Code            0\n",
       "WCIO Cause of Injury Description     0\n",
       "WCIO Nature of Injury Code           0\n",
       "WCIO Nature of Injury Description    0\n",
       "WCIO Part Of Body Code               0\n",
       "WCIO Part Of Body Description        0\n",
       "Zip Code                             0\n",
       "Number of Dependents                 0\n",
       "Accident Year                        0\n",
       "Accident Month                       0\n",
       "Accident on Weekday                  0\n",
       "Assembly Year                        0\n",
       "Assembly Month                       0\n",
       "dtype: int64"
      ]
     },
     "execution_count": 70,
     "metadata": {},
     "output_type": "execute_result"
    }
   ],
   "source": [
    "X_train.isnull().sum()"
   ]
  },
  {
   "cell_type": "code",
   "execution_count": 71,
   "metadata": {},
   "outputs": [
    {
     "data": {
      "text/plain": [
       "Age at Injury                           0\n",
       "Alternative Dispute Resolution          0\n",
       "Attorney/Representative                 0\n",
       "Average Weekly Wage                     0\n",
       "Birth Year                              0\n",
       "C-2 Date                                0\n",
       "C-3 Date                                0\n",
       "Carrier Name                            0\n",
       "Carrier Type                            0\n",
       "County of Injury                        0\n",
       "COVID-19 Indicator                      0\n",
       "District Name                           0\n",
       "Gender                                  0\n",
       "Industry Code                           0\n",
       "Industry Code Description            1441\n",
       "Medical Fee Region                      0\n",
       "WCIO Cause of Injury Code               0\n",
       "WCIO Cause of Injury Description     2240\n",
       "WCIO Nature of Injury Code              0\n",
       "WCIO Nature of Injury Description    2241\n",
       "WCIO Part Of Body Code                  0\n",
       "WCIO Part Of Body Description        2500\n",
       "Zip Code                                0\n",
       "Number of Dependents                    0\n",
       "Accident Year                           0\n",
       "Accident Month                          0\n",
       "Accident on Weekday                     0\n",
       "Assembly Year                           0\n",
       "Assembly Month                          0\n",
       "dtype: int64"
      ]
     },
     "execution_count": 71,
     "metadata": {},
     "output_type": "execute_result"
    }
   ],
   "source": [
    "X_val.isnull().sum()"
   ]
  },
  {
   "cell_type": "code",
   "execution_count": 72,
   "metadata": {},
   "outputs": [
    {
     "data": {
      "text/plain": [
       "0"
      ]
     },
     "execution_count": 72,
     "metadata": {},
     "output_type": "execute_result"
    }
   ],
   "source": [
    "y_train.isnull().sum()"
   ]
  },
  {
   "cell_type": "code",
   "execution_count": 73,
   "metadata": {},
   "outputs": [
    {
     "data": {
      "text/plain": [
       "0"
      ]
     },
     "execution_count": 73,
     "metadata": {},
     "output_type": "execute_result"
    }
   ],
   "source": [
    "y_val.isnull().sum()"
   ]
  },
  {
   "cell_type": "markdown",
   "metadata": {},
   "source": [
    "THIS NEED TO HAVE THE SAME SHAPE (X_TRAIN WITH Y_TRAIN AND X_VAL WITH Y_VAL) (rows only)"
   ]
  },
  {
   "cell_type": "code",
   "execution_count": 74,
   "metadata": {},
   "outputs": [
    {
     "data": {
      "text/plain": [
       "(((418738, 29), (418738,)), ((101186, 29), (101186,)), (387975, 29))"
      ]
     },
     "execution_count": 74,
     "metadata": {},
     "output_type": "execute_result"
    }
   ],
   "source": [
    "(X_train.shape, y_train.shape), (X_val.shape, y_val.shape), X_test.shape"
   ]
  },
  {
   "cell_type": "code",
   "execution_count": null,
   "metadata": {},
   "outputs": [],
   "source": []
  },
  {
   "cell_type": "markdown",
   "metadata": {},
   "source": [
    "# 3. Exporting the dataset to a new csv file"
   ]
  },
  {
   "cell_type": "code",
   "execution_count": 75,
   "metadata": {},
   "outputs": [],
   "source": [
    "#Check if the folder 'datasets' exists, if not, create it\n",
    "import os\n",
    "\n",
    "if not os.path.exists('datasets'):\n",
    "    os.makedirs('datasets')"
   ]
  },
  {
   "cell_type": "code",
   "execution_count": 76,
   "metadata": {},
   "outputs": [],
   "source": [
    "#export to csv \n",
    "\n",
    "X_train.to_csv('datasets/preprocessed_train_delivery1.csv')\n",
    "X_val.to_csv('datasets/preprocessed_val_delivery1.csv')\n",
    "y_train.to_csv('datasets/preprocessed_y_train_delivery1.csv')\n",
    "y_val.to_csv('datasets/preprocessed_y_val_delivery1.csv')\n",
    "X_test.to_csv('datasets/test_delivery1.csv')"
   ]
  }
 ],
 "metadata": {
  "kernelspec": {
   "display_name": "Python 3",
   "language": "python",
   "name": "python3"
  },
  "language_info": {
   "codemirror_mode": {
    "name": "ipython",
    "version": 3
   },
   "file_extension": ".py",
   "mimetype": "text/x-python",
   "name": "python",
   "nbconvert_exporter": "python",
   "pygments_lexer": "ipython3",
   "version": "3.9.13"
  }
 },
 "nbformat": 4,
 "nbformat_minor": 2
}
