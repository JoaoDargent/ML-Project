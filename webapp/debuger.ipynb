{
 "cells": [
  {
   "cell_type": "code",
   "execution_count": 1,
   "metadata": {},
   "outputs": [
    {
     "name": "stderr",
     "output_type": "stream",
     "text": [
      "/Users/joaodargent/opt/anaconda3/lib/python3.9/site-packages/sklearn/base.py:380: InconsistentVersionWarning: Trying to unpickle estimator DecisionTreeClassifier from version 1.4.2 when using version 1.6.0. This might lead to breaking code or invalid results. Use at your own risk. For more info please refer to:\n",
      "https://scikit-learn.org/stable/model_persistence.html#security-maintainability-limitations\n",
      "  warnings.warn(\n",
      "/Users/joaodargent/opt/anaconda3/lib/python3.9/site-packages/sklearn/base.py:380: InconsistentVersionWarning: Trying to unpickle estimator RandomForestClassifier from version 1.4.2 when using version 1.6.0. This might lead to breaking code or invalid results. Use at your own risk. For more info please refer to:\n",
      "https://scikit-learn.org/stable/model_persistence.html#security-maintainability-limitations\n",
      "  warnings.warn(\n"
     ]
    }
   ],
   "source": [
    "#Import the model from model folder\n",
    "import pickle\n",
    "with open(\"models/rf_optimized.pkl\", \"rb\") as file:\n",
    "    model = pickle.load(file)\n",
    "\n"
   ]
  },
  {
   "cell_type": "code",
   "execution_count": 2,
   "metadata": {},
   "outputs": [
    {
     "name": "stdout",
     "output_type": "stream",
     "text": [
      "Model expects the following features:\n",
      "['Age at Injury' 'Average Weekly Wage' 'Birth Year'\n",
      " 'Dependency-to-Income Ratio' 'Carrier Accident Density'\n",
      " 'Injury-Location Pair_1. CANCELLED' 'Injury-Location Pair_2. NON-COMP'\n",
      " 'Injury-Location Pair_3. MED ONLY' 'Injury-Location Pair_4. TEMPORARY'\n",
      " 'Injury-Location Pair_5. PPD SCH LOSS' 'IME-4 Count'\n",
      " 'Attorney/Representative' 'First Hearing Date' 'C-3 Date']\n"
     ]
    }
   ],
   "source": [
    "feature_names = getattr(model, 'feature_names_in_', None)\n",
    "if feature_names is not None:\n",
    "    print(\"Model expects the following features:\")\n",
    "    print(feature_names)\n",
    "else:\n",
    "    print(\"Feature names not found in the model.\")"
   ]
  }
 ],
 "metadata": {
  "kernelspec": {
   "display_name": "Python 3",
   "language": "python",
   "name": "python3"
  },
  "language_info": {
   "codemirror_mode": {
    "name": "ipython",
    "version": 3
   },
   "file_extension": ".py",
   "mimetype": "text/x-python",
   "name": "python",
   "nbconvert_exporter": "python",
   "pygments_lexer": "ipython3",
   "version": "3.9.13"
  }
 },
 "nbformat": 4,
 "nbformat_minor": 2
}
