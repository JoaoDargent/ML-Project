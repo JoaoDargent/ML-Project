{
 "cells": [
  {
   "cell_type": "code",
   "execution_count": 1,
   "metadata": {},
   "outputs": [],
   "source": [
    "import pandas as pd"
   ]
  },
  {
   "cell_type": "code",
   "execution_count": 2,
   "metadata": {},
   "outputs": [],
   "source": [
    "#%% Load your main dataset\n",
    "df = pd.read_csv(\"data/feature_engineering_train_delivery1.csv\", index_col=0)\n",
    "\n",
    "# Load the FIPS reference file\n",
    "county_fips = pd.read_csv(\"data/county_fips_master.csv\", encoding=\"latin1\")"
   ]
  },
  {
   "cell_type": "code",
   "execution_count": 3,
   "metadata": {},
   "outputs": [
    {
     "name": "stdout",
     "output_type": "stream",
     "text": [
      "   fips county_name state_abbr state_name          long_name  sumlev  region  \\\n",
      "0  1001     AUTAUGA         AL    Alabama  Autauga County AL    50.0     3.0   \n",
      "1  1003     BALDWIN         AL    Alabama  Baldwin County AL    50.0     3.0   \n",
      "2  1005     BARBOUR         AL    Alabama  Barbour County AL    50.0     3.0   \n",
      "3  1007        BIBB         AL    Alabama     Bibb County AL    50.0     3.0   \n",
      "4  1009      BLOUNT         AL    Alabama   Blount County AL    50.0     3.0   \n",
      "\n",
      "   division  state  county crosswalk region_name       division_name  \n",
      "0       6.0    1.0     1.0   3-6-1-1       South  East South Central  \n",
      "1       6.0    1.0     3.0   3-6-1-3       South  East South Central  \n",
      "2       6.0    1.0     5.0   3-6-1-5       South  East South Central  \n",
      "3       6.0    1.0     7.0   3-6-1-7       South  East South Central  \n",
      "4       6.0    1.0     9.0   3-6-1-9       South  East South Central  \n"
     ]
    }
   ],
   "source": [
    "county_fips[\"county_name\"] = county_fips[\"county_name\"].str.replace(\" County\", \"\", case=False).str.strip().str.upper()\n",
    "\n",
    "# Inspect the FIPS reference file to confirm column names\n",
    "print(county_fips.head())"
   ]
  },
  {
   "cell_type": "code",
   "execution_count": 4,
   "metadata": {},
   "outputs": [],
   "source": [
    "# Merge the main dataset with the FIPS file\n",
    "# Assuming `County` in `county_fips` matches `County of Injury` in `df`\n",
    "#This is the merge based on the county name\n",
    "df = df.merge(county_fips, left_on=\"County of Injury\", right_on=\"county_name\", how=\"left\")\n",
    "\n",
    "# Ensure FIPS codes are zero-padded to 5 digits\n",
    "df[\"fips\"] = df[\"fips\"].astype(str).str.zfill(5)"
   ]
  },
  {
   "cell_type": "code",
   "execution_count": null,
   "metadata": {},
   "outputs": [],
   "source": []
  },
  {
   "cell_type": "code",
   "execution_count": 5,
   "metadata": {},
   "outputs": [
    {
     "name": "stdout",
     "output_type": "stream",
     "text": [
      "Merged DataFrame:\n"
     ]
    },
    {
     "data": {
      "text/html": [
       "<div>\n",
       "<style scoped>\n",
       "    .dataframe tbody tr th:only-of-type {\n",
       "        vertical-align: middle;\n",
       "    }\n",
       "\n",
       "    .dataframe tbody tr th {\n",
       "        vertical-align: top;\n",
       "    }\n",
       "\n",
       "    .dataframe thead th {\n",
       "        text-align: right;\n",
       "    }\n",
       "</style>\n",
       "<table border=\"1\" class=\"dataframe\">\n",
       "  <thead>\n",
       "    <tr style=\"text-align: right;\">\n",
       "      <th></th>\n",
       "      <th>Age at Injury</th>\n",
       "      <th>Alternative Dispute Resolution</th>\n",
       "      <th>Attorney/Representative</th>\n",
       "      <th>Average Weekly Wage</th>\n",
       "      <th>Birth Year</th>\n",
       "      <th>C-3 Date</th>\n",
       "      <th>Carrier Name</th>\n",
       "      <th>Carrier Type</th>\n",
       "      <th>County of Injury</th>\n",
       "      <th>COVID-19 Indicator</th>\n",
       "      <th>...</th>\n",
       "      <th>state_name</th>\n",
       "      <th>long_name</th>\n",
       "      <th>sumlev</th>\n",
       "      <th>region</th>\n",
       "      <th>division</th>\n",
       "      <th>state</th>\n",
       "      <th>county</th>\n",
       "      <th>crosswalk</th>\n",
       "      <th>region_name</th>\n",
       "      <th>division_name</th>\n",
       "    </tr>\n",
       "  </thead>\n",
       "  <tbody>\n",
       "    <tr>\n",
       "      <th>0</th>\n",
       "      <td>50.0</td>\n",
       "      <td>0.0</td>\n",
       "      <td>1</td>\n",
       "      <td>1500.0</td>\n",
       "      <td>1971.0</td>\n",
       "      <td>1</td>\n",
       "      <td>STATE INSURANCE FUND</td>\n",
       "      <td>2A. SIF</td>\n",
       "      <td>RICHMOND</td>\n",
       "      <td>0</td>\n",
       "      <td>...</td>\n",
       "      <td>Georgia</td>\n",
       "      <td>Richmond County GA</td>\n",
       "      <td>50.0</td>\n",
       "      <td>3.0</td>\n",
       "      <td>5.0</td>\n",
       "      <td>13.0</td>\n",
       "      <td>245.0</td>\n",
       "      <td>3-5-13-245</td>\n",
       "      <td>South</td>\n",
       "      <td>South Atlantic</td>\n",
       "    </tr>\n",
       "    <tr>\n",
       "      <th>1</th>\n",
       "      <td>50.0</td>\n",
       "      <td>0.0</td>\n",
       "      <td>1</td>\n",
       "      <td>1500.0</td>\n",
       "      <td>1971.0</td>\n",
       "      <td>1</td>\n",
       "      <td>STATE INSURANCE FUND</td>\n",
       "      <td>2A. SIF</td>\n",
       "      <td>RICHMOND</td>\n",
       "      <td>0</td>\n",
       "      <td>...</td>\n",
       "      <td>New York</td>\n",
       "      <td>Richmond County NY</td>\n",
       "      <td>50.0</td>\n",
       "      <td>1.0</td>\n",
       "      <td>2.0</td>\n",
       "      <td>36.0</td>\n",
       "      <td>85.0</td>\n",
       "      <td>1-2-36-85</td>\n",
       "      <td>Northeast</td>\n",
       "      <td>Middle Atlantic</td>\n",
       "    </tr>\n",
       "    <tr>\n",
       "      <th>2</th>\n",
       "      <td>50.0</td>\n",
       "      <td>0.0</td>\n",
       "      <td>1</td>\n",
       "      <td>1500.0</td>\n",
       "      <td>1971.0</td>\n",
       "      <td>1</td>\n",
       "      <td>STATE INSURANCE FUND</td>\n",
       "      <td>2A. SIF</td>\n",
       "      <td>RICHMOND</td>\n",
       "      <td>0</td>\n",
       "      <td>...</td>\n",
       "      <td>North Carolina</td>\n",
       "      <td>Richmond County NC</td>\n",
       "      <td>50.0</td>\n",
       "      <td>3.0</td>\n",
       "      <td>5.0</td>\n",
       "      <td>37.0</td>\n",
       "      <td>153.0</td>\n",
       "      <td>3-5-37-153</td>\n",
       "      <td>South</td>\n",
       "      <td>South Atlantic</td>\n",
       "    </tr>\n",
       "    <tr>\n",
       "      <th>3</th>\n",
       "      <td>50.0</td>\n",
       "      <td>0.0</td>\n",
       "      <td>1</td>\n",
       "      <td>1500.0</td>\n",
       "      <td>1971.0</td>\n",
       "      <td>1</td>\n",
       "      <td>STATE INSURANCE FUND</td>\n",
       "      <td>2A. SIF</td>\n",
       "      <td>RICHMOND</td>\n",
       "      <td>0</td>\n",
       "      <td>...</td>\n",
       "      <td>Virginia</td>\n",
       "      <td>Richmond County VA</td>\n",
       "      <td>50.0</td>\n",
       "      <td>3.0</td>\n",
       "      <td>5.0</td>\n",
       "      <td>51.0</td>\n",
       "      <td>159.0</td>\n",
       "      <td>3-5-51-159</td>\n",
       "      <td>South</td>\n",
       "      <td>South Atlantic</td>\n",
       "    </tr>\n",
       "    <tr>\n",
       "      <th>4</th>\n",
       "      <td>45.0</td>\n",
       "      <td>0.0</td>\n",
       "      <td>0</td>\n",
       "      <td>250.0</td>\n",
       "      <td>1976.0</td>\n",
       "      <td>0</td>\n",
       "      <td>STATE INSURANCE FUND</td>\n",
       "      <td>2A. SIF</td>\n",
       "      <td>NASSAU</td>\n",
       "      <td>0</td>\n",
       "      <td>...</td>\n",
       "      <td>Florida</td>\n",
       "      <td>Nassau County FL</td>\n",
       "      <td>50.0</td>\n",
       "      <td>3.0</td>\n",
       "      <td>5.0</td>\n",
       "      <td>12.0</td>\n",
       "      <td>89.0</td>\n",
       "      <td>3-5-12-89</td>\n",
       "      <td>South</td>\n",
       "      <td>South Atlantic</td>\n",
       "    </tr>\n",
       "  </tbody>\n",
       "</table>\n",
       "<p>5 rows × 63 columns</p>\n",
       "</div>"
      ],
      "text/plain": [
       "   Age at Injury  Alternative Dispute Resolution  Attorney/Representative  \\\n",
       "0           50.0                             0.0                        1   \n",
       "1           50.0                             0.0                        1   \n",
       "2           50.0                             0.0                        1   \n",
       "3           50.0                             0.0                        1   \n",
       "4           45.0                             0.0                        0   \n",
       "\n",
       "   Average Weekly Wage  Birth Year  C-3 Date          Carrier Name  \\\n",
       "0               1500.0      1971.0         1  STATE INSURANCE FUND   \n",
       "1               1500.0      1971.0         1  STATE INSURANCE FUND   \n",
       "2               1500.0      1971.0         1  STATE INSURANCE FUND   \n",
       "3               1500.0      1971.0         1  STATE INSURANCE FUND   \n",
       "4                250.0      1976.0         0  STATE INSURANCE FUND   \n",
       "\n",
       "  Carrier Type County of Injury  COVID-19 Indicator  ...      state_name  \\\n",
       "0      2A. SIF         RICHMOND                   0  ...         Georgia   \n",
       "1      2A. SIF         RICHMOND                   0  ...        New York   \n",
       "2      2A. SIF         RICHMOND                   0  ...  North Carolina   \n",
       "3      2A. SIF         RICHMOND                   0  ...        Virginia   \n",
       "4      2A. SIF           NASSAU                   0  ...         Florida   \n",
       "\n",
       "            long_name  sumlev  region  division state county   crosswalk  \\\n",
       "0  Richmond County GA    50.0     3.0       5.0  13.0  245.0  3-5-13-245   \n",
       "1  Richmond County NY    50.0     1.0       2.0  36.0   85.0   1-2-36-85   \n",
       "2  Richmond County NC    50.0     3.0       5.0  37.0  153.0  3-5-37-153   \n",
       "3  Richmond County VA    50.0     3.0       5.0  51.0  159.0  3-5-51-159   \n",
       "4    Nassau County FL    50.0     3.0       5.0  12.0   89.0   3-5-12-89   \n",
       "\n",
       "  region_name    division_name  \n",
       "0       South   South Atlantic  \n",
       "1   Northeast  Middle Atlantic  \n",
       "2       South   South Atlantic  \n",
       "3       South   South Atlantic  \n",
       "4       South   South Atlantic  \n",
       "\n",
       "[5 rows x 63 columns]"
      ]
     },
     "execution_count": 5,
     "metadata": {},
     "output_type": "execute_result"
    }
   ],
   "source": [
    "\n",
    "# Verify the merged data\n",
    "print(\"Merged DataFrame:\")\n",
    "df.head()"
   ]
  },
  {
   "cell_type": "code",
   "execution_count": 6,
   "metadata": {},
   "outputs": [],
   "source": [
    "test = df.groupby(\"fips\").size().reset_index(name=\"accident_count\")"
   ]
  },
  {
   "cell_type": "code",
   "execution_count": 7,
   "metadata": {},
   "outputs": [
    {
     "data": {
      "text/html": [
       "<div>\n",
       "<style scoped>\n",
       "    .dataframe tbody tr th:only-of-type {\n",
       "        vertical-align: middle;\n",
       "    }\n",
       "\n",
       "    .dataframe tbody tr th {\n",
       "        vertical-align: top;\n",
       "    }\n",
       "\n",
       "    .dataframe thead th {\n",
       "        text-align: right;\n",
       "    }\n",
       "</style>\n",
       "<table border=\"1\" class=\"dataframe\">\n",
       "  <thead>\n",
       "    <tr style=\"text-align: right;\">\n",
       "      <th></th>\n",
       "      <th>fips</th>\n",
       "      <th>accident_count</th>\n",
       "    </tr>\n",
       "  </thead>\n",
       "  <tbody>\n",
       "    <tr>\n",
       "      <th>0</th>\n",
       "      <td>00nan</td>\n",
       "      <td>872</td>\n",
       "    </tr>\n",
       "    <tr>\n",
       "      <th>1</th>\n",
       "      <td>1059.0</td>\n",
       "      <td>1111</td>\n",
       "    </tr>\n",
       "    <tr>\n",
       "      <th>2</th>\n",
       "      <td>1063.0</td>\n",
       "      <td>1379</td>\n",
       "    </tr>\n",
       "    <tr>\n",
       "      <th>3</th>\n",
       "      <td>1073.0</td>\n",
       "      <td>2513</td>\n",
       "    </tr>\n",
       "    <tr>\n",
       "      <th>4</th>\n",
       "      <td>1089.0</td>\n",
       "      <td>1881</td>\n",
       "    </tr>\n",
       "  </tbody>\n",
       "</table>\n",
       "</div>"
      ],
      "text/plain": [
       "     fips  accident_count\n",
       "0   00nan             872\n",
       "1  1059.0            1111\n",
       "2  1063.0            1379\n",
       "3  1073.0            2513\n",
       "4  1089.0            1881"
      ]
     },
     "execution_count": 7,
     "metadata": {},
     "output_type": "execute_result"
    }
   ],
   "source": [
    "test.head()"
   ]
  },
  {
   "cell_type": "code",
   "execution_count": 8,
   "metadata": {},
   "outputs": [
    {
     "data": {
      "text/plain": [
       "Index(['Age at Injury', 'Alternative Dispute Resolution',\n",
       "       'Attorney/Representative', 'Average Weekly Wage', 'Birth Year',\n",
       "       'C-3 Date', 'Carrier Name', 'Carrier Type', 'County of Injury',\n",
       "       'COVID-19 Indicator', 'District Name', 'First Hearing Date', 'Gender',\n",
       "       'IME-4 Count', 'Industry Code', 'Industry Code Description',\n",
       "       'Medical Fee Region', 'WCIO Cause of Injury Code',\n",
       "       'WCIO Cause of Injury Description', 'WCIO Nature of Injury Code',\n",
       "       'WCIO Nature of Injury Description', 'WCIO Part Of Body Code',\n",
       "       'WCIO Part Of Body Description', 'Zip Code', 'Number of Dependents',\n",
       "       'Assembly Year', 'Accident Year', 'C-2 Date Year', 'Assembly Month',\n",
       "       'Accident Month', 'C-2 Date Month', 'Age Group',\n",
       "       'Frequent Injury Cause', 'Broad Body Part',\n",
       "       'Dependency-to-Income Ratio', 'Injury-Location Pair',\n",
       "       'Time Between Events', 'Accident on Weekday', 'Injury Complexity',\n",
       "       'Carrier Accident Density', 'Season of Accident',\n",
       "       'Region Risk Percentage', 'Region Risk Level',\n",
       "       'Industry Claim Percentage', 'Industry Risk Level', 'Both C2 and C3',\n",
       "       'Only C2', 'Only C3', 'No C2 or C3', 'Geo-Industry Risk', 'fips',\n",
       "       'county_name', 'state_abbr', 'state_name', 'long_name', 'sumlev',\n",
       "       'region', 'division', 'state', 'county', 'crosswalk', 'region_name',\n",
       "       'division_name'],\n",
       "      dtype='object')"
      ]
     },
     "execution_count": 8,
     "metadata": {},
     "output_type": "execute_result"
    }
   ],
   "source": [
    "df.columns"
   ]
  },
  {
   "cell_type": "code",
   "execution_count": 9,
   "metadata": {},
   "outputs": [
    {
     "name": "stdout",
     "output_type": "stream",
     "text": [
      "00nan        872\n",
      "1059.0      1111\n",
      "1063.0      1379\n",
      "1073.0      2513\n",
      "1089.0      1881\n",
      "           ...  \n",
      "56001.0    10476\n",
      "6031.0     41093\n",
      "6059.0     13552\n",
      "8059.0      2513\n",
      "8121.0      1410\n",
      "Name: fips, Length: 324, dtype: int64\n"
     ]
    }
   ],
   "source": [
    "# Check the value counts of the fips column\n",
    "print(df['fips'].value_counts().sort_index())"
   ]
  },
  {
   "cell_type": "code",
   "execution_count": 10,
   "metadata": {},
   "outputs": [],
   "source": [
    "#save the indexes where the fips is '00nan'\n",
    "nan_indexes = df[df['fips'] == '00nan'].index\n",
    "\n",
    "\n",
    "#drop the rows where the fips is '00nan'\n",
    "df = df.drop(nan_indexes)\n",
    "\n"
   ]
  },
  {
   "cell_type": "code",
   "execution_count": 11,
   "metadata": {},
   "outputs": [
    {
     "data": {
      "text/plain": [
       "1059.0      1111\n",
       "1063.0      1379\n",
       "1073.0      2513\n",
       "1089.0      1881\n",
       "1099.0     18819\n",
       "           ...  \n",
       "56001.0    10476\n",
       "6031.0     41093\n",
       "6059.0     13552\n",
       "8059.0      2513\n",
       "8121.0      1410\n",
       "Name: fips, Length: 323, dtype: int64"
      ]
     },
     "execution_count": 11,
     "metadata": {},
     "output_type": "execute_result"
    }
   ],
   "source": [
    "df['fips'].value_counts().sort_index()"
   ]
  },
  {
   "cell_type": "code",
   "execution_count": 12,
   "metadata": {},
   "outputs": [],
   "source": [
    "# Save the merged DataFrame if needed\n",
    "df.to_csv(\"data/merged_with_fips.csv\")"
   ]
  }
 ],
 "metadata": {
  "kernelspec": {
   "display_name": "Python 3",
   "language": "python",
   "name": "python3"
  },
  "language_info": {
   "codemirror_mode": {
    "name": "ipython",
    "version": 3
   },
   "file_extension": ".py",
   "mimetype": "text/x-python",
   "name": "python",
   "nbconvert_exporter": "python",
   "pygments_lexer": "ipython3",
   "version": "3.9.13"
  }
 },
 "nbformat": 4,
 "nbformat_minor": 2
}
