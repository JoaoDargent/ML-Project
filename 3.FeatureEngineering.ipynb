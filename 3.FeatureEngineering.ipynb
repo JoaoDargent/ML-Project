{
 "cells": [
  {
   "cell_type": "code",
   "execution_count": 1,
   "metadata": {},
   "outputs": [],
   "source": [
    "# Standard libraries\n",
    "import numpy as np\n",
    "import pandas as pd\n",
    "import warnings\n",
    "import zipfile, io\n",
    "\n",
    "# Visualization libraries\n",
    "import matplotlib.pyplot as plt\n",
    "import seaborn as sns\n",
    "import matplotlib.ticker as mtick\n",
    "\n",
    "# Statistical libraries\n",
    "import scipy.stats as ss\n",
    "from scipy import stats\n",
    "from scipy.stats import f_oneway\n",
    "from scipy.sparse import csr_matrix\n",
    "\n",
    "# Scikit-learn preprocessing and model selection\n",
    "from sklearn.impute import KNNImputer\n",
    "from sklearn.preprocessing import MinMaxScaler, OrdinalEncoder, LabelEncoder\n",
    "from sklearn.model_selection import train_test_split, StratifiedKFold, cross_val_score\n",
    "\n",
    "# Scikit-learn feature selection\n",
    "from sklearn.feature_selection import f_classif, SelectKBest, mutual_info_classif, RFE, RFECV\n",
    "\n",
    "# Scikit-learn models\n",
    "from sklearn.linear_model import LogisticRegression, LassoCV\n",
    "from sklearn.tree import DecisionTreeClassifier\n",
    "from sklearn.ensemble import RandomForestClassifier, GradientBoostingClassifier\n",
    "\n",
    "# Scikit-learn metrics\n",
    "from sklearn.metrics import make_scorer, precision_score, recall_score, f1_score, classification_report\n",
    "\n",
    "# Pickle for import and export of datasets\n",
    "import pickle\n",
    "\n",
    "# Seaborn settings\n",
    "sns.set()\n",
    "\n",
    "# Ignore warnings\n",
    "warnings.filterwarnings('ignore')\n",
    "\n",
    "# Enable inline plotting for Jupyter notebooks\n",
    "%matplotlib inline"
   ]
  },
  {
   "cell_type": "markdown",
   "metadata": {},
   "source": [
    "## **1.2 Importing the datasets**"
   ]
  },
  {
   "cell_type": "code",
   "execution_count": 2,
   "metadata": {},
   "outputs": [],
   "source": [
    "# load the data (train and test)\n",
    "X_train = pd.read_csv('datasets/X_train_cleaned.csv', index_col=0)\n",
    "X_val = pd.read_csv('datasets/X_val_cleaned.csv', index_col=0)\n",
    "y_train = pd.read_csv('datasets/y_train_cleaned.csv', index_col=0)\n",
    "y_val = pd.read_csv('datasets/y_val_cleaned.csv', index_col=0)\n",
    "X_test = pd.read_csv('datasets/X_test_cleaned.csv', index_col=0)"
   ]
  },
  {
   "cell_type": "code",
   "execution_count": 3,
   "metadata": {},
   "outputs": [
    {
     "data": {
      "text/plain": [
       "Index(['Accident Date', 'Age at Injury', 'Alternative Dispute Resolution',\n",
       "       'Assembly Date', 'Attorney/Representative', 'Average Weekly Wage',\n",
       "       'Birth Year', 'C-2 Date', 'C-3 Date', 'Carrier Name', 'Carrier Type',\n",
       "       'County of Injury', 'COVID-19 Indicator', 'District Name',\n",
       "       'First Hearing Date', 'Gender', 'IME-4 Count', 'Industry Code',\n",
       "       'Industry Code Description', 'Medical Fee Region',\n",
       "       'WCIO Cause of Injury Code', 'WCIO Cause of Injury Description',\n",
       "       'WCIO Nature of Injury Code', 'WCIO Nature of Injury Description',\n",
       "       'WCIO Part Of Body Code', 'WCIO Part Of Body Description', 'Zip Code',\n",
       "       'Number of Dependents'],\n",
       "      dtype='object')"
      ]
     },
     "execution_count": 3,
     "metadata": {},
     "output_type": "execute_result"
    }
   ],
   "source": [
    "X_train.columns"
   ]
  },
  {
   "cell_type": "code",
   "execution_count": 4,
   "metadata": {},
   "outputs": [
    {
     "data": {
      "text/html": [
       "<div>\n",
       "<style scoped>\n",
       "    .dataframe tbody tr th:only-of-type {\n",
       "        vertical-align: middle;\n",
       "    }\n",
       "\n",
       "    .dataframe tbody tr th {\n",
       "        vertical-align: top;\n",
       "    }\n",
       "\n",
       "    .dataframe thead th {\n",
       "        text-align: right;\n",
       "    }\n",
       "</style>\n",
       "<table border=\"1\" class=\"dataframe\">\n",
       "  <thead>\n",
       "    <tr style=\"text-align: right;\">\n",
       "      <th></th>\n",
       "      <th>Accident Date</th>\n",
       "      <th>Age at Injury</th>\n",
       "      <th>Alternative Dispute Resolution</th>\n",
       "      <th>Assembly Date</th>\n",
       "      <th>Attorney/Representative</th>\n",
       "      <th>Average Weekly Wage</th>\n",
       "      <th>Birth Year</th>\n",
       "      <th>C-2 Date</th>\n",
       "      <th>C-3 Date</th>\n",
       "      <th>Carrier Name</th>\n",
       "      <th>...</th>\n",
       "      <th>Industry Code Description</th>\n",
       "      <th>Medical Fee Region</th>\n",
       "      <th>WCIO Cause of Injury Code</th>\n",
       "      <th>WCIO Cause of Injury Description</th>\n",
       "      <th>WCIO Nature of Injury Code</th>\n",
       "      <th>WCIO Nature of Injury Description</th>\n",
       "      <th>WCIO Part Of Body Code</th>\n",
       "      <th>WCIO Part Of Body Description</th>\n",
       "      <th>Zip Code</th>\n",
       "      <th>Number of Dependents</th>\n",
       "    </tr>\n",
       "    <tr>\n",
       "      <th>Claim Identifier</th>\n",
       "      <th></th>\n",
       "      <th></th>\n",
       "      <th></th>\n",
       "      <th></th>\n",
       "      <th></th>\n",
       "      <th></th>\n",
       "      <th></th>\n",
       "      <th></th>\n",
       "      <th></th>\n",
       "      <th></th>\n",
       "      <th></th>\n",
       "      <th></th>\n",
       "      <th></th>\n",
       "      <th></th>\n",
       "      <th></th>\n",
       "      <th></th>\n",
       "      <th></th>\n",
       "      <th></th>\n",
       "      <th></th>\n",
       "      <th></th>\n",
       "      <th></th>\n",
       "    </tr>\n",
       "  </thead>\n",
       "  <tbody>\n",
       "    <tr>\n",
       "      <th>5840724</th>\n",
       "      <td>2021-10-20</td>\n",
       "      <td>49.0</td>\n",
       "      <td>0.0</td>\n",
       "      <td>2021-10-22</td>\n",
       "      <td>1</td>\n",
       "      <td>1500.000000</td>\n",
       "      <td>1971.0</td>\n",
       "      <td>2021-10-22</td>\n",
       "      <td>1</td>\n",
       "      <td>STATE INSURANCE FUND</td>\n",
       "      <td>...</td>\n",
       "      <td>ADMINISTRATIVE AND SUPPORT AND WASTE MANAGEMEN...</td>\n",
       "      <td>IV</td>\n",
       "      <td>25.0</td>\n",
       "      <td>FROM DIFFERENT LEVEL (ELEVATION)</td>\n",
       "      <td>1.0</td>\n",
       "      <td>NO PHYSICAL INJURY</td>\n",
       "      <td>42.0</td>\n",
       "      <td>LOWER BACK AREA</td>\n",
       "      <td>10304.0</td>\n",
       "      <td>1.0</td>\n",
       "    </tr>\n",
       "    <tr>\n",
       "      <th>5828518</th>\n",
       "      <td>2021-10-04</td>\n",
       "      <td>45.0</td>\n",
       "      <td>0.0</td>\n",
       "      <td>2021-10-06</td>\n",
       "      <td>0</td>\n",
       "      <td>1265.750000</td>\n",
       "      <td>1976.0</td>\n",
       "      <td>2021-10-05</td>\n",
       "      <td>0</td>\n",
       "      <td>STATE INSURANCE FUND</td>\n",
       "      <td>...</td>\n",
       "      <td>HEALTH CARE AND SOCIAL ASSISTANCE</td>\n",
       "      <td>IV</td>\n",
       "      <td>2.0</td>\n",
       "      <td>HOT OBJECTS OR SUBSTANCES</td>\n",
       "      <td>4.0</td>\n",
       "      <td>BURN</td>\n",
       "      <td>35.0</td>\n",
       "      <td>HAND</td>\n",
       "      <td>11520.0</td>\n",
       "      <td>3.0</td>\n",
       "    </tr>\n",
       "    <tr>\n",
       "      <th>5623558</th>\n",
       "      <td>2020-11-19</td>\n",
       "      <td>33.0</td>\n",
       "      <td>0.0</td>\n",
       "      <td>2020-12-22</td>\n",
       "      <td>1</td>\n",
       "      <td>1973.950000</td>\n",
       "      <td>1986.0</td>\n",
       "      <td>2020-12-22</td>\n",
       "      <td>1</td>\n",
       "      <td>TRAVELERS INDEMNITY CO OF CONN</td>\n",
       "      <td>...</td>\n",
       "      <td>FINANCE AND INSURANCE</td>\n",
       "      <td>IV</td>\n",
       "      <td>97.0</td>\n",
       "      <td>REPETITIVE MOTION</td>\n",
       "      <td>78.0</td>\n",
       "      <td>CARPAL TUNNEL SYNDROME</td>\n",
       "      <td>34.0</td>\n",
       "      <td>WRIST</td>\n",
       "      <td>11358.0</td>\n",
       "      <td>4.0</td>\n",
       "    </tr>\n",
       "    <tr>\n",
       "      <th>5630561</th>\n",
       "      <td>2020-12-09</td>\n",
       "      <td>31.0</td>\n",
       "      <td>0.0</td>\n",
       "      <td>2021-01-06</td>\n",
       "      <td>1</td>\n",
       "      <td>750.923333</td>\n",
       "      <td>1989.0</td>\n",
       "      <td>2021-01-15</td>\n",
       "      <td>1</td>\n",
       "      <td>AMERICAN ZURICH INSURANCE CO</td>\n",
       "      <td>...</td>\n",
       "      <td>HEALTH CARE AND SOCIAL ASSISTANCE</td>\n",
       "      <td>IV</td>\n",
       "      <td>83.0</td>\n",
       "      <td>PANDEMIC</td>\n",
       "      <td>83.0</td>\n",
       "      <td>COVID-19</td>\n",
       "      <td>90.0</td>\n",
       "      <td>MULTIPLE BODY PARTS (INCLUDING BODY</td>\n",
       "      <td>11236.0</td>\n",
       "      <td>2.0</td>\n",
       "    </tr>\n",
       "    <tr>\n",
       "      <th>5708079</th>\n",
       "      <td>2021-03-10</td>\n",
       "      <td>57.0</td>\n",
       "      <td>0.0</td>\n",
       "      <td>2021-04-26</td>\n",
       "      <td>0</td>\n",
       "      <td>1370.240000</td>\n",
       "      <td>1963.0</td>\n",
       "      <td>2021-04-23</td>\n",
       "      <td>0</td>\n",
       "      <td>AMERICAN CASUALTY CO OF</td>\n",
       "      <td>...</td>\n",
       "      <td>CONSTRUCTION</td>\n",
       "      <td>I</td>\n",
       "      <td>98.0</td>\n",
       "      <td>CUMULATIVE, NOC</td>\n",
       "      <td>52.0</td>\n",
       "      <td>STRAIN OR TEAR</td>\n",
       "      <td>35.0</td>\n",
       "      <td>HAND</td>\n",
       "      <td>14850.0</td>\n",
       "      <td>3.0</td>\n",
       "    </tr>\n",
       "    <tr>\n",
       "      <th>...</th>\n",
       "      <td>...</td>\n",
       "      <td>...</td>\n",
       "      <td>...</td>\n",
       "      <td>...</td>\n",
       "      <td>...</td>\n",
       "      <td>...</td>\n",
       "      <td>...</td>\n",
       "      <td>...</td>\n",
       "      <td>...</td>\n",
       "      <td>...</td>\n",
       "      <td>...</td>\n",
       "      <td>...</td>\n",
       "      <td>...</td>\n",
       "      <td>...</td>\n",
       "      <td>...</td>\n",
       "      <td>...</td>\n",
       "      <td>...</td>\n",
       "      <td>...</td>\n",
       "      <td>...</td>\n",
       "      <td>...</td>\n",
       "      <td>...</td>\n",
       "    </tr>\n",
       "    <tr>\n",
       "      <th>5857484</th>\n",
       "      <td>2021-11-09</td>\n",
       "      <td>59.0</td>\n",
       "      <td>0.0</td>\n",
       "      <td>2021-11-15</td>\n",
       "      <td>1</td>\n",
       "      <td>1825.000000</td>\n",
       "      <td>1962.0</td>\n",
       "      <td>2021-11-15</td>\n",
       "      <td>1</td>\n",
       "      <td>MEMIC INDEMNITY COMPANY</td>\n",
       "      <td>...</td>\n",
       "      <td>HEALTH CARE AND SOCIAL ASSISTANCE</td>\n",
       "      <td>IV</td>\n",
       "      <td>56.0</td>\n",
       "      <td>LIFTING</td>\n",
       "      <td>52.0</td>\n",
       "      <td>STRAIN OR TEAR</td>\n",
       "      <td>53.0</td>\n",
       "      <td>KNEE</td>\n",
       "      <td>11372.0</td>\n",
       "      <td>3.0</td>\n",
       "    </tr>\n",
       "    <tr>\n",
       "      <th>6016034</th>\n",
       "      <td>2021-11-13</td>\n",
       "      <td>32.0</td>\n",
       "      <td>0.0</td>\n",
       "      <td>2022-06-17</td>\n",
       "      <td>1</td>\n",
       "      <td>750.923333</td>\n",
       "      <td>1989.0</td>\n",
       "      <td>2022-06-21</td>\n",
       "      <td>1</td>\n",
       "      <td>ALLMERICA FINANCIAL BENEFIT</td>\n",
       "      <td>...</td>\n",
       "      <td>MANUFACTURING</td>\n",
       "      <td>II</td>\n",
       "      <td>56.0</td>\n",
       "      <td>LIFTING</td>\n",
       "      <td>52.0</td>\n",
       "      <td>STRAIN OR TEAR</td>\n",
       "      <td>42.0</td>\n",
       "      <td>LOWER BACK AREA</td>\n",
       "      <td>14622.0</td>\n",
       "      <td>2.0</td>\n",
       "    </tr>\n",
       "    <tr>\n",
       "      <th>5728500</th>\n",
       "      <td>2021-05-17</td>\n",
       "      <td>61.0</td>\n",
       "      <td>0.0</td>\n",
       "      <td>2021-05-21</td>\n",
       "      <td>0</td>\n",
       "      <td>990.853333</td>\n",
       "      <td>1960.0</td>\n",
       "      <td>2021-05-21</td>\n",
       "      <td>0</td>\n",
       "      <td>ARCH INDEMNITY INSURANCE CO.</td>\n",
       "      <td>...</td>\n",
       "      <td>HEALTH CARE AND SOCIAL ASSISTANCE</td>\n",
       "      <td>IV</td>\n",
       "      <td>56.0</td>\n",
       "      <td>LIFTING</td>\n",
       "      <td>52.0</td>\n",
       "      <td>STRAIN OR TEAR</td>\n",
       "      <td>42.0</td>\n",
       "      <td>LOWER BACK AREA</td>\n",
       "      <td>11570.0</td>\n",
       "      <td>5.0</td>\n",
       "    </tr>\n",
       "    <tr>\n",
       "      <th>5948662</th>\n",
       "      <td>2022-03-17</td>\n",
       "      <td>57.0</td>\n",
       "      <td>0.0</td>\n",
       "      <td>2022-03-21</td>\n",
       "      <td>1</td>\n",
       "      <td>720.430000</td>\n",
       "      <td>1965.0</td>\n",
       "      <td>2022-03-21</td>\n",
       "      <td>1</td>\n",
       "      <td>STATE INSURANCE FUND</td>\n",
       "      <td>...</td>\n",
       "      <td>ARTS, ENTERTAINMENT, AND RECREATION</td>\n",
       "      <td>IV</td>\n",
       "      <td>31.0</td>\n",
       "      <td>FALL, SLIP OR TRIP, NOC</td>\n",
       "      <td>10.0</td>\n",
       "      <td>CONTUSION</td>\n",
       "      <td>35.0</td>\n",
       "      <td>HAND</td>\n",
       "      <td>10452.0</td>\n",
       "      <td>2.0</td>\n",
       "    </tr>\n",
       "    <tr>\n",
       "      <th>5914039</th>\n",
       "      <td>2021-12-08</td>\n",
       "      <td>46.0</td>\n",
       "      <td>0.0</td>\n",
       "      <td>2022-02-04</td>\n",
       "      <td>1</td>\n",
       "      <td>674.460000</td>\n",
       "      <td>1975.0</td>\n",
       "      <td>2022-08-19</td>\n",
       "      <td>1</td>\n",
       "      <td>ZURICH AMERICAN INSURANCE CO</td>\n",
       "      <td>...</td>\n",
       "      <td>RETAIL TRADE</td>\n",
       "      <td>IV</td>\n",
       "      <td>90.0</td>\n",
       "      <td>OTHER THAN PHYSICAL CAUSE OF INJURY</td>\n",
       "      <td>1.0</td>\n",
       "      <td>NO PHYSICAL INJURY</td>\n",
       "      <td>35.0</td>\n",
       "      <td>HAND</td>\n",
       "      <td>11706.0</td>\n",
       "      <td>5.0</td>\n",
       "    </tr>\n",
       "  </tbody>\n",
       "</table>\n",
       "<p>100 rows × 28 columns</p>\n",
       "</div>"
      ],
      "text/plain": [
       "                 Accident Date  Age at Injury  Alternative Dispute Resolution  \\\n",
       "Claim Identifier                                                                \n",
       "5840724             2021-10-20           49.0                             0.0   \n",
       "5828518             2021-10-04           45.0                             0.0   \n",
       "5623558             2020-11-19           33.0                             0.0   \n",
       "5630561             2020-12-09           31.0                             0.0   \n",
       "5708079             2021-03-10           57.0                             0.0   \n",
       "...                        ...            ...                             ...   \n",
       "5857484             2021-11-09           59.0                             0.0   \n",
       "6016034             2021-11-13           32.0                             0.0   \n",
       "5728500             2021-05-17           61.0                             0.0   \n",
       "5948662             2022-03-17           57.0                             0.0   \n",
       "5914039             2021-12-08           46.0                             0.0   \n",
       "\n",
       "                 Assembly Date  Attorney/Representative  Average Weekly Wage  \\\n",
       "Claim Identifier                                                               \n",
       "5840724             2021-10-22                        1          1500.000000   \n",
       "5828518             2021-10-06                        0          1265.750000   \n",
       "5623558             2020-12-22                        1          1973.950000   \n",
       "5630561             2021-01-06                        1           750.923333   \n",
       "5708079             2021-04-26                        0          1370.240000   \n",
       "...                        ...                      ...                  ...   \n",
       "5857484             2021-11-15                        1          1825.000000   \n",
       "6016034             2022-06-17                        1           750.923333   \n",
       "5728500             2021-05-21                        0           990.853333   \n",
       "5948662             2022-03-21                        1           720.430000   \n",
       "5914039             2022-02-04                        1           674.460000   \n",
       "\n",
       "                  Birth Year    C-2 Date  C-3 Date  \\\n",
       "Claim Identifier                                     \n",
       "5840724               1971.0  2021-10-22         1   \n",
       "5828518               1976.0  2021-10-05         0   \n",
       "5623558               1986.0  2020-12-22         1   \n",
       "5630561               1989.0  2021-01-15         1   \n",
       "5708079               1963.0  2021-04-23         0   \n",
       "...                      ...         ...       ...   \n",
       "5857484               1962.0  2021-11-15         1   \n",
       "6016034               1989.0  2022-06-21         1   \n",
       "5728500               1960.0  2021-05-21         0   \n",
       "5948662               1965.0  2022-03-21         1   \n",
       "5914039               1975.0  2022-08-19         1   \n",
       "\n",
       "                                    Carrier Name  ...  \\\n",
       "Claim Identifier                                  ...   \n",
       "5840724                     STATE INSURANCE FUND  ...   \n",
       "5828518                     STATE INSURANCE FUND  ...   \n",
       "5623558           TRAVELERS INDEMNITY CO OF CONN  ...   \n",
       "5630561             AMERICAN ZURICH INSURANCE CO  ...   \n",
       "5708079                  AMERICAN CASUALTY CO OF  ...   \n",
       "...                                          ...  ...   \n",
       "5857484                  MEMIC INDEMNITY COMPANY  ...   \n",
       "6016034              ALLMERICA FINANCIAL BENEFIT  ...   \n",
       "5728500             ARCH INDEMNITY INSURANCE CO.  ...   \n",
       "5948662                     STATE INSURANCE FUND  ...   \n",
       "5914039             ZURICH AMERICAN INSURANCE CO  ...   \n",
       "\n",
       "                                          Industry Code Description  \\\n",
       "Claim Identifier                                                      \n",
       "5840724           ADMINISTRATIVE AND SUPPORT AND WASTE MANAGEMEN...   \n",
       "5828518                           HEALTH CARE AND SOCIAL ASSISTANCE   \n",
       "5623558                                       FINANCE AND INSURANCE   \n",
       "5630561                           HEALTH CARE AND SOCIAL ASSISTANCE   \n",
       "5708079                                                CONSTRUCTION   \n",
       "...                                                             ...   \n",
       "5857484                           HEALTH CARE AND SOCIAL ASSISTANCE   \n",
       "6016034                                               MANUFACTURING   \n",
       "5728500                           HEALTH CARE AND SOCIAL ASSISTANCE   \n",
       "5948662                         ARTS, ENTERTAINMENT, AND RECREATION   \n",
       "5914039                                                RETAIL TRADE   \n",
       "\n",
       "                 Medical Fee Region  WCIO Cause of Injury Code  \\\n",
       "Claim Identifier                                                 \n",
       "5840724                          IV                       25.0   \n",
       "5828518                          IV                        2.0   \n",
       "5623558                          IV                       97.0   \n",
       "5630561                          IV                       83.0   \n",
       "5708079                           I                       98.0   \n",
       "...                             ...                        ...   \n",
       "5857484                          IV                       56.0   \n",
       "6016034                          II                       56.0   \n",
       "5728500                          IV                       56.0   \n",
       "5948662                          IV                       31.0   \n",
       "5914039                          IV                       90.0   \n",
       "\n",
       "                     WCIO Cause of Injury Description  \\\n",
       "Claim Identifier                                        \n",
       "5840724              FROM DIFFERENT LEVEL (ELEVATION)   \n",
       "5828518                     HOT OBJECTS OR SUBSTANCES   \n",
       "5623558                             REPETITIVE MOTION   \n",
       "5630561                                      PANDEMIC   \n",
       "5708079                               CUMULATIVE, NOC   \n",
       "...                                               ...   \n",
       "5857484                                       LIFTING   \n",
       "6016034                                       LIFTING   \n",
       "5728500                                       LIFTING   \n",
       "5948662                       FALL, SLIP OR TRIP, NOC   \n",
       "5914039           OTHER THAN PHYSICAL CAUSE OF INJURY   \n",
       "\n",
       "                  WCIO Nature of Injury Code  \\\n",
       "Claim Identifier                               \n",
       "5840724                                  1.0   \n",
       "5828518                                  4.0   \n",
       "5623558                                 78.0   \n",
       "5630561                                 83.0   \n",
       "5708079                                 52.0   \n",
       "...                                      ...   \n",
       "5857484                                 52.0   \n",
       "6016034                                 52.0   \n",
       "5728500                                 52.0   \n",
       "5948662                                 10.0   \n",
       "5914039                                  1.0   \n",
       "\n",
       "                  WCIO Nature of Injury Description  WCIO Part Of Body Code  \\\n",
       "Claim Identifier                                                              \n",
       "5840724                          NO PHYSICAL INJURY                    42.0   \n",
       "5828518                                        BURN                    35.0   \n",
       "5623558                      CARPAL TUNNEL SYNDROME                    34.0   \n",
       "5630561                                    COVID-19                    90.0   \n",
       "5708079                              STRAIN OR TEAR                    35.0   \n",
       "...                                             ...                     ...   \n",
       "5857484                              STRAIN OR TEAR                    53.0   \n",
       "6016034                              STRAIN OR TEAR                    42.0   \n",
       "5728500                              STRAIN OR TEAR                    42.0   \n",
       "5948662                                   CONTUSION                    35.0   \n",
       "5914039                          NO PHYSICAL INJURY                    35.0   \n",
       "\n",
       "                        WCIO Part Of Body Description Zip Code  \\\n",
       "Claim Identifier                                                 \n",
       "5840724                               LOWER BACK AREA  10304.0   \n",
       "5828518                                          HAND  11520.0   \n",
       "5623558                                         WRIST  11358.0   \n",
       "5630561           MULTIPLE BODY PARTS (INCLUDING BODY  11236.0   \n",
       "5708079                                          HAND  14850.0   \n",
       "...                                               ...      ...   \n",
       "5857484                                          KNEE  11372.0   \n",
       "6016034                               LOWER BACK AREA  14622.0   \n",
       "5728500                               LOWER BACK AREA  11570.0   \n",
       "5948662                                          HAND  10452.0   \n",
       "5914039                                          HAND  11706.0   \n",
       "\n",
       "                 Number of Dependents  \n",
       "Claim Identifier                       \n",
       "5840724                           1.0  \n",
       "5828518                           3.0  \n",
       "5623558                           4.0  \n",
       "5630561                           2.0  \n",
       "5708079                           3.0  \n",
       "...                               ...  \n",
       "5857484                           3.0  \n",
       "6016034                           2.0  \n",
       "5728500                           5.0  \n",
       "5948662                           2.0  \n",
       "5914039                           5.0  \n",
       "\n",
       "[100 rows x 28 columns]"
      ]
     },
     "execution_count": 4,
     "metadata": {},
     "output_type": "execute_result"
    }
   ],
   "source": [
    "X_train.head(100)"
   ]
  },
  {
   "cell_type": "code",
   "execution_count": 5,
   "metadata": {},
   "outputs": [
    {
     "data": {
      "text/plain": [
       "Accident Date                        0\n",
       "Age at Injury                        0\n",
       "Alternative Dispute Resolution       0\n",
       "Assembly Date                        0\n",
       "Attorney/Representative              0\n",
       "Average Weekly Wage                  0\n",
       "Birth Year                           0\n",
       "C-2 Date                             0\n",
       "C-3 Date                             0\n",
       "Carrier Name                         0\n",
       "Carrier Type                         0\n",
       "County of Injury                     0\n",
       "COVID-19 Indicator                   0\n",
       "District Name                        0\n",
       "First Hearing Date                   0\n",
       "Gender                               0\n",
       "IME-4 Count                          0\n",
       "Industry Code                        0\n",
       "Industry Code Description            0\n",
       "Medical Fee Region                   0\n",
       "WCIO Cause of Injury Code            0\n",
       "WCIO Cause of Injury Description     0\n",
       "WCIO Nature of Injury Code           0\n",
       "WCIO Nature of Injury Description    0\n",
       "WCIO Part Of Body Code               0\n",
       "WCIO Part Of Body Description        0\n",
       "Zip Code                             0\n",
       "Number of Dependents                 0\n",
       "dtype: int64"
      ]
     },
     "execution_count": 5,
     "metadata": {},
     "output_type": "execute_result"
    }
   ],
   "source": [
    "#Check missing values for X_test\n",
    "\n",
    "X_test.isnull().sum()"
   ]
  },
  {
   "cell_type": "code",
   "execution_count": 6,
   "metadata": {},
   "outputs": [
    {
     "data": {
      "text/plain": [
       "Index(['Accident Date', 'Age at Injury', 'Alternative Dispute Resolution',\n",
       "       'Assembly Date', 'Attorney/Representative', 'Average Weekly Wage',\n",
       "       'Birth Year', 'C-2 Date', 'C-3 Date', 'Carrier Name', 'Carrier Type',\n",
       "       'County of Injury', 'COVID-19 Indicator', 'District Name',\n",
       "       'First Hearing Date', 'Gender', 'IME-4 Count', 'Industry Code',\n",
       "       'Industry Code Description', 'Medical Fee Region',\n",
       "       'WCIO Cause of Injury Code', 'WCIO Cause of Injury Description',\n",
       "       'WCIO Nature of Injury Code', 'WCIO Nature of Injury Description',\n",
       "       'WCIO Part Of Body Code', 'WCIO Part Of Body Description', 'Zip Code',\n",
       "       'Number of Dependents'],\n",
       "      dtype='object')"
      ]
     },
     "execution_count": 6,
     "metadata": {},
     "output_type": "execute_result"
    }
   ],
   "source": [
    "X_train.columns"
   ]
  },
  {
   "cell_type": "code",
   "execution_count": 7,
   "metadata": {},
   "outputs": [],
   "source": [
    "#TODO Remove this cell when preprocess is run again. Joao 17-12 12:04\n",
    "\n",
    "u_indexes_train = X_train[X_train['Gender'] == 'U'].index\n",
    "x_indexes_train = X_train[X_train['Gender'] == 'X'].index\n",
    "\n",
    "u_indexes_val = X_val[X_val['Gender'] == 'U'].index\n",
    "x_indexes_val = X_val[X_val['Gender'] == 'X'].index\n",
    "\n",
    "X_test = X_test[~X_test.index.isin(u_indexes_val)]\n",
    "X_test = X_test[~X_test.index.isin(x_indexes_val)]\n",
    "\n",
    "\n",
    "\n",
    "\n"
   ]
  },
  {
   "cell_type": "code",
   "execution_count": 8,
   "metadata": {},
   "outputs": [
    {
     "name": "stdout",
     "output_type": "stream",
     "text": [
      "Gender\n",
      "1    258145\n",
      "0    183659\n",
      "Name: count, dtype: int64\n"
     ]
    }
   ],
   "source": [
    "#Check 'Gender' value counts\n",
    "\n",
    "print(X_train['Gender'].value_counts())"
   ]
  },
  {
   "cell_type": "code",
   "execution_count": 9,
   "metadata": {},
   "outputs": [
    {
     "name": "stdout",
     "output_type": "stream",
     "text": [
      "0\n"
     ]
    }
   ],
   "source": [
    "#check for 'Gender' missing values on x_test\n",
    "\n",
    "print(X_test['Gender'].isnull().sum())"
   ]
  },
  {
   "cell_type": "code",
   "execution_count": 10,
   "metadata": {},
   "outputs": [
    {
     "data": {
      "text/html": [
       "<div>\n",
       "<style scoped>\n",
       "    .dataframe tbody tr th:only-of-type {\n",
       "        vertical-align: middle;\n",
       "    }\n",
       "\n",
       "    .dataframe tbody tr th {\n",
       "        vertical-align: top;\n",
       "    }\n",
       "\n",
       "    .dataframe thead th {\n",
       "        text-align: right;\n",
       "    }\n",
       "</style>\n",
       "<table border=\"1\" class=\"dataframe\">\n",
       "  <thead>\n",
       "    <tr style=\"text-align: right;\">\n",
       "      <th></th>\n",
       "      <th>Accident Date</th>\n",
       "      <th>Age at Injury</th>\n",
       "      <th>Alternative Dispute Resolution</th>\n",
       "      <th>Assembly Date</th>\n",
       "      <th>Attorney/Representative</th>\n",
       "      <th>Average Weekly Wage</th>\n",
       "      <th>Birth Year</th>\n",
       "      <th>C-2 Date</th>\n",
       "      <th>C-3 Date</th>\n",
       "      <th>Carrier Name</th>\n",
       "      <th>...</th>\n",
       "      <th>Industry Code Description</th>\n",
       "      <th>Medical Fee Region</th>\n",
       "      <th>WCIO Cause of Injury Code</th>\n",
       "      <th>WCIO Cause of Injury Description</th>\n",
       "      <th>WCIO Nature of Injury Code</th>\n",
       "      <th>WCIO Nature of Injury Description</th>\n",
       "      <th>WCIO Part Of Body Code</th>\n",
       "      <th>WCIO Part Of Body Description</th>\n",
       "      <th>Zip Code</th>\n",
       "      <th>Number of Dependents</th>\n",
       "    </tr>\n",
       "    <tr>\n",
       "      <th>Claim Identifier</th>\n",
       "      <th></th>\n",
       "      <th></th>\n",
       "      <th></th>\n",
       "      <th></th>\n",
       "      <th></th>\n",
       "      <th></th>\n",
       "      <th></th>\n",
       "      <th></th>\n",
       "      <th></th>\n",
       "      <th></th>\n",
       "      <th></th>\n",
       "      <th></th>\n",
       "      <th></th>\n",
       "      <th></th>\n",
       "      <th></th>\n",
       "      <th></th>\n",
       "      <th></th>\n",
       "      <th></th>\n",
       "      <th></th>\n",
       "      <th></th>\n",
       "      <th></th>\n",
       "    </tr>\n",
       "  </thead>\n",
       "  <tbody>\n",
       "  </tbody>\n",
       "</table>\n",
       "<p>0 rows × 28 columns</p>\n",
       "</div>"
      ],
      "text/plain": [
       "Empty DataFrame\n",
       "Columns: [Accident Date, Age at Injury, Alternative Dispute Resolution, Assembly Date, Attorney/Representative, Average Weekly Wage, Birth Year, C-2 Date, C-3 Date, Carrier Name, Carrier Type, County of Injury, COVID-19 Indicator, District Name, First Hearing Date, Gender, IME-4 Count, Industry Code, Industry Code Description, Medical Fee Region, WCIO Cause of Injury Code, WCIO Cause of Injury Description, WCIO Nature of Injury Code, WCIO Nature of Injury Description, WCIO Part Of Body Code, WCIO Part Of Body Description, Zip Code, Number of Dependents]\n",
       "Index: []\n",
       "\n",
       "[0 rows x 28 columns]"
      ]
     },
     "execution_count": 10,
     "metadata": {},
     "output_type": "execute_result"
    }
   ],
   "source": [
    "# Check the rows where 'Gender' has missing values on test\n",
    "\n",
    "X_test[X_test['Gender'].isna()]"
   ]
  },
  {
   "cell_type": "markdown",
   "metadata": {},
   "source": [
    "# New Features"
   ]
  },
  {
   "cell_type": "markdown",
   "metadata": {},
   "source": [
    "## Dates derivatives"
   ]
  },
  {
   "cell_type": "code",
   "execution_count": 11,
   "metadata": {},
   "outputs": [
    {
     "data": {
      "text/plain": [
       "0"
      ]
     },
     "execution_count": 11,
     "metadata": {},
     "output_type": "execute_result"
    }
   ],
   "source": [
    "#Check if 'Accident Date' has NaT values\n",
    "\n",
    "X_test['Accident Date'].isnull().sum()"
   ]
  },
  {
   "cell_type": "code",
   "execution_count": 12,
   "metadata": {},
   "outputs": [],
   "source": [
    "# Ensure 'Assembly Date' and 'Accident Date' are in datetime format\n",
    "X_train['Assembly Date'] = pd.to_datetime(X_train['Assembly Date'], errors='coerce')\n",
    "X_train['Accident Date'] = pd.to_datetime(X_train['Accident Date'], errors='coerce')\n",
    "X_train['C-2 Date'] = pd.to_datetime(X_train['C-2 Date'], errors='coerce')\n",
    "X_val['Assembly Date'] = pd.to_datetime(X_val['Assembly Date'], errors='coerce')\n",
    "X_val['Accident Date'] = pd.to_datetime(X_val['Accident Date'], errors='coerce')\n",
    "X_val['C-2 Date'] = pd.to_datetime(X_val['C-2 Date'], errors='coerce')\n",
    "X_test['Assembly Date'] = pd.to_datetime(X_test['Assembly Date'], errors='coerce')\n",
    "X_test['Accident Date'] = pd.to_datetime(X_test['Accident Date'], errors='coerce')\n",
    "X_test['C-2 Date'] = pd.to_datetime(X_test['C-2 Date'], errors='coerce')\n",
    "\n",
    "# Extract year, month and day from 'Assembly Date', 'Accident Date' and C-2 Date\n",
    "\n",
    "X_train['Assembly Year'] = X_train['Assembly Date'].dt.year\n",
    "X_train['Accident Year'] = X_train['Accident Date'].dt.year\n",
    "X_train['C-2 Date Year'] = X_train['C-2 Date'].dt.year\n",
    "X_train['Assembly Month'] = X_train['Assembly Date'].dt.month\n",
    "X_train['Accident Month'] = X_train['Accident Date'].dt.month\n",
    "X_train['C-2 Date Month'] = X_train['C-2 Date'].dt.month\n",
    "\n",
    "\n",
    "X_val['Assembly Year'] = X_val['Assembly Date'].dt.year\n",
    "X_val['Accident Year'] = X_val['Accident Date'].dt.year\n",
    "X_val['C-2 Date Year'] = X_val['C-2 Date'].dt.year\n",
    "X_val['Assembly Month'] = X_val['Assembly Date'].dt.month\n",
    "X_val['Accident Month'] = X_val['Accident Date'].dt.month\n",
    "X_val['C-2 Date Month'] = X_val['C-2 Date'].dt.month\n",
    "\n",
    "X_test['Assembly Year'] = X_test['Assembly Date'].dt.year\n",
    "X_test['Accident Year'] = X_test['Accident Date'].dt.year\n",
    "X_test['C-2 Date Year'] = X_test['C-2 Date'].dt.year\n",
    "X_test['Assembly Month'] = X_test['Assembly Date'].dt.month\n",
    "X_test['Accident Month'] = X_test['Accident Date'].dt.month\n",
    "X_test['C-2 Date Month'] = X_test['C-2 Date'].dt.month"
   ]
  },
  {
   "cell_type": "markdown",
   "metadata": {},
   "source": [
    "## Age Group"
   ]
  },
  {
   "cell_type": "markdown",
   "metadata": {},
   "source": [
    "The ‘Age group’ can provide valuable information on the relationship between age and the type of injury claims that occur. There are types of injuries that are more likely to occur in a certain age group due to the nature of physical development, activity level and age-related health risks. \n",
    "\n",
    "For example, adults between the ages of 25 and 55 are the most physically active and may have injuries related to incidents in the workplace, thus giving rise to specific accident patterns such as repetitive strain injuries or back problems, but older adults between the ages of 55 and 65 may suffer injuries due to ageing, such as slips and falls, resulting in claims for fractures or joint injuries."
   ]
  },
  {
   "cell_type": "code",
   "execution_count": 13,
   "metadata": {},
   "outputs": [
    {
     "name": "stdout",
     "output_type": "stream",
     "text": [
      "X_train: Age Group feature creation\n",
      "                  Age at Injury Age Group\n",
      "Claim Identifier                         \n",
      "5840724                    49.0     Adult\n",
      "5828518                    45.0     Adult\n",
      "5623558                    33.0     Adult\n",
      "5630561                    31.0     Adult\n",
      "5708079                    57.0       Old\n",
      "\n",
      "X_val: Age Group feature creation\n",
      "                  Age at Injury Age Group\n",
      "Claim Identifier                         \n",
      "6003273                    28.0     Adult\n",
      "5659715                    36.0     Adult\n",
      "6070148                    65.0       Old\n",
      "6108041                    53.0     Adult\n",
      "5519272                    31.0     Adult\n",
      "\n",
      "X_test: Age Group feature creation\n",
      "                  Age at Injury Age Group\n",
      "Claim Identifier                         \n",
      "6165911                      19     Young\n",
      "6166141                      19     Young\n",
      "6165907                      59       Old\n",
      "6166047                      55       Old\n",
      "6166102                      25     Adult\n"
     ]
    }
   ],
   "source": [
    "# Define a function to categorize ages into age groups\n",
    "def categorize_age(age):\n",
    "    if 0 <= age < 14:\n",
    "        return 'Child'\n",
    "    elif 14 <= age < 25:\n",
    "        return 'Young'\n",
    "    elif 25 <= age < 55:\n",
    "        return 'Adult'\n",
    "    elif 55 <= age <= 65:\n",
    "        return 'Old'\n",
    "    else:\n",
    "        return 'Other'  # For ages outside the defined ranges\n",
    "\n",
    "# Apply the function to create the new 'Age Group' feature in all datasets\n",
    "X_train['Age Group'] = X_train['Age at Injury'].apply(categorize_age)\n",
    "X_val['Age Group'] = X_val['Age at Injury'].apply(categorize_age)\n",
    "X_test['Age Group'] = X_test['Age at Injury'].apply(categorize_age)\n",
    "\n",
    "# Verify the new feature creation for all datasets\n",
    "print(\"X_train: Age Group feature creation\")\n",
    "print(X_train[['Age at Injury', 'Age Group']].head())\n",
    "\n",
    "print(\"\\nX_val: Age Group feature creation\")\n",
    "print(X_val[['Age at Injury', 'Age Group']].head())\n",
    "\n",
    "print(\"\\nX_test: Age Group feature creation\")\n",
    "print(X_test[['Age at Injury', 'Age Group']].head())\n"
   ]
  },
  {
   "cell_type": "markdown",
   "metadata": {},
   "source": [
    "## Frequent Injury Cause"
   ]
  },
  {
   "cell_type": "markdown",
   "metadata": {},
   "source": [
    "This variable identifies whether the cause of the injury is among the five most common types of workplace injuries. The reason for creating this binary indicator is that workplace injuries often follow specific patterns, with certain causes of injury being more common than others. By highlighting these frequent causes, the feature allows the model to focus on the most representative and predictable injury categories.\n"
   ]
  },
  {
   "cell_type": "code",
   "execution_count": 14,
   "metadata": {},
   "outputs": [
    {
     "name": "stdout",
     "output_type": "stream",
     "text": [
      "Most common injury causes: Index(['LIFTING', 'FELLOW WORKER, PATIENT OR OTHER PERSON',\n",
      "       'STRAIN OR INJURY BY, NOC', 'FALL, SLIP OR TRIP, NOC', 'ON SAME LEVEL'],\n",
      "      dtype='object', name='WCIO Cause of Injury Description')\n",
      "X_train: Frequent Injury Cause\n",
      "                  WCIO Cause of Injury Description  Frequent Injury Cause\n",
      "Claim Identifier                                                         \n",
      "5840724           FROM DIFFERENT LEVEL (ELEVATION)                      0\n",
      "5828518                  HOT OBJECTS OR SUBSTANCES                      0\n",
      "5623558                          REPETITIVE MOTION                      0\n",
      "5630561                                   PANDEMIC                      0\n",
      "5708079                            CUMULATIVE, NOC                      0\n",
      "\n",
      "X_val: Frequent Injury Cause\n",
      "                 WCIO Cause of Injury Description  Frequent Injury Cause\n",
      "Claim Identifier                                                        \n",
      "6003273                                  TWISTING                      0\n",
      "5659715                OTHER - MISCELLANEOUS, NOC                      0\n",
      "6070148                  STRAIN OR INJURY BY, NOC                      1\n",
      "6108041                OTHER - MISCELLANEOUS, NOC                      0\n",
      "5519272                  FALLING OR FLYING OBJECT                      0\n",
      "\n",
      "X_test: Frequent Injury Cause\n",
      "                  WCIO Cause of Injury Description  Frequent Injury Cause\n",
      "Claim Identifier                                                         \n",
      "6165911                    FALL, SLIP OR TRIP, NOC                      1\n",
      "6166141                   FALLING OR FLYING OBJECT                      0\n",
      "6165907                          STATIONARY OBJECT                      0\n",
      "6166047           FROM DIFFERENT LEVEL (ELEVATION)                      0\n",
      "6166102             OBJECT BEING LIFTED OR HANDLED                      0\n"
     ]
    }
   ],
   "source": [
    "# Count the frequency of each type of injury in 'WCIO Cause of Injury Description'\n",
    "common_injuries = X_train['WCIO Cause of Injury Description'].value_counts().nlargest(5).index\n",
    "\n",
    "print(\"Most common injury causes:\", common_injuries)\n",
    "\n",
    "# Define a function to create the binary indicator\n",
    "def injury_indicator(injury_type):\n",
    "    return 1 if injury_type in common_injuries else 0\n",
    "\n",
    "# Apply the function to create a new column 'Frequent Injury Cause' in all datasets\n",
    "X_train['Frequent Injury Cause'] = X_train['WCIO Cause of Injury Description'].apply(injury_indicator)\n",
    "X_val['Frequent Injury Cause'] = X_val['WCIO Cause of Injury Description'].apply(injury_indicator)\n",
    "X_test['Frequent Injury Cause'] = X_test['WCIO Cause of Injury Description'].apply(injury_indicator)\n",
    "\n",
    "# Display the first few rows to verify the new feature\n",
    "print(\"X_train: Frequent Injury Cause\")\n",
    "print(X_train[['WCIO Cause of Injury Description', 'Frequent Injury Cause']].head())\n",
    "\n",
    "print(\"\\nX_val: Frequent Injury Cause\")\n",
    "print(X_val[['WCIO Cause of Injury Description', 'Frequent Injury Cause']].head())\n",
    "\n",
    "print(\"\\nX_test: Frequent Injury Cause\")\n",
    "print(X_test[['WCIO Cause of Injury Description', 'Frequent Injury Cause']].head())\n"
   ]
  },
  {
   "cell_type": "markdown",
   "metadata": {},
   "source": [
    "## Broad Body Part"
   ]
  },
  {
   "cell_type": "markdown",
   "metadata": {},
   "source": [
    "The ‘Broad Body Part’ function groups the detailed body part codes from the body part code column of the WCIO into broader, more easily interpretable categories such as ‘Head and Neck’, ‘Upper Extremities’, ‘Trunk’, etc. This categorisation simplifies the detailed information into higher level groupings that are easier to analyse and align with injury patterns. The grouping helps to identify trends that may not be evident in the individual codes. The function includes general categories such as ‘Unclassified’ and ‘Unknown’, which ensure that records with incomplete or unusual codes are still classified, reducing the impact of missing or unusual data in the model.\n",
    "\n",
    "\n"
   ]
  },
  {
   "cell_type": "code",
   "execution_count": 15,
   "metadata": {},
   "outputs": [
    {
     "name": "stdout",
     "output_type": "stream",
     "text": [
      "Description: ABDOMEN INCLUDING GROIN, Code: 61.0\n",
      "Description: ANKLE, Code: 55.0\n",
      "Description: ARTIFICIAL APPLIANCE, Code: 64.0\n",
      "Description: BODY SYSTEMS AND MULTIPLE BODY SYSTEMS, Code: 91.0\n",
      "Description: BRAIN, Code: 12.0\n",
      "Description: BUTTOCKS, Code: 62.0\n",
      "Description: CHEST, Code: 44.0\n",
      "Description: DISC, Code: 22.0\n",
      "Description: EAR(S), Code: 13.0\n",
      "Description: ELBOW, Code: 32.0\n",
      "Description: EYE(S), Code: 14.0\n",
      "Description: FACIAL BONES, Code: 19.0\n",
      "Description: FINGER(S), Code: 36.0\n",
      "Description: FOOT, Code: 56.0\n",
      "Description: GREAT TOE, Code: 58.0\n",
      "Description: HAND, Code: 35.0\n",
      "Description: HEART, Code: 49.0\n",
      "Description: HIP, Code: 51.0\n",
      "Description: INSUFFICIENT INFO TO PROPERLY IDENTIFY - UNCLASSIFIED, Code: 65.0\n",
      "Description: INTERNAL ORGANS, Code: 48.0\n",
      "Description: KNEE, Code: 53.0\n",
      "Description: LARYNX, Code: 24.0\n",
      "Description: LOWER ARM, Code: 33.0\n",
      "Description: LOWER BACK AREA, Code: 42.0\n",
      "Description: LOWER LEG, Code: 54.0\n",
      "Description: LUMBAR & OR SACRAL VERTEBRAE (VERTEBRA, Code: 63.0\n",
      "Description: LUNGS, Code: 60.0\n",
      "Description: MOUTH, Code: 17.0\n",
      "Description: MULTIPLE, Code: 60.0\n",
      "Description: MULTIPLE BODY PARTS (INCLUDING BODY, Code: 90.0\n",
      "Description: MULTIPLE HEAD INJURY, Code: 10.0\n",
      "Description: MULTIPLE LOWER EXTREMITIES, Code: 50.0\n",
      "Description: MULTIPLE NECK INJURY, Code: 20.0\n",
      "Description: MULTIPLE TRUNK, Code: 40.0\n",
      "Description: MULTIPLE UPPER EXTREMITIES, Code: 30.0\n",
      "Description: NO PHYSICAL INJURY, Code: 66.0\n",
      "Description: NOSE, Code: 15.0\n",
      "Description: PELVIS, Code: 46.0\n",
      "Description: SACRUM AND COCCYX, Code: 45.0\n",
      "Description: SHOULDER(S), Code: 38.0\n",
      "Description: SKULL, Code: 11.0\n",
      "Description: SOFT TISSUE, Code: 25.0\n",
      "Description: SPINAL CORD, Code: 23.0\n",
      "Description: TEETH, Code: 16.0\n",
      "Description: THUMB, Code: 37.0\n",
      "Description: TOES, Code: 57.0\n",
      "Description: TRACHEA, Code: 26.0\n",
      "Description: UPPER ARM, Code: 31.0\n",
      "Description: UPPER BACK AREA, Code: 41.0\n",
      "Description: UPPER LEG, Code: 52.0\n",
      "Description: VERTEBRAE, Code: 21.0\n",
      "Description: WHOLE BODY, Code: 99.0\n",
      "Description: WRIST, Code: 34.0\n",
      "Description: WRIST (S) & HAND(S), Code: 39.0\n"
     ]
    }
   ],
   "source": [
    "# Drop duplicates to ensure a one to one mapping of descriptions to codes\n",
    "body_part_mapping = (\n",
    "    X_train[['WCIO Part Of Body Description', 'WCIO Part Of Body Code']]\n",
    "    .drop_duplicates()\n",
    "    .sort_values(by='WCIO Part Of Body Description') \n",
    "    .set_index('WCIO Part Of Body Description')['WCIO Part Of Body Code']\n",
    "    .to_dict()\n",
    ")\n",
    "\n",
    "# Verify that it is correct\n",
    "for description, code in body_part_mapping.items():\n",
    "    print(f\"Description: {description}, Code: {code}\")\n"
   ]
  },
  {
   "cell_type": "code",
   "execution_count": 16,
   "metadata": {},
   "outputs": [],
   "source": [
    "# Function to categorize body part codes into broader categories\n",
    "def categorize_body_part(body_part_code):\n",
    "    if body_part_code in [10, 11, 12, 13, 14, 15, 16, 17, 18, 19, 20, 24, 26]:\n",
    "        return 'Head and Neck'\n",
    "    elif body_part_code in [30, 31, 32, 33, 34, 35, 36, 37, 38, 39]:\n",
    "        return 'Upper Extremities'\n",
    "    elif body_part_code in [50, 51, 52, 53, 54, 55, 56, 57, 58]:\n",
    "        return 'Lower Extremities'\n",
    "    elif body_part_code in [40, 41, 42, 43, 44, 45, 46, 61, 62]:\n",
    "        return 'Trunk'\n",
    "    elif body_part_code in [21, 23, 43, 48, 49, 60, 63]:\n",
    "        return 'Internal Organs'\n",
    "    elif body_part_code in [90, 91]:\n",
    "        return 'Multiple Body Parts'\n",
    "    elif body_part_code in [66, 99]:\n",
    "        return 'Whole Body'\n",
    "    elif body_part_code in [65]:\n",
    "        return 'Unclassified'\n",
    "    else:\n",
    "        return 'Unknown'\n"
   ]
  },
  {
   "cell_type": "code",
   "execution_count": 17,
   "metadata": {},
   "outputs": [],
   "source": [
    "# Assign broad categories to the body part codes in the training, validation, and test datasets.\n",
    "# Apply the categorization function to create a new 'Broad Body Part' feature\n",
    "X_train['Broad Body Part'] = X_train['WCIO Part Of Body Code'].apply(categorize_body_part)\n",
    "X_val['Broad Body Part'] = X_val['WCIO Part Of Body Code'].apply(categorize_body_part)\n",
    "X_test['Broad Body Part'] = X_test['WCIO Part Of Body Code'].apply(categorize_body_part)\n"
   ]
  },
  {
   "cell_type": "code",
   "execution_count": 18,
   "metadata": {},
   "outputs": [
    {
     "name": "stdout",
     "output_type": "stream",
     "text": [
      "X_train: Broad Body Part feature\n",
      "                  WCIO Part Of Body Code      Broad Body Part\n",
      "Claim Identifier                                             \n",
      "5840724                             42.0                Trunk\n",
      "5828518                             35.0    Upper Extremities\n",
      "5623558                             34.0    Upper Extremities\n",
      "5630561                             90.0  Multiple Body Parts\n",
      "5708079                             35.0    Upper Extremities\n",
      "\n",
      "X_val: Broad Body Part feature\n",
      "                  WCIO Part Of Body Code    Broad Body Part\n",
      "Claim Identifier                                           \n",
      "6003273                             55.0  Lower Extremities\n",
      "5659715                             25.0            Unknown\n",
      "6070148                             55.0  Lower Extremities\n",
      "6108041                             43.0              Trunk\n",
      "5519272                             52.0  Lower Extremities\n",
      "\n",
      "X_test: Broad Body Part feature\n",
      "                  WCIO Part Of Body Code    Broad Body Part\n",
      "Claim Identifier                                           \n",
      "6165911                             54.0  Lower Extremities\n",
      "6166141                             10.0      Head and Neck\n",
      "6165907                             62.0              Trunk\n",
      "6166047                             53.0  Lower Extremities\n",
      "6166102                             37.0  Upper Extremities\n"
     ]
    }
   ],
   "source": [
    "# Verify the new feature in training, validation, and test datasets\n",
    "print(\"X_train: Broad Body Part feature\")\n",
    "print(X_train[['WCIO Part Of Body Code', 'Broad Body Part']].head())\n",
    "\n",
    "print(\"\\nX_val: Broad Body Part feature\")\n",
    "print(X_val[['WCIO Part Of Body Code', 'Broad Body Part']].head())\n",
    "\n",
    "print(\"\\nX_test: Broad Body Part feature\")\n",
    "print(X_test[['WCIO Part Of Body Code', 'Broad Body Part']].head())\n"
   ]
  },
  {
   "cell_type": "code",
   "execution_count": 19,
   "metadata": {},
   "outputs": [
    {
     "name": "stdout",
     "output_type": "stream",
     "text": [
      "Number of unknown values in X_train: 5812\n",
      "Number of unknown values in X_val: 1459\n",
      "Number of unknown values in X_test: 70433\n"
     ]
    }
   ],
   "source": [
    "# Count the number of 'Unknown' values in the new feature\n",
    "unknown_train = X_train['Broad Body Part'].value_counts().get('Unknown', 0)\n",
    "unknown_val = X_val['Broad Body Part'].value_counts().get('Unknown', 0)\n",
    "unknown_test = X_test['Broad Body Part'].value_counts().get('Unknown', 0)\n",
    "\n",
    "# Print the results\n",
    "print(f\"Number of unknown values in X_train: {unknown_train}\")\n",
    "print(f\"Number of unknown values in X_val: {unknown_val}\")\n",
    "print(f\"Number of unknown values in X_test: {unknown_test}\")\n"
   ]
  },
  {
   "cell_type": "markdown",
   "metadata": {},
   "source": [
    "## Dependency-to-Income Ratio"
   ]
  },
  {
   "cell_type": "markdown",
   "metadata": {},
   "source": [
    "The ‘Dependency to Income Ratio’ measures the financial burden of dependants on a person's income. It is calculated by dividing the number of dependents by the average weekly wage, representing how much each dollar of weekly income must support dependent family members. Those with a high dependency-to-income ratio may have unique injury patterns related to their socioeconomic status. For example, they may work longer hours or in higher-risk roles to support their dependents."
   ]
  },
  {
   "cell_type": "code",
   "execution_count": 20,
   "metadata": {},
   "outputs": [
    {
     "name": "stdout",
     "output_type": "stream",
     "text": [
      "X_train: Dependency-to-Income Ratio feature\n",
      "                  Number of Dependents  Average Weekly Wage  \\\n",
      "Claim Identifier                                              \n",
      "5840724                            1.0          1500.000000   \n",
      "5828518                            3.0          1265.750000   \n",
      "5623558                            4.0          1973.950000   \n",
      "5630561                            2.0           750.923333   \n",
      "5708079                            3.0          1370.240000   \n",
      "\n",
      "                  Dependency-to-Income Ratio  \n",
      "Claim Identifier                              \n",
      "5840724                             0.000667  \n",
      "5828518                             0.002370  \n",
      "5623558                             0.002026  \n",
      "5630561                             0.002663  \n",
      "5708079                             0.002189  \n",
      "\n",
      "X_val: Dependency-to-Income Ratio feature\n",
      "                  Number of Dependents  Average Weekly Wage  \\\n",
      "Claim Identifier                                              \n",
      "6003273                            2.0           991.500000   \n",
      "5659715                            5.0          2180.240000   \n",
      "6070148                            3.0          1430.533333   \n",
      "6108041                            5.0          1345.710000   \n",
      "5519272                            6.0          1160.000000   \n",
      "\n",
      "                  Dependency-to-Income Ratio  \n",
      "Claim Identifier                              \n",
      "6003273                             0.002017  \n",
      "5659715                             0.002293  \n",
      "6070148                             0.002097  \n",
      "6108041                             0.003716  \n",
      "5519272                             0.005172  \n",
      "\n",
      "X_test: Dependency-to-Income Ratio feature\n",
      "                  Number of Dependents  Average Weekly Wage  \\\n",
      "Claim Identifier                                              \n",
      "6165911                              1               892.62   \n",
      "6166141                              1               892.62   \n",
      "6165907                              0                 0.00   \n",
      "6166047                              6                 0.00   \n",
      "6166102                              5                 0.00   \n",
      "\n",
      "                  Dependency-to-Income Ratio  \n",
      "Claim Identifier                              \n",
      "6165911                         1.120298e-03  \n",
      "6166141                         1.120298e-03  \n",
      "6165907                         0.000000e+00  \n",
      "6166047                         6.000000e+09  \n",
      "6166102                         5.000000e+09  \n"
     ]
    }
   ],
   "source": [
    "# Create a new feature: Dependency-to-Income Ratio for all datasets\n",
    "for dataset in [X_train, X_val, X_test]:\n",
    "    dataset['Dependency-to-Income Ratio'] = dataset['Number of Dependents'] / (dataset['Average Weekly Wage'] + 1e-9)\n",
    "\n",
    "    # Handle potential division by zero or missing values\n",
    "    dataset['Dependency-to-Income Ratio'] = dataset['Dependency-to-Income Ratio'].fillna(0).replace([float('inf'), -float('inf')], 0)\n",
    "\n",
    "# Display the new feature for verification\n",
    "print(\"X_train: Dependency-to-Income Ratio feature\")\n",
    "print(X_train[['Number of Dependents', 'Average Weekly Wage', 'Dependency-to-Income Ratio']].head())\n",
    "\n",
    "print(\"\\nX_val: Dependency-to-Income Ratio feature\")\n",
    "print(X_val[['Number of Dependents', 'Average Weekly Wage', 'Dependency-to-Income Ratio']].head())\n",
    "\n",
    "print(\"\\nX_test: Dependency-to-Income Ratio feature\")\n",
    "print(X_test[['Number of Dependents', 'Average Weekly Wage', 'Dependency-to-Income Ratio']].head())\n"
   ]
  },
  {
   "cell_type": "markdown",
   "metadata": {},
   "source": [
    "## Injury-Location Pair"
   ]
  },
  {
   "cell_type": "markdown",
   "metadata": {},
   "source": [
    "The feature ‘Injury-location pair’ combines two important attributes: the WCIO code Body part (representing the body part affected) and the WCIO description Nature of injury (describing the type of injury). Some injuries are closely associated with specific parts of the body. A ‘fracture’ is more closely related to the ‘lower extremities’ than to the ‘internal organs’. At the same time, a ‘strain’ may occur predominantly in the ‘back’ or in the ‘upper extremities’. Combining these two pieces of information into a single attribute will allow our models to learn patterns more efficiently, without the need to explicitly calculate interactions between features. This will be especially beneficial for tree-based models, such as random forests, gradient boosting..."
   ]
  },
  {
   "cell_type": "code",
   "execution_count": 21,
   "metadata": {},
   "outputs": [
    {
     "name": "stdout",
     "output_type": "stream",
     "text": [
      "X_train: Injury-Location Pair feature\n",
      "                  WCIO Part Of Body Code WCIO Nature of Injury Description  \\\n",
      "Claim Identifier                                                             \n",
      "5840724                             42.0                NO PHYSICAL INJURY   \n",
      "5828518                             35.0                              BURN   \n",
      "5623558                             34.0            CARPAL TUNNEL SYNDROME   \n",
      "5630561                             90.0                          COVID-19   \n",
      "5708079                             35.0                    STRAIN OR TEAR   \n",
      "\n",
      "                           Injury-Location Pair  \n",
      "Claim Identifier                                 \n",
      "5840724               42.0 - NO PHYSICAL INJURY  \n",
      "5828518                             35.0 - BURN  \n",
      "5623558           34.0 - CARPAL TUNNEL SYNDROME  \n",
      "5630561                         90.0 - COVID-19  \n",
      "5708079                   35.0 - STRAIN OR TEAR  \n",
      "\n",
      "X_val: Injury-Location Pair feature\n",
      "                  WCIO Part Of Body Code WCIO Nature of Injury Description  \\\n",
      "Claim Identifier                                                             \n",
      "6003273                             55.0                    SPRAIN OR TEAR   \n",
      "5659715                             25.0                      FOREIGN BODY   \n",
      "6070148                             55.0                    STRAIN OR TEAR   \n",
      "6108041                             43.0  ALL OTHER SPECIFIC INJURIES, NOC   \n",
      "5519272                             52.0                    SPRAIN OR TEAR   \n",
      "\n",
      "                                     Injury-Location Pair  \n",
      "Claim Identifier                                           \n",
      "6003273                             55.0 - SPRAIN OR TEAR  \n",
      "5659715                               25.0 - FOREIGN BODY  \n",
      "6070148                             55.0 - STRAIN OR TEAR  \n",
      "6108041           43.0 - ALL OTHER SPECIFIC INJURIES, NOC  \n",
      "5519272                             52.0 - SPRAIN OR TEAR  \n",
      "\n",
      "X_test: Injury-Location Pair feature\n",
      "                  WCIO Part Of Body Code WCIO Nature of Injury Description  \\\n",
      "Claim Identifier                                                             \n",
      "6165911                             54.0                         CONTUSION   \n",
      "6166141                             10.0                         CONTUSION   \n",
      "6165907                             62.0                    SPRAIN OR TEAR   \n",
      "6166047                             53.0                         CONTUSION   \n",
      "6166102                             37.0                        LACERATION   \n",
      "\n",
      "                   Injury-Location Pair  \n",
      "Claim Identifier                         \n",
      "6165911                54.0 - CONTUSION  \n",
      "6166141                10.0 - CONTUSION  \n",
      "6165907           62.0 - SPRAIN OR TEAR  \n",
      "6166047                53.0 - CONTUSION  \n",
      "6166102               37.0 - LACERATION  \n"
     ]
    }
   ],
   "source": [
    "# Combine 'WCIO Part Of Body Code' and 'WCIO Nature of Injury Description' into a single feature for all datasets\n",
    "for dataset in [X_train, X_val, X_test]:\n",
    "    dataset['Injury-Location Pair'] = (\n",
    "        dataset['WCIO Part Of Body Code'].astype(str) + \" - \" + dataset['WCIO Nature of Injury Description'].astype(str)\n",
    "    )\n",
    "\n",
    "# Display the new feature for verification\n",
    "print(\"X_train: Injury-Location Pair feature\")\n",
    "print(X_train[['WCIO Part Of Body Code', 'WCIO Nature of Injury Description', 'Injury-Location Pair']].head())\n",
    "\n",
    "print(\"\\nX_val: Injury-Location Pair feature\")\n",
    "print(X_val[['WCIO Part Of Body Code', 'WCIO Nature of Injury Description', 'Injury-Location Pair']].head())\n",
    "\n",
    "print(\"\\nX_test: Injury-Location Pair feature\")\n",
    "print(X_test[['WCIO Part Of Body Code', 'WCIO Nature of Injury Description', 'Injury-Location Pair']].head())\n"
   ]
  },
  {
   "cell_type": "markdown",
   "metadata": {},
   "source": [
    "## Time Difference Between Events"
   ]
  },
  {
   "cell_type": "markdown",
   "metadata": {},
   "source": [
    "The ‘Time between events’ feature calculates the difference in years between the year of assembly (which possibly indicates when a claim or event was processed or recorded) and the year of the accident (which indicates when the workplace injury occurred). This characteristic captures the time gap between the occurrence of the injury and its subsequent treatment or processing. A longer time lag may suggest delays in reporting or processing claims, which may correlate with specific types of workplace injuries or practices, and shorter time gaps may correlate with high-priority injuries that require immediate action."
   ]
  },
  {
   "cell_type": "code",
   "execution_count": 22,
   "metadata": {},
   "outputs": [
    {
     "name": "stdout",
     "output_type": "stream",
     "text": [
      "X_train: Time Between Events feature\n",
      "                  Accident Year  Assembly Year  Time Between Events\n",
      "Claim Identifier                                                   \n",
      "5840724                    2021           2021                    0\n",
      "5828518                    2021           2021                    0\n",
      "5623558                    2020           2020                    0\n",
      "5630561                    2020           2021                    1\n",
      "5708079                    2021           2021                    0\n",
      "\n",
      "X_val: Time Between Events feature\n",
      "                  Accident Year  Assembly Year  Time Between Events\n",
      "Claim Identifier                                                   \n",
      "6003273                    2022           2022                    0\n",
      "5659715                    2021           2021                    0\n",
      "6070148                    2022           2022                    0\n",
      "6108041                    2022           2022                    0\n",
      "5519272                    2020           2020                    0\n",
      "\n",
      "X_test: Time Between Events feature\n",
      "                  Accident Year  Assembly Year  Time Between Events\n",
      "Claim Identifier                                                   \n",
      "6165911                  2022.0           2023                  1.0\n",
      "6166141                  2022.0           2023                  1.0\n",
      "6165907                  2022.0           2023                  1.0\n",
      "6166047                  2022.0           2023                  1.0\n",
      "6166102                  2022.0           2023                  1.0\n"
     ]
    }
   ],
   "source": [
    "# Calculate the time difference between events for all datasets\n",
    "for dataset in [X_train, X_val, X_test]:\n",
    "    dataset['Time Between Events'] = dataset['Assembly Year'] - dataset['Accident Year']\n",
    "\n",
    "# Display the new feature for verification\n",
    "print(\"X_train: Time Between Events feature\")\n",
    "print(X_train[['Accident Year', 'Assembly Year', 'Time Between Events']].head())\n",
    "\n",
    "print(\"\\nX_val: Time Between Events feature\")\n",
    "print(X_val[['Accident Year', 'Assembly Year', 'Time Between Events']].head())\n",
    "\n",
    "print(\"\\nX_test: Time Between Events feature\")\n",
    "print(X_test[['Accident Year', 'Assembly Year', 'Time Between Events']].head())\n"
   ]
  },
  {
   "cell_type": "markdown",
   "metadata": {},
   "source": [
    "## Accident on Weekday"
   ]
  },
  {
   "cell_type": "markdown",
   "metadata": {},
   "source": [
    "Create a binary variable that indicates whether the accident occurred on a weekday. This feature is based on the assumption that workplace injuries are more likely to occur during the workweek. This feature will hopefuly help the model to identify patterns in the data that are specific to work-related injuries."
   ]
  },
  {
   "cell_type": "code",
   "execution_count": 23,
   "metadata": {},
   "outputs": [
    {
     "name": "stdout",
     "output_type": "stream",
     "text": [
      "X_train: Accident on Weekday feature\n",
      "                 Accident Date  Accident on Weekday\n",
      "Claim Identifier                                   \n",
      "5840724             2021-10-20                 True\n",
      "5828518             2021-10-04                 True\n",
      "5623558             2020-11-19                 True\n",
      "5630561             2020-12-09                 True\n",
      "5708079             2021-03-10                 True\n",
      "\n",
      "X_val: Accident on Weekday feature\n",
      "                 Accident Date  Accident on Weekday\n",
      "Claim Identifier                                   \n",
      "6003273             2022-05-19                 True\n",
      "5659715             2021-01-15                 True\n",
      "6070148             2022-08-16                 True\n",
      "6108041             2022-09-29                 True\n",
      "5519272             2020-07-07                 True\n",
      "\n",
      "X_test: Accident on Weekday feature\n",
      "                 Accident Date  Accident on Weekday\n",
      "Claim Identifier                                   \n",
      "6165911             2022-12-24                False\n",
      "6166141             2022-11-20                False\n",
      "6165907             2022-12-26                 True\n",
      "6166047             2022-12-28                 True\n",
      "6166102             2022-12-20                 True\n"
     ]
    }
   ],
   "source": [
    "for dataset in [X_train, X_val, X_test]:\n",
    "    dataset['Accident on Weekday'] = dataset['Accident Date'].dt.dayofweek < 5\n",
    "\n",
    "# Display the new feature for verification\n",
    "print(\"X_train: Accident on Weekday feature\")\n",
    "print(X_train[['Accident Date', 'Accident on Weekday']].head())\n",
    "\n",
    "print(\"\\nX_val: Accident on Weekday feature\")\n",
    "print(X_val[['Accident Date', 'Accident on Weekday']].head())\n",
    "\n",
    "print(\"\\nX_test: Accident on Weekday feature\")\n",
    "print(X_test[['Accident Date', 'Accident on Weekday']].head())"
   ]
  },
  {
   "cell_type": "markdown",
   "metadata": {},
   "source": [
    "## Injury Complexity"
   ]
  },
  {
   "cell_type": "markdown",
   "metadata": {},
   "source": [
    "The characteristic ‘Injury complexity’ is calculated as the product of the WCIO nature of injury code and the number of dependants plus one. This characteristic combines two factors, the nature of injury code, indicating the severity or type of injury, and the number of dependents. By incorporating these two aspects, the feature represents an estimate of how complex an injury claim can be in terms of severity and impact on dependants."
   ]
  },
  {
   "cell_type": "code",
   "execution_count": 24,
   "metadata": {},
   "outputs": [
    {
     "name": "stdout",
     "output_type": "stream",
     "text": [
      "X_train: Injury Complexity feature\n",
      "                  WCIO Nature of Injury Code  Number of Dependents  \\\n",
      "Claim Identifier                                                     \n",
      "5840724                                  1.0                   1.0   \n",
      "5828518                                  4.0                   3.0   \n",
      "5623558                                 78.0                   4.0   \n",
      "5630561                                 83.0                   2.0   \n",
      "5708079                                 52.0                   3.0   \n",
      "\n",
      "                  Injury Complexity  \n",
      "Claim Identifier                     \n",
      "5840724                         2.0  \n",
      "5828518                        16.0  \n",
      "5623558                       390.0  \n",
      "5630561                       249.0  \n",
      "5708079                       208.0  \n",
      "\n",
      "X_val: Injury Complexity feature\n",
      "                  WCIO Nature of Injury Code  Number of Dependents  \\\n",
      "Claim Identifier                                                     \n",
      "6003273                                 49.0                   2.0   \n",
      "5659715                                 25.0                   5.0   \n",
      "6070148                                 52.0                   3.0   \n",
      "6108041                                 59.0                   5.0   \n",
      "5519272                                 49.0                   6.0   \n",
      "\n",
      "                  Injury Complexity  \n",
      "Claim Identifier                     \n",
      "6003273                       147.0  \n",
      "5659715                       150.0  \n",
      "6070148                       208.0  \n",
      "6108041                       354.0  \n",
      "5519272                       343.0  \n",
      "\n",
      "X_test: Injury Complexity feature\n",
      "                  WCIO Nature of Injury Code  Number of Dependents  \\\n",
      "Claim Identifier                                                     \n",
      "6165911                                 10.0                     1   \n",
      "6166141                                 10.0                     1   \n",
      "6165907                                 49.0                     0   \n",
      "6166047                                 10.0                     6   \n",
      "6166102                                 40.0                     5   \n",
      "\n",
      "                  Injury Complexity  \n",
      "Claim Identifier                     \n",
      "6165911                        20.0  \n",
      "6166141                        20.0  \n",
      "6165907                        49.0  \n",
      "6166047                        70.0  \n",
      "6166102                       240.0  \n"
     ]
    }
   ],
   "source": [
    "# Calculate injury complexity for all datasets\n",
    "for dataset in [X_train, X_val, X_test]:\n",
    "    dataset['Injury Complexity'] = dataset['WCIO Nature of Injury Code'] * (dataset['Number of Dependents'] + 1)\n",
    "\n",
    "# Display the new feature for verification\n",
    "print(\"X_train: Injury Complexity feature\")\n",
    "print(X_train[['WCIO Nature of Injury Code', 'Number of Dependents', 'Injury Complexity']].head())\n",
    "\n",
    "print(\"\\nX_val: Injury Complexity feature\")\n",
    "print(X_val[['WCIO Nature of Injury Code', 'Number of Dependents', 'Injury Complexity']].head())\n",
    "\n",
    "print(\"\\nX_test: Injury Complexity feature\")\n",
    "print(X_test[['WCIO Nature of Injury Code', 'Number of Dependents', 'Injury Complexity']].head())\n"
   ]
  },
  {
   "cell_type": "markdown",
   "metadata": {},
   "source": [
    "## Accident density by carrier"
   ]
  },
  {
   "cell_type": "markdown",
   "metadata": {},
   "source": [
    "The ‘Carrier Accident Density’ feature measures the proportion of accidents associated with each carrier relative to the total number of records in the training dataset. This feature provides insight into whether the frequency of claims varies significantly by carrier, which could influence the likelihood of certain types of injury claims occurring. For example, carriers with a higher accident density might show different casualty patterns, such as a higher proportion of specific injury types or severity. Through normalising accident counts relative to the size of the training dataset, the function allows for better comparison across carriers and facilitates generalisation to validation and test datasets."
   ]
  },
  {
   "cell_type": "code",
   "execution_count": 25,
   "metadata": {},
   "outputs": [
    {
     "name": "stdout",
     "output_type": "stream",
     "text": [
      "X_train: Carrier Accident Density feature\n",
      "                                    Carrier Name  Carrier Accident Density\n",
      "Claim Identifier                                                          \n",
      "5840724                     STATE INSURANCE FUND                  0.195872\n",
      "5828518                     STATE INSURANCE FUND                  0.195872\n",
      "5623558           TRAVELERS INDEMNITY CO OF CONN                  0.004475\n",
      "5630561             AMERICAN ZURICH INSURANCE CO                  0.030767\n",
      "5708079                  AMERICAN CASUALTY CO OF                  0.002562\n",
      "\n",
      "X_val: Carrier Accident Density feature\n",
      "                                  Carrier Name  Carrier Accident Density\n",
      "Claim Identifier                                                        \n",
      "6003273                A I U INSURANCE COMPANY                  0.022345\n",
      "5659715                   STATE INSURANCE FUND                  0.195872\n",
      "6070148           COSTCO WHOLESALE CORPORATION                  0.001876\n",
      "6108041              WAL-MART ASSOCIATES, INC.                  0.007055\n",
      "5519272                   STATE INSURANCE FUND                  0.195872\n",
      "\n",
      "X_test: Carrier Accident Density feature\n",
      "                                 Carrier Name  Carrier Accident Density\n",
      "Claim Identifier                                                       \n",
      "6165911             INDEMNITY INSURANCE CO OF                  0.015892\n",
      "6166141               A I U INSURANCE COMPANY                  0.022345\n",
      "6165907             AMGUARD INSURANCE COMPANY                  0.000700\n",
      "6166047           INDEMNITY INS. OF N AMERICA                  0.025568\n",
      "6166102            NEW HAMPSHIRE INSURANCE CO                  0.022299\n"
     ]
    }
   ],
   "source": [
    "# Calculate accident counts per carrier in the training dataset\n",
    "carrier_accident_counts = X_train['Carrier Name'].value_counts()\n",
    "\n",
    "# Create the Carrier Accident Density feature for all datasets\n",
    "for dataset in [X_train, X_val, X_test]:\n",
    "    dataset['Carrier Accident Density'] = dataset['Carrier Name'].map(carrier_accident_counts) / len(X_train)\n",
    "\n",
    "# Fill NaN values with the mean accident density from X_train\n",
    "default_density = carrier_accident_counts.mean() / len(X_train)\n",
    "for dataset in [X_val, X_test]:\n",
    "    dataset['Carrier Accident Density'].fillna(default_density, inplace=True)\n",
    "\n",
    "# Display the feature for verification\n",
    "print(\"X_train: Carrier Accident Density feature\")\n",
    "print(X_train[['Carrier Name', 'Carrier Accident Density']].head())\n",
    "\n",
    "print(\"\\nX_val: Carrier Accident Density feature\")\n",
    "print(X_val[['Carrier Name', 'Carrier Accident Density']].head())\n",
    "\n",
    "print(\"\\nX_test: Carrier Accident Density feature\")\n",
    "print(X_test[['Carrier Name', 'Carrier Accident Density']].head())\n"
   ]
  },
  {
   "cell_type": "markdown",
   "metadata": {},
   "source": [
    "## Injury Season"
   ]
  },
  {
   "cell_type": "markdown",
   "metadata": {},
   "source": [
    "This feature categorizes the month of an accident into one of four seasons: Winter, Spring, Summer, and Autumn. This can help capture seasonal patterns in workplace injuries."
   ]
  },
  {
   "cell_type": "code",
   "execution_count": 26,
   "metadata": {},
   "outputs": [],
   "source": [
    "def injury_season(month):\n",
    "    if month in [12, 1, 2]: return 'Winter'\n",
    "    elif month in [3, 4, 5]: return 'Spring'\n",
    "    elif month in [6, 7, 8]: return 'Summer'\n",
    "    else: return 'Autumn'\n",
    "\n",
    "for dataset in [X_train, X_val, X_test]:\n",
    "    dataset['Season of Accident'] = dataset['Accident Month'].apply(injury_season)\n"
   ]
  },
  {
   "cell_type": "code",
   "execution_count": 27,
   "metadata": {},
   "outputs": [
    {
     "name": "stdout",
     "output_type": "stream",
     "text": [
      "X_train: Season of Accident feature\n",
      "                  Accident Month Season of Accident\n",
      "Claim Identifier                                   \n",
      "5840724                       10             Autumn\n",
      "5828518                       10             Autumn\n",
      "5623558                       11             Autumn\n",
      "5630561                       12             Winter\n",
      "5708079                        3             Spring\n",
      "\n",
      "X_val: Season of Accident feature\n",
      "                  Accident Month Season of Accident\n",
      "Claim Identifier                                   \n",
      "6003273                        5             Spring\n",
      "5659715                        1             Winter\n",
      "6070148                        8             Summer\n",
      "6108041                        9             Autumn\n",
      "5519272                        7             Summer\n",
      "\n",
      "X_test: Season of Accident feature\n",
      "                  Accident Month Season of Accident\n",
      "Claim Identifier                                   \n",
      "6165911                     12.0             Winter\n",
      "6166141                     11.0             Autumn\n",
      "6165907                     12.0             Winter\n",
      "6166047                     12.0             Winter\n",
      "6166102                     12.0             Winter\n"
     ]
    }
   ],
   "source": [
    "print(\"X_train: Season of Accident feature\")\n",
    "print(X_train[['Accident Month', 'Season of Accident']].head())\n",
    "\n",
    "print(\"\\nX_val: Season of Accident feature\")\n",
    "print(X_val[['Accident Month', 'Season of Accident']].head())\n",
    "\n",
    "print(\"\\nX_test: Season of Accident feature\")\n",
    "print(X_test[['Accident Month', 'Season of Accident']].head())\n"
   ]
  },
  {
   "cell_type": "markdown",
   "metadata": {},
   "source": [
    "## Region Risk Level"
   ]
  },
  {
   "cell_type": "markdown",
   "metadata": {},
   "source": [
    "This feature calculates the relative risk level of each county or zip code based on the frequency of claims in the training dataset. The counties or zip codes are then grouped into categories such as Low Risk, Medium Risk, and High Risk."
   ]
  },
  {
   "cell_type": "code",
   "execution_count": 28,
   "metadata": {},
   "outputs": [],
   "source": [
    "county_claim_counts = X_train['County of Injury'].value_counts(normalize=True)"
   ]
  },
  {
   "cell_type": "code",
   "execution_count": 29,
   "metadata": {},
   "outputs": [],
   "source": [
    "#Verify the new column\n",
    "X_train['Region Risk Percentage'] = X_train['County of Injury'].map(county_claim_counts)"
   ]
  },
  {
   "cell_type": "code",
   "execution_count": 30,
   "metadata": {},
   "outputs": [
    {
     "name": "stdout",
     "output_type": "stream",
     "text": [
      "count    441804.000000\n",
      "mean          0.054564\n",
      "std           0.036141\n",
      "min           0.000240\n",
      "25%           0.020453\n",
      "50%           0.051550\n",
      "75%           0.093012\n",
      "max           0.103496\n",
      "Name: Region Risk Percentage, dtype: float64\n"
     ]
    }
   ],
   "source": [
    "for dataset in [X_val, X_test]:\n",
    "    dataset['Region Risk Percentage'] = dataset['County of Injury'].map(county_claim_counts)\n",
    "\n",
    "print(X_train['Region Risk Percentage'].describe())"
   ]
  },
  {
   "cell_type": "code",
   "execution_count": 31,
   "metadata": {},
   "outputs": [
    {
     "name": "stdout",
     "output_type": "stream",
     "text": [
      "Risk Level Distribution in Training Set:\n",
      "Region Risk Level\n",
      "Medium Risk    0.443287\n",
      "High Risk      0.298096\n",
      "Low Risk       0.258617\n",
      "Name: proportion, dtype: float64\n",
      "Sample of Risk Percentages with Risk Levels:\n",
      "                 County of Injury  Region Risk Percentage Region Risk Level\n",
      "Claim Identifier                                                           \n",
      "6117254                   SUFFOLK                0.103496         High Risk\n",
      "5623558                    QUEENS                0.101588         High Risk\n",
      "5630561                     KINGS                0.093012         High Risk\n",
      "5828518                    NASSAU                0.074535       Medium Risk\n",
      "5794346                     BRONX                0.069952       Medium Risk\n",
      "...                           ...                     ...               ...\n",
      "6119140                   WYOMING                0.001385          Low Risk\n",
      "5945123                MONTGOMERY                0.001082          Low Risk\n",
      "6093921                 SCHOHARIE                0.000964          Low Risk\n",
      "5877650                     YATES                0.000686          Low Risk\n",
      "6016997                  HAMILTON                0.000240          Low Risk\n",
      "\n",
      "[63 rows x 3 columns]\n"
     ]
    }
   ],
   "source": [
    "# Based on the statistics from describe(), we define the thresholds for risk levels\n",
    "def assign_risk_level(percentage):\n",
    "    if percentage <= 0.0205:  # Bottom 25%\n",
    "        return 'Low Risk'\n",
    "    elif percentage <= 0.0930:  # Between 25% and 75%\n",
    "        return 'Medium Risk'\n",
    "    else:  # Top 25%\n",
    "        return 'High Risk'\n",
    "\n",
    "# Apply the risk level assignment to all datasets\n",
    "for dataset in [X_train, X_val, X_test]:\n",
    "    dataset['Region Risk Level'] = dataset['Region Risk Percentage'].apply(assign_risk_level)\n",
    "\n",
    "# Risk level distribution in the training set\n",
    "print(\"Risk Level Distribution in Training Set:\")\n",
    "print(X_train['Region Risk Level'].value_counts(normalize=True))\n",
    "\n",
    "# Sample data with risk percentages and levels for verification\n",
    "print(\"Sample of Risk Percentages with Risk Levels:\")\n",
    "print(X_train[['County of Injury', 'Region Risk Percentage', 'Region Risk Level']].drop_duplicates().sort_values(by='Region Risk Percentage', ascending=False))"
   ]
  },
  {
   "cell_type": "markdown",
   "metadata": {},
   "source": [
    "## Industry Risk Index"
   ]
  },
  {
   "cell_type": "markdown",
   "metadata": {},
   "source": [
    "This feature calculates the frequency of claims for each industry in the training dataset and assigns industries a Low Risk, Medium Risk, or High Risk category based on the frequency percentile."
   ]
  },
  {
   "cell_type": "code",
   "execution_count": 32,
   "metadata": {},
   "outputs": [],
   "source": [
    "# Calculate claim frequencies for each industry in the training dataset\n",
    "industry_claim_counts = X_train['Industry Code'].value_counts(normalize=True)\n",
    "\n",
    "# Map claim frequencies to the training dataset\n",
    "X_train['Industry Claim Percentage'] = X_train['Industry Code'].map(industry_claim_counts)"
   ]
  },
  {
   "cell_type": "code",
   "execution_count": 33,
   "metadata": {},
   "outputs": [
    {
     "name": "stdout",
     "output_type": "stream",
     "text": [
      "count    441804.000000\n",
      "mean          0.097457\n",
      "std           0.070553\n",
      "min           0.000593\n",
      "25%           0.031869\n",
      "50%           0.078474\n",
      "75%           0.160601\n",
      "max           0.204579\n",
      "Name: Industry Claim Percentage, dtype: float64\n"
     ]
    }
   ],
   "source": [
    "# Get statistics for 'Industry Claim Percentage'\n",
    "print(X_train['Industry Claim Percentage'].describe())"
   ]
  },
  {
   "cell_type": "code",
   "execution_count": 34,
   "metadata": {},
   "outputs": [],
   "source": [
    "# Define thresholds for industry risk levels based on the statistics\n",
    "def assign_industry_risk(percentage):\n",
    "    if percentage <= 0.0318:  # Bottom 25%\n",
    "        return 'Low Risk'\n",
    "    elif percentage <= 0.1606:  # Between 25% and 75%\n",
    "        return 'Medium Risk'\n",
    "    else:  # Top 25%\n",
    "        return 'High Risk'\n",
    "\n",
    "# Apply the thresholds to all datasets\n",
    "for dataset in [X_train, X_val, X_test]:\n",
    "    # Map the industry claim percentages\n",
    "    dataset['Industry Claim Percentage'] = dataset['Industry Code'].map(industry_claim_counts)\n",
    "    # Assign industry risk levels\n",
    "    dataset['Industry Risk Level'] = dataset['Industry Claim Percentage'].apply(assign_industry_risk)"
   ]
  },
  {
   "cell_type": "code",
   "execution_count": 35,
   "metadata": {},
   "outputs": [
    {
     "name": "stdout",
     "output_type": "stream",
     "text": [
      "X_train: Industry Risk Level feature\n",
      "                  Industry Code  Industry Claim Percentage Industry Risk Level\n",
      "Claim Identifier                                                              \n",
      "5840724                    56.0                   0.036985         Medium Risk\n",
      "5828518                    62.0                   0.204579           High Risk\n",
      "5623558                    52.0                   0.014332            Low Risk\n",
      "5630561                    62.0                   0.204579           High Risk\n",
      "5708079                    23.0                   0.059311         Medium Risk\n",
      "\n",
      "X_val: Industry Risk Level feature\n",
      "                  Industry Code  Industry Claim Percentage Industry Risk Level\n",
      "Claim Identifier                                                              \n",
      "6003273                    45.0                   0.031869         Medium Risk\n",
      "5659715                    92.0                   0.160601           High Risk\n",
      "6070148                    45.0                   0.031869         Medium Risk\n",
      "6108041                    45.0                   0.031869         Medium Risk\n",
      "5519272                    23.0                   0.059311         Medium Risk\n",
      "\n",
      "X_test: Industry Risk Level feature\n",
      "                  Industry Code  Industry Claim Percentage Industry Risk Level\n",
      "Claim Identifier                                                              \n",
      "6165911                    48.0                   0.064538         Medium Risk\n",
      "6166141                    45.0                   0.031869         Medium Risk\n",
      "6165907                    56.0                   0.036985         Medium Risk\n",
      "6166047                    48.0                   0.064538         Medium Risk\n",
      "6166102                    55.0                   0.000593            Low Risk\n"
     ]
    }
   ],
   "source": [
    "print(\"X_train: Industry Risk Level feature\")\n",
    "print(X_train[['Industry Code', 'Industry Claim Percentage', 'Industry Risk Level']].head())\n",
    "\n",
    "print(\"\\nX_val: Industry Risk Level feature\")\n",
    "print(X_val[['Industry Code', 'Industry Claim Percentage', 'Industry Risk Level']].head())\n",
    "\n",
    "print(\"\\nX_test: Industry Risk Level feature\")\n",
    "print(X_test[['Industry Code', 'Industry Claim Percentage', 'Industry Risk Level']].head())"
   ]
  },
  {
   "cell_type": "markdown",
   "metadata": {},
   "source": [
    "## C2 and C3 Indicators"
   ]
  },
  {
   "cell_type": "markdown",
   "metadata": {},
   "source": [
    "This feature set represents the presence (1) or absence (0) of the C-2 and C-3 forms, with their combinations. They may help represent the effect of claims once one or both forms had been submitted\n",
    "\n",
    "* Both C2 and C3: Indicates claims where both forms are submitted.\n",
    "* Only C2: Indicates claims where only the C-2 form is submitted.\n",
    "* Only C3: Indicates claims where only the C-3 form is submitted.\n",
    "* No C2 or C3: Indicates claims where neither form is submitted.\n"
   ]
  },
  {
   "cell_type": "code",
   "execution_count": 36,
   "metadata": {},
   "outputs": [],
   "source": [
    "for dataset in [X_train, X_val, X_test]:\n",
    "    # Both forms are present\n",
    "    dataset['Both C2 and C3'] = ((dataset['C-2 Date'] == 1) & (dataset['C-3 Date'] == 1)).astype(int)\n",
    "\n",
    "    # Only C2 is present\n",
    "    dataset['Only C2'] = ((dataset['C-2 Date'] == 1) & (dataset['C-3 Date'] == 0)).astype(int)\n",
    "\n",
    "    # Only C3 is present\n",
    "    dataset['Only C3'] = ((dataset['C-3 Date'] == 1) & (dataset['C-2 Date'] == 0)).astype(int)\n",
    "\n",
    "    # Neither form is present\n",
    "    dataset['No C2 or C3'] = ((dataset['C-2 Date'] == 0) & (dataset['C-3 Date'] == 0)).astype(int)\n"
   ]
  },
  {
   "cell_type": "code",
   "execution_count": 37,
   "metadata": {},
   "outputs": [
    {
     "name": "stdout",
     "output_type": "stream",
     "text": [
      "X_train: C2 and C3 Indicators\n",
      "                   C-2 Date  C-3 Date  Both C2 and C3  Only C2  Only C3  \\\n",
      "Claim Identifier                                                          \n",
      "5840724          2021-10-22         1               0        0        0   \n",
      "5828518          2021-10-05         0               0        0        0   \n",
      "5623558          2020-12-22         1               0        0        0   \n",
      "5630561          2021-01-15         1               0        0        0   \n",
      "5708079          2021-04-23         0               0        0        0   \n",
      "\n",
      "                  No C2 or C3  \n",
      "Claim Identifier               \n",
      "5840724                     0  \n",
      "5828518                     0  \n",
      "5623558                     0  \n",
      "5630561                     0  \n",
      "5708079                     0  \n",
      "\n",
      "X_val: C2 and C3 Indicators\n",
      "                   C-2 Date  C-3 Date  Both C2 and C3  Only C2  Only C3  \\\n",
      "Claim Identifier                                                          \n",
      "6003273          2022-05-31         0               0        0        0   \n",
      "5659715          2021-02-16         1               0        0        0   \n",
      "6070148          2022-08-25         0               0        0        0   \n",
      "6108041          2022-10-12         0               0        0        0   \n",
      "5519272          2020-07-17         1               0        0        0   \n",
      "\n",
      "                  No C2 or C3  \n",
      "Claim Identifier               \n",
      "6003273                     0  \n",
      "5659715                     0  \n",
      "6070148                     0  \n",
      "6108041                     0  \n",
      "5519272                     0  \n",
      "\n",
      "X_test: C2 and C3 Indicators\n",
      "                   C-2 Date  C-3 Date  Both C2 and C3  Only C2  Only C3  \\\n",
      "Claim Identifier                                                          \n",
      "6165911          2023-01-02         0               0        0        0   \n",
      "6166141          2023-01-02         0               0        0        0   \n",
      "6165907          2022-12-31         0               0        0        0   \n",
      "6166047          2023-01-02         0               0        0        0   \n",
      "6166102          2022-12-31         0               0        0        0   \n",
      "\n",
      "                  No C2 or C3  \n",
      "Claim Identifier               \n",
      "6165911                     0  \n",
      "6166141                     0  \n",
      "6165907                     0  \n",
      "6166047                     0  \n",
      "6166102                     0  \n"
     ]
    }
   ],
   "source": [
    "print(\"X_train: C2 and C3 Indicators\")\n",
    "print(X_train[['C-2 Date', 'C-3 Date', 'Both C2 and C3', 'Only C2', 'Only C3', 'No C2 or C3']].head())\n",
    "\n",
    "print(\"\\nX_val: C2 and C3 Indicators\")\n",
    "print(X_val[['C-2 Date', 'C-3 Date', 'Both C2 and C3', 'Only C2', 'Only C3', 'No C2 or C3']].head())\n",
    "\n",
    "print(\"\\nX_test: C2 and C3 Indicators\")\n",
    "print(X_test[['C-2 Date', 'C-3 Date', 'Both C2 and C3', 'Only C2', 'Only C3', 'No C2 or C3']].head())\n"
   ]
  },
  {
   "cell_type": "code",
   "execution_count": 38,
   "metadata": {},
   "outputs": [
    {
     "data": {
      "text/plain": [
       "'# Check unique values in C-2 Date\\nunique_c2_test = X_test[\\'C-2 Date\\'].unique()\\nprint(f\"Unique values in \\'C-2 Date\\' in X_test: {unique_c2_test}\")\\n\\n# Check unique values in C-3 Date\\nunique_c3_test = X_test[\\'C-3 Date\\'].unique()\\nprint(f\"Unique values in \\'C-3 Date\\' in X_test: {unique_c3_test}\")\\n\\n'"
      ]
     },
     "execution_count": 38,
     "metadata": {},
     "output_type": "execute_result"
    }
   ],
   "source": [
    "'''# Check unique values in C-2 Date\n",
    "unique_c2_test = X_test['C-2 Date'].unique()\n",
    "print(f\"Unique values in 'C-2 Date' in X_test: {unique_c2_test}\")\n",
    "\n",
    "# Check unique values in C-3 Date\n",
    "unique_c3_test = X_test['C-3 Date'].unique()\n",
    "print(f\"Unique values in 'C-3 Date' in X_test: {unique_c3_test}\")\n",
    "\n",
    "'''"
   ]
  },
  {
   "cell_type": "markdown",
   "metadata": {},
   "source": [
    "## Geographic-Industry Risk Interaction"
   ]
  },
  {
   "cell_type": "markdown",
   "metadata": {},
   "source": [
    "This feature will calculate the relative frequency of claims within each (County, Industry) pair, providing insight into high-risk areas and industries. It captures localized industry trends, such as certain industries being riskier in specific counties."
   ]
  },
  {
   "cell_type": "code",
   "execution_count": 39,
   "metadata": {},
   "outputs": [],
   "source": [
    "# Calculate claim frequencies for (County, Industry) pairs\n",
    "geo_industry_claim_counts = (\n",
    "    X_train.groupby(['County of Injury', 'Industry Code']).size()\n",
    "    / len(X_train)\n",
    ")\n",
    "for dataset in [X_train, X_val, X_test]:\n",
    "    dataset['Geo-Industry Risk'] = dataset.set_index(['County of Injury', 'Industry Code']).index.map(geo_industry_claim_counts)\n",
    "for dataset in [X_train, X_val, X_test]:\n",
    "    dataset['Geo-Industry Risk'].fillna(0, inplace=True)\n"
   ]
  },
  {
   "cell_type": "code",
   "execution_count": 40,
   "metadata": {},
   "outputs": [
    {
     "name": "stdout",
     "output_type": "stream",
     "text": [
      "X_train: Geo-Industry Risk feature\n",
      "                 County of Injury  Industry Code  Geo-Industry Risk\n",
      "Claim Identifier                                                   \n",
      "5840724                  RICHMOND           56.0           0.000783\n",
      "5828518                    NASSAU           62.0           0.015228\n",
      "5623558                    QUEENS           52.0           0.001148\n",
      "5630561                     KINGS           62.0           0.022573\n",
      "5708079                  TOMPKINS           23.0           0.000091\n",
      "\n",
      "X_val: Geo-Industry Risk feature\n",
      "                 County of Injury  Industry Code  Geo-Industry Risk\n",
      "Claim Identifier                                                   \n",
      "6003273                  SARATOGA           45.0           0.000797\n",
      "5659715                   SUFFOLK           92.0           0.016935\n",
      "6070148                    MONROE           45.0           0.001478\n",
      "6108041                 SCHOHARIE           45.0           0.000063\n",
      "5519272                    QUEENS           23.0           0.010165\n",
      "\n",
      "X_test: Geo-Industry Risk feature\n",
      "                 County of Injury  Industry Code  Geo-Industry Risk\n",
      "Claim Identifier                                                   \n",
      "6165911                     BRONX           48.0           0.006847\n",
      "6166141                    QUEENS           45.0           0.001974\n",
      "6165907               WESTCHESTER           56.0           0.001618\n",
      "6166047                    QUEENS           48.0           0.014597\n",
      "6166102                     KINGS           55.0           0.000034\n"
     ]
    }
   ],
   "source": [
    "print(\"X_train: Geo-Industry Risk feature\")\n",
    "print(X_train[['County of Injury', 'Industry Code', 'Geo-Industry Risk']].head())\n",
    "\n",
    "print(\"\\nX_val: Geo-Industry Risk feature\")\n",
    "print(X_val[['County of Injury', 'Industry Code', 'Geo-Industry Risk']].head())\n",
    "\n",
    "print(\"\\nX_test: Geo-Industry Risk feature\")\n",
    "print(X_test[['County of Injury', 'Industry Code', 'Geo-Industry Risk']].head())\n"
   ]
  },
  {
   "cell_type": "markdown",
   "metadata": {},
   "source": [
    "## Age at Injury"
   ]
  },
  {
   "cell_type": "code",
   "execution_count": 41,
   "metadata": {},
   "outputs": [],
   "source": [
    "for dataset in [X_train, X_val, X_test]:\n",
    "    dataset['Age at Injury'] = dataset['Accident Year'] - dataset['Birth Year']\n"
   ]
  },
  {
   "cell_type": "code",
   "execution_count": 42,
   "metadata": {},
   "outputs": [
    {
     "name": "stdout",
     "output_type": "stream",
     "text": [
      "Missing values in 'Birth Year':\n",
      "  X_train: 0\n",
      "  X_val: 0\n",
      "  X_test: 0\n",
      "Missing values in 'Accident Year':\n",
      "  X_train: 0\n",
      "  X_val: 0\n",
      "  X_test: 2439\n"
     ]
    }
   ],
   "source": [
    "for col in ['Birth Year', 'Accident Year']:\n",
    "    missing_train = X_train[col].isna().sum()\n",
    "    missing_val = X_val[col].isna().sum()\n",
    "    missing_test = X_test[col].isna().sum()\n",
    "    print(f\"Missing values in '{col}':\")\n",
    "    print(f\"  X_train: {missing_train}\")\n",
    "    print(f\"  X_val: {missing_val}\")\n",
    "    print(f\"  X_test: {missing_test}\")\n"
   ]
  },
  {
   "cell_type": "markdown",
   "metadata": {},
   "source": [
    "## Dropping the date columns"
   ]
  },
  {
   "cell_type": "code",
   "execution_count": 43,
   "metadata": {},
   "outputs": [],
   "source": [
    "#Drop 'Accident Date', 'Assembly Date' and 'C-2 Date' columns\n",
    "\n",
    "X_train.drop(['Accident Date', 'Assembly Date', 'C-2 Date'], axis=1, inplace=True)\n",
    "X_val.drop(['Accident Date', 'Assembly Date', 'C-2 Date'], axis=1, inplace=True)\n",
    "X_test.drop(['Accident Date', 'Assembly Date', 'C-2 Date'], axis=1, inplace=True)"
   ]
  },
  {
   "cell_type": "code",
   "execution_count": 44,
   "metadata": {},
   "outputs": [
    {
     "data": {
      "text/html": [
       "<div>\n",
       "<style scoped>\n",
       "    .dataframe tbody tr th:only-of-type {\n",
       "        vertical-align: middle;\n",
       "    }\n",
       "\n",
       "    .dataframe tbody tr th {\n",
       "        vertical-align: top;\n",
       "    }\n",
       "\n",
       "    .dataframe thead th {\n",
       "        text-align: right;\n",
       "    }\n",
       "</style>\n",
       "<table border=\"1\" class=\"dataframe\">\n",
       "  <thead>\n",
       "    <tr style=\"text-align: right;\">\n",
       "      <th></th>\n",
       "      <th>Age at Injury</th>\n",
       "      <th>Alternative Dispute Resolution</th>\n",
       "      <th>Attorney/Representative</th>\n",
       "      <th>Average Weekly Wage</th>\n",
       "      <th>Birth Year</th>\n",
       "      <th>C-3 Date</th>\n",
       "      <th>Carrier Name</th>\n",
       "      <th>Carrier Type</th>\n",
       "      <th>County of Injury</th>\n",
       "      <th>COVID-19 Indicator</th>\n",
       "      <th>...</th>\n",
       "      <th>Season of Accident</th>\n",
       "      <th>Region Risk Percentage</th>\n",
       "      <th>Region Risk Level</th>\n",
       "      <th>Industry Claim Percentage</th>\n",
       "      <th>Industry Risk Level</th>\n",
       "      <th>Both C2 and C3</th>\n",
       "      <th>Only C2</th>\n",
       "      <th>Only C3</th>\n",
       "      <th>No C2 or C3</th>\n",
       "      <th>Geo-Industry Risk</th>\n",
       "    </tr>\n",
       "    <tr>\n",
       "      <th>Claim Identifier</th>\n",
       "      <th></th>\n",
       "      <th></th>\n",
       "      <th></th>\n",
       "      <th></th>\n",
       "      <th></th>\n",
       "      <th></th>\n",
       "      <th></th>\n",
       "      <th></th>\n",
       "      <th></th>\n",
       "      <th></th>\n",
       "      <th></th>\n",
       "      <th></th>\n",
       "      <th></th>\n",
       "      <th></th>\n",
       "      <th></th>\n",
       "      <th></th>\n",
       "      <th></th>\n",
       "      <th></th>\n",
       "      <th></th>\n",
       "      <th></th>\n",
       "      <th></th>\n",
       "    </tr>\n",
       "  </thead>\n",
       "  <tbody>\n",
       "    <tr>\n",
       "      <th>6165911</th>\n",
       "      <td>19.0</td>\n",
       "      <td>0.0</td>\n",
       "      <td>0</td>\n",
       "      <td>892.62</td>\n",
       "      <td>2003.0</td>\n",
       "      <td>0</td>\n",
       "      <td>INDEMNITY INSURANCE CO OF</td>\n",
       "      <td>1A. PRIVATE</td>\n",
       "      <td>BRONX</td>\n",
       "      <td>0</td>\n",
       "      <td>...</td>\n",
       "      <td>Winter</td>\n",
       "      <td>0.069952</td>\n",
       "      <td>Medium Risk</td>\n",
       "      <td>0.064538</td>\n",
       "      <td>Medium Risk</td>\n",
       "      <td>0</td>\n",
       "      <td>0</td>\n",
       "      <td>0</td>\n",
       "      <td>0</td>\n",
       "      <td>0.006847</td>\n",
       "    </tr>\n",
       "    <tr>\n",
       "      <th>6166141</th>\n",
       "      <td>19.0</td>\n",
       "      <td>0.0</td>\n",
       "      <td>0</td>\n",
       "      <td>892.62</td>\n",
       "      <td>2003.0</td>\n",
       "      <td>0</td>\n",
       "      <td>A I U INSURANCE COMPANY</td>\n",
       "      <td>1A. PRIVATE</td>\n",
       "      <td>QUEENS</td>\n",
       "      <td>0</td>\n",
       "      <td>...</td>\n",
       "      <td>Autumn</td>\n",
       "      <td>0.101588</td>\n",
       "      <td>High Risk</td>\n",
       "      <td>0.031869</td>\n",
       "      <td>Medium Risk</td>\n",
       "      <td>0</td>\n",
       "      <td>0</td>\n",
       "      <td>0</td>\n",
       "      <td>0</td>\n",
       "      <td>0.001974</td>\n",
       "    </tr>\n",
       "    <tr>\n",
       "      <th>6165907</th>\n",
       "      <td>59.0</td>\n",
       "      <td>0.0</td>\n",
       "      <td>0</td>\n",
       "      <td>0.00</td>\n",
       "      <td>1963.0</td>\n",
       "      <td>0</td>\n",
       "      <td>AMGUARD INSURANCE COMPANY</td>\n",
       "      <td>1A. PRIVATE</td>\n",
       "      <td>WESTCHESTER</td>\n",
       "      <td>0</td>\n",
       "      <td>...</td>\n",
       "      <td>Winter</td>\n",
       "      <td>0.044465</td>\n",
       "      <td>Medium Risk</td>\n",
       "      <td>0.036985</td>\n",
       "      <td>Medium Risk</td>\n",
       "      <td>0</td>\n",
       "      <td>0</td>\n",
       "      <td>0</td>\n",
       "      <td>0</td>\n",
       "      <td>0.001618</td>\n",
       "    </tr>\n",
       "    <tr>\n",
       "      <th>6166047</th>\n",
       "      <td>2022.0</td>\n",
       "      <td>0.0</td>\n",
       "      <td>0</td>\n",
       "      <td>0.00</td>\n",
       "      <td>0.0</td>\n",
       "      <td>0</td>\n",
       "      <td>INDEMNITY INS. OF N AMERICA</td>\n",
       "      <td>1A. PRIVATE</td>\n",
       "      <td>QUEENS</td>\n",
       "      <td>0</td>\n",
       "      <td>...</td>\n",
       "      <td>Winter</td>\n",
       "      <td>0.101588</td>\n",
       "      <td>High Risk</td>\n",
       "      <td>0.064538</td>\n",
       "      <td>Medium Risk</td>\n",
       "      <td>0</td>\n",
       "      <td>0</td>\n",
       "      <td>0</td>\n",
       "      <td>0</td>\n",
       "      <td>0.014597</td>\n",
       "    </tr>\n",
       "    <tr>\n",
       "      <th>6166102</th>\n",
       "      <td>25.0</td>\n",
       "      <td>0.0</td>\n",
       "      <td>0</td>\n",
       "      <td>0.00</td>\n",
       "      <td>1997.0</td>\n",
       "      <td>0</td>\n",
       "      <td>NEW HAMPSHIRE INSURANCE CO</td>\n",
       "      <td>1A. PRIVATE</td>\n",
       "      <td>KINGS</td>\n",
       "      <td>0</td>\n",
       "      <td>...</td>\n",
       "      <td>Winter</td>\n",
       "      <td>0.093012</td>\n",
       "      <td>High Risk</td>\n",
       "      <td>0.000593</td>\n",
       "      <td>Low Risk</td>\n",
       "      <td>0</td>\n",
       "      <td>0</td>\n",
       "      <td>0</td>\n",
       "      <td>0</td>\n",
       "      <td>0.000034</td>\n",
       "    </tr>\n",
       "  </tbody>\n",
       "</table>\n",
       "<p>5 rows × 50 columns</p>\n",
       "</div>"
      ],
      "text/plain": [
       "                  Age at Injury  Alternative Dispute Resolution  \\\n",
       "Claim Identifier                                                  \n",
       "6165911                    19.0                             0.0   \n",
       "6166141                    19.0                             0.0   \n",
       "6165907                    59.0                             0.0   \n",
       "6166047                  2022.0                             0.0   \n",
       "6166102                    25.0                             0.0   \n",
       "\n",
       "                  Attorney/Representative  Average Weekly Wage  Birth Year  \\\n",
       "Claim Identifier                                                             \n",
       "6165911                                 0               892.62      2003.0   \n",
       "6166141                                 0               892.62      2003.0   \n",
       "6165907                                 0                 0.00      1963.0   \n",
       "6166047                                 0                 0.00         0.0   \n",
       "6166102                                 0                 0.00      1997.0   \n",
       "\n",
       "                  C-3 Date                 Carrier Name Carrier Type  \\\n",
       "Claim Identifier                                                       \n",
       "6165911                  0    INDEMNITY INSURANCE CO OF  1A. PRIVATE   \n",
       "6166141                  0      A I U INSURANCE COMPANY  1A. PRIVATE   \n",
       "6165907                  0    AMGUARD INSURANCE COMPANY  1A. PRIVATE   \n",
       "6166047                  0  INDEMNITY INS. OF N AMERICA  1A. PRIVATE   \n",
       "6166102                  0   NEW HAMPSHIRE INSURANCE CO  1A. PRIVATE   \n",
       "\n",
       "                 County of Injury  COVID-19 Indicator  ... Season of Accident  \\\n",
       "Claim Identifier                                       ...                      \n",
       "6165911                     BRONX                   0  ...             Winter   \n",
       "6166141                    QUEENS                   0  ...             Autumn   \n",
       "6165907               WESTCHESTER                   0  ...             Winter   \n",
       "6166047                    QUEENS                   0  ...             Winter   \n",
       "6166102                     KINGS                   0  ...             Winter   \n",
       "\n",
       "                  Region Risk Percentage  Region Risk Level  \\\n",
       "Claim Identifier                                              \n",
       "6165911                         0.069952        Medium Risk   \n",
       "6166141                         0.101588          High Risk   \n",
       "6165907                         0.044465        Medium Risk   \n",
       "6166047                         0.101588          High Risk   \n",
       "6166102                         0.093012          High Risk   \n",
       "\n",
       "                  Industry Claim Percentage  Industry Risk Level  \\\n",
       "Claim Identifier                                                   \n",
       "6165911                            0.064538          Medium Risk   \n",
       "6166141                            0.031869          Medium Risk   \n",
       "6165907                            0.036985          Medium Risk   \n",
       "6166047                            0.064538          Medium Risk   \n",
       "6166102                            0.000593             Low Risk   \n",
       "\n",
       "                 Both C2 and C3 Only C2  Only C3 No C2 or C3  \\\n",
       "Claim Identifier                                               \n",
       "6165911                       0       0        0           0   \n",
       "6166141                       0       0        0           0   \n",
       "6165907                       0       0        0           0   \n",
       "6166047                       0       0        0           0   \n",
       "6166102                       0       0        0           0   \n",
       "\n",
       "                  Geo-Industry Risk  \n",
       "Claim Identifier                     \n",
       "6165911                    0.006847  \n",
       "6166141                    0.001974  \n",
       "6165907                    0.001618  \n",
       "6166047                    0.014597  \n",
       "6166102                    0.000034  \n",
       "\n",
       "[5 rows x 50 columns]"
      ]
     },
     "execution_count": 44,
     "metadata": {},
     "output_type": "execute_result"
    }
   ],
   "source": [
    "X_test.head()"
   ]
  },
  {
   "cell_type": "code",
   "execution_count": 45,
   "metadata": {},
   "outputs": [
    {
     "name": "stdout",
     "output_type": "stream",
     "text": [
      "Columns in X_train:\n",
      "Index(['Age at Injury', 'Alternative Dispute Resolution',\n",
      "       'Attorney/Representative', 'Average Weekly Wage', 'Birth Year',\n",
      "       'C-3 Date', 'Carrier Name', 'Carrier Type', 'County of Injury',\n",
      "       'COVID-19 Indicator', 'District Name', 'First Hearing Date', 'Gender',\n",
      "       'IME-4 Count', 'Industry Code', 'Industry Code Description',\n",
      "       'Medical Fee Region', 'WCIO Cause of Injury Code',\n",
      "       'WCIO Cause of Injury Description', 'WCIO Nature of Injury Code',\n",
      "       'WCIO Nature of Injury Description', 'WCIO Part Of Body Code',\n",
      "       'WCIO Part Of Body Description', 'Zip Code', 'Number of Dependents',\n",
      "       'Assembly Year', 'Accident Year', 'C-2 Date Year', 'Assembly Month',\n",
      "       'Accident Month', 'C-2 Date Month', 'Age Group',\n",
      "       'Frequent Injury Cause', 'Broad Body Part',\n",
      "       'Dependency-to-Income Ratio', 'Injury-Location Pair',\n",
      "       'Time Between Events', 'Accident on Weekday', 'Injury Complexity',\n",
      "       'Carrier Accident Density', 'Season of Accident',\n",
      "       'Region Risk Percentage', 'Region Risk Level',\n",
      "       'Industry Claim Percentage', 'Industry Risk Level', 'Both C2 and C3',\n",
      "       'Only C2', 'Only C3', 'No C2 or C3', 'Geo-Industry Risk'],\n",
      "      dtype='object')\n",
      "\n",
      "Columns in X_val:\n",
      "Index(['Age at Injury', 'Alternative Dispute Resolution',\n",
      "       'Attorney/Representative', 'Average Weekly Wage', 'Birth Year',\n",
      "       'C-3 Date', 'Carrier Name', 'Carrier Type', 'County of Injury',\n",
      "       'COVID-19 Indicator', 'District Name', 'First Hearing Date', 'Gender',\n",
      "       'IME-4 Count', 'Industry Code', 'Industry Code Description',\n",
      "       'Medical Fee Region', 'WCIO Cause of Injury Code',\n",
      "       'WCIO Cause of Injury Description', 'WCIO Nature of Injury Code',\n",
      "       'WCIO Nature of Injury Description', 'WCIO Part Of Body Code',\n",
      "       'WCIO Part Of Body Description', 'Zip Code', 'Number of Dependents',\n",
      "       'Assembly Year', 'Accident Year', 'C-2 Date Year', 'Assembly Month',\n",
      "       'Accident Month', 'C-2 Date Month', 'Age Group',\n",
      "       'Frequent Injury Cause', 'Broad Body Part',\n",
      "       'Dependency-to-Income Ratio', 'Injury-Location Pair',\n",
      "       'Time Between Events', 'Accident on Weekday', 'Injury Complexity',\n",
      "       'Carrier Accident Density', 'Season of Accident',\n",
      "       'Region Risk Percentage', 'Region Risk Level',\n",
      "       'Industry Claim Percentage', 'Industry Risk Level', 'Both C2 and C3',\n",
      "       'Only C2', 'Only C3', 'No C2 or C3', 'Geo-Industry Risk'],\n",
      "      dtype='object')\n",
      "\n",
      "Columns in X_test:\n",
      "Index(['Age at Injury', 'Alternative Dispute Resolution',\n",
      "       'Attorney/Representative', 'Average Weekly Wage', 'Birth Year',\n",
      "       'C-3 Date', 'Carrier Name', 'Carrier Type', 'County of Injury',\n",
      "       'COVID-19 Indicator', 'District Name', 'First Hearing Date', 'Gender',\n",
      "       'IME-4 Count', 'Industry Code', 'Industry Code Description',\n",
      "       'Medical Fee Region', 'WCIO Cause of Injury Code',\n",
      "       'WCIO Cause of Injury Description', 'WCIO Nature of Injury Code',\n",
      "       'WCIO Nature of Injury Description', 'WCIO Part Of Body Code',\n",
      "       'WCIO Part Of Body Description', 'Zip Code', 'Number of Dependents',\n",
      "       'Assembly Year', 'Accident Year', 'C-2 Date Year', 'Assembly Month',\n",
      "       'Accident Month', 'C-2 Date Month', 'Age Group',\n",
      "       'Frequent Injury Cause', 'Broad Body Part',\n",
      "       'Dependency-to-Income Ratio', 'Injury-Location Pair',\n",
      "       'Time Between Events', 'Accident on Weekday', 'Injury Complexity',\n",
      "       'Carrier Accident Density', 'Season of Accident',\n",
      "       'Region Risk Percentage', 'Region Risk Level',\n",
      "       'Industry Claim Percentage', 'Industry Risk Level', 'Both C2 and C3',\n",
      "       'Only C2', 'Only C3', 'No C2 or C3', 'Geo-Industry Risk'],\n",
      "      dtype='object')\n"
     ]
    }
   ],
   "source": [
    "# Display the columns of X_train\n",
    "print(\"Columns in X_train:\")\n",
    "print(X_train.columns)\n",
    "\n",
    "# Display the columns of X_val\n",
    "print(\"\\nColumns in X_val:\")\n",
    "print(X_val.columns)\n",
    "\n",
    "# Display the columns of X_test\n",
    "print(\"\\nColumns in X_test:\")\n",
    "print(X_test.columns)\n"
   ]
  },
  {
   "cell_type": "code",
   "execution_count": 46,
   "metadata": {},
   "outputs": [
    {
     "name": "stdout",
     "output_type": "stream",
     "text": [
      "X_train shape: (441804, 50) y_train shape: (441804, 1)\n",
      "X_val shape: (110586, 50) y_val shape: (110586, 1)\n",
      "X_test shape: (382362, 50)\n"
     ]
    }
   ],
   "source": [
    "#Display the shape of the x_train, y_train, x_val, y_val and x_test\n",
    "# Put X's shape side by side with y's shape\n",
    "\n",
    "print(f\"X_train shape: {X_train.shape} y_train shape: {y_train.shape}\")\n",
    "\n",
    "print(f\"X_val shape: {X_val.shape} y_val shape: {y_val.shape}\")\n",
    "\n",
    "print(f\"X_test shape: {X_test.shape}\")"
   ]
  },
  {
   "cell_type": "code",
   "execution_count": 47,
   "metadata": {},
   "outputs": [
    {
     "name": "stdout",
     "output_type": "stream",
     "text": [
      "X_train shape: (441804, 50) y_train shape: (441804, 1)\n",
      "X_val shape: (110586, 50) y_val shape: (110586, 1)\n",
      "X_test shape: (382362, 50)\n",
      "\n",
      "Columns in X_train:\n",
      "Index(['Age at Injury', 'Alternative Dispute Resolution',\n",
      "       'Attorney/Representative', 'Average Weekly Wage', 'Birth Year',\n",
      "       'C-3 Date', 'Carrier Name', 'Carrier Type', 'County of Injury',\n",
      "       'COVID-19 Indicator', 'District Name', 'First Hearing Date', 'Gender',\n",
      "       'IME-4 Count', 'Industry Code', 'Industry Code Description',\n",
      "       'Medical Fee Region', 'WCIO Cause of Injury Code',\n",
      "       'WCIO Cause of Injury Description', 'WCIO Nature of Injury Code',\n",
      "       'WCIO Nature of Injury Description', 'WCIO Part Of Body Code',\n",
      "       'WCIO Part Of Body Description', 'Zip Code', 'Number of Dependents',\n",
      "       'Assembly Year', 'Accident Year', 'C-2 Date Year', 'Assembly Month',\n",
      "       'Accident Month', 'C-2 Date Month', 'Age Group',\n",
      "       'Frequent Injury Cause', 'Broad Body Part',\n",
      "       'Dependency-to-Income Ratio', 'Injury-Location Pair',\n",
      "       'Time Between Events', 'Accident on Weekday', 'Injury Complexity',\n",
      "       'Carrier Accident Density', 'Season of Accident',\n",
      "       'Region Risk Percentage', 'Region Risk Level',\n",
      "       'Industry Claim Percentage', 'Industry Risk Level', 'Both C2 and C3',\n",
      "       'Only C2', 'Only C3', 'No C2 or C3', 'Geo-Industry Risk'],\n",
      "      dtype='object')\n",
      "\n",
      "Columns in X_val:\n",
      "Index(['Age at Injury', 'Alternative Dispute Resolution',\n",
      "       'Attorney/Representative', 'Average Weekly Wage', 'Birth Year',\n",
      "       'C-3 Date', 'Carrier Name', 'Carrier Type', 'County of Injury',\n",
      "       'COVID-19 Indicator', 'District Name', 'First Hearing Date', 'Gender',\n",
      "       'IME-4 Count', 'Industry Code', 'Industry Code Description',\n",
      "       'Medical Fee Region', 'WCIO Cause of Injury Code',\n",
      "       'WCIO Cause of Injury Description', 'WCIO Nature of Injury Code',\n",
      "       'WCIO Nature of Injury Description', 'WCIO Part Of Body Code',\n",
      "       'WCIO Part Of Body Description', 'Zip Code', 'Number of Dependents',\n",
      "       'Assembly Year', 'Accident Year', 'C-2 Date Year', 'Assembly Month',\n",
      "       'Accident Month', 'C-2 Date Month', 'Age Group',\n",
      "       'Frequent Injury Cause', 'Broad Body Part',\n",
      "       'Dependency-to-Income Ratio', 'Injury-Location Pair',\n",
      "       'Time Between Events', 'Accident on Weekday', 'Injury Complexity',\n",
      "       'Carrier Accident Density', 'Season of Accident',\n",
      "       'Region Risk Percentage', 'Region Risk Level',\n",
      "       'Industry Claim Percentage', 'Industry Risk Level', 'Both C2 and C3',\n",
      "       'Only C2', 'Only C3', 'No C2 or C3', 'Geo-Industry Risk'],\n",
      "      dtype='object')\n",
      "\n",
      "Columns in X_test:\n",
      "Index(['Age at Injury', 'Alternative Dispute Resolution',\n",
      "       'Attorney/Representative', 'Average Weekly Wage', 'Birth Year',\n",
      "       'C-3 Date', 'Carrier Name', 'Carrier Type', 'County of Injury',\n",
      "       'COVID-19 Indicator', 'District Name', 'First Hearing Date', 'Gender',\n",
      "       'IME-4 Count', 'Industry Code', 'Industry Code Description',\n",
      "       'Medical Fee Region', 'WCIO Cause of Injury Code',\n",
      "       'WCIO Cause of Injury Description', 'WCIO Nature of Injury Code',\n",
      "       'WCIO Nature of Injury Description', 'WCIO Part Of Body Code',\n",
      "       'WCIO Part Of Body Description', 'Zip Code', 'Number of Dependents',\n",
      "       'Assembly Year', 'Accident Year', 'C-2 Date Year', 'Assembly Month',\n",
      "       'Accident Month', 'C-2 Date Month', 'Age Group',\n",
      "       'Frequent Injury Cause', 'Broad Body Part',\n",
      "       'Dependency-to-Income Ratio', 'Injury-Location Pair',\n",
      "       'Time Between Events', 'Accident on Weekday', 'Injury Complexity',\n",
      "       'Carrier Accident Density', 'Season of Accident',\n",
      "       'Region Risk Percentage', 'Region Risk Level',\n",
      "       'Industry Claim Percentage', 'Industry Risk Level', 'Both C2 and C3',\n",
      "       'Only C2', 'Only C3', 'No C2 or C3', 'Geo-Industry Risk'],\n",
      "      dtype='object')\n"
     ]
    }
   ],
   "source": [
    "# Display the shapes\n",
    "print(f\"X_train shape: {X_train.shape} y_train shape: {y_train.shape}\")\n",
    "print(f\"X_val shape: {X_val.shape} y_val shape: {y_val.shape}\")\n",
    "print(f\"X_test shape: {X_test.shape}\")\n",
    "\n",
    "# Display the columns of each DataFrame\n",
    "print(\"\\nColumns in X_train:\")\n",
    "print(X_train.columns)\n",
    "\n",
    "print(\"\\nColumns in X_val:\")\n",
    "print(X_val.columns)\n",
    "\n",
    "print(\"\\nColumns in X_test:\")\n",
    "print(X_test.columns)\n"
   ]
  },
  {
   "cell_type": "code",
   "execution_count": 48,
   "metadata": {},
   "outputs": [
    {
     "name": "stdout",
     "output_type": "stream",
     "text": [
      "NaN values in X_train:\n",
      "Series([], dtype: int64)\n",
      "\n",
      "NaN values in X_val:\n",
      "Series([], dtype: int64)\n",
      "\n",
      "NaN values in X_test:\n",
      "Age at Injury          2439\n",
      "Accident Year          2439\n",
      "Accident Month         2439\n",
      "Time Between Events    2439\n",
      "dtype: int64\n",
      "\n",
      "Are there any NaNs in X_train?  False\n",
      "Are there any NaNs in X_val?  False\n",
      "Are there any NaNs in X_test?  True\n"
     ]
    }
   ],
   "source": [
    "# Check for NaN values in X_train, X_val, and X_test\n",
    "print(\"NaN values in X_train:\")\n",
    "print(X_train.isna().sum()[X_train.isna().sum() > 0])\n",
    "\n",
    "print(\"\\nNaN values in X_val:\")\n",
    "print(X_val.isna().sum()[X_val.isna().sum() > 0])\n",
    "\n",
    "print(\"\\nNaN values in X_test:\")\n",
    "print(X_test.isna().sum()[X_test.isna().sum() > 0])\n",
    "\n",
    "# Optionally, confirm if there are any NaNs at all\n",
    "print(\"\\nAre there any NaNs in X_train? \", X_train.isna().any().any())\n",
    "print(\"Are there any NaNs in X_val? \", X_val.isna().any().any())\n",
    "print(\"Are there any NaNs in X_test? \", X_test.isna().any().any())\n"
   ]
  },
  {
   "cell_type": "code",
   "execution_count": 49,
   "metadata": {},
   "outputs": [
    {
     "data": {
      "text/plain": [
       "Age at Injury          2439\n",
       "Accident Year          2439\n",
       "Accident Month         2439\n",
       "Time Between Events    2439\n",
       "dtype: int64"
      ]
     },
     "execution_count": 49,
     "metadata": {},
     "output_type": "execute_result"
    }
   ],
   "source": [
    "#check missing values for test\n",
    "\n",
    "missing_values = X_test.isnull().sum()\n",
    "\n",
    "missing_values = missing_values[missing_values > 0]\n",
    "\n",
    "missing_values\n"
   ]
  },
  {
   "cell_type": "code",
   "execution_count": 50,
   "metadata": {},
   "outputs": [],
   "source": [
    "# # Calculate the mode of the 'Gender' column in X_test\n",
    "# gender_mode = X_test['Gender'].mode()[0]\n",
    "\n",
    "# # Fill missing values in the 'Gender' column with the mode\n",
    "# X_test['Gender'].fillna(gender_mode, inplace=True)\n",
    "\n",
    "# X_test = X_test\n",
    "\n"
   ]
  },
  {
   "cell_type": "code",
   "execution_count": 51,
   "metadata": {},
   "outputs": [
    {
     "data": {
      "text/plain": [
       "Claim Identifier\n",
       "6165911    1\n",
       "6166141    0\n",
       "6165907    0\n",
       "6166047    0\n",
       "6166102    1\n",
       "Name: Gender, dtype: int64"
      ]
     },
     "execution_count": 51,
     "metadata": {},
     "output_type": "execute_result"
    }
   ],
   "source": [
    "#Check X_test 'Gender column'\n",
    "\n",
    "X_test['Gender'].head()"
   ]
  },
  {
   "cell_type": "code",
   "execution_count": 52,
   "metadata": {},
   "outputs": [
    {
     "data": {
      "text/plain": [
       "Age at Injury          2439\n",
       "Accident Year          2439\n",
       "Accident Month         2439\n",
       "Time Between Events    2439\n",
       "dtype: int64"
      ]
     },
     "execution_count": 52,
     "metadata": {},
     "output_type": "execute_result"
    }
   ],
   "source": [
    "#check missing values for test\n",
    "\n",
    "missing_values = X_test.isnull().sum()\n",
    "\n",
    "missing_values = missing_values[missing_values > 0]\n",
    "\n",
    "missing_values"
   ]
  },
  {
   "cell_type": "code",
   "execution_count": null,
   "metadata": {},
   "outputs": [],
   "source": []
  },
  {
   "cell_type": "code",
   "execution_count": 53,
   "metadata": {},
   "outputs": [
    {
     "data": {
      "text/plain": [
       "Series([], dtype: int64)"
      ]
     },
     "execution_count": 53,
     "metadata": {},
     "output_type": "execute_result"
    }
   ],
   "source": [
    "missing_values = X_train.isnull().sum()\n",
    "\n",
    "missing_values = missing_values[missing_values > 0]\n",
    "\n",
    "missing_values"
   ]
  },
  {
   "cell_type": "code",
   "execution_count": 54,
   "metadata": {},
   "outputs": [
    {
     "data": {
      "text/plain": [
       "Series([], dtype: int64)"
      ]
     },
     "execution_count": 54,
     "metadata": {},
     "output_type": "execute_result"
    }
   ],
   "source": [
    "missing_values = X_val.isnull().sum()\n",
    "\n",
    "missing_values = missing_values[missing_values > 0]\n",
    "\n",
    "missing_values"
   ]
  },
  {
   "cell_type": "code",
   "execution_count": 55,
   "metadata": {},
   "outputs": [
    {
     "name": "stdout",
     "output_type": "stream",
     "text": [
      "X_train shape: (441804, 50) y_train shape: (441804, 1)\n",
      "X_val shape: (110586, 50) y_val shape: (110586, 1)\n",
      "X_test shape: (382362, 50)\n"
     ]
    }
   ],
   "source": [
    "#Check the shape of the datasets\n",
    "\n",
    "print(f\"X_train shape: {X_train.shape} y_train shape: {y_train.shape}\")\n",
    "\n",
    "print(f\"X_val shape: {X_val.shape} y_val shape: {y_val.shape}\")\n",
    "\n",
    "print(f\"X_test shape: {X_test.shape}\")"
   ]
  },
  {
   "cell_type": "code",
   "execution_count": 56,
   "metadata": {},
   "outputs": [],
   "source": [
    "X_train.to_csv('datasets/feature_engineering_train_delivery1.csv')\n",
    "X_val.to_csv('datasets/feature_engineering_val_delivery1.csv')\n",
    "y_train.to_csv('datasets/feature_engineering_y_train_delivery1.csv')\n",
    "y_val.to_csv('datasets/feature_engineering_y_val_delivery1.csv')\n",
    "X_test.to_csv('datasets/feature_engineering_test_delivery1.csv')"
   ]
  }
 ],
 "metadata": {
  "kernelspec": {
   "display_name": "base",
   "language": "python",
   "name": "python3"
  },
  "language_info": {
   "codemirror_mode": {
    "name": "ipython",
    "version": 3
   },
   "file_extension": ".py",
   "mimetype": "text/x-python",
   "name": "python",
   "nbconvert_exporter": "python",
   "pygments_lexer": "ipython3",
   "version": "3.12.2"
  }
 },
 "nbformat": 4,
 "nbformat_minor": 4
}
